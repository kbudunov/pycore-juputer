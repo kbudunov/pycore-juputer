{
 "cells": [
  {
   "cell_type": "code",
   "execution_count": 1,
   "id": "36e703a8",
   "metadata": {},
   "outputs": [
    {
     "data": {
      "text/plain": [
       "('Carson', 123, 213)"
      ]
     },
     "execution_count": 1,
     "metadata": {},
     "output_type": "execute_result"
    }
   ],
   "source": [
    "players = [('Carson', 123, 213), ('Caruanna', 344, 11), ('Maradonna', 333, 1)]\n",
    "players[0]"
   ]
  },
  {
   "cell_type": "code",
   "execution_count": 2,
   "id": "fd5776d9",
   "metadata": {},
   "outputs": [],
   "source": [
    "#players[0].name так просто не работает"
   ]
  },
  {
   "cell_type": "code",
   "execution_count": 3,
   "id": "e728bcd4",
   "metadata": {},
   "outputs": [],
   "source": [
    "from collections import namedtuple"
   ]
  },
  {
   "cell_type": "markdown",
   "id": "ee80f3c4",
   "metadata": {},
   "source": [
    "#### Часто используется вместо анонимных классов"
   ]
  },
  {
   "cell_type": "code",
   "execution_count": 4,
   "id": "8434aef4",
   "metadata": {},
   "outputs": [],
   "source": [
    "Player = namedtuple('Player', 'name age rating') #создаем именованный тюпл (оч похоже на класс). Класс с неизменными полями"
   ]
  },
  {
   "cell_type": "code",
   "execution_count": 5,
   "id": "d6b39cb0",
   "metadata": {},
   "outputs": [
    {
     "data": {
      "text/plain": [
       "Player(name='Carson', age=123, rating=213)"
      ]
     },
     "execution_count": 5,
     "metadata": {},
     "output_type": "execute_result"
    }
   ],
   "source": [
    "players = [Player('Carson', 123, 213), Player('Caruanna', 344, 11), Player('Maradonna', 333, 1)]\n",
    "players[0]"
   ]
  },
  {
   "cell_type": "code",
   "execution_count": 6,
   "id": "65c12a81",
   "metadata": {},
   "outputs": [
    {
     "data": {
      "text/plain": [
       "'Carson'"
      ]
     },
     "execution_count": 6,
     "metadata": {},
     "output_type": "execute_result"
    }
   ],
   "source": [
    "players[0].name "
   ]
  }
 ],
 "metadata": {
  "kernelspec": {
   "display_name": "Python 3 (ipykernel)",
   "language": "python",
   "name": "python3"
  },
  "language_info": {
   "codemirror_mode": {
    "name": "ipython",
    "version": 3
   },
   "file_extension": ".py",
   "mimetype": "text/x-python",
   "name": "python",
   "nbconvert_exporter": "python",
   "pygments_lexer": "ipython3",
   "version": "3.9.7"
  }
 },
 "nbformat": 4,
 "nbformat_minor": 5
}
