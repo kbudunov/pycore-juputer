{
 "cells": [
  {
   "cell_type": "code",
   "execution_count": 12,
   "id": "24d24a2b",
   "metadata": {},
   "outputs": [
    {
     "name": "stdout",
     "output_type": "stream",
     "text": [
      "100\n"
     ]
    },
    {
     "data": {
      "text/plain": [
       "100"
      ]
     },
     "execution_count": 12,
     "metadata": {},
     "output_type": "execute_result"
    }
   ],
   "source": [
    "val = int(input())\n",
    "val"
   ]
  },
  {
   "cell_type": "code",
   "execution_count": 8,
   "id": "633f38de",
   "metadata": {},
   "outputs": [
    {
     "name": "stdout",
     "output_type": "stream",
     "text": [
      "*\n",
      "**\n",
      "***\n",
      "****\n",
      "*****\n",
      "******\n",
      "*******\n",
      "********\n",
      "*********\n",
      "**********\n"
     ]
    }
   ],
   "source": [
    "for x in range(1,val+1):\n",
    "    print('*'*x)"
   ]
  },
  {
   "cell_type": "code",
   "execution_count": 10,
   "id": "745d7480",
   "metadata": {},
   "outputs": [
    {
     "name": "stdout",
     "output_type": "stream",
     "text": [
      "0 is EVEN\n",
      "1 is ODD\n",
      "2 is EVEN\n",
      "3 is ODD\n",
      "4 is EVEN\n",
      "5 is ODD\n",
      "6 is EVEN\n",
      "7 is ODD\n",
      "8 is EVEN\n",
      "9 is ODD\n",
      "10 is EVEN\n"
     ]
    }
   ],
   "source": [
    "for x in range(0,val+1):\n",
    "    if x%2 == 0:\n",
    "        print(f'{x} is EVEN')\n",
    "    else:\n",
    "        print(f'{x} is ODD')"
   ]
  },
  {
   "cell_type": "code",
   "execution_count": 13,
   "id": "1575305c",
   "metadata": {},
   "outputs": [
    {
     "data": {
      "text/plain": [
       "2418"
      ]
     },
     "execution_count": 13,
     "metadata": {},
     "output_type": "execute_result"
    }
   ],
   "source": [
    "result = 0\n",
    "for x in range(0,val+1):\n",
    "    if x%3 == 0 or x%5 == 0:\n",
    "        result +=x\n",
    "\n",
    "result"
   ]
  },
  {
   "cell_type": "code",
   "execution_count": 15,
   "id": "4dfd73be",
   "metadata": {},
   "outputs": [
    {
     "data": {
      "text/plain": [
       "2418"
      ]
     },
     "execution_count": 15,
     "metadata": {},
     "output_type": "execute_result"
    }
   ],
   "source": [
    "corectNums = [x for x in range(0,val+1) if x%3 == 0 or x%5 == 0]\n",
    "sum(corectNums)"
   ]
  },
  {
   "cell_type": "code",
   "execution_count": 26,
   "id": "0f2d13e0",
   "metadata": {},
   "outputs": [
    {
     "data": {
      "text/plain": [
       "[2, 4, 6, 1, 3, 5]"
      ]
     },
     "execution_count": 26,
     "metadata": {},
     "output_type": "execute_result"
    }
   ],
   "source": [
    "list1 = [1,2,3,4,5,6]\n",
    "list2 = [1,2,3,4,5,6]\n",
    "\n",
    "evens = [x for x in list1 if x%2==0]\n",
    "odds = [x for x in list2 if x%2!=0]\n",
    "result = evens + odds\n",
    "result"
   ]
  },
  {
   "cell_type": "markdown",
   "id": "81aa67ee",
   "metadata": {},
   "source": [
    "### Криво"
   ]
  },
  {
   "cell_type": "code",
   "execution_count": 33,
   "id": "c86bb971",
   "metadata": {},
   "outputs": [
    {
     "data": {
      "text/plain": [
       "2"
      ]
     },
     "execution_count": 33,
     "metadata": {},
     "output_type": "execute_result"
    }
   ],
   "source": [
    "cards = [2,3,4,5,6,7,8,'Q','K','A']\n",
    "chars = ['J','Q','K','A']\n",
    "result = 0\n",
    "for x in cards:\n",
    "    if str(x).isdigit():\n",
    "        if (x >= 2 and x <= 6):\n",
    "            result += 1\n",
    "        elif (x >= 7 and x <= 9):\n",
    "            continue\n",
    "        elif x == 10:\n",
    "            result -= 1\n",
    "    elif x in chars:\n",
    "         result -= 1\n",
    "\n",
    "result\n",
    "            "
   ]
  },
  {
   "cell_type": "markdown",
   "id": "64aff876",
   "metadata": {},
   "source": [
    "### Красиво"
   ]
  },
  {
   "cell_type": "code",
   "execution_count": 44,
   "id": "d2fa691c",
   "metadata": {},
   "outputs": [
    {
     "data": {
      "text/plain": [
       "2"
      ]
     },
     "execution_count": 44,
     "metadata": {},
     "output_type": "execute_result"
    }
   ],
   "source": [
    "in_nand = [2,3,4,5,6,7,8,'Q','K','A']\n",
    "cards = {2: 1,3: 1,4: 1,5: 1,6: 1,7: 0,8: 0, 9: 0, 10: -1, 'Q': -1, 'K': -1,'A': -1}\n",
    "cards_sum = sum([cards[x] for x in in_nand])\n",
    "cards_sum"
   ]
  },
  {
   "cell_type": "markdown",
   "id": "8af85078",
   "metadata": {},
   "source": [
    "### Криво (читабельно)"
   ]
  },
  {
   "cell_type": "code",
   "execution_count": 47,
   "id": "a9481b96",
   "metadata": {},
   "outputs": [
    {
     "data": {
      "text/plain": [
       "5"
      ]
     },
     "execution_count": 47,
     "metadata": {},
     "output_type": "execute_result"
    }
   ],
   "source": [
    "table_cards = ['A_S', 'J_H', '7_D', '8_D', '10_D']\n",
    "hand_cards = ['J_D', '3_D']\n",
    "\n",
    "cards = table_cards + hand_cards\n",
    "count = 0\n",
    "for card in cards:\n",
    "    if card.endswith('D'):\n",
    "        count += 1\n",
    "count"
   ]
  },
  {
   "cell_type": "markdown",
   "id": "29372311",
   "metadata": {},
   "source": [
    "### Красиво  (читабельно)"
   ]
  },
  {
   "cell_type": "code",
   "execution_count": 59,
   "id": "6a7803b7",
   "metadata": {},
   "outputs": [
    {
     "name": "stdout",
     "output_type": "stream",
     "text": [
      "Flush\n"
     ]
    }
   ],
   "source": [
    "from collections import Counter\n",
    "\n",
    "table_cards = ['A_S', 'J_H', '7_D', '8_D', '10_D']\n",
    "hand_cards = ['J_D', '3_D']\n",
    "keys = [card[-1] for card in (table_cards + hand_cards)]\n",
    "\n",
    "for x in dict(Counter(keys)).values():\n",
    "    if x >= 5:\n",
    "        print('Flush')"
   ]
  },
  {
   "cell_type": "markdown",
   "id": "51d4bd46",
   "metadata": {},
   "source": [
    "### Круто (вырви глаз)"
   ]
  },
  {
   "cell_type": "code",
   "execution_count": 65,
   "id": "0b49d81e",
   "metadata": {},
   "outputs": [
    {
     "data": {
      "text/plain": [
       "[False, False, False, True]"
      ]
     },
     "execution_count": 65,
     "metadata": {},
     "output_type": "execute_result"
    }
   ],
   "source": [
    "table_cards = ['A_S', 'J_H', '7_D', '8_D', '10_D']\n",
    "hand_cards = ['J_D', '3_D']\n",
    "                                #внутренний цикл                            #внешний цикл\n",
    "flush = [sum([card[-1] == suit for card in table_cards + hand_cards]) >= 5 for suit in 'CHSD']\n",
    "#обрати внимание на переменную suit\n",
    "flush"
   ]
  },
  {
   "cell_type": "markdown",
   "id": "d138c00e",
   "metadata": {},
   "source": [
    "# Any"
   ]
  },
  {
   "cell_type": "code",
   "execution_count": 68,
   "id": "4b00ff40",
   "metadata": {},
   "outputs": [
    {
     "data": {
      "text/plain": [
       "True"
      ]
     },
     "execution_count": 68,
     "metadata": {},
     "output_type": "execute_result"
    }
   ],
   "source": [
    "any([False, False, False, True]) #any вернет True ели в списке есть хотябы один True"
   ]
  },
  {
   "cell_type": "markdown",
   "id": "df61f52b",
   "metadata": {},
   "source": [
    "# Палиндром"
   ]
  },
  {
   "cell_type": "code",
   "execution_count": 73,
   "id": "19759017",
   "metadata": {},
   "outputs": [
    {
     "name": "stdout",
     "output_type": "stream",
     "text": [
      "121\n",
      "Yes\n"
     ]
    }
   ],
   "source": [
    "number=int(input())\n",
    "\n",
    "reversed_number = 0\n",
    "tmp_original = number\n",
    "\n",
    "\n",
    "while tmp_original > 0:\n",
    "    reversed_number = (reversed_number * 10) + tmp_original % 10\n",
    "    tmp_original = tmp_original // 10 #делим на 10 а все что после запятой выкидываем\n",
    "    \n",
    "if(number == reversed_number):\n",
    "    print('Yes')\n",
    "else:\n",
    "    print('No')"
   ]
  },
  {
   "cell_type": "code",
   "execution_count": 77,
   "id": "928631dd",
   "metadata": {},
   "outputs": [
    {
     "name": "stdout",
     "output_type": "stream",
     "text": [
      "10\n",
      "Please enter number more then 10\n",
      "26\n",
      "Please enter number less then 26\n",
      "16\n",
      "Please enter number more then 16\n",
      "21\n",
      "You won!\n",
      "d\n"
     ]
    },
    {
     "ename": "ValueError",
     "evalue": "invalid literal for int() with base 10: 'd'",
     "output_type": "error",
     "traceback": [
      "\u001b[1;31m---------------------------------------------------------------------------\u001b[0m",
      "\u001b[1;31mValueError\u001b[0m                                Traceback (most recent call last)",
      "\u001b[1;32mC:\\Users\\KOBUDU~1\\AppData\\Local\\Temp/ipykernel_16928/2700770654.py\u001b[0m in \u001b[0;36m<module>\u001b[1;34m\u001b[0m\n\u001b[0;32m      4\u001b[0m \u001b[0mx\u001b[0m \u001b[1;33m=\u001b[0m \u001b[1;36m1\u001b[0m\u001b[1;33m\u001b[0m\u001b[1;33m\u001b[0m\u001b[0m\n\u001b[0;32m      5\u001b[0m \u001b[1;32mwhile\u001b[0m \u001b[0mx\u001b[0m \u001b[1;33m<\u001b[0m \u001b[1;36m6\u001b[0m\u001b[1;33m:\u001b[0m\u001b[1;33m\u001b[0m\u001b[1;33m\u001b[0m\u001b[0m\n\u001b[1;32m----> 6\u001b[1;33m     \u001b[0muser_num\u001b[0m \u001b[1;33m=\u001b[0m \u001b[0mint\u001b[0m\u001b[1;33m(\u001b[0m\u001b[0minput\u001b[0m\u001b[1;33m(\u001b[0m\u001b[1;33m)\u001b[0m\u001b[1;33m)\u001b[0m\u001b[1;33m\u001b[0m\u001b[1;33m\u001b[0m\u001b[0m\n\u001b[0m\u001b[0;32m      7\u001b[0m     \u001b[1;32mif\u001b[0m \u001b[0muser_num\u001b[0m \u001b[1;33m>\u001b[0m \u001b[0mnumber\u001b[0m\u001b[1;33m:\u001b[0m\u001b[1;33m\u001b[0m\u001b[1;33m\u001b[0m\u001b[0m\n\u001b[0;32m      8\u001b[0m         \u001b[0mprint\u001b[0m\u001b[1;33m(\u001b[0m\u001b[1;34mf'Please enter number less then {user_num}'\u001b[0m\u001b[1;33m)\u001b[0m\u001b[1;33m\u001b[0m\u001b[1;33m\u001b[0m\u001b[0m\n",
      "\u001b[1;31mValueError\u001b[0m: invalid literal for int() with base 10: 'd'"
     ]
    }
   ],
   "source": [
    "import random\n",
    "number = random.randint(1, 50)\n",
    "\n",
    "x = 1\n",
    "while x < 6:\n",
    "    user_num = int(input())\n",
    "    if user_num > number:\n",
    "        print(f'Please enter number less then {user_num}')\n",
    "    elif user_num < number:\n",
    "        print(f'Please enter number more then {user_num}')\n",
    "    else:\n",
    "        print('You won!')\n",
    "    x += 1"
   ]
  },
  {
   "cell_type": "code",
   "execution_count": 83,
   "id": "874c158f",
   "metadata": {},
   "outputs": [
    {
     "data": {
      "text/plain": [
       "'R'"
      ]
     },
     "execution_count": 83,
     "metadata": {},
     "output_type": "execute_result"
    }
   ],
   "source": [
    "import random\n",
    "symbol = 'RSP'[random.randint(0, 2)] \n",
    "symbol"
   ]
  },
  {
   "cell_type": "code",
   "execution_count": null,
   "id": "48d260ec",
   "metadata": {},
   "outputs": [],
   "source": []
  },
  {
   "cell_type": "code",
   "execution_count": null,
   "id": "0d2a7b4f",
   "metadata": {},
   "outputs": [],
   "source": []
  }
 ],
 "metadata": {
  "kernelspec": {
   "display_name": "Python 3 (ipykernel)",
   "language": "python",
   "name": "python3"
  },
  "language_info": {
   "codemirror_mode": {
    "name": "ipython",
    "version": 3
   },
   "file_extension": ".py",
   "mimetype": "text/x-python",
   "name": "python",
   "nbconvert_exporter": "python",
   "pygments_lexer": "ipython3",
   "version": "3.9.7"
  }
 },
 "nbformat": 4,
 "nbformat_minor": 5
}
