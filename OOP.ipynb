{
 "cells": [
  {
   "cell_type": "markdown",
   "id": "c1df5956",
   "metadata": {},
   "source": [
    "# Основы ООП"
   ]
  },
  {
   "cell_type": "markdown",
   "id": "74011364",
   "metadata": {},
   "source": [
    "### Ктор"
   ]
  },
  {
   "cell_type": "code",
   "execution_count": null,
   "id": "4b525aa0",
   "metadata": {},
   "outputs": [],
   "source": [
    "__init__ #специализированный метод"
   ]
  },
  {
   "cell_type": "code",
   "execution_count": 13,
   "id": "918ba390",
   "metadata": {},
   "outputs": [],
   "source": [
    "class CharacterSuper():\n",
    "    def __init__(self, race, damage=10, armor=20): #ктор\n",
    "        self.race = race\n",
    "        self.damage = damage\n",
    "        self.armor = armor"
   ]
  },
  {
   "cell_type": "code",
   "execution_count": 14,
   "id": "2363a370",
   "metadata": {},
   "outputs": [
    {
     "name": "stdout",
     "output_type": "stream",
     "text": [
      "<class '__main__.CharacterSuper'>\n",
      "10\n"
     ]
    }
   ],
   "source": [
    "unit = CharacterSuper('Elf', armor=50)\n",
    "print(type(unit))\n",
    "print(unit.damage)"
   ]
  },
  {
   "cell_type": "markdown",
   "id": "1921dee6",
   "metadata": {},
   "source": [
    "# Атребуты и методы"
   ]
  },
  {
   "cell_type": "code",
   "execution_count": 21,
   "id": "0c008e5d",
   "metadata": {},
   "outputs": [],
   "source": [
    "class Character():\n",
    "    max_speed = 100 #атрибуты уровня КЛАССА\n",
    "    dead_healf = 0\n",
    "    \n",
    "    def __init__(self, race, damage=10, armor=20):\n",
    "        self.race = race #атрибуты уровня ИНСТАНЦИИ\n",
    "        self.damage = damage\n",
    "        self.armor = armor\n",
    "        self.helth = 100\n",
    "\n",
    "    def hit(self, damage):\n",
    "        self.helth -= damage\n",
    "        \n",
    "    def is_dead(self, damage):\n",
    "        return self.damage == Character.dead_healf #так по конвенции Character.dead_healf "
   ]
  },
  {
   "cell_type": "code",
   "execution_count": 22,
   "id": "6fdd635e",
   "metadata": {},
   "outputs": [
    {
     "data": {
      "text/plain": [
       "100"
      ]
     },
     "execution_count": 22,
     "metadata": {},
     "output_type": "execute_result"
    }
   ],
   "source": [
    "ork = Character('Ork')\n",
    "\n",
    "Character.max_speed"
   ]
  },
  {
   "cell_type": "code",
   "execution_count": 25,
   "id": "07ec85f5",
   "metadata": {},
   "outputs": [
    {
     "data": {
      "text/plain": [
       "40"
      ]
     },
     "execution_count": 25,
     "metadata": {},
     "output_type": "execute_result"
    }
   ],
   "source": [
    "ork.hit(20)\n",
    "ork.helth"
   ]
  },
  {
   "cell_type": "code",
   "execution_count": 88,
   "id": "fb994070",
   "metadata": {},
   "outputs": [],
   "source": [
    "#Нет модификаторов доступа, нет приватных атрибутов, можно через точку достучаться к любому"
   ]
  },
  {
   "cell_type": "code",
   "execution_count": 87,
   "id": "50f9b756",
   "metadata": {},
   "outputs": [],
   "source": [
    "#Но можно их скрывать и питонисты называют это \"приватные\" атребуты"
   ]
  },
  {
   "cell_type": "code",
   "execution_count": 28,
   "id": "6512164a",
   "metadata": {},
   "outputs": [],
   "source": [
    "#защищенные в Пи = Протектед в джаве\n",
    "#привтные в Пи = приватные в джаве"
   ]
  },
  {
   "cell_type": "markdown",
   "id": "fac2b4c6",
   "metadata": {},
   "source": [
    "# Константы и защищенные атребуты"
   ]
  },
  {
   "cell_type": "code",
   "execution_count": 31,
   "id": "6352042e",
   "metadata": {},
   "outputs": [],
   "source": [
    "class Character2():\n",
    "    MAX_SPEED = 100 #константа\n",
    "    \n",
    "    def __init__(self, race, damage = 10):\n",
    "        self.race = race\n",
    "        self.damage = damage"
   ]
  },
  {
   "cell_type": "code",
   "execution_count": 34,
   "id": "9cbf8fcb",
   "metadata": {},
   "outputs": [],
   "source": [
    "Character2.MAX_SPEED = 99 #угар, эту константу можно изменять!"
   ]
  },
  {
   "cell_type": "code",
   "execution_count": 35,
   "id": "d63469d2",
   "metadata": {},
   "outputs": [
    {
     "data": {
      "text/plain": [
       "99"
      ]
     },
     "execution_count": 35,
     "metadata": {},
     "output_type": "execute_result"
    }
   ],
   "source": [
    "Character2.MAX_SPEED"
   ]
  },
  {
   "cell_type": "markdown",
   "id": "86677632",
   "metadata": {},
   "source": [
    "#### Приватные"
   ]
  },
  {
   "cell_type": "code",
   "execution_count": 59,
   "id": "c327e98b",
   "metadata": {},
   "outputs": [],
   "source": [
    "class Character4():\n",
    "    MAX_SPEED = 100 #константа\n",
    "    \n",
    "    def __init__(self, race, damage = 10):\n",
    "        self.__race = race #делаем \"приватным\"\n",
    "        self._damage = damage #делаем \"защищенным\"\n",
    "    \n",
    "    def hit(self, damage):\n",
    "        self.damage -= self"
   ]
  },
  {
   "cell_type": "code",
   "execution_count": 55,
   "id": "614aa7ee",
   "metadata": {},
   "outputs": [],
   "source": [
    "elf = Character4('Elf')"
   ]
  },
  {
   "cell_type": "code",
   "execution_count": 61,
   "id": "1151b4f3",
   "metadata": {},
   "outputs": [],
   "source": [
    "#elf.__race недоступен \"приватный\"\n",
    "#elf._damage недоступен \"защищенный\""
   ]
  },
  {
   "cell_type": "code",
   "execution_count": 64,
   "id": "b0f2ed5f",
   "metadata": {},
   "outputs": [
    {
     "name": "stdout",
     "output_type": "stream",
     "text": [
      "Ork\n",
      "0\n"
     ]
    }
   ],
   "source": [
    "#Это можно обойти, это чисто на соглашениях а не на модификаторах доступа как в джаве\n",
    "elf._Character4__race = 'Ork'\n",
    "print(elf._Character4__race)\n",
    "\n",
    "elf._damage = 0\n",
    "print(elf._damage)"
   ]
  },
  {
   "cell_type": "markdown",
   "id": "08dc288b",
   "metadata": {},
   "source": [
    "#### Св-ва"
   ]
  },
  {
   "cell_type": "code",
   "execution_count": 85,
   "id": "40c45ce8",
   "metadata": {},
   "outputs": [],
   "source": [
    "class Character5():\n",
    "    MAX_SPEED = 100 #константа\n",
    "    \n",
    "    def __init__(self, race, damage = 10):\n",
    "        self.__race = race #делаем \"приватным\"\n",
    "        self._damage = damage #делаем \"защищенным\"\n",
    "        self._health = 100\n",
    "        self._current_speed = 20\n",
    "        \n",
    "        \n",
    "    @property\n",
    "    def health(self): #getter\n",
    "        return self._health\n",
    "    \n",
    "         \n",
    "    @property\n",
    "    def race(self): #getter\n",
    "        return self.__race\n",
    "    \n",
    "    @property\n",
    "    def race(self): #getter\n",
    "        return self.__race\n",
    "    \n",
    "    @property\n",
    "    def current_speed(self): #getter\n",
    "        return self._current_speed\n",
    "    \n",
    "    @current_speed.setter\n",
    "    def current_speed(self, speed): #setter\n",
    "        self._current_speed = speed\n",
    "    "
   ]
  },
  {
   "cell_type": "code",
   "execution_count": 81,
   "id": "e1340daa",
   "metadata": {},
   "outputs": [
    {
     "data": {
      "text/plain": [
       "100"
      ]
     },
     "execution_count": 81,
     "metadata": {},
     "output_type": "execute_result"
    }
   ],
   "source": [
    "unit = Character5('Elf')\n",
    "unit.health\n",
    "\n",
    "#unit.health = 9 засетить нельзя"
   ]
  },
  {
   "cell_type": "code",
   "execution_count": 84,
   "id": "13e01cca",
   "metadata": {},
   "outputs": [
    {
     "name": "stdout",
     "output_type": "stream",
     "text": [
      "20\n",
      "1000\n"
     ]
    }
   ],
   "source": [
    "print(unit.current_speed)\n",
    "unit.current_speed = 1000\n",
    "print(unit.current_speed)"
   ]
  },
  {
   "cell_type": "markdown",
   "id": "94dcc326",
   "metadata": {},
   "source": [
    "#### важно! создавай св-ва только когда есть логика, т.е. НЕ делай как в жаве"
   ]
  },
  {
   "cell_type": "markdown",
   "id": "838d6ef2",
   "metadata": {},
   "source": [
    "# Статические методы"
   ]
  },
  {
   "cell_type": "markdown",
   "id": "06d705e7",
   "metadata": {},
   "source": [
    "### Статик и не статик переменыне"
   ]
  },
  {
   "cell_type": "code",
   "execution_count": 89,
   "id": "2caa4f0d",
   "metadata": {},
   "outputs": [],
   "source": [
    "class StaticTest:\n",
    "    x = 1"
   ]
  },
  {
   "cell_type": "code",
   "execution_count": 90,
   "id": "fdce245f",
   "metadata": {},
   "outputs": [
    {
     "data": {
      "text/plain": [
       "1"
      ]
     },
     "execution_count": 90,
     "metadata": {},
     "output_type": "execute_result"
    }
   ],
   "source": [
    "StaticTest.x"
   ]
  },
  {
   "cell_type": "code",
   "execution_count": 102,
   "id": "706d30d3",
   "metadata": {},
   "outputs": [
    {
     "data": {
      "text/plain": [
       "3"
      ]
     },
     "execution_count": 102,
     "metadata": {},
     "output_type": "execute_result"
    }
   ],
   "source": [
    "t1 = StaticTest() #вроде как в джаве. НО все совсем подругому!\n",
    "t1.x"
   ]
  },
  {
   "cell_type": "code",
   "execution_count": 103,
   "id": "2ca6df3c",
   "metadata": {},
   "outputs": [
    {
     "name": "stdout",
     "output_type": "stream",
     "text": [
      "3\n",
      "3\n"
     ]
    }
   ],
   "source": [
    "print(t1.x)\n",
    "print(StaticTest.x)"
   ]
  },
  {
   "cell_type": "code",
   "execution_count": 96,
   "id": "2e47bb41",
   "metadata": {},
   "outputs": [],
   "source": [
    "t1.x = 2 #вот тут мы закидываем поле новое поле НАХОДУ, присваивание на ур-не ИНСТАНСА"
   ]
  },
  {
   "cell_type": "code",
   "execution_count": 98,
   "id": "db7c39ad",
   "metadata": {},
   "outputs": [
    {
     "name": "stdout",
     "output_type": "stream",
     "text": [
      "2\n",
      "1\n"
     ]
    }
   ],
   "source": [
    "print(t1.x) # тут 2, потому как это отдельное поле инстанса! Которое закинуто было в рантайме!\n",
    "print(StaticTest.x)"
   ]
  },
  {
   "cell_type": "code",
   "execution_count": 99,
   "id": "147cd142",
   "metadata": {},
   "outputs": [],
   "source": [
    "StaticTest.x = 3 #это присваивание на ур-не КЛАССА!"
   ]
  },
  {
   "cell_type": "code",
   "execution_count": 104,
   "id": "a01ba48d",
   "metadata": {},
   "outputs": [
    {
     "name": "stdout",
     "output_type": "stream",
     "text": [
      "3\n",
      "3\n"
     ]
    }
   ],
   "source": [
    "print(t1.x) # тут 2 \n",
    "print(StaticTest.x) # тут 3 "
   ]
  },
  {
   "cell_type": "markdown",
   "id": "1b0fc6f7",
   "metadata": {},
   "source": [
    "### Статик методы (2 способа)"
   ]
  },
  {
   "cell_type": "code",
   "execution_count": 139,
   "id": "96619198",
   "metadata": {},
   "outputs": [],
   "source": [
    "class Date:\n",
    "    def __init__(self, month, day, year):\n",
    "        self.month = month\n",
    "        self.day = day\n",
    "        self.year = year\n",
    "    \n",
    "    def display(self):\n",
    "        return f'{self.month}-{self.day}-{self.year}' \n",
    "    \n",
    "    #в питоне только один контруктор для класса    \n",
    "    \n",
    "    #factoryMethod применяй его для КОНВЕРТИРОВАНИЯ данных, как в джаве 100000%, например класс Math\n",
    "    #classmethod дает возможность вызывать его вот так DateTime.molleniu_c но это не статика!\n",
    "    @classmethod # ДЕКОРАТОР а не аннотация\n",
    "    def molleniu_c(cls, month, day): #cls это устоявщееся, типо селф \n",
    "        return cls(month, day, 2000)\n",
    "    \n",
    "    #ни как не завязаны на инстанс, используются как методы конвертации\n",
    "    @staticmethod # ДЕКОРАТОР а не аннотация\n",
    "    def molleniu_s(month, day):\n",
    "        return Date(month, day, 2000)"
   ]
  },
  {
   "cell_type": "code",
   "execution_count": 6,
   "id": "00a1a3d4",
   "metadata": {},
   "outputs": [
    {
     "name": "stdout",
     "output_type": "stream",
     "text": [
      "6-9-2000\n",
      "6-9-2000\n"
     ]
    }
   ],
   "source": [
    "d1 = Date.molleniu_c(6, 9)\n",
    "d2 = Date.molleniu_s(6, 9)\n",
    "\n",
    "print(d1.display())\n",
    "print(d2.display())"
   ]
  },
  {
   "cell_type": "code",
   "execution_count": 8,
   "id": "dc426bb2",
   "metadata": {},
   "outputs": [],
   "source": [
    "class DateTime(Date):\n",
    "    def display(self):\n",
    "         return f'{self.month}-{self.day}-{self.year} - 00:00:00PM' "
   ]
  },
  {
   "cell_type": "code",
   "execution_count": 14,
   "id": "ba2fe06e",
   "metadata": {
    "scrolled": true
   },
   "outputs": [
    {
     "name": "stdout",
     "output_type": "stream",
     "text": [
      "True\n",
      "False\n",
      "True\n",
      "19-19-1990 - 00:00:00PM\n",
      "10-10-2000\n",
      "10-10-2000 - 00:00:00PM\n"
     ]
    }
   ],
   "source": [
    "dt1 = DateTime(19,19, 1990) #вызывается ктор DateTime\n",
    "dt2 = DateTime.molleniu_s(10, 10) #вызывается статик метод на родителе DateTime.molleniu_s ВОЗВРАЩАЕТ: Date\n",
    "dt3 = DateTime.molleniu_c(10, 10) #вызывается метод molleniu_c унаследованный от Data, cls-инстанс DateTime, ВОЗВРАЩАЕТ: DateTime\n",
    "\n",
    "print(isinstance(dt1, DateTime))\n",
    "print(isinstance(dt2, DateTime))\n",
    "print(isinstance(dt3, DateTime))\n",
    "\n",
    "print(dt1.display())\n",
    "print(dt2.display())\n",
    "print(dt3.display())"
   ]
  },
  {
   "cell_type": "markdown",
   "id": "b357d4fe",
   "metadata": {},
   "source": [
    "# Наследование"
   ]
  },
  {
   "cell_type": "code",
   "execution_count": 26,
   "id": "2af32309",
   "metadata": {},
   "outputs": [],
   "source": [
    "class Shape:\n",
    "    def __init__(self):\n",
    "        print('Shape created')\n",
    "        \n",
    "    def draw(self):\n",
    "        print('Drawing a shape')\n",
    "        \n",
    "    def area(self):\n",
    "        print('Drawing a area')\n",
    "        \n",
    "    def perimeter(self):\n",
    "        print('Drawing a perimetr') \n",
    "        "
   ]
  },
  {
   "cell_type": "code",
   "execution_count": 27,
   "id": "37fd7844",
   "metadata": {},
   "outputs": [
    {
     "name": "stdout",
     "output_type": "stream",
     "text": [
      "Shape created\n"
     ]
    }
   ],
   "source": [
    "shape = Shape()"
   ]
  },
  {
   "cell_type": "code",
   "execution_count": 33,
   "id": "4f067f9f",
   "metadata": {},
   "outputs": [],
   "source": [
    "class Rectangle(Shape):\n",
    "    \n",
    "    def __init__(self, width, hight):\n",
    "        Shape.__init__(self) #До PY_3.0 нужно было руками создавать инстанс базового класса руками!!! в 3.0 super()\n",
    "        \n",
    "        self.width = width\n",
    "        self.hight = hight\n",
    "        \n",
    "        print('Rectangle created')\n",
    "        \n",
    "        Shape.area(self)\n",
    "        \n",
    "    def area(self):\n",
    "        return self.width * self.hight\n",
    "    \n",
    "    def perimeter(self):\n",
    "        return 2*(self.width + self.hight)\n",
    "    \n",
    "    def draw(self):\n",
    "        print('Draw from Rectangle')"
   ]
  },
  {
   "cell_type": "code",
   "execution_count": 34,
   "id": "71e0a9ec",
   "metadata": {},
   "outputs": [
    {
     "name": "stdout",
     "output_type": "stream",
     "text": [
      "Shape created\n",
      "Rectangle created\n",
      "Drawing a area\n"
     ]
    }
   ],
   "source": [
    "rect = Rectangle(100, 200)"
   ]
  },
  {
   "cell_type": "code",
   "execution_count": 35,
   "id": "fd3e2b2e",
   "metadata": {},
   "outputs": [
    {
     "data": {
      "text/plain": [
       "600"
      ]
     },
     "execution_count": 35,
     "metadata": {},
     "output_type": "execute_result"
    }
   ],
   "source": [
    "rect.perimeter()"
   ]
  },
  {
   "cell_type": "markdown",
   "id": "282565da",
   "metadata": {},
   "source": [
    "# Полиморфизм"
   ]
  },
  {
   "cell_type": "code",
   "execution_count": 39,
   "id": "7e93e0b7",
   "metadata": {},
   "outputs": [],
   "source": [
    "#Для работы полиморфизма НЕ требуется наследование - главное чтобы методы имели ОДИНАКОВУЮ СИГНАТУРУ и имя\n",
    "# и кастовать как в джаве не нужно"
   ]
  },
  {
   "cell_type": "code",
   "execution_count": 38,
   "id": "aa7b1483",
   "metadata": {},
   "outputs": [
    {
     "name": "stdout",
     "output_type": "stream",
     "text": [
      "Draw from Rectangle\n"
     ]
    }
   ],
   "source": [
    "for shape in [rect]: #rect, triange, circle\n",
    "    shape.draw()"
   ]
  },
  {
   "cell_type": "markdown",
   "id": "d7748fc8",
   "metadata": {},
   "source": [
    "# Эмуляция абстрактного класса (способ 1, есть еще ABC)"
   ]
  },
  {
   "cell_type": "code",
   "execution_count": 41,
   "id": "8983f9e0",
   "metadata": {},
   "outputs": [],
   "source": [
    "class Shape2:\n",
    "    def __init__(self):\n",
    "        print('Shape2 created')\n",
    "        \n",
    "    def draw(self):\n",
    "        raise NotImplementedError(\"Can't instatiate ab abstract class\") #кидай исключение, так принято\n",
    "        \n",
    "    def area(self):\n",
    "        raise NotImplementedError(\"Can't instatiate ab abstract class\")\n",
    "        \n",
    "    def perimeter(self):\n",
    "        raise NotImplementedError(\"Can't instatiate ab abstract class\")"
   ]
  },
  {
   "cell_type": "code",
   "execution_count": 44,
   "id": "f73ca6f9",
   "metadata": {},
   "outputs": [
    {
     "name": "stdout",
     "output_type": "stream",
     "text": [
      "Shape2 created\n"
     ]
    }
   ],
   "source": [
    "shape = Shape2()\n",
    "#shape.draw()"
   ]
  },
  {
   "cell_type": "markdown",
   "id": "ee141ce9",
   "metadata": {},
   "source": [
    "# Множественное наследование"
   ]
  },
  {
   "cell_type": "code",
   "execution_count": 48,
   "id": "8f732b88",
   "metadata": {},
   "outputs": [],
   "source": [
    "class Animal:\n",
    "    def die(self):\n",
    "        print('bay')\n",
    "        self.health = 0\n",
    "        \n",
    "class Carnivor:\n",
    "    def hunt(self):\n",
    "        print('eating')\n",
    "        self.satiety = 100\n",
    "        \n",
    "class Dog(Animal, Carnivor):\n",
    "    def bark(self):\n",
    "        print('woof-woof')"
   ]
  },
  {
   "cell_type": "code",
   "execution_count": 50,
   "id": "3a601ffe",
   "metadata": {},
   "outputs": [
    {
     "name": "stdout",
     "output_type": "stream",
     "text": [
      "woof-woof\n",
      "eating\n",
      "bay\n"
     ]
    }
   ],
   "source": [
    "dog = Dog()\n",
    "dog.bark()\n",
    "dog.hunt()\n",
    "dog.die()"
   ]
  },
  {
   "cell_type": "markdown",
   "id": "e18e354f",
   "metadata": {},
   "source": [
    "# DDD проблема"
   ]
  },
  {
   "cell_type": "code",
   "execution_count": 57,
   "id": "ed122453",
   "metadata": {},
   "outputs": [],
   "source": [
    "class Animal:\n",
    "    def set_health(self, health):\n",
    "        print('set in animal')\n",
    "        \n",
    "class Carnivour(Animal):\n",
    "    def set_health(self, health):\n",
    "        print('set in Carnivour')\n",
    "        \n",
    "class Mammal(Animal):\n",
    "    def set_health(self, health):\n",
    "        print('set in Mammal')\n",
    "        \n",
    "class Dog(Carnivour, Mammal): #важен порядок, возьмет реализацию из ПЕРВОГО (Mammal, Carnivour)\n",
    "    pass"
   ]
  },
  {
   "cell_type": "code",
   "execution_count": 56,
   "id": "15ac0870",
   "metadata": {},
   "outputs": [
    {
     "name": "stdout",
     "output_type": "stream",
     "text": [
      "set in Carnivour\n"
     ]
    }
   ],
   "source": [
    "dog = Dog()\n",
    "dog.set_health(10)"
   ]
  },
  {
   "cell_type": "code",
   "execution_count": 64,
   "id": "a7448bfa",
   "metadata": {},
   "outputs": [],
   "source": [
    "class Animal:\n",
    "    def set_health(self, health):\n",
    "        print('set in animal')\n",
    "        \n",
    "class Carnivour(Animal):\n",
    "    def set_health(self, health):\n",
    "        super().set_health(health) #с 3.0 только появилось\n",
    "        #Animal.set_health(self, health) #До PY_3.0 нужно было руками создавать инстанс базового класса руками! Проблема при DDD создается 2 инстанса Animal \n",
    "        print('set in Carnivour')\n",
    "        \n",
    "class Mammal(Animal):\n",
    "    def set_health(self, health):\n",
    "        super().set_health(health) #с 3.0 только появилось\n",
    "        #Animal.set_health(self, health) #До PY_3.0 нужно было руками создавать инстанс базового класса руками! Проблема при DDD создается 2 инстанса Animal \n",
    "        print('set in Mammal')\n",
    "        \n",
    "class Cat(Carnivour, Mammal):\n",
    "    def set_health(self, health):\n",
    "        super().set_health(health) #с 3.0 только появилось\n",
    "        #Mammal.set_health(self, health) #До PY_3.0 нужно нужно было руками создавать\n",
    "        #Carnivour.set_health(self, health) #До PY_3.0 нужно нужно было руками создавать\n",
    "        \n",
    "        print('set in dog')"
   ]
  },
  {
   "cell_type": "code",
   "execution_count": 65,
   "id": "aa563e3c",
   "metadata": {},
   "outputs": [
    {
     "name": "stdout",
     "output_type": "stream",
     "text": [
      "set in animal\n",
      "set in Mammal\n",
      "set in Carnivour\n",
      "set in dog\n"
     ]
    }
   ],
   "source": [
    "cat =Cat()\n",
    "cat.set_health(10)"
   ]
  },
  {
   "cell_type": "markdown",
   "id": "b89c91e2",
   "metadata": {},
   "source": [
    "# На деле"
   ]
  },
  {
   "cell_type": "code",
   "execution_count": 69,
   "id": "a4cac478",
   "metadata": {},
   "outputs": [],
   "source": [
    "#Множественое наследование непринято использовать - это бэдпрактис\n",
    "#Вместо множественного наследования используц МИКСИНЫ"
   ]
  },
  {
   "cell_type": "markdown",
   "id": "0076d851",
   "metadata": {},
   "source": [
    "# Миксины"
   ]
  },
  {
   "cell_type": "code",
   "execution_count": 72,
   "id": "5e7939fe",
   "metadata": {},
   "outputs": [],
   "source": [
    "#Можно примешивать в любой класс (Помоему это трейты)"
   ]
  },
  {
   "cell_type": "code",
   "execution_count": 77,
   "id": "99ad6255",
   "metadata": {},
   "outputs": [],
   "source": [
    "class Vihecle:\n",
    "    \n",
    "    def __init__(self, position):\n",
    "        self.position = position\n",
    "        \n",
    "    def travel(self, destiantion):\n",
    "        print('Driving.....')\n",
    "        \n",
    "class Car(Vihecle):\n",
    "    pass\n",
    "\n",
    "class Airplane(Vihecle):\n",
    "    pass"
   ]
  },
  {
   "cell_type": "code",
   "execution_count": 84,
   "id": "9a87d096",
   "metadata": {},
   "outputs": [],
   "source": [
    "class RadioMixin:  #создаем миксин для подмешивания\n",
    "    \n",
    "    def __init__(self):\n",
    "        self.radio = Radio()\n",
    "        \n",
    "    def turn_on(self, station):\n",
    "        self.radio.set_station(station)\n",
    "        self.radio.play()\n",
    "        \n",
    "class Radio:\n",
    "    def set_station(self, station):\n",
    "        self.station = station\n",
    "        \n",
    "    def play(self):\n",
    "        print(f'Plaing .... {self.station}')"
   ]
  },
  {
   "cell_type": "code",
   "execution_count": 85,
   "id": "24b22125",
   "metadata": {},
   "outputs": [],
   "source": [
    "class Car(Vihecle, RadioMixin): #примешиваем миксин\n",
    "\n",
    "    def __init__(self):\n",
    "        Vihecle.__init__(self, (10, 20))\n",
    "        RadioMixin.__init__(self)  #примешиваем миксин (супер тут НЕЛЬЗЯ ПРИМЕНИТЬ)"
   ]
  },
  {
   "cell_type": "code",
   "execution_count": 86,
   "id": "694bc12a",
   "metadata": {},
   "outputs": [
    {
     "name": "stdout",
     "output_type": "stream",
     "text": [
      "Plaing .... Evropa+\n"
     ]
    }
   ],
   "source": [
    "car = Car()\n",
    "car.turn_on(\"Evropa+\")"
   ]
  },
  {
   "cell_type": "markdown",
   "id": "74b16ced",
   "metadata": {},
   "source": [
    "# Абстрактные класс (способ 2, красиво) ABC"
   ]
  },
  {
   "cell_type": "code",
   "execution_count": 87,
   "id": "3026ad58",
   "metadata": {},
   "outputs": [],
   "source": [
    "from abc import ABC\n",
    "from abc import abstractmethod"
   ]
  },
  {
   "cell_type": "code",
   "execution_count": 108,
   "id": "269b6df1",
   "metadata": {},
   "outputs": [],
   "source": [
    "class Shale(ABC):\n",
    "    \n",
    "    def __init__(self):\n",
    "        super().__init__() #тут ммы не обязаны кидать raise Error т.к. ABC уже содержит такую логику\n",
    "        \n",
    "    @abstractmethod\n",
    "    def draw(self):\n",
    "        pass\n",
    "    \n",
    "    @abstractmethod\n",
    "    def parimeter(self):\n",
    "        print('calc perimeter') #базовая логика в абстрактном методе может быть!\n",
    "        #pass\n",
    "        \n",
    "    def drag(self):\n",
    "        print('Basic dragging functionality')\n",
    "        \n",
    "        "
   ]
  },
  {
   "cell_type": "code",
   "execution_count": 93,
   "id": "76e9b827",
   "metadata": {},
   "outputs": [],
   "source": [
    "# s = Shale() нельзя создать инстанс ананимного класса"
   ]
  },
  {
   "cell_type": "code",
   "execution_count": 105,
   "id": "ff5ddb47",
   "metadata": {},
   "outputs": [],
   "source": [
    "class Triange(Shale):\n",
    "    def __init__(self, a, b, c):\n",
    "        self.a = a\n",
    "        self.b = b\n",
    "        self.c = c\n",
    "    \n",
    "    def draw(self): #обязательно переопределять\n",
    "        print('Draw triangle')\n",
    "    \n",
    "    def parimeter(self): #обязательно переопределять\n",
    "        super().parimeter()\n",
    "        print('parimeter')\n",
    "    \n",
    "    def drag(self): #можно но необязательно переопределять\n",
    "        super().drag()\n",
    "        print(\"Triangle drag\")"
   ]
  },
  {
   "cell_type": "code",
   "execution_count": 106,
   "id": "fae6ec6c",
   "metadata": {},
   "outputs": [
    {
     "name": "stdout",
     "output_type": "stream",
     "text": [
      "calc perimeter\n",
      "parimeter\n"
     ]
    }
   ],
   "source": [
    "t = Triange(10,10,10)\n",
    "t.parimeter()"
   ]
  },
  {
   "cell_type": "code",
   "execution_count": 107,
   "id": "c8f8d709",
   "metadata": {},
   "outputs": [
    {
     "name": "stdout",
     "output_type": "stream",
     "text": [
      "Basic dragging functionality\n",
      "Triangle drag\n"
     ]
    }
   ],
   "source": [
    "t.drag()"
   ]
  },
  {
   "cell_type": "markdown",
   "id": "908af18e",
   "metadata": {},
   "source": [
    "# Дандер методы (Магические методы)"
   ]
  },
  {
   "cell_type": "code",
   "execution_count": 113,
   "id": "230fb2be",
   "metadata": {},
   "outputs": [],
   "source": [
    "class Point():\n",
    "    \n",
    "    def __init__(self, a, b):\n",
    "        self.a = a\n",
    "        self.b = b\n",
    "        \n",
    "    def __str__(self):\n",
    "        return f'Point x={self.a}, y={self.b}'"
   ]
  },
  {
   "cell_type": "code",
   "execution_count": 114,
   "id": "61e6f8d4",
   "metadata": {},
   "outputs": [],
   "source": [
    "p = Point(3, 4)"
   ]
  },
  {
   "cell_type": "code",
   "execution_count": 115,
   "id": "a1d17dea",
   "metadata": {},
   "outputs": [
    {
     "name": "stdout",
     "output_type": "stream",
     "text": [
      "Point x=3, y=4\n"
     ]
    }
   ],
   "source": [
    "print(p)"
   ]
  },
  {
   "cell_type": "code",
   "execution_count": 134,
   "id": "18f15ee4",
   "metadata": {},
   "outputs": [
    {
     "name": "stdout",
     "output_type": "stream",
     "text": [
      "The road has been destroyed\n"
     ]
    }
   ],
   "source": [
    "class Road():\n",
    "    def __init__(self, length):\n",
    "        self.length = length\n",
    "        \n",
    "    def __len__(self):\n",
    "        return self.length\n",
    "    \n",
    "    def __str__(self):\n",
    "        return f'A road of length: {self.length}'\n",
    "    \n",
    "    def __del__(self):\n",
    "        print(f'The road has been destroyed')\n",
    "        "
   ]
  },
  {
   "cell_type": "code",
   "execution_count": 135,
   "id": "793a0938",
   "metadata": {},
   "outputs": [
    {
     "name": "stdout",
     "output_type": "stream",
     "text": [
      "The road has been destroyed\n"
     ]
    }
   ],
   "source": [
    "r = Road(100)"
   ]
  },
  {
   "cell_type": "code",
   "execution_count": 136,
   "id": "be9ab13f",
   "metadata": {},
   "outputs": [
    {
     "data": {
      "text/plain": [
       "100"
      ]
     },
     "execution_count": 136,
     "metadata": {},
     "output_type": "execute_result"
    }
   ],
   "source": [
    "len(r) #это встроенный метод, ищет __len__(self) в классе инстанса, вызывает его"
   ]
  },
  {
   "cell_type": "code",
   "execution_count": 137,
   "id": "a680b75d",
   "metadata": {},
   "outputs": [
    {
     "name": "stdout",
     "output_type": "stream",
     "text": [
      "A road of length: 100\n"
     ]
    }
   ],
   "source": [
    "print(r) #это встроенный метод, ищет __str__(self) в классе инстанса, вызывает его"
   ]
  },
  {
   "cell_type": "code",
   "execution_count": 138,
   "id": "571d28af",
   "metadata": {},
   "outputs": [
    {
     "name": "stdout",
     "output_type": "stream",
     "text": [
      "The road has been destroyed\n"
     ]
    }
   ],
   "source": [
    "del r #это встроенный метод, ищет __del__(self) в классе инстанса, вызывает его"
   ]
  },
  {
   "cell_type": "code",
   "execution_count": null,
   "id": "db0a02cd",
   "metadata": {},
   "outputs": [],
   "source": []
  }
 ],
 "metadata": {
  "kernelspec": {
   "display_name": "Python 3 (ipykernel)",
   "language": "python",
   "name": "python3"
  },
  "language_info": {
   "codemirror_mode": {
    "name": "ipython",
    "version": 3
   },
   "file_extension": ".py",
   "mimetype": "text/x-python",
   "name": "python",
   "nbconvert_exporter": "python",
   "pygments_lexer": "ipython3",
   "version": "3.9.7"
  }
 },
 "nbformat": 4,
 "nbformat_minor": 5
}
