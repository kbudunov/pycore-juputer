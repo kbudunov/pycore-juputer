{
 "cells": [
  {
   "cell_type": "code",
   "execution_count": 1,
   "id": "f60cbab9",
   "metadata": {},
   "outputs": [
    {
     "name": "stdout",
     "output_type": "stream",
     "text": [
      "yes\n"
     ]
    }
   ],
   "source": [
    "if True:\n",
    "    print('yes')"
   ]
  },
  {
   "cell_type": "code",
   "execution_count": 2,
   "id": "03abd568",
   "metadata": {},
   "outputs": [
    {
     "name": "stdout",
     "output_type": "stream",
     "text": [
      "3 > 2\n"
     ]
    }
   ],
   "source": [
    "if 3 > 2:\n",
    "    print('3 > 2')"
   ]
  },
  {
   "cell_type": "code",
   "execution_count": 4,
   "id": "ace91f72",
   "metadata": {},
   "outputs": [
    {
     "name": "stdout",
     "output_type": "stream",
     "text": [
      "admin\n"
     ]
    }
   ],
   "source": [
    "is_admin = True\n",
    "if is_admin:\n",
    "    print('admin')"
   ]
  },
  {
   "cell_type": "code",
   "execution_count": 6,
   "id": "056be9c4",
   "metadata": {},
   "outputs": [
    {
     "name": "stdout",
     "output_type": "stream",
     "text": [
      "Zerk\n",
      "Zerk\n"
     ]
    }
   ],
   "source": [
    "selected_character = input()\n",
    "\n",
    "if selected_character == 'Protos':\n",
    "    print('Protos')\n",
    "elif selected_character == 'Zerk':\n",
    "    print('Zerk')\n",
    "else:\n",
    "    print('no')"
   ]
  },
  {
   "cell_type": "code",
   "execution_count": null,
   "id": "40e0f717",
   "metadata": {},
   "outputs": [],
   "source": []
  }
 ],
 "metadata": {
  "kernelspec": {
   "display_name": "Python 3 (ipykernel)",
   "language": "python",
   "name": "python3"
  },
  "language_info": {
   "codemirror_mode": {
    "name": "ipython",
    "version": 3
   },
   "file_extension": ".py",
   "mimetype": "text/x-python",
   "name": "python",
   "nbconvert_exporter": "python",
   "pygments_lexer": "ipython3",
   "version": "3.9.7"
  }
 },
 "nbformat": 4,
 "nbformat_minor": 5
}
