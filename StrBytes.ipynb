{
 "cells": [
  {
   "cell_type": "code",
   "execution_count": 2,
   "id": "90898460",
   "metadata": {},
   "outputs": [
    {
     "data": {
      "text/plain": [
       "'utf-8'"
      ]
     },
     "execution_count": 2,
     "metadata": {},
     "output_type": "execute_result"
    }
   ],
   "source": [
    "import sys\n",
    "sys.getdefaultencoding()"
   ]
  },
  {
   "cell_type": "code",
   "execution_count": 3,
   "id": "8a777ddb",
   "metadata": {},
   "outputs": [
    {
     "data": {
      "text/plain": [
       "97"
      ]
     },
     "execution_count": 3,
     "metadata": {},
     "output_type": "execute_result"
    }
   ],
   "source": [
    "ord(\"a\")"
   ]
  },
  {
   "cell_type": "code",
   "execution_count": 4,
   "id": "06a94379",
   "metadata": {},
   "outputs": [
    {
     "data": {
      "text/plain": [
       "'a'"
      ]
     },
     "execution_count": 4,
     "metadata": {},
     "output_type": "execute_result"
    }
   ],
   "source": [
    "chr(97)"
   ]
  },
  {
   "cell_type": "code",
   "execution_count": 5,
   "id": "227b71fe",
   "metadata": {},
   "outputs": [
    {
     "data": {
      "text/plain": [
       "'Æ'"
      ]
     },
     "execution_count": 5,
     "metadata": {},
     "output_type": "execute_result"
    }
   ],
   "source": [
    "chr(198)"
   ]
  },
  {
   "cell_type": "code",
   "execution_count": 6,
   "id": "5bef7d42",
   "metadata": {},
   "outputs": [],
   "source": [
    "s = \"Hello\""
   ]
  },
  {
   "cell_type": "code",
   "execution_count": 11,
   "id": "fd6450cb",
   "metadata": {},
   "outputs": [
    {
     "name": "stdout",
     "output_type": "stream",
     "text": [
      "<class 'bytes'>\n",
      "b'Hello'\n",
      "b'Hello'\n",
      "b'\\xff\\xfeH\\x00e\\x00l\\x00l\\x00o\\x00'\n"
     ]
    }
   ],
   "source": [
    "enc_ascii = s.encode('ascii')\n",
    "enc_utf8 = s.encode('utf8')\n",
    "enc_utf16 = s.encode('utf16')\n",
    "\n",
    "print(type(enc_ascii))\n",
    "print(enc_ascii)\n",
    "print(enc_utf8)\n",
    "print(enc_utf16)"
   ]
  },
  {
   "cell_type": "code",
   "execution_count": 12,
   "id": "167d8093",
   "metadata": {},
   "outputs": [
    {
     "name": "stdout",
     "output_type": "stream",
     "text": [
      "5\n",
      "5\n",
      "12\n"
     ]
    }
   ],
   "source": [
    "print(len(enc_ascii))\n",
    "print(len(enc_utf8))\n",
    "print(len(enc_utf16))"
   ]
  },
  {
   "cell_type": "code",
   "execution_count": 16,
   "id": "9b646d69",
   "metadata": {},
   "outputs": [
    {
     "name": "stdout",
     "output_type": "stream",
     "text": [
      "<class 'bytes'>\n",
      "<class 'str'>\n"
     ]
    }
   ],
   "source": [
    "str_in_bytes = b'hello' #преврашает в байты, тоже имьютабл как и стринг\n",
    "str_in_bytes = s.encode('utf-8') #преврашает в байты, тоже имьютабл как и стринг\n",
    "\n",
    "str_in_text = 'hello'\n",
    "\n",
    "print(type(str_in_bytes))\n",
    "print(type(str_in_text))"
   ]
  },
  {
   "cell_type": "code",
   "execution_count": 18,
   "id": "7e03224d",
   "metadata": {},
   "outputs": [
    {
     "name": "stdout",
     "output_type": "stream",
     "text": [
      "b'bytes'\n",
      "b'\\xd0\\xb1\\xd0\\xb0\\xd0\\xb9\\xd1\\x82\\xd1\\x8b'\n"
     ]
    }
   ],
   "source": [
    "print('bytes'.encode('utf-8'))\n",
    "print('байты'.encode('utf-8'))"
   ]
  },
  {
   "cell_type": "code",
   "execution_count": 19,
   "id": "399d34c2",
   "metadata": {},
   "outputs": [
    {
     "name": "stdout",
     "output_type": "stream",
     "text": [
      "72\n",
      "h\n"
     ]
    }
   ],
   "source": [
    "print(str_in_bytes[0])\n",
    "print(str_in_text[0])"
   ]
  },
  {
   "cell_type": "code",
   "execution_count": 21,
   "id": "d6434d00",
   "metadata": {},
   "outputs": [
    {
     "data": {
      "text/plain": [
       "104"
      ]
     },
     "execution_count": 21,
     "metadata": {},
     "output_type": "execute_result"
    }
   ],
   "source": [
    "ba = bytearray(b'hello') #мутабельный\n",
    "ba[0]"
   ]
  },
  {
   "cell_type": "code",
   "execution_count": 23,
   "id": "f4b47807",
   "metadata": {},
   "outputs": [
    {
     "name": "stdout",
     "output_type": "stream",
     "text": [
      "b'Hello'\n"
     ]
    }
   ],
   "source": [
    "result = str(str_in_bytes) #не делай так, потомучто неправильно конвертирует, на выхолде будет b'Hello'\n",
    "print(result)"
   ]
  },
  {
   "cell_type": "code",
   "execution_count": 25,
   "id": "955d338a",
   "metadata": {},
   "outputs": [
    {
     "name": "stdout",
     "output_type": "stream",
     "text": [
      "Hello\n"
     ]
    }
   ],
   "source": [
    "result = str(str_in_bytes, 'utf-8') #так правильно\n",
    "print(result)"
   ]
  },
  {
   "cell_type": "code",
   "execution_count": 26,
   "id": "a1574dfa",
   "metadata": {},
   "outputs": [
    {
     "name": "stdout",
     "output_type": "stream",
     "text": [
      "Hello\n"
     ]
    }
   ],
   "source": [
    "result = str_in_bytes.decode('utf-8') #еще лучше писать так\n",
    "print(result)"
   ]
  },
  {
   "cell_type": "code",
   "execution_count": 36,
   "id": "a6a04429",
   "metadata": {},
   "outputs": [],
   "source": [
    "jpeg = [130,2,123,3,31,3]\n",
    "with open(r'btest', 'w+b') as file:\n",
    "    file.write(bytes(jpeg))"
   ]
  },
  {
   "cell_type": "code",
   "execution_count": 37,
   "id": "4112cfee",
   "metadata": {},
   "outputs": [
    {
     "name": "stdout",
     "output_type": "stream",
     "text": [
      "130\n",
      "2\n",
      "123\n",
      "3\n",
      "31\n",
      "3\n"
     ]
    }
   ],
   "source": [
    "with open(r'btest', 'rb') as file: \n",
    "    data = file.read()\n",
    "    for b in data:\n",
    "        print(int(b))"
   ]
  },
  {
   "cell_type": "code",
   "execution_count": 60,
   "id": "d1dafa40",
   "metadata": {},
   "outputs": [
    {
     "name": "stdout",
     "output_type": "stream",
     "text": [
      "y\n",
      "nesgt\n"
     ]
    }
   ],
   "source": [
    "\n",
    "x = \"My name is Agent Smith\"\n",
    "print(x[1]) #y\n",
    "print(x[3:16:3]) #nesgt"
   ]
  },
  {
   "cell_type": "code",
   "execution_count": null,
   "id": "2c2f4d10",
   "metadata": {},
   "outputs": [],
   "source": []
  },
  {
   "cell_type": "code",
   "execution_count": null,
   "id": "56c9daa9",
   "metadata": {},
   "outputs": [],
   "source": []
  }
 ],
 "metadata": {
  "kernelspec": {
   "display_name": "Python 3 (ipykernel)",
   "language": "python",
   "name": "python3"
  },
  "language_info": {
   "codemirror_mode": {
    "name": "ipython",
    "version": 3
   },
   "file_extension": ".py",
   "mimetype": "text/x-python",
   "name": "python",
   "nbconvert_exporter": "python",
   "pygments_lexer": "ipython3",
   "version": "3.9.7"
  }
 },
 "nbformat": 4,
 "nbformat_minor": 5
}
