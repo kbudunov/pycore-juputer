{
 "cells": [
  {
   "cell_type": "code",
   "execution_count": 28,
   "id": "9ae756af",
   "metadata": {},
   "outputs": [
    {
     "data": {
      "text/plain": [
       "{'Calsen': 1233, 'DIng': 1233, 'Lock': 5345}"
      ]
     },
     "execution_count": 28,
     "metadata": {},
     "output_type": "execute_result"
    }
   ],
   "source": [
    "payers = {'Carlsen': 2231, 'Caruane': 3412, 'Ding': 3213}\n",
    "players1 = dict(Calsen=1233, DIng=1233, Lock=5345)\n",
    "players1"
   ]
  },
  {
   "cell_type": "code",
   "execution_count": 2,
   "id": "1057c489",
   "metadata": {},
   "outputs": [
    {
     "data": {
      "text/plain": [
       "1233"
      ]
     },
     "execution_count": 2,
     "metadata": {},
     "output_type": "execute_result"
    }
   ],
   "source": [
    "players1['Calsen'] #get"
   ]
  },
  {
   "cell_type": "code",
   "execution_count": 5,
   "id": "fa08f425",
   "metadata": {},
   "outputs": [
    {
     "data": {
      "text/plain": [
       "1233"
      ]
     },
     "execution_count": 5,
     "metadata": {},
     "output_type": "execute_result"
    }
   ],
   "source": [
    "players1.get('Calsen') #get"
   ]
  },
  {
   "cell_type": "code",
   "execution_count": 7,
   "id": "72083f38",
   "metadata": {},
   "outputs": [],
   "source": [
    "payers['So'] = 9999 #add"
   ]
  },
  {
   "cell_type": "code",
   "execution_count": 8,
   "id": "162d36b3",
   "metadata": {},
   "outputs": [],
   "source": [
    "payers['So'] = 2311 #update"
   ]
  },
  {
   "cell_type": "code",
   "execution_count": 9,
   "id": "968da88e",
   "metadata": {},
   "outputs": [
    {
     "data": {
      "text/plain": [
       "{'Carlsen': 2231, 'Caruane': 3412, 'Ding': 3213}"
      ]
     },
     "execution_count": 9,
     "metadata": {},
     "output_type": "execute_result"
    }
   ],
   "source": [
    "del payers['So'] #del\n",
    "payers"
   ]
  },
  {
   "cell_type": "code",
   "execution_count": 11,
   "id": "471d84f8",
   "metadata": {},
   "outputs": [
    {
     "name": "stdout",
     "output_type": "stream",
     "text": [
      "<class 'dict_keys'>\n",
      "dict_keys(['Carlsen', 'Caruane', 'Ding'])\n"
     ]
    }
   ],
   "source": [
    "keys = payers.keys() #это не лист ключей\n",
    "print(type(keys))\n",
    "print(keys)"
   ]
  },
  {
   "cell_type": "code",
   "execution_count": 13,
   "id": "85e43333",
   "metadata": {},
   "outputs": [
    {
     "name": "stdout",
     "output_type": "stream",
     "text": [
      "<class 'list'>\n",
      "['Carlsen', 'Caruane', 'Ding']\n"
     ]
    }
   ],
   "source": [
    "l = list(payers.keys())\n",
    "print(type(l))\n",
    "print(l)"
   ]
  },
  {
   "cell_type": "code",
   "execution_count": 14,
   "id": "2cc36981",
   "metadata": {},
   "outputs": [
    {
     "data": {
      "text/plain": [
       "['Carlsen', 'Caruane', 'Ding']"
      ]
     },
     "execution_count": 14,
     "metadata": {},
     "output_type": "execute_result"
    }
   ],
   "source": [
    "sorted(payers.keys()) #на выходе получаем отсортированный по возростанию список"
   ]
  },
  {
   "cell_type": "code",
   "execution_count": 15,
   "id": "95eb5630",
   "metadata": {},
   "outputs": [
    {
     "data": {
      "text/plain": [
       "True"
      ]
     },
     "execution_count": 15,
     "metadata": {},
     "output_type": "execute_result"
    }
   ],
   "source": [
    "'Carlsen' in payers"
   ]
  },
  {
   "cell_type": "code",
   "execution_count": 16,
   "id": "3c41d9f0",
   "metadata": {},
   "outputs": [
    {
     "data": {
      "text/plain": [
       "False"
      ]
     },
     "execution_count": 16,
     "metadata": {},
     "output_type": "execute_result"
    }
   ],
   "source": [
    "'Carlsen' not in payers "
   ]
  },
  {
   "cell_type": "code",
   "execution_count": 18,
   "id": "c7553025",
   "metadata": {},
   "outputs": [
    {
     "name": "stdout",
     "output_type": "stream",
     "text": [
      "<class 'dict_values'>\n",
      "dict_values([2231, 3412, 3213])\n"
     ]
    }
   ],
   "source": [
    "values = payers.values()\n",
    "print(type(values))\n",
    "print(values)"
   ]
  },
  {
   "cell_type": "code",
   "execution_count": 19,
   "id": "ed849eda",
   "metadata": {},
   "outputs": [
    {
     "name": "stdout",
     "output_type": "stream",
     "text": [
      "<class 'list'>\n",
      "[2231, 3412, 3213]\n"
     ]
    }
   ],
   "source": [
    "vals = list(payers.values())\n",
    "print(type(vals))\n",
    "print(vals)"
   ]
  },
  {
   "cell_type": "code",
   "execution_count": 20,
   "id": "740f4672",
   "metadata": {},
   "outputs": [
    {
     "data": {
      "text/plain": [
       "[2231, 3213, 3412]"
      ]
     },
     "execution_count": 20,
     "metadata": {},
     "output_type": "execute_result"
    }
   ],
   "source": [
    "sorted(payers.values())"
   ]
  },
  {
   "cell_type": "code",
   "execution_count": 21,
   "id": "ad96a313",
   "metadata": {},
   "outputs": [
    {
     "name": "stdout",
     "output_type": "stream",
     "text": [
      "<class 'dict'>\n",
      "{'Carlsen': 2231, 'Caruane': 3412, 'Ding': 3213}\n"
     ]
    }
   ],
   "source": [
    "players_copy = payers.copy() #shellow copy поверхностная копия\n",
    "print(type(players_copy))\n",
    "print(players_copy)"
   ]
  },
  {
   "cell_type": "code",
   "execution_count": 22,
   "id": "1324deb7",
   "metadata": {},
   "outputs": [
    {
     "name": "stdout",
     "output_type": "stream",
     "text": [
      "Carlsen 2231\n",
      "Caruane 3412\n",
      "Ding 3213\n"
     ]
    }
   ],
   "source": [
    "for k, v in payers.items():\n",
    "    print(k, v)"
   ]
  },
  {
   "cell_type": "code",
   "execution_count": 24,
   "id": "f828858f",
   "metadata": {},
   "outputs": [
    {
     "name": "stdout",
     "output_type": "stream",
     "text": [
      "<class 'dict_items'>\n",
      "dict_items([('Carlsen', 2231), ('Caruane', 3412), ('Ding', 3213)])\n"
     ]
    }
   ],
   "source": [
    "items = payers.items()\n",
    "print(type(items))\n",
    "print(items)"
   ]
  },
  {
   "cell_type": "code",
   "execution_count": 25,
   "id": "035d5c1c",
   "metadata": {},
   "outputs": [
    {
     "data": {
      "text/plain": [
       "3213"
      ]
     },
     "execution_count": 25,
     "metadata": {},
     "output_type": "execute_result"
    }
   ],
   "source": [
    "payers.pop('Ding') #remove element"
   ]
  },
  {
   "cell_type": "code",
   "execution_count": 29,
   "id": "0ed0aa8d",
   "metadata": {},
   "outputs": [
    {
     "data": {
      "text/plain": [
       "('Ding', 3213)"
      ]
     },
     "execution_count": 29,
     "metadata": {},
     "output_type": "execute_result"
    }
   ],
   "source": [
    "payers.popitem() #remove last element "
   ]
  },
  {
   "cell_type": "code",
   "execution_count": 30,
   "id": "12f99725",
   "metadata": {},
   "outputs": [
    {
     "data": {
      "text/plain": [
       "2"
      ]
     },
     "execution_count": 30,
     "metadata": {},
     "output_type": "execute_result"
    }
   ],
   "source": [
    "len(payers)"
   ]
  },
  {
   "cell_type": "code",
   "execution_count": 31,
   "id": "56d0ceb3",
   "metadata": {},
   "outputs": [
    {
     "data": {
      "text/plain": [
       "{'Carlsen': 2231, 'Caruane': 3412, 'KKKKDs': None}"
      ]
     },
     "execution_count": 31,
     "metadata": {},
     "output_type": "execute_result"
    }
   ],
   "source": [
    "payers.setdefault(\"KKKKDs\") #достает по ключу, НО если его там нет тогда добавит с ключем и нанов в валью\n",
    "payers"
   ]
  },
  {
   "cell_type": "code",
   "execution_count": null,
   "id": "f4fffd84",
   "metadata": {},
   "outputs": [],
   "source": []
  }
 ],
 "metadata": {
  "kernelspec": {
   "display_name": "Python 3 (ipykernel)",
   "language": "python",
   "name": "python3"
  },
  "language_info": {
   "codemirror_mode": {
    "name": "ipython",
    "version": 3
   },
   "file_extension": ".py",
   "mimetype": "text/x-python",
   "name": "python",
   "nbconvert_exporter": "python",
   "pygments_lexer": "ipython3",
   "version": "3.9.7"
  }
 },
 "nbformat": 4,
 "nbformat_minor": 5
}
