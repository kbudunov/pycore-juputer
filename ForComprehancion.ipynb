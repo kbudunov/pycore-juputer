{
 "cells": [
  {
   "cell_type": "markdown",
   "id": "4bd17dd3",
   "metadata": {},
   "source": [
    "# List Comprehencion"
   ]
  },
  {
   "cell_type": "code",
   "execution_count": 2,
   "id": "4432f5dd",
   "metadata": {},
   "outputs": [
    {
     "data": {
      "text/plain": [
       "['h', 'e', 'l', 'l', 'o', ',', ' ', 'w', 'o', 'r', 'l', 'd']"
      ]
     },
     "execution_count": 2,
     "metadata": {},
     "output_type": "execute_result"
    }
   ],
   "source": [
    "greeting = 'hello, world'\n",
    "chars = []\n",
    "for l in greeting:\n",
    "    chars.append(l)\n",
    "chars"
   ]
  },
  {
   "cell_type": "code",
   "execution_count": 3,
   "id": "00765dc4",
   "metadata": {},
   "outputs": [
    {
     "data": {
      "text/plain": [
       "['h', 'e', 'l', 'l', 'o', ',', ' ', 'w', 'o', 'r', 'l', 'd']"
      ]
     },
     "execution_count": 3,
     "metadata": {},
     "output_type": "execute_result"
    }
   ],
   "source": [
    "chars = [l for l in greeting] #LIST COMPREHENCION \"[l for l in greeting]\"\n",
    "chars"
   ]
  },
  {
   "cell_type": "code",
   "execution_count": 6,
   "id": "318856c5",
   "metadata": {},
   "outputs": [
    {
     "data": {
      "text/plain": [
       "[1, 2, 3, 4, 5, 6]"
      ]
     },
     "execution_count": 6,
     "metadata": {},
     "output_type": "execute_result"
    }
   ],
   "source": [
    "numbers = [1,2,3,4,5,6,7]\n",
    "numbers = [n for n in range(1, 7)] #заполняем лист рядом значений\n",
    "numbers"
   ]
  },
  {
   "cell_type": "code",
   "execution_count": 7,
   "id": "70e7f21e",
   "metadata": {},
   "outputs": [
    {
     "data": {
      "text/plain": [
       "[1, 4, 9, 16, 25, 36]"
      ]
     },
     "execution_count": 7,
     "metadata": {},
     "output_type": "execute_result"
    }
   ],
   "source": [
    "squere_numbers = [n*n for n in range(1, 7)]\n",
    "squere_numbers"
   ]
  },
  {
   "cell_type": "code",
   "execution_count": 8,
   "id": "55c8b653",
   "metadata": {},
   "outputs": [
    {
     "data": {
      "text/plain": [
       "[1, 9, 25]"
      ]
     },
     "execution_count": 8,
     "metadata": {},
     "output_type": "execute_result"
    }
   ],
   "source": [
    "squere_numbers = [n*n for n in range(1, 7) if n%2!=0]  #Comprehencion с ФИЛЬТРОМ\n",
    "squere_numbers"
   ]
  },
  {
   "cell_type": "code",
   "execution_count": 9,
   "id": "5c6a9f1b",
   "metadata": {},
   "outputs": [
    {
     "data": {
      "text/plain": [
       "[3.94, 16.93, 83.86, 9.06, 17.72]"
      ]
     },
     "execution_count": 9,
     "metadata": {},
     "output_type": "execute_result"
    }
   ],
   "source": [
    "len_in_santimetrs = [10,43,213,23,45]\n",
    "len_in_inches = [(round(cm / 2.54, 2)) for cm in len_in_santimetrs]\n",
    "len_in_inches"
   ]
  },
  {
   "cell_type": "code",
   "execution_count": null,
   "id": "3534fe5a",
   "metadata": {},
   "outputs": [],
   "source": [
    "# НЕ нагромаждай\n",
    "ratings = [2424,32432,32423,4,234,324,23,432]\n",
    "titles = ['GM' if x>=2300 else 'MM' for x in ratings]\n",
    "titles"
   ]
  },
  {
   "cell_type": "markdown",
   "id": "f2acf2c6",
   "metadata": {},
   "source": [
    "### Длинно"
   ]
  },
  {
   "cell_type": "code",
   "execution_count": 15,
   "id": "54267bec",
   "metadata": {},
   "outputs": [
    {
     "data": {
      "text/plain": [
       "[(2, -2), (-5, 5), (6, -6), (-2, 2)]"
      ]
     },
     "execution_count": 15,
     "metadata": {},
     "output_type": "execute_result"
    }
   ],
   "source": [
    "list1 = [2,4,-5,6,8,-2]\n",
    "list2 = [2,-6,8,3,5,-2]\n",
    "\n",
    "pairs = []\n",
    "for x in list1:\n",
    "    for y in list2:\n",
    "        cur_sum = x + y\n",
    "        if cur_sum == 0:\n",
    "            pairs.append((x,y))\n",
    "pairs"
   ]
  },
  {
   "cell_type": "markdown",
   "id": "b5e65801",
   "metadata": {},
   "source": [
    "### Коротко"
   ]
  },
  {
   "cell_type": "code",
   "execution_count": 17,
   "id": "37b75f6c",
   "metadata": {},
   "outputs": [
    {
     "data": {
      "text/plain": [
       "[(2, -2), (-5, 5), (6, -6), (-2, 2)]"
      ]
     },
     "execution_count": 17,
     "metadata": {},
     "output_type": "execute_result"
    }
   ],
   "source": [
    "pairs = [(x, y) for x in list1 for y in list2 if x+y==0]\n",
    "pairs"
   ]
  },
  {
   "cell_type": "markdown",
   "id": "9dfc2759",
   "metadata": {},
   "source": [
    "# Задача с собеседования"
   ]
  },
  {
   "cell_type": "code",
   "execution_count": 52,
   "id": "0ee3282a",
   "metadata": {},
   "outputs": [
    {
     "data": {
      "text/plain": [
       "[8, 8, 0]"
      ]
     },
     "execution_count": 52,
     "metadata": {},
     "output_type": "execute_result"
    }
   ],
   "source": [
    "numbers1 = [int(char) for char in str(763)]\n",
    "numbers2 = [int(char) for char in str(117)]\n",
    "\n",
    "numbers1.reverse()\n",
    "numbers2.reverse()\n",
    "\n",
    "rang = range(0, len(numbers1))\n",
    "result = []\n",
    "ten = 0\n",
    "\n",
    "for i in rang:\n",
    "    sum = numbers1[i] + numbers2[i]\n",
    "    if (sum - 10 + ten) >= 0:\n",
    "        result.append(sum-10 + ten)\n",
    "        ten = 1\n",
    "    else:\n",
    "        result.append(sum + ten)\n",
    "        ten = 0\n",
    "\n",
    "result.reverse()\n",
    "result"
   ]
  },
  {
   "cell_type": "code",
   "execution_count": null,
   "id": "9a0e4497",
   "metadata": {},
   "outputs": [],
   "source": []
  },
  {
   "cell_type": "code",
   "execution_count": null,
   "id": "319bb187",
   "metadata": {},
   "outputs": [],
   "source": []
  }
 ],
 "metadata": {
  "kernelspec": {
   "display_name": "Python 3 (ipykernel)",
   "language": "python",
   "name": "python3"
  },
  "language_info": {
   "codemirror_mode": {
    "name": "ipython",
    "version": 3
   },
   "file_extension": ".py",
   "mimetype": "text/x-python",
   "name": "python",
   "nbconvert_exporter": "python",
   "pygments_lexer": "ipython3",
   "version": "3.9.7"
  }
 },
 "nbformat": 4,
 "nbformat_minor": 5
}
