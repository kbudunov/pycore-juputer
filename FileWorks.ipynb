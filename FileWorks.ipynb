{
 "cells": [
  {
   "cell_type": "markdown",
   "id": "2e5b9448",
   "metadata": {},
   "source": [
    "# Работа с файлами"
   ]
  },
  {
   "cell_type": "markdown",
   "id": "06c0b472",
   "metadata": {},
   "source": [
    "### Запись"
   ]
  },
  {
   "cell_type": "code",
   "execution_count": null,
   "id": "859000f8",
   "metadata": {},
   "outputs": [],
   "source": [
    "# import os\n",
    "# dirpath = os.getcwd()"
   ]
  },
  {
   "cell_type": "code",
   "execution_count": 6,
   "id": "50ee5fd1",
   "metadata": {},
   "outputs": [
    {
     "data": {
      "text/plain": [
       "'C:\\\\Users\\\\kobudunov\\\\JuputerRoot'"
      ]
     },
     "execution_count": 6,
     "metadata": {},
     "output_type": "execute_result"
    }
   ],
   "source": [
    "pwd #покажет текущую дирректорию (работает в юпитере только)"
   ]
  },
  {
   "cell_type": "code",
   "execution_count": 10,
   "id": "b28b808e",
   "metadata": {},
   "outputs": [
    {
     "ename": "SyntaxError",
     "evalue": "invalid syntax (Temp/ipykernel_41996/3509550108.py, line 1)",
     "output_type": "error",
     "traceback": [
      "\u001b[1;36m  File \u001b[1;32m\"C:\\Users\\KOBUDU~1\\AppData\\Local\\Temp/ipykernel_41996/3509550108.py\"\u001b[1;36m, line \u001b[1;32m1\u001b[0m\n\u001b[1;33m    open('file_name', 'w') as file:\u001b[0m\n\u001b[1;37m                           ^\u001b[0m\n\u001b[1;31mSyntaxError\u001b[0m\u001b[1;31m:\u001b[0m invalid syntax\n"
     ]
    }
   ],
   "source": [
    "open('file_name', 'w') as file: #пономальному, для юпитер ниже\n",
    "    file.write('data')"
   ]
  },
  {
   "cell_type": "code",
   "execution_count": 14,
   "id": "69dc7c83",
   "metadata": {},
   "outputs": [],
   "source": [
    "#для юпитера запись в файл"
   ]
  },
  {
   "cell_type": "code",
   "execution_count": 13,
   "id": "6af81df2",
   "metadata": {},
   "outputs": [
    {
     "name": "stdout",
     "output_type": "stream",
     "text": [
      "Writing sample.txt\n"
     ]
    }
   ],
   "source": [
    "%%writefile sample.txt \n",
    "Name|Phone\n",
    "John;4123\n",
    "Bob;3124\n",
    "Alice;9831"
   ]
  },
  {
   "cell_type": "markdown",
   "id": "130e3b06",
   "metadata": {},
   "source": [
    "### Чтение"
   ]
  },
  {
   "cell_type": "code",
   "execution_count": 15,
   "id": "5d0bf550",
   "metadata": {},
   "outputs": [],
   "source": [
    "#для юпитера чтение из файла"
   ]
  },
  {
   "cell_type": "code",
   "execution_count": 22,
   "id": "4563914c",
   "metadata": {},
   "outputs": [],
   "source": [
    "file = open('sample.txt')"
   ]
  },
  {
   "cell_type": "code",
   "execution_count": 23,
   "id": "95f672ec",
   "metadata": {},
   "outputs": [
    {
     "name": "stdout",
     "output_type": "stream",
     "text": [
      "Name|Phone\n",
      "John;4123\n",
      "Bob;3124\n",
      "Alice;9831\n",
      "\n"
     ]
    }
   ],
   "source": [
    "data = file.read()\n",
    "print(data)"
   ]
  },
  {
   "cell_type": "code",
   "execution_count": 26,
   "id": "73652a65",
   "metadata": {},
   "outputs": [
    {
     "name": "stdout",
     "output_type": "stream",
     "text": [
      "\n"
     ]
    }
   ],
   "source": [
    "print(file.read()) #пусто потомучто мы его ранее уже прочитали"
   ]
  },
  {
   "cell_type": "code",
   "execution_count": 28,
   "id": "57340ee0",
   "metadata": {},
   "outputs": [
    {
     "name": "stdout",
     "output_type": "stream",
     "text": [
      "Name|Phone\n",
      "John;4123\n",
      "Bob;3124\n",
      "Alice;9831\n",
      "\n"
     ]
    }
   ],
   "source": [
    "file.seek(0) #смешаем курсор читателя в самое начало\n",
    "print(file.read())"
   ]
  },
  {
   "cell_type": "code",
   "execution_count": 34,
   "id": "44fecfa2",
   "metadata": {},
   "outputs": [
    {
     "name": "stdout",
     "output_type": "stream",
     "text": [
      "<class 'list'>\n",
      "['Name|Phone\\n', 'John;4123\\n', 'Bob;3124\\n', 'Alice;9831\\n']\n"
     ]
    }
   ],
   "source": [
    "file.seek(0)\n",
    "lines = file.readlines() #построчное чтение\n",
    "print(type(lines))\n",
    "print(lines)"
   ]
  },
  {
   "cell_type": "code",
   "execution_count": 35,
   "id": "f5f04f17",
   "metadata": {},
   "outputs": [
    {
     "data": {
      "text/plain": [
       "4"
      ]
     },
     "execution_count": 35,
     "metadata": {},
     "output_type": "execute_result"
    }
   ],
   "source": [
    "len(lines)"
   ]
  },
  {
   "cell_type": "code",
   "execution_count": 36,
   "id": "b7a44393",
   "metadata": {},
   "outputs": [],
   "source": [
    "sample_file = open(r'C:\\Users\\kobudunov\\JuputerRoot\\sample.txt')"
   ]
  },
  {
   "cell_type": "markdown",
   "id": "c3a50447",
   "metadata": {},
   "source": [
    "### Закрытие"
   ]
  },
  {
   "cell_type": "code",
   "execution_count": 37,
   "id": "767ae37e",
   "metadata": {},
   "outputs": [],
   "source": [
    "file.close()\n",
    "sample_file.close()"
   ]
  },
  {
   "cell_type": "code",
   "execution_count": 39,
   "id": "d9aff581",
   "metadata": {},
   "outputs": [
    {
     "name": "stdout",
     "output_type": "stream",
     "text": [
      "True\n",
      "True\n"
     ]
    }
   ],
   "source": [
    "print(file.closed)\n",
    "print(sample_file.closed)"
   ]
  },
  {
   "cell_type": "markdown",
   "id": "1be3934d",
   "metadata": {},
   "source": [
    "### Модно трайвиф ресурсес с автозакрытием"
   ]
  },
  {
   "cell_type": "code",
   "execution_count": 44,
   "id": "cc15e9df",
   "metadata": {},
   "outputs": [],
   "source": [
    "with open('sample.txt') as myFileObject:\n",
    "    sample_data = myFileObject.read()"
   ]
  },
  {
   "cell_type": "code",
   "execution_count": 45,
   "id": "0d54ad23",
   "metadata": {},
   "outputs": [
    {
     "name": "stdout",
     "output_type": "stream",
     "text": [
      "Name|Phone\n",
      "John;4123\n",
      "Bob;3124\n",
      "Alice;9831\n",
      "\n"
     ]
    }
   ],
   "source": [
    "print(sample_data)"
   ]
  },
  {
   "cell_type": "markdown",
   "id": "e7c6457c",
   "metadata": {},
   "source": [
    "## File modes\n",
    "mode='r' -только чтение\n",
    "\n",
    "mode='w' -только запись (перезапись), если файла нет он создаться автоматом\n",
    "\n",
    "mode='a' -только дописать в конец файла, файл должен существовать и не бужет создан автоматом\n",
    "\n",
    "mode='r+' -чтение и запись, файл должен существовать и не бужет создан автоматом\n",
    "\n",
    "mode='w+' -чтение и ПЕРЕзапись, если файла нет он создаться автоматом"
   ]
  },
  {
   "cell_type": "code",
   "execution_count": 47,
   "id": "fd787d3b",
   "metadata": {},
   "outputs": [
    {
     "ename": "UnsupportedOperation",
     "evalue": "not readable",
     "output_type": "error",
     "traceback": [
      "\u001b[1;31m---------------------------------------------------------------------------\u001b[0m",
      "\u001b[1;31mUnsupportedOperation\u001b[0m                      Traceback (most recent call last)",
      "\u001b[1;32mC:\\Users\\KOBUDU~1\\AppData\\Local\\Temp/ipykernel_41996/1397501330.py\u001b[0m in \u001b[0;36m<module>\u001b[1;34m\u001b[0m\n\u001b[0;32m      1\u001b[0m \u001b[1;32mwith\u001b[0m \u001b[0mopen\u001b[0m\u001b[1;33m(\u001b[0m\u001b[1;34m'sample.txt'\u001b[0m\u001b[1;33m,\u001b[0m \u001b[0mmode\u001b[0m\u001b[1;33m=\u001b[0m\u001b[1;34m'w'\u001b[0m\u001b[1;33m)\u001b[0m \u001b[1;32mas\u001b[0m \u001b[0msample_file\u001b[0m\u001b[1;33m:\u001b[0m\u001b[1;33m\u001b[0m\u001b[1;33m\u001b[0m\u001b[0m\n\u001b[1;32m----> 2\u001b[1;33m     \u001b[0mdata\u001b[0m \u001b[1;33m=\u001b[0m \u001b[0msample_file\u001b[0m\u001b[1;33m.\u001b[0m\u001b[0mread\u001b[0m\u001b[1;33m(\u001b[0m\u001b[1;33m)\u001b[0m\u001b[1;33m\u001b[0m\u001b[1;33m\u001b[0m\u001b[0m\n\u001b[0m",
      "\u001b[1;31mUnsupportedOperation\u001b[0m: not readable"
     ]
    }
   ],
   "source": [
    "with open('sample.txt', mode='w') as sample_file:\n",
    "    data = sample_file.read()"
   ]
  },
  {
   "cell_type": "code",
   "execution_count": 48,
   "id": "5abc576c",
   "metadata": {},
   "outputs": [],
   "source": [
    "with open('sample.txt', mode='a') as sample_file:\n",
    "    data = sample_file.write('eric;1231')"
   ]
  },
  {
   "cell_type": "code",
   "execution_count": 53,
   "id": "211f4577",
   "metadata": {},
   "outputs": [
    {
     "name": "stdout",
     "output_type": "stream",
     "text": [
      "eric;1231\n"
     ]
    }
   ],
   "source": [
    "with open('sample.txt', mode='r') as sample_file:\n",
    "    print(sample_file.read())"
   ]
  },
  {
   "cell_type": "code",
   "execution_count": 54,
   "id": "bf8c1357",
   "metadata": {},
   "outputs": [],
   "source": [
    " #sample_file.seek(0,2) выставляем курсор откуда дописывать (по умолчанию допишет вначало)\n",
    "    #2 означает с конца файла с 0 байта начать писать\n",
    "    #1 писать с начала файйла с 0го байта"
   ]
  },
  {
   "cell_type": "code",
   "execution_count": 55,
   "id": "7c65ac69",
   "metadata": {},
   "outputs": [
    {
     "name": "stdout",
     "output_type": "stream",
     "text": [
      "eric;1231\n",
      "Tomb;123123\n"
     ]
    }
   ],
   "source": [
    "with open('sample.txt', mode='r+') as sample_file:\n",
    "    sample_file.seek(0,2) #выставляем курсор откуда дописывать (по умолчанию допишет вначало)\n",
    "    sample_file.write('\\nTomb;123123')\n",
    "    sample_file.seek(0)\n",
    "    print(sample_file.read())"
   ]
  },
  {
   "cell_type": "code",
   "execution_count": 1,
   "id": "7880b2e4",
   "metadata": {},
   "outputs": [
    {
     "name": "stdout",
     "output_type": "stream",
     "text": [
      "eric;1231\n"
     ]
    }
   ],
   "source": [
    "with open('abracadabra.txt', mode='w+') as sample_file:\n",
    "    data = sample_file.write('eric;1231')\n",
    "    sample_file.seek(0)\n",
    "    print(sample_file.read())"
   ]
  },
  {
   "cell_type": "code",
   "execution_count": null,
   "id": "be80643a",
   "metadata": {},
   "outputs": [],
   "source": []
  }
 ],
 "metadata": {
  "kernelspec": {
   "display_name": "Python 3 (ipykernel)",
   "language": "python",
   "name": "python3"
  },
  "language_info": {
   "codemirror_mode": {
    "name": "ipython",
    "version": 3
   },
   "file_extension": ".py",
   "mimetype": "text/x-python",
   "name": "python",
   "nbconvert_exporter": "python",
   "pygments_lexer": "ipython3",
   "version": "3.9.7"
  }
 },
 "nbformat": 4,
 "nbformat_minor": 5
}
