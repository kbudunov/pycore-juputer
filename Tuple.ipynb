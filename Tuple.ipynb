{
 "cells": [
  {
   "cell_type": "code",
   "execution_count": 1,
   "id": "5527447c",
   "metadata": {},
   "outputs": [],
   "source": [
    "strings = ('str1', 'str2', 'str3')"
   ]
  },
  {
   "cell_type": "code",
   "execution_count": 3,
   "id": "3a896f4b",
   "metadata": {},
   "outputs": [],
   "source": [
    "#strings[0] = 'str12' нельзя! IMMUTABLE"
   ]
  },
  {
   "cell_type": "code",
   "execution_count": 8,
   "id": "5bfb6981",
   "metadata": {},
   "outputs": [
    {
     "data": {
      "text/plain": [
       "'str1'"
      ]
     },
     "execution_count": 8,
     "metadata": {},
     "output_type": "execute_result"
    }
   ],
   "source": [
    "strings[0]"
   ]
  },
  {
   "cell_type": "code",
   "execution_count": 9,
   "id": "627173a1",
   "metadata": {},
   "outputs": [
    {
     "data": {
      "text/plain": [
       "'str3'"
      ]
     },
     "execution_count": 9,
     "metadata": {},
     "output_type": "execute_result"
    }
   ],
   "source": [
    "strings[-1]"
   ]
  },
  {
   "cell_type": "code",
   "execution_count": 6,
   "id": "43648537",
   "metadata": {},
   "outputs": [],
   "source": [
    "person = ('John', 'Roah', 34) #данные как правило связаны меж собой семантически в отличаетот листа обычного"
   ]
  },
  {
   "cell_type": "code",
   "execution_count": 7,
   "id": "41acdc62",
   "metadata": {},
   "outputs": [
    {
     "data": {
      "text/plain": [
       "3"
      ]
     },
     "execution_count": 7,
     "metadata": {},
     "output_type": "execute_result"
    }
   ],
   "source": [
    "len(person)"
   ]
  },
  {
   "cell_type": "code",
   "execution_count": 10,
   "id": "18d1d837",
   "metadata": {},
   "outputs": [
    {
     "data": {
      "text/plain": [
       "1"
      ]
     },
     "execution_count": 10,
     "metadata": {},
     "output_type": "execute_result"
    }
   ],
   "source": [
    "person.count('John')"
   ]
  },
  {
   "cell_type": "code",
   "execution_count": 11,
   "id": "5f55501a",
   "metadata": {},
   "outputs": [
    {
     "data": {
      "text/plain": [
       "0"
      ]
     },
     "execution_count": 11,
     "metadata": {},
     "output_type": "execute_result"
    }
   ],
   "source": [
    "person.index('John')"
   ]
  },
  {
   "cell_type": "code",
   "execution_count": null,
   "id": "dd9e3d65",
   "metadata": {},
   "outputs": [],
   "source": []
  }
 ],
 "metadata": {
  "kernelspec": {
   "display_name": "Python 3 (ipykernel)",
   "language": "python",
   "name": "python3"
  },
  "language_info": {
   "codemirror_mode": {
    "name": "ipython",
    "version": 3
   },
   "file_extension": ".py",
   "mimetype": "text/x-python",
   "name": "python",
   "nbconvert_exporter": "python",
   "pygments_lexer": "ipython3",
   "version": "3.9.7"
  }
 },
 "nbformat": 4,
 "nbformat_minor": 5
}
