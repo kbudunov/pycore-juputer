{
 "cells": [
  {
   "cell_type": "markdown",
   "id": "62a0a026",
   "metadata": {},
   "source": [
    "# FirstShoot 9"
   ]
  },
  {
   "cell_type": "code",
   "execution_count": 6,
   "id": "9e89cefc",
   "metadata": {},
   "outputs": [],
   "source": [
    "def whos_first(first, second):\n",
    "    if first.index('Bang!') < second.index('Bang!'):\n",
    "        print('first won!') \n",
    "    elif first.index('Bang!') > second.index('Bang!'):\n",
    "        print('second won!')\n",
    "    else: \n",
    "        print('no winners!')\n",
    "    "
   ]
  },
  {
   "cell_type": "code",
   "execution_count": 8,
   "id": "500bea5e",
   "metadata": {},
   "outputs": [
    {
     "name": "stdout",
     "output_type": "stream",
     "text": [
      "first won!\n"
     ]
    }
   ],
   "source": [
    "whos_first('Bang!', '    Bang!')"
   ]
  },
  {
   "cell_type": "markdown",
   "id": "84fc0264",
   "metadata": {},
   "source": [
    "# Sudoku 12"
   ]
  },
  {
   "cell_type": "code",
   "execution_count": 14,
   "id": "4d18d208",
   "metadata": {},
   "outputs": [],
   "source": [
    "numbers = [[1, 2, 3], [4, 5, 6], [7], [7], [8, 9]]"
   ]
  },
  {
   "cell_type": "code",
   "execution_count": 10,
   "id": "1ae82e60",
   "metadata": {},
   "outputs": [],
   "source": [
    "flatNums = [nums for i in numbers for nums in i]"
   ]
  },
  {
   "cell_type": "code",
   "execution_count": 11,
   "id": "83c8f1c5",
   "metadata": {},
   "outputs": [
    {
     "data": {
      "text/plain": [
       "[1, 2, 3, 4, 5, 6, 7, 8, 9]"
      ]
     },
     "execution_count": 11,
     "metadata": {},
     "output_type": "execute_result"
    }
   ],
   "source": [
    "flatNums"
   ]
  },
  {
   "cell_type": "code",
   "execution_count": 12,
   "id": "97b96da0",
   "metadata": {},
   "outputs": [],
   "source": [
    "def sudoku(numbers):\n",
    "    flatNums = [nums for i in numbers for nums in i]\n",
    "    \n",
    "    if len(flatNums) > len(set(flatNums)):\n",
    "        return True\n",
    "    else:\n",
    "        return False"
   ]
  },
  {
   "cell_type": "code",
   "execution_count": 15,
   "id": "dcfd1291",
   "metadata": {},
   "outputs": [
    {
     "data": {
      "text/plain": [
       "True"
      ]
     },
     "execution_count": 15,
     "metadata": {},
     "output_type": "execute_result"
    }
   ],
   "source": [
    "sudoku(numbers)"
   ]
  },
  {
   "cell_type": "code",
   "execution_count": null,
   "id": "80427e41",
   "metadata": {},
   "outputs": [],
   "source": []
  }
 ],
 "metadata": {
  "kernelspec": {
   "display_name": "Python 3 (ipykernel)",
   "language": "python",
   "name": "python3"
  },
  "language_info": {
   "codemirror_mode": {
    "name": "ipython",
    "version": 3
   },
   "file_extension": ".py",
   "mimetype": "text/x-python",
   "name": "python",
   "nbconvert_exporter": "python",
   "pygments_lexer": "ipython3",
   "version": "3.9.7"
  }
 },
 "nbformat": 4,
 "nbformat_minor": 5
}
