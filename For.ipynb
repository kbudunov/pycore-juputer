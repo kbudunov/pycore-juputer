{
 "cells": [
  {
   "cell_type": "code",
   "execution_count": 1,
   "id": "78684bfb",
   "metadata": {},
   "outputs": [
    {
     "data": {
      "text/plain": [
       "[1, 2, 3, 4, 5, 6]"
      ]
     },
     "execution_count": 1,
     "metadata": {},
     "output_type": "execute_result"
    }
   ],
   "source": [
    "numbers = [1,2,3,4,5,6]\n",
    "numbers"
   ]
  },
  {
   "cell_type": "code",
   "execution_count": 2,
   "id": "f5d96474",
   "metadata": {},
   "outputs": [
    {
     "name": "stdout",
     "output_type": "stream",
     "text": [
      "1\n",
      "2\n",
      "3\n",
      "4\n",
      "5\n",
      "6\n"
     ]
    }
   ],
   "source": [
    "for x in numbers:\n",
    "    print(x)"
   ]
  },
  {
   "cell_type": "code",
   "execution_count": 3,
   "id": "7c7b0306",
   "metadata": {},
   "outputs": [
    {
     "name": "stdout",
     "output_type": "stream",
     "text": [
      "1\n",
      "4\n",
      "9\n",
      "16\n",
      "25\n",
      "36\n"
     ]
    }
   ],
   "source": [
    "for x in numbers:\n",
    "    print(x*x)"
   ]
  },
  {
   "cell_type": "code",
   "execution_count": 6,
   "id": "6bc451e3",
   "metadata": {},
   "outputs": [],
   "source": [
    "r = range(1, 6)"
   ]
  },
  {
   "cell_type": "code",
   "execution_count": 7,
   "id": "a1cead7f",
   "metadata": {},
   "outputs": [
    {
     "name": "stdout",
     "output_type": "stream",
     "text": [
      "1\n",
      "2\n",
      "3\n",
      "4\n",
      "5\n"
     ]
    }
   ],
   "source": [
    "for i in r:\n",
    "    print(i)"
   ]
  },
  {
   "cell_type": "code",
   "execution_count": 10,
   "id": "a4aad789",
   "metadata": {},
   "outputs": [
    {
     "name": "stdout",
     "output_type": "stream",
     "text": [
      "no\n",
      "yes\n",
      "no\n",
      "yes\n",
      "no\n"
     ]
    }
   ],
   "source": [
    "for i in r:\n",
    "    if i % 2 == 0:\n",
    "        print('yes')\n",
    "    else:\n",
    "        print('no')"
   ]
  },
  {
   "cell_type": "code",
   "execution_count": 11,
   "id": "913a68fe",
   "metadata": {},
   "outputs": [
    {
     "data": {
      "text/plain": [
       "[2, 4, 6, 8, 10, 12]"
      ]
     },
     "execution_count": 11,
     "metadata": {},
     "output_type": "execute_result"
    }
   ],
   "source": [
    "numbers = [1,2,3,4,5,6] #enumerate преврашает лист в лист тюплов и синдексами\n",
    "for i, item in enumerate(numbers):\n",
    "    numbers[i] *= 2\n",
    "numbers"
   ]
  },
  {
   "cell_type": "code",
   "execution_count": 12,
   "id": "c3b35578",
   "metadata": {},
   "outputs": [
    {
     "name": "stdout",
     "output_type": "stream",
     "text": [
      "J\n",
      "o\n",
      "h\n",
      "n\n"
     ]
    }
   ],
   "source": [
    "name = 'John'\n",
    "for l in name:\n",
    "    print(l)"
   ]
  },
  {
   "cell_type": "code",
   "execution_count": 13,
   "id": "0e427170",
   "metadata": {},
   "outputs": [
    {
     "name": "stdout",
     "output_type": "stream",
     "text": [
      "Hi!\n",
      "Hi!\n",
      "Hi!\n",
      "Hi!\n",
      "Hi!\n"
     ]
    }
   ],
   "source": [
    "for _ in range(5):\n",
    "    print('Hi!')"
   ]
  },
  {
   "cell_type": "code",
   "execution_count": 14,
   "id": "3817d356",
   "metadata": {},
   "outputs": [
    {
     "name": "stdout",
     "output_type": "stream",
     "text": [
      "John\n",
      "Silver\n",
      "23\n"
     ]
    }
   ],
   "source": [
    "person = ('John', 'Silver', 23)\n",
    "for item in person:\n",
    "    print(item)"
   ]
  },
  {
   "cell_type": "markdown",
   "id": "137c932d",
   "metadata": {},
   "source": [
    "## Tuple unpacking"
   ]
  },
  {
   "cell_type": "code",
   "execution_count": 15,
   "id": "9c5d99c0",
   "metadata": {},
   "outputs": [
    {
     "data": {
      "text/plain": [
       "2"
      ]
     },
     "execution_count": 15,
     "metadata": {},
     "output_type": "execute_result"
    }
   ],
   "source": [
    "persons = [('John', 'Silver', 23), ('Yan', 'Gold', 34)]\n",
    "len(persons)"
   ]
  },
  {
   "cell_type": "code",
   "execution_count": 18,
   "id": "fe8e8a73",
   "metadata": {},
   "outputs": [
    {
     "name": "stdout",
     "output_type": "stream",
     "text": [
      "John is 23 years old.\n",
      "Yan is 34 years old.\n"
     ]
    }
   ],
   "source": [
    "for (first_name, last_name, age) in persons:\n",
    "    print(f'{first_name} is {age} years old.')"
   ]
  },
  {
   "cell_type": "code",
   "execution_count": 19,
   "id": "5a4bf50b",
   "metadata": {},
   "outputs": [],
   "source": [
    "players = dict(Carlsen=2233, Caruana=2311, Mamedyarov=5611)"
   ]
  },
  {
   "cell_type": "code",
   "execution_count": 20,
   "id": "d533dae3",
   "metadata": {},
   "outputs": [
    {
     "name": "stdout",
     "output_type": "stream",
     "text": [
      "Carlsen\n",
      "Caruana\n",
      "Mamedyarov\n"
     ]
    }
   ],
   "source": [
    "for item in players:\n",
    "    print(item)"
   ]
  },
  {
   "cell_type": "code",
   "execution_count": 21,
   "id": "b27b4d04",
   "metadata": {},
   "outputs": [
    {
     "name": "stdout",
     "output_type": "stream",
     "text": [
      "('Carlsen', 2233)\n",
      "('Caruana', 2311)\n",
      "('Mamedyarov', 5611)\n"
     ]
    }
   ],
   "source": [
    "for item in players.items():\n",
    "    print(item) #вернет тюплы"
   ]
  },
  {
   "cell_type": "code",
   "execution_count": 23,
   "id": "b67c510d",
   "metadata": {},
   "outputs": [
    {
     "name": "stdout",
     "output_type": "stream",
     "text": [
      "Name Carlsen\n",
      "Name Caruana\n",
      "Name Mamedyarov\n"
     ]
    }
   ],
   "source": [
    "for k, v in players.items(): #Tuple unpacking\n",
    "    print(f'Name {k}')"
   ]
  },
  {
   "cell_type": "code",
   "execution_count": 24,
   "id": "c931ce1c",
   "metadata": {},
   "outputs": [
    {
     "name": "stdout",
     "output_type": "stream",
     "text": [
      "2233\n",
      "2311\n",
      "5611\n"
     ]
    }
   ],
   "source": [
    "for v in players.values():\n",
    "    print(v)"
   ]
  },
  {
   "cell_type": "code",
   "execution_count": 26,
   "id": "9f5d356c",
   "metadata": {},
   "outputs": [
    {
     "data": {
      "text/plain": [
       "[(2, -2), (-5, 5), (6, -6), (-2, 2)]"
      ]
     },
     "execution_count": 26,
     "metadata": {},
     "output_type": "execute_result"
    }
   ],
   "source": [
    "#find all pairs sum of witch equals 0\n",
    "list1 = [2,4,-5,6,8,-2]\n",
    "list2 = [2,-6,8,3,5,-2]\n",
    "\n",
    "pairs = []\n",
    "\n",
    "for x in list1:\n",
    "    for y in list2:\n",
    "        cur_sum = x + y\n",
    "        if cur_sum == 0:\n",
    "            pairs.append((x, y))\n",
    "            \n",
    "pairs"
   ]
  }
 ],
 "metadata": {
  "kernelspec": {
   "display_name": "Python 3 (ipykernel)",
   "language": "python",
   "name": "python3"
  },
  "language_info": {
   "codemirror_mode": {
    "name": "ipython",
    "version": 3
   },
   "file_extension": ".py",
   "mimetype": "text/x-python",
   "name": "python",
   "nbconvert_exporter": "python",
   "pygments_lexer": "ipython3",
   "version": "3.9.7"
  }
 },
 "nbformat": 4,
 "nbformat_minor": 5
}
