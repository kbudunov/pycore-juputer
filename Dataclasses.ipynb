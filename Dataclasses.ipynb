{
 "cells": [
  {
   "cell_type": "markdown",
   "id": "e0a6ddb5",
   "metadata": {},
   "source": [
    "# По старому (бойлерплейт)  "
   ]
  },
  {
   "cell_type": "code",
   "execution_count": null,
   "id": "6679c9ed",
   "metadata": {},
   "outputs": [],
   "source": [
    "class Question:\n",
    "    \n",
    "    def __init__(self, text, is_true, explanation):\n",
    "        self.text = text\n",
    "        self.is_true = is_true\n",
    "        self.explanation = explanation\n",
    "     "
   ]
  },
  {
   "cell_type": "markdown",
   "id": "278e177c",
   "metadata": {},
   "source": [
    "# По новому (ДТО)"
   ]
  },
  {
   "cell_type": "code",
   "execution_count": 1,
   "id": "13b8991e",
   "metadata": {},
   "outputs": [],
   "source": [
    "from dataclasses import dataclass\n",
    "\n",
    "@dataclass\n",
    "class Question:\n",
    "    text: str  #типы ОБЯЗАТЕЛЬНО!\n",
    "    is_true: bool \n",
    "    explanation: str"
   ]
  },
  {
   "cell_type": "code",
   "execution_count": 3,
   "id": "c485c8cb",
   "metadata": {},
   "outputs": [
    {
     "data": {
      "text/plain": [
       "'test'"
      ]
     },
     "execution_count": 3,
     "metadata": {},
     "output_type": "execute_result"
    }
   ],
   "source": [
    "q = Question('test', True, 'because') #все параметры ОБЯЗАТЕЛЬНО!\n",
    "q.text"
   ]
  },
  {
   "cell_type": "code",
   "execution_count": 4,
   "id": "1485bc23",
   "metadata": {},
   "outputs": [
    {
     "ename": "TypeError",
     "evalue": "__init__() missing 1 required positional argument: 'explanation'",
     "output_type": "error",
     "traceback": [
      "\u001b[1;31m---------------------------------------------------------------------------\u001b[0m",
      "\u001b[1;31mTypeError\u001b[0m                                 Traceback (most recent call last)",
      "\u001b[1;32mC:\\Users\\KOBUDU~1\\AppData\\Local\\Temp/ipykernel_11280/1583596673.py\u001b[0m in \u001b[0;36m<module>\u001b[1;34m\u001b[0m\n\u001b[1;32m----> 1\u001b[1;33m \u001b[0mq\u001b[0m \u001b[1;33m=\u001b[0m \u001b[0mQuestion\u001b[0m\u001b[1;33m(\u001b[0m\u001b[1;34m'test'\u001b[0m\u001b[1;33m,\u001b[0m \u001b[1;32mTrue\u001b[0m\u001b[1;33m)\u001b[0m\u001b[1;33m\u001b[0m\u001b[1;33m\u001b[0m\u001b[0m\n\u001b[0m",
      "\u001b[1;31mTypeError\u001b[0m: __init__() missing 1 required positional argument: 'explanation'"
     ]
    }
   ],
   "source": [
    "q = Question('test', True)"
   ]
  },
  {
   "cell_type": "markdown",
   "id": "aef24869",
   "metadata": {},
   "source": [
    "# Параметры по умолчанию"
   ]
  },
  {
   "cell_type": "code",
   "execution_count": 5,
   "id": "37714660",
   "metadata": {},
   "outputs": [],
   "source": [
    "@dataclass\n",
    "class Question:\n",
    "    text: str = '' #можно значения по УМОЛЧАНИЮ\n",
    "    is_true: bool = False\n",
    "    explanation: str = ''"
   ]
  },
  {
   "cell_type": "code",
   "execution_count": 6,
   "id": "913a2a20",
   "metadata": {},
   "outputs": [],
   "source": [
    "q = Question('test', True)"
   ]
  },
  {
   "cell_type": "markdown",
   "id": "e785b54e",
   "metadata": {},
   "source": [
    "# Немутируемые"
   ]
  },
  {
   "cell_type": "code",
   "execution_count": 8,
   "id": "36594ef1",
   "metadata": {},
   "outputs": [],
   "source": [
    "@dataclass(frozen=True) #Много других настроек\n",
    "class Question:\n",
    "    text: str \n",
    "    is_true: bool\n",
    "    explanation: str"
   ]
  },
  {
   "cell_type": "code",
   "execution_count": 10,
   "id": "0d615575",
   "metadata": {},
   "outputs": [
    {
     "data": {
      "text/plain": [
       "'test'"
      ]
     },
     "execution_count": 10,
     "metadata": {},
     "output_type": "execute_result"
    }
   ],
   "source": [
    "q = Question('test', True, 'because') #все параметры ОБЯЗАТЕЛЬНО!\n",
    "#q.text = \"haha\"\n",
    "q.text"
   ]
  },
  {
   "cell_type": "code",
   "execution_count": 11,
   "id": "53511f7c",
   "metadata": {},
   "outputs": [
    {
     "ename": "SyntaxError",
     "evalue": "invalid syntax (Temp/ipykernel_11280/1117258201.py, line 1)",
     "output_type": "error",
     "traceback": [
      "\u001b[1;36m  File \u001b[1;32m\"C:\\Users\\KOBUDU~1\\AppData\\Local\\Temp/ipykernel_11280/1117258201.py\"\u001b[1;36m, line \u001b[1;32m1\u001b[0m\n\u001b[1;33m    Похожи на неймдТюплы но датаклассы более кастомизируемы + поддерживают наследование и могут быть мутабельными\u001b[0m\n\u001b[1;37m           ^\u001b[0m\n\u001b[1;31mSyntaxError\u001b[0m\u001b[1;31m:\u001b[0m invalid syntax\n"
     ]
    }
   ],
   "source": [
    "# Похожи на неймдТюплы но датаклассы более кастомизируемы + поддерживают наследование и могут быть мутабельными\n",
    "# https://habr.com/ru/post/415829/"
   ]
  },
  {
   "cell_type": "code",
   "execution_count": null,
   "id": "52887e70",
   "metadata": {},
   "outputs": [],
   "source": []
  }
 ],
 "metadata": {
  "kernelspec": {
   "display_name": "Python 3 (ipykernel)",
   "language": "python",
   "name": "python3"
  },
  "language_info": {
   "codemirror_mode": {
    "name": "ipython",
    "version": 3
   },
   "file_extension": ".py",
   "mimetype": "text/x-python",
   "name": "python",
   "nbconvert_exporter": "python",
   "pygments_lexer": "ipython3",
   "version": "3.9.7"
  }
 },
 "nbformat": 4,
 "nbformat_minor": 5
}
