{
 "cells": [
  {
   "cell_type": "markdown",
   "id": "536e90c2",
   "metadata": {},
   "source": [
    "# 8 типов данных"
   ]
  },
  {
   "cell_type": "markdown",
   "id": "75c27daf",
   "metadata": {},
   "source": [
    "    int #не имеет размера, можно хоть БигИнт в него засунуть (поэтому нет Лонг типа в Пи 3) \n",
    "    float #по умолчанию, нет дабла по причине выше\n",
    "    str #нет отдельного типа чар а все строками\n",
    "    list #[1, 2.2, \"hello\"]\n",
    "    dict #{\"john\": 28, \"bob\": 21}\n",
    "    tuple #(1, 2.2, \"hello\") immutable\n",
    "    set #{\"john\", \"bob\"}\n",
    "    bool # True False"
   ]
  },
  {
   "cell_type": "markdown",
   "id": "450bcd30",
   "metadata": {},
   "source": [
    "# Числа и математика"
   ]
  },
  {
   "cell_type": "code",
   "execution_count": 1,
   "id": "d48cbe72",
   "metadata": {},
   "outputs": [
    {
     "data": {
      "text/plain": [
       "1"
      ]
     },
     "execution_count": 1,
     "metadata": {},
     "output_type": "execute_result"
    }
   ],
   "source": [
    "0+1"
   ]
  },
  {
   "cell_type": "code",
   "execution_count": 2,
   "id": "955b91dc",
   "metadata": {},
   "outputs": [
    {
     "data": {
      "text/plain": [
       "-2"
      ]
     },
     "execution_count": 2,
     "metadata": {},
     "output_type": "execute_result"
    }
   ],
   "source": [
    "3-5"
   ]
  },
  {
   "cell_type": "code",
   "execution_count": 4,
   "id": "618dda0e",
   "metadata": {},
   "outputs": [
    {
     "data": {
      "text/plain": [
       "3.0"
      ]
     },
     "execution_count": 4,
     "metadata": {},
     "output_type": "execute_result"
    }
   ],
   "source": [
    "6/2"
   ]
  },
  {
   "cell_type": "code",
   "execution_count": 5,
   "id": "fcc1b67e",
   "metadata": {},
   "outputs": [
    {
     "data": {
      "text/plain": [
       "3.5"
      ]
     },
     "execution_count": 5,
     "metadata": {},
     "output_type": "execute_result"
    }
   ],
   "source": [
    "2.5 + 1"
   ]
  },
  {
   "cell_type": "code",
   "execution_count": 6,
   "id": "0d9cccb9",
   "metadata": {},
   "outputs": [
    {
     "data": {
      "text/plain": [
       "3.5999999999999996"
      ]
     },
     "execution_count": 6,
     "metadata": {},
     "output_type": "execute_result"
    }
   ],
   "source": [
    "3*1.2"
   ]
  },
  {
   "cell_type": "code",
   "execution_count": 7,
   "id": "b78a5a47",
   "metadata": {},
   "outputs": [
    {
     "data": {
      "text/plain": [
       "4"
      ]
     },
     "execution_count": 7,
     "metadata": {},
     "output_type": "execute_result"
    }
   ],
   "source": [
    "round(3*1.2)"
   ]
  },
  {
   "cell_type": "code",
   "execution_count": 8,
   "id": "388b7c98",
   "metadata": {},
   "outputs": [
    {
     "data": {
      "text/plain": [
       "1"
      ]
     },
     "execution_count": 8,
     "metadata": {},
     "output_type": "execute_result"
    }
   ],
   "source": [
    "3%2"
   ]
  },
  {
   "cell_type": "code",
   "execution_count": 9,
   "id": "20cd8677",
   "metadata": {},
   "outputs": [
    {
     "data": {
      "text/plain": [
       "False"
      ]
     },
     "execution_count": 9,
     "metadata": {},
     "output_type": "execute_result"
    }
   ],
   "source": [
    "3%2==0"
   ]
  },
  {
   "cell_type": "code",
   "execution_count": 10,
   "id": "57c48489",
   "metadata": {},
   "outputs": [
    {
     "data": {
      "text/plain": [
       "16"
      ]
     },
     "execution_count": 10,
     "metadata": {},
     "output_type": "execute_result"
    }
   ],
   "source": [
    "2**4"
   ]
  },
  {
   "cell_type": "markdown",
   "id": "cfc913d6",
   "metadata": {},
   "source": [
    "# Переменные"
   ]
  },
  {
   "cell_type": "code",
   "execution_count": 11,
   "id": "d1cd8602",
   "metadata": {},
   "outputs": [],
   "source": [
    "x=3"
   ]
  },
  {
   "cell_type": "code",
   "execution_count": 12,
   "id": "b302bc1f",
   "metadata": {},
   "outputs": [
    {
     "name": "stdout",
     "output_type": "stream",
     "text": [
      "3\n"
     ]
    }
   ],
   "source": [
    "print(x)"
   ]
  },
  {
   "cell_type": "code",
   "execution_count": 13,
   "id": "84d20b60",
   "metadata": {},
   "outputs": [],
   "source": [
    "x=5"
   ]
  },
  {
   "cell_type": "code",
   "execution_count": 14,
   "id": "c88d2458",
   "metadata": {},
   "outputs": [],
   "source": [
    "y=2"
   ]
  },
  {
   "cell_type": "code",
   "execution_count": 15,
   "id": "813c9d45",
   "metadata": {},
   "outputs": [
    {
     "data": {
      "text/plain": [
       "7"
      ]
     },
     "execution_count": 15,
     "metadata": {},
     "output_type": "execute_result"
    }
   ],
   "source": [
    "x+y"
   ]
  },
  {
   "cell_type": "code",
   "execution_count": 16,
   "id": "d92b485e",
   "metadata": {},
   "outputs": [
    {
     "name": "stdout",
     "output_type": "stream",
     "text": [
      "5\n"
     ]
    }
   ],
   "source": [
    "print(x)"
   ]
  },
  {
   "cell_type": "code",
   "execution_count": 17,
   "id": "66f8d328",
   "metadata": {},
   "outputs": [
    {
     "name": "stdout",
     "output_type": "stream",
     "text": [
      "10\n"
     ]
    }
   ],
   "source": [
    "x=x+x\n",
    "print(x)"
   ]
  },
  {
   "cell_type": "code",
   "execution_count": 18,
   "id": "0a2c9cdf",
   "metadata": {},
   "outputs": [
    {
     "data": {
      "text/plain": [
       "int"
      ]
     },
     "execution_count": 18,
     "metadata": {},
     "output_type": "execute_result"
    }
   ],
   "source": [
    "type(x)"
   ]
  },
  {
   "cell_type": "code",
   "execution_count": 20,
   "id": "89bd300d",
   "metadata": {},
   "outputs": [
    {
     "data": {
      "text/plain": [
       "16.24807680927192"
      ]
     },
     "execution_count": 20,
     "metadata": {},
     "output_type": "execute_result"
    }
   ],
   "source": [
    "a=10\n",
    "b=5\n",
    "c=7\n",
    "p=(a + b + c)/2\n",
    "\n",
    "import math\n",
    "area= math.sqrt(p*(p-a)*(p-b)*(p-c))\n",
    "area"
   ]
  },
  {
   "cell_type": "markdown",
   "id": "8b996f9b",
   "metadata": {},
   "source": [
    "# Bool and None"
   ]
  },
  {
   "cell_type": "code",
   "execution_count": 21,
   "id": "01ae37e5",
   "metadata": {},
   "outputs": [],
   "source": [
    "a = True"
   ]
  },
  {
   "cell_type": "code",
   "execution_count": 22,
   "id": "7dd65c02",
   "metadata": {},
   "outputs": [
    {
     "data": {
      "text/plain": [
       "True"
      ]
     },
     "execution_count": 22,
     "metadata": {},
     "output_type": "execute_result"
    }
   ],
   "source": [
    "a"
   ]
  },
  {
   "cell_type": "code",
   "execution_count": 23,
   "id": "c0dcadd1",
   "metadata": {},
   "outputs": [],
   "source": [
    "b = False"
   ]
  },
  {
   "cell_type": "code",
   "execution_count": 24,
   "id": "cfe21278",
   "metadata": {},
   "outputs": [
    {
     "data": {
      "text/plain": [
       "bool"
      ]
     },
     "execution_count": 24,
     "metadata": {},
     "output_type": "execute_result"
    }
   ],
   "source": [
    "type(a)"
   ]
  },
  {
   "cell_type": "code",
   "execution_count": 25,
   "id": "eb4d3190",
   "metadata": {},
   "outputs": [
    {
     "data": {
      "text/plain": [
       "False"
      ]
     },
     "execution_count": 25,
     "metadata": {},
     "output_type": "execute_result"
    }
   ],
   "source": [
    "a==b"
   ]
  },
  {
   "cell_type": "code",
   "execution_count": 28,
   "id": "7ba823cc",
   "metadata": {},
   "outputs": [],
   "source": [
    "are_equal=2==2"
   ]
  },
  {
   "cell_type": "code",
   "execution_count": 29,
   "id": "0adc2cbe",
   "metadata": {},
   "outputs": [
    {
     "data": {
      "text/plain": [
       "bool"
      ]
     },
     "execution_count": 29,
     "metadata": {},
     "output_type": "execute_result"
    }
   ],
   "source": [
    "type(are_equal)"
   ]
  },
  {
   "cell_type": "code",
   "execution_count": 30,
   "id": "86ba7b4e",
   "metadata": {},
   "outputs": [],
   "source": [
    "a = None"
   ]
  },
  {
   "cell_type": "code",
   "execution_count": 31,
   "id": "62347aa5",
   "metadata": {},
   "outputs": [],
   "source": [
    "a"
   ]
  },
  {
   "cell_type": "code",
   "execution_count": 35,
   "id": "15e0f8fa",
   "metadata": {},
   "outputs": [
    {
     "data": {
      "text/plain": [
       "True"
      ]
     },
     "execution_count": 35,
     "metadata": {},
     "output_type": "execute_result"
    }
   ],
   "source": [
    "z = a is None\n",
    "z"
   ]
  },
  {
   "cell_type": "markdown",
   "id": "7eb67b18",
   "metadata": {},
   "source": [
    "# String"
   ]
  },
  {
   "cell_type": "code",
   "execution_count": 36,
   "id": "11701557",
   "metadata": {},
   "outputs": [
    {
     "data": {
      "text/plain": [
       "'Elias'"
      ]
     },
     "execution_count": 36,
     "metadata": {},
     "output_type": "execute_result"
    }
   ],
   "source": [
    "'Elias'"
   ]
  },
  {
   "cell_type": "code",
   "execution_count": 37,
   "id": "9baf3a33",
   "metadata": {},
   "outputs": [
    {
     "data": {
      "text/plain": [
       "'Elias'"
      ]
     },
     "execution_count": 37,
     "metadata": {},
     "output_type": "execute_result"
    }
   ],
   "source": [
    "\"Elias\""
   ]
  },
  {
   "cell_type": "code",
   "execution_count": 38,
   "id": "2e8dad0c",
   "metadata": {},
   "outputs": [
    {
     "data": {
      "text/plain": [
       "\"I 'am' Elias\""
      ]
     },
     "execution_count": 38,
     "metadata": {},
     "output_type": "execute_result"
    }
   ],
   "source": [
    "\"I 'am' Elias\""
   ]
  },
  {
   "cell_type": "code",
   "execution_count": 40,
   "id": "ed52fb57",
   "metadata": {},
   "outputs": [
    {
     "name": "stdout",
     "output_type": "stream",
     "text": [
      "I 'am' Elias \"Strong\"\n"
     ]
    }
   ],
   "source": [
    "print(\"I 'am' Elias \\\"Strong\\\"\")"
   ]
  },
  {
   "cell_type": "code",
   "execution_count": 42,
   "id": "3f1519bc",
   "metadata": {},
   "outputs": [
    {
     "name": "stdout",
     "output_type": "stream",
     "text": [
      "C:\\Users\\Engine\n"
     ]
    }
   ],
   "source": [
    "print('C:\\\\Users\\\\Engine')"
   ]
  },
  {
   "cell_type": "code",
   "execution_count": 43,
   "id": "9cbeb557",
   "metadata": {},
   "outputs": [
    {
     "data": {
      "text/plain": [
       "'C:\\\\Users\\\\Engine'"
      ]
     },
     "execution_count": 43,
     "metadata": {},
     "output_type": "execute_result"
    }
   ],
   "source": [
    "r'C:\\Users\\Engine'"
   ]
  },
  {
   "cell_type": "code",
   "execution_count": 44,
   "id": "4f49b6f1",
   "metadata": {},
   "outputs": [
    {
     "name": "stdout",
     "output_type": "stream",
     "text": [
      "I 'am' Elias \n",
      " Strong\n"
     ]
    }
   ],
   "source": [
    "print(\"I 'am' Elias \\n Strong\")"
   ]
  },
  {
   "cell_type": "code",
   "execution_count": 45,
   "id": "d322f558",
   "metadata": {},
   "outputs": [],
   "source": [
    "greet = str(\"Hello\")  "
   ]
  },
  {
   "cell_type": "code",
   "execution_count": 46,
   "id": "397b1736",
   "metadata": {},
   "outputs": [
    {
     "data": {
      "text/plain": [
       "'H'"
      ]
     },
     "execution_count": 46,
     "metadata": {},
     "output_type": "execute_result"
    }
   ],
   "source": [
    "greet[0]"
   ]
  },
  {
   "cell_type": "code",
   "execution_count": 47,
   "id": "a0257f15",
   "metadata": {},
   "outputs": [
    {
     "data": {
      "text/plain": [
       "'o'"
      ]
     },
     "execution_count": 47,
     "metadata": {},
     "output_type": "execute_result"
    }
   ],
   "source": [
    "greet[-1]"
   ]
  },
  {
   "cell_type": "code",
   "execution_count": 53,
   "id": "8f447d58",
   "metadata": {},
   "outputs": [],
   "source": [
    "#greet[0]=\"h\" СТРОКИ НЕ МУТИРУЕМЫЕ"
   ]
  },
  {
   "cell_type": "markdown",
   "id": "0b2982fe",
   "metadata": {},
   "source": [
    "# Срезы"
   ]
  },
  {
   "cell_type": "code",
   "execution_count": 49,
   "id": "634e8b42",
   "metadata": {},
   "outputs": [
    {
     "data": {
      "text/plain": [
       "'llo'"
      ]
     },
     "execution_count": 49,
     "metadata": {},
     "output_type": "execute_result"
    }
   ],
   "source": [
    "greet[2:] #Это срез"
   ]
  },
  {
   "cell_type": "code",
   "execution_count": 50,
   "id": "f6961b5a",
   "metadata": {},
   "outputs": [
    {
     "data": {
      "text/plain": [
       "'l'"
      ]
     },
     "execution_count": 50,
     "metadata": {},
     "output_type": "execute_result"
    }
   ],
   "source": [
    "greet[2:3] #Это срез"
   ]
  },
  {
   "cell_type": "code",
   "execution_count": 51,
   "id": "5078657f",
   "metadata": {},
   "outputs": [
    {
     "data": {
      "text/plain": [
       "'Hello'"
      ]
     },
     "execution_count": 51,
     "metadata": {},
     "output_type": "execute_result"
    }
   ],
   "source": [
    "greet[::1]"
   ]
  },
  {
   "cell_type": "code",
   "execution_count": 52,
   "id": "b414174b",
   "metadata": {},
   "outputs": [
    {
     "data": {
      "text/plain": [
       "'Hlo'"
      ]
     },
     "execution_count": 52,
     "metadata": {},
     "output_type": "execute_result"
    }
   ],
   "source": [
    "greet[::2] #Удалит каждый второй символ"
   ]
  },
  {
   "cell_type": "code",
   "execution_count": 54,
   "id": "87465a2d",
   "metadata": {},
   "outputs": [
    {
     "data": {
      "text/plain": [
       "'ell'"
      ]
     },
     "execution_count": 54,
     "metadata": {},
     "output_type": "execute_result"
    }
   ],
   "source": [
    "greet[1:4:1]"
   ]
  },
  {
   "cell_type": "markdown",
   "id": "e3f5e5c3",
   "metadata": {},
   "source": [
    "# Канкатенация"
   ]
  },
  {
   "cell_type": "code",
   "execution_count": 56,
   "id": "0eb50384",
   "metadata": {},
   "outputs": [
    {
     "data": {
      "text/plain": [
       "'HelloWorld'"
      ]
     },
     "execution_count": 56,
     "metadata": {},
     "output_type": "execute_result"
    }
   ],
   "source": [
    "\"Hello\" + \"World\""
   ]
  },
  {
   "cell_type": "code",
   "execution_count": 57,
   "id": "2c2c30cd",
   "metadata": {},
   "outputs": [
    {
     "data": {
      "text/plain": [
       "'aaaaaaa'"
      ]
     },
     "execution_count": 57,
     "metadata": {},
     "output_type": "execute_result"
    }
   ],
   "source": [
    "'a'*7"
   ]
  },
  {
   "cell_type": "code",
   "execution_count": 59,
   "id": "6b302211",
   "metadata": {},
   "outputs": [],
   "source": [
    "#2 + \"3\" так НЕ работает 2 несовместимых типа соеденить нельзя"
   ]
  },
  {
   "cell_type": "markdown",
   "id": "a81bff01",
   "metadata": {},
   "source": [
    "# Функции String"
   ]
  },
  {
   "cell_type": "code",
   "execution_count": 60,
   "id": "fff527c3",
   "metadata": {},
   "outputs": [],
   "source": [
    "u=\"Hello there!!!\""
   ]
  },
  {
   "cell_type": "code",
   "execution_count": 61,
   "id": "67e39100",
   "metadata": {},
   "outputs": [
    {
     "data": {
      "text/plain": [
       "14"
      ]
     },
     "execution_count": 61,
     "metadata": {},
     "output_type": "execute_result"
    }
   ],
   "source": [
    "len(u)"
   ]
  },
  {
   "cell_type": "code",
   "execution_count": 62,
   "id": "4aebe640",
   "metadata": {},
   "outputs": [
    {
     "data": {
      "text/plain": [
       "2"
      ]
     },
     "execution_count": 62,
     "metadata": {},
     "output_type": "execute_result"
    }
   ],
   "source": [
    "u.count('l')"
   ]
  },
  {
   "cell_type": "code",
   "execution_count": 64,
   "id": "b7970bb0",
   "metadata": {},
   "outputs": [
    {
     "data": {
      "text/plain": [
       "'Hello there!!!'"
      ]
     },
     "execution_count": 64,
     "metadata": {},
     "output_type": "execute_result"
    }
   ],
   "source": [
    "u.capitalize()"
   ]
  },
  {
   "cell_type": "code",
   "execution_count": 65,
   "id": "2bdf13a7",
   "metadata": {},
   "outputs": [
    {
     "data": {
      "text/plain": [
       "'HELLO THERE!!!'"
      ]
     },
     "execution_count": 65,
     "metadata": {},
     "output_type": "execute_result"
    }
   ],
   "source": [
    "u.upper()"
   ]
  },
  {
   "cell_type": "code",
   "execution_count": 66,
   "id": "6e839483",
   "metadata": {},
   "outputs": [
    {
     "data": {
      "text/plain": [
       "False"
      ]
     },
     "execution_count": 66,
     "metadata": {},
     "output_type": "execute_result"
    }
   ],
   "source": [
    "u.isupper()"
   ]
  },
  {
   "cell_type": "code",
   "execution_count": 67,
   "id": "e5608cef",
   "metadata": {},
   "outputs": [
    {
     "data": {
      "text/plain": [
       "2"
      ]
     },
     "execution_count": 67,
     "metadata": {},
     "output_type": "execute_result"
    }
   ],
   "source": [
    "u.find(\"l\")"
   ]
  },
  {
   "cell_type": "code",
   "execution_count": 73,
   "id": "e30f8443",
   "metadata": {},
   "outputs": [
    {
     "data": {
      "text/plain": [
       "True"
      ]
     },
     "execution_count": 73,
     "metadata": {},
     "output_type": "execute_result"
    }
   ],
   "source": [
    "'123abc'.isalnum()"
   ]
  },
  {
   "cell_type": "code",
   "execution_count": 74,
   "id": "8a840c60",
   "metadata": {},
   "outputs": [
    {
     "data": {
      "text/plain": [
       "False"
      ]
     },
     "execution_count": 74,
     "metadata": {},
     "output_type": "execute_result"
    }
   ],
   "source": [
    "'123abc!'.isalnum()"
   ]
  },
  {
   "cell_type": "code",
   "execution_count": 75,
   "id": "a07072cf",
   "metadata": {},
   "outputs": [
    {
     "data": {
      "text/plain": [
       "False"
      ]
     },
     "execution_count": 75,
     "metadata": {},
     "output_type": "execute_result"
    }
   ],
   "source": [
    "'123abc'.isalpha()"
   ]
  },
  {
   "cell_type": "code",
   "execution_count": 76,
   "id": "370cbda3",
   "metadata": {},
   "outputs": [
    {
     "data": {
      "text/plain": [
       "True"
      ]
     },
     "execution_count": 76,
     "metadata": {},
     "output_type": "execute_result"
    }
   ],
   "source": [
    "'abc'.isalpha()"
   ]
  },
  {
   "cell_type": "code",
   "execution_count": 77,
   "id": "993f43e8",
   "metadata": {},
   "outputs": [
    {
     "data": {
      "text/plain": [
       "True"
      ]
     },
     "execution_count": 77,
     "metadata": {},
     "output_type": "execute_result"
    }
   ],
   "source": [
    "'   '.isspace()"
   ]
  },
  {
   "cell_type": "code",
   "execution_count": 78,
   "id": "8df6777b",
   "metadata": {},
   "outputs": [
    {
     "data": {
      "text/plain": [
       "False"
      ]
     },
     "execution_count": 78,
     "metadata": {},
     "output_type": "execute_result"
    }
   ],
   "source": [
    "''.isspace()"
   ]
  },
  {
   "cell_type": "code",
   "execution_count": 79,
   "id": "73fe0ca8",
   "metadata": {},
   "outputs": [
    {
     "data": {
      "text/plain": [
       "True"
      ]
     },
     "execution_count": 79,
     "metadata": {},
     "output_type": "execute_result"
    }
   ],
   "source": [
    "\"  \".strip(\" \") == \"\""
   ]
  },
  {
   "cell_type": "code",
   "execution_count": 85,
   "id": "9eb49442",
   "metadata": {},
   "outputs": [
    {
     "name": "stdout",
     "output_type": "stream",
     "text": [
      "not empty\n"
     ]
    }
   ],
   "source": [
    "if not \" \":\n",
    "    print('empty')\n",
    "else:\n",
    "    print('not empty')"
   ]
  },
  {
   "cell_type": "code",
   "execution_count": 86,
   "id": "3756a1b1",
   "metadata": {},
   "outputs": [
    {
     "data": {
      "text/plain": [
       "True"
      ]
     },
     "execution_count": 86,
     "metadata": {},
     "output_type": "execute_result"
    }
   ],
   "source": [
    "'hello'.startswith('h')"
   ]
  },
  {
   "cell_type": "code",
   "execution_count": 87,
   "id": "da63a629",
   "metadata": {},
   "outputs": [
    {
     "data": {
      "text/plain": [
       "['he', '', 'o']"
      ]
     },
     "execution_count": 87,
     "metadata": {},
     "output_type": "execute_result"
    }
   ],
   "source": [
    "'hello'.split('l')"
   ]
  },
  {
   "cell_type": "code",
   "execution_count": 88,
   "id": "59313206",
   "metadata": {},
   "outputs": [
    {
     "data": {
      "text/plain": [
       "['12', '10', '29', '00']"
      ]
     },
     "execution_count": 88,
     "metadata": {},
     "output_type": "execute_result"
    }
   ],
   "source": [
    "data = '12;10;29;00'\n",
    "data.split(';')"
   ]
  },
  {
   "cell_type": "code",
   "execution_count": 89,
   "id": "61d15d82",
   "metadata": {},
   "outputs": [],
   "source": [
    "p = \"p is fun\""
   ]
  },
  {
   "cell_type": "code",
   "execution_count": 90,
   "id": "b506088f",
   "metadata": {},
   "outputs": [
    {
     "data": {
      "text/plain": [
       "('p ', 'is ', 'fun')"
      ]
     },
     "execution_count": 90,
     "metadata": {},
     "output_type": "execute_result"
    }
   ],
   "source": [
    "p.partition('is ')"
   ]
  },
  {
   "cell_type": "code",
   "execution_count": 91,
   "id": "1cc7d7eb",
   "metadata": {},
   "outputs": [
    {
     "data": {
      "text/plain": [
       "('p is fun', '', '')"
      ]
     },
     "execution_count": 91,
     "metadata": {},
     "output_type": "execute_result"
    }
   ],
   "source": [
    "p.partition('not ')"
   ]
  },
  {
   "cell_type": "markdown",
   "id": "8c0a2c59",
   "metadata": {},
   "source": [
    "# Форматирование строк"
   ]
  },
  {
   "cell_type": "code",
   "execution_count": 1,
   "id": "3c000630",
   "metadata": {},
   "outputs": [
    {
     "name": "stdout",
     "output_type": "stream",
     "text": [
      "My name is Elias and im 30\n"
     ]
    }
   ],
   "source": [
    "myName = \"Elias\"\n",
    "print(\"My name is {} and im {}\".format(myName, 30))"
   ]
  },
  {
   "cell_type": "code",
   "execution_count": 2,
   "id": "f7d54fd9",
   "metadata": {},
   "outputs": [],
   "source": [
    "pi=3.1476897856734"
   ]
  },
  {
   "cell_type": "code",
   "execution_count": 4,
   "id": "e487771a",
   "metadata": {},
   "outputs": [
    {
     "name": "stdout",
     "output_type": "stream",
     "text": [
      "Pi 3.15\n"
     ]
    }
   ],
   "source": [
    "print(\"Pi {r:1.2f}\".format(r=pi))"
   ]
  },
  {
   "cell_type": "code",
   "execution_count": 6,
   "id": "1ad80992",
   "metadata": {},
   "outputs": [],
   "source": [
    "name=\"Kostja\"\n",
    "age=30"
   ]
  },
  {
   "cell_type": "code",
   "execution_count": 7,
   "id": "cd41a1ec",
   "metadata": {},
   "outputs": [
    {
     "name": "stdout",
     "output_type": "stream",
     "text": [
      "My name is Kostja and I'm 30\n"
     ]
    }
   ],
   "source": [
    "print(f\"My name is {name} and I'm {age}\") #как в СКАЛЕ"
   ]
  },
  {
   "cell_type": "markdown",
   "id": "f751df1d",
   "metadata": {},
   "source": [
    "# Операторы сравнения"
   ]
  },
  {
   "cell_type": "code",
   "execution_count": 8,
   "id": "10178051",
   "metadata": {},
   "outputs": [
    {
     "data": {
      "text/plain": [
       "True"
      ]
     },
     "execution_count": 8,
     "metadata": {},
     "output_type": "execute_result"
    }
   ],
   "source": [
    "2 > 1"
   ]
  },
  {
   "cell_type": "code",
   "execution_count": 9,
   "id": "8809bab0",
   "metadata": {},
   "outputs": [],
   "source": [
    "result = 2 > 1"
   ]
  },
  {
   "cell_type": "code",
   "execution_count": 10,
   "id": "66c43cd3",
   "metadata": {},
   "outputs": [
    {
     "data": {
      "text/plain": [
       "bool"
      ]
     },
     "execution_count": 10,
     "metadata": {},
     "output_type": "execute_result"
    }
   ],
   "source": [
    "type(result)"
   ]
  },
  {
   "cell_type": "code",
   "execution_count": 11,
   "id": "e5ab12a4",
   "metadata": {},
   "outputs": [
    {
     "data": {
      "text/plain": [
       "False"
      ]
     },
     "execution_count": 11,
     "metadata": {},
     "output_type": "execute_result"
    }
   ],
   "source": [
    "1 > 2 and 3 > 3"
   ]
  },
  {
   "cell_type": "code",
   "execution_count": 13,
   "id": "39290c8b",
   "metadata": {},
   "outputs": [
    {
     "data": {
      "text/plain": [
       "True"
      ]
     },
     "execution_count": 13,
     "metadata": {},
     "output_type": "execute_result"
    }
   ],
   "source": [
    "1 != 2 or 3 == 3"
   ]
  },
  {
   "cell_type": "code",
   "execution_count": 16,
   "id": "f2d16202",
   "metadata": {},
   "outputs": [
    {
     "name": "stdout",
     "output_type": "stream",
     "text": [
      "admin\n"
     ]
    }
   ],
   "source": [
    "if not result:\n",
    "    print('not an admin')\n",
    "else:\n",
    "    print('admin')"
   ]
  },
  {
   "cell_type": "code",
   "execution_count": null,
   "id": "0129dfbc",
   "metadata": {},
   "outputs": [],
   "source": []
  }
 ],
 "metadata": {
  "kernelspec": {
   "display_name": "Python 3 (ipykernel)",
   "language": "python",
   "name": "python3"
  },
  "language_info": {
   "codemirror_mode": {
    "name": "ipython",
    "version": 3
   },
   "file_extension": ".py",
   "mimetype": "text/x-python",
   "name": "python",
   "nbconvert_exporter": "python",
   "pygments_lexer": "ipython3",
   "version": "3.9.7"
  }
 },
 "nbformat": 4,
 "nbformat_minor": 5
}
