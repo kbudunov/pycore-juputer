{
 "cells": [
  {
   "cell_type": "markdown",
   "id": "e9f00230",
   "metadata": {},
   "source": [
    "# Простые математические функции"
   ]
  },
  {
   "cell_type": "code",
   "execution_count": 2,
   "id": "37ac9dae",
   "metadata": {},
   "outputs": [
    {
     "data": {
      "text/plain": [
       "10"
      ]
     },
     "execution_count": 2,
     "metadata": {},
     "output_type": "execute_result"
    }
   ],
   "source": [
    "abs(-10)"
   ]
  },
  {
   "cell_type": "code",
   "execution_count": 3,
   "id": "5a9b53db",
   "metadata": {},
   "outputs": [
    {
     "data": {
      "text/plain": [
       "5"
      ]
     },
     "execution_count": 3,
     "metadata": {},
     "output_type": "execute_result"
    }
   ],
   "source": [
    "max(1,2,3,4,5)"
   ]
  },
  {
   "cell_type": "code",
   "execution_count": 4,
   "id": "e266fcc3",
   "metadata": {},
   "outputs": [
    {
     "data": {
      "text/plain": [
       "1"
      ]
     },
     "execution_count": 4,
     "metadata": {},
     "output_type": "execute_result"
    }
   ],
   "source": [
    "min([1,432,1,4,3])"
   ]
  },
  {
   "cell_type": "code",
   "execution_count": 5,
   "id": "47af35cc",
   "metadata": {},
   "outputs": [
    {
     "data": {
      "text/plain": [
       "16"
      ]
     },
     "execution_count": 5,
     "metadata": {},
     "output_type": "execute_result"
    }
   ],
   "source": [
    "pow(2,4)"
   ]
  },
  {
   "cell_type": "code",
   "execution_count": 6,
   "id": "942cd7de",
   "metadata": {},
   "outputs": [
    {
     "data": {
      "text/plain": [
       "3.4"
      ]
     },
     "execution_count": 6,
     "metadata": {},
     "output_type": "execute_result"
    }
   ],
   "source": [
    "round(3.3777, 1)"
   ]
  },
  {
   "cell_type": "code",
   "execution_count": 9,
   "id": "758751b5",
   "metadata": {},
   "outputs": [],
   "source": [
    "#sum(1,2,3)"
   ]
  },
  {
   "cell_type": "code",
   "execution_count": 8,
   "id": "4af55e43",
   "metadata": {},
   "outputs": [
    {
     "data": {
      "text/plain": [
       "3348"
      ]
     },
     "execution_count": 8,
     "metadata": {},
     "output_type": "execute_result"
    }
   ],
   "source": [
    "sum([12,3213,123])"
   ]
  },
  {
   "cell_type": "code",
   "execution_count": 11,
   "id": "7340d7c9",
   "metadata": {},
   "outputs": [
    {
     "data": {
      "text/plain": [
       "'0xc'"
      ]
     },
     "execution_count": 11,
     "metadata": {},
     "output_type": "execute_result"
    }
   ],
   "source": [
    "hex(12) #16тиричная"
   ]
  },
  {
   "cell_type": "code",
   "execution_count": 12,
   "id": "a6524256",
   "metadata": {},
   "outputs": [
    {
     "data": {
      "text/plain": [
       "'0o14'"
      ]
     },
     "execution_count": 12,
     "metadata": {},
     "output_type": "execute_result"
    }
   ],
   "source": [
    "oct(12) #8миричная"
   ]
  },
  {
   "cell_type": "code",
   "execution_count": 14,
   "id": "b60a133d",
   "metadata": {},
   "outputs": [
    {
     "data": {
      "text/plain": [
       "'0b1100'"
      ]
     },
     "execution_count": 14,
     "metadata": {},
     "output_type": "execute_result"
    }
   ],
   "source": [
    "bin(12) #12ричная"
   ]
  },
  {
   "cell_type": "markdown",
   "id": "95900da9",
   "metadata": {},
   "source": [
    "# Функции для работы с итерируемыми объектами"
   ]
  },
  {
   "cell_type": "markdown",
   "id": "6848e45f",
   "metadata": {},
   "source": [
    "### all"
   ]
  },
  {
   "cell_type": "code",
   "execution_count": 15,
   "id": "6cf45358",
   "metadata": {},
   "outputs": [
    {
     "name": "stdout",
     "output_type": "stream",
     "text": [
      "True\n",
      "False\n"
     ]
    }
   ],
   "source": [
    "all_true = all([True, True, True]) # all вернет ТРУ если все элементы ТРУ\n",
    "some_true = all([True, False, True])\n",
    "print(all_true)\n",
    "print(some_true)"
   ]
  },
  {
   "cell_type": "markdown",
   "id": "577f092c",
   "metadata": {},
   "source": [
    "### all short sercuting"
   ]
  },
  {
   "cell_type": "code",
   "execution_count": 18,
   "id": "0b54defa",
   "metadata": {},
   "outputs": [],
   "source": [
    "players = [('Carlson', 2841), ('Ding', 2822), ('Giri', 2798)]"
   ]
  },
  {
   "cell_type": "code",
   "execution_count": 20,
   "id": "c88b4ed8",
   "metadata": {},
   "outputs": [
    {
     "data": {
      "text/plain": [
       "True"
      ]
     },
     "execution_count": 20,
     "metadata": {},
     "output_type": "execute_result"
    }
   ],
   "source": [
    "all(rating > 2700 for _, rating in players) #быстро short sercuting --словит первый фолс и выкинет фолс"
   ]
  },
  {
   "cell_type": "code",
   "execution_count": 21,
   "id": "d739b584",
   "metadata": {},
   "outputs": [
    {
     "data": {
      "text/plain": [
       "False"
      ]
     },
     "execution_count": 21,
     "metadata": {},
     "output_type": "execute_result"
    }
   ],
   "source": [
    "all(rating > 2800 for _, rating in players) #быстро short sercuting --словит первый фолс и выкинет фолс"
   ]
  },
  {
   "cell_type": "code",
   "execution_count": null,
   "id": "3e141d35",
   "metadata": {},
   "outputs": [],
   "source": [
    "all([rating > 2800 for _, rating in players]) #ДОЛГО --полностью отработает потом только найдет фолс в итоговом списке"
   ]
  },
  {
   "cell_type": "markdown",
   "id": "e823eeb7",
   "metadata": {},
   "source": [
    "### any"
   ]
  },
  {
   "cell_type": "code",
   "execution_count": 22,
   "id": "2e26a89b",
   "metadata": {},
   "outputs": [
    {
     "name": "stdout",
     "output_type": "stream",
     "text": [
      "False\n",
      "True\n"
     ]
    }
   ],
   "source": [
    "any_false = any([False, False, False]) # all вернет ТРУ если все элементы ТРУ\n",
    "any_true = any([False, False, True])\n",
    "print(any_false)\n",
    "print(any_true)"
   ]
  },
  {
   "cell_type": "code",
   "execution_count": 23,
   "id": "823d4627",
   "metadata": {},
   "outputs": [],
   "source": [
    "players = [('Carlson', 2841), ('Ding', 2822), ('Giri', 2798)]"
   ]
  },
  {
   "cell_type": "code",
   "execution_count": 25,
   "id": "9199dff5",
   "metadata": {},
   "outputs": [
    {
     "data": {
      "text/plain": [
       "True"
      ]
     },
     "execution_count": 25,
     "metadata": {},
     "output_type": "execute_result"
    }
   ],
   "source": [
    "any(rating > 2800 for _, rating in players) #быстро short sercuting"
   ]
  },
  {
   "cell_type": "code",
   "execution_count": 26,
   "id": "459b39f1",
   "metadata": {},
   "outputs": [
    {
     "data": {
      "text/plain": [
       "True"
      ]
     },
     "execution_count": 26,
     "metadata": {},
     "output_type": "execute_result"
    }
   ],
   "source": [
    "any([rating > 2800 for _, rating in players]) #ДОЛГО"
   ]
  },
  {
   "cell_type": "markdown",
   "id": "4d07ccd0",
   "metadata": {},
   "source": [
    "### zip"
   ]
  },
  {
   "cell_type": "code",
   "execution_count": 35,
   "id": "ae359e3f",
   "metadata": {},
   "outputs": [],
   "source": [
    "letters = 'abcd' #непарные элементы будут проигнорированны\n",
    "numbers=[10,20,30]\n",
    "\n",
    "zipped = zip(letters, numbers) #lazy avaluation (в zipped нет результата пока мы его не попросили)"
   ]
  },
  {
   "cell_type": "code",
   "execution_count": 36,
   "id": "949744a4",
   "metadata": {},
   "outputs": [
    {
     "name": "stdout",
     "output_type": "stream",
     "text": [
      "<class 'zip'>\n",
      "<zip object at 0x0000023A3DAC1100>\n"
     ]
    },
    {
     "data": {
      "text/plain": [
       "[('a', 10), ('b', 20), ('c', 30)]"
      ]
     },
     "execution_count": 36,
     "metadata": {},
     "output_type": "execute_result"
    }
   ],
   "source": [
    "print(type(zipped))\n",
    "print(zipped) # не склеил еще\n",
    "zipped_list = list(zipped) # тут он их склеил, если list(zipped) или циклом по zipped пройдемся тогда вычислит его\n",
    "zipped_list"
   ]
  },
  {
   "cell_type": "code",
   "execution_count": 38,
   "id": "072be651",
   "metadata": {},
   "outputs": [
    {
     "data": {
      "text/plain": [
       "{'Carlson': 223, 'Giri': 333, 'Gogy': 441}"
      ]
     },
     "execution_count": 38,
     "metadata": {},
     "output_type": "execute_result"
    }
   ],
   "source": [
    "names = ['Carlson', 'Giri', 'Gogy']\n",
    "numbers = [223, 333, 441]\n",
    "\n",
    "players = dict(zip(names, numbers))\n",
    "players"
   ]
  },
  {
   "cell_type": "markdown",
   "id": "25f99268",
   "metadata": {},
   "source": [
    "### unicode"
   ]
  },
  {
   "cell_type": "code",
   "execution_count": 40,
   "id": "d206b587",
   "metadata": {},
   "outputs": [
    {
     "data": {
      "text/plain": [
       "100"
      ]
     },
     "execution_count": 40,
     "metadata": {},
     "output_type": "execute_result"
    }
   ],
   "source": [
    "code = ord('d')\n",
    "code"
   ]
  },
  {
   "cell_type": "code",
   "execution_count": 42,
   "id": "4d77f2db",
   "metadata": {},
   "outputs": [
    {
     "data": {
      "text/plain": [
       "'d'"
      ]
     },
     "execution_count": 42,
     "metadata": {},
     "output_type": "execute_result"
    }
   ],
   "source": [
    "c = chr(100)\n",
    "c"
   ]
  },
  {
   "cell_type": "markdown",
   "id": "c0698c2a",
   "metadata": {},
   "source": [
    "# Пользовательские функции"
   ]
  },
  {
   "cell_type": "code",
   "execution_count": 2,
   "id": "11a914b0",
   "metadata": {},
   "outputs": [],
   "source": [
    "def greeting():  \n",
    "    ''' \n",
    "    DOCSTRING: for help description\n",
    "    INPUT: no input\n",
    "    OUTPUT: Hi!\n",
    "    ''' \n",
    "    print('Hi!')"
   ]
  },
  {
   "cell_type": "code",
   "execution_count": 3,
   "id": "2373af39",
   "metadata": {},
   "outputs": [
    {
     "name": "stdout",
     "output_type": "stream",
     "text": [
      "Hi!\n"
     ]
    }
   ],
   "source": [
    "greeting()"
   ]
  },
  {
   "cell_type": "code",
   "execution_count": 4,
   "id": "8764c8ce",
   "metadata": {},
   "outputs": [
    {
     "data": {
      "text/plain": [
       "<function __main__.greeting()>"
      ]
     },
     "execution_count": 4,
     "metadata": {},
     "output_type": "execute_result"
    }
   ],
   "source": [
    "greeting"
   ]
  },
  {
   "cell_type": "code",
   "execution_count": 5,
   "id": "dd772276",
   "metadata": {},
   "outputs": [
    {
     "name": "stdout",
     "output_type": "stream",
     "text": [
      "Help on function greeting in module __main__:\n",
      "\n",
      "greeting()\n",
      "    DOCSTRING: for help description\n",
      "    INPUT: no input\n",
      "    OUTPUT: Hi!\n",
      "\n"
     ]
    }
   ],
   "source": [
    "help(greeting) #просто так неработает надо прописать доку для функции по шаблону"
   ]
  },
  {
   "cell_type": "code",
   "execution_count": 6,
   "id": "19dcb045",
   "metadata": {},
   "outputs": [],
   "source": [
    "def print_name(name):\n",
    "    print(name)"
   ]
  },
  {
   "cell_type": "code",
   "execution_count": 7,
   "id": "5f0cd40b",
   "metadata": {},
   "outputs": [
    {
     "name": "stdout",
     "output_type": "stream",
     "text": [
      "Kostja\n"
     ]
    }
   ],
   "source": [
    "print_name('Kostja')"
   ]
  },
  {
   "cell_type": "code",
   "execution_count": 8,
   "id": "1d45b648",
   "metadata": {},
   "outputs": [
    {
     "ename": "TypeError",
     "evalue": "print_name() missing 1 required positional argument: 'name'",
     "output_type": "error",
     "traceback": [
      "\u001b[1;31m---------------------------------------------------------------------------\u001b[0m",
      "\u001b[1;31mTypeError\u001b[0m                                 Traceback (most recent call last)",
      "\u001b[1;32mC:\\Users\\KOBUDU~1\\AppData\\Local\\Temp/ipykernel_8212/2716279221.py\u001b[0m in \u001b[0;36m<module>\u001b[1;34m\u001b[0m\n\u001b[1;32m----> 1\u001b[1;33m \u001b[0mprint_name\u001b[0m\u001b[1;33m(\u001b[0m\u001b[1;33m)\u001b[0m\u001b[1;33m\u001b[0m\u001b[1;33m\u001b[0m\u001b[0m\n\u001b[0m",
      "\u001b[1;31mTypeError\u001b[0m: print_name() missing 1 required positional argument: 'name'"
     ]
    }
   ],
   "source": [
    "print_name()"
   ]
  },
  {
   "cell_type": "code",
   "execution_count": 9,
   "id": "4d5e7c0e",
   "metadata": {},
   "outputs": [],
   "source": [
    "def print_name(name='Ivan'):\n",
    "    print(name)"
   ]
  },
  {
   "cell_type": "code",
   "execution_count": 10,
   "id": "ff14c78a",
   "metadata": {},
   "outputs": [
    {
     "name": "stdout",
     "output_type": "stream",
     "text": [
      "Ivan\n"
     ]
    }
   ],
   "source": [
    "print_name()"
   ]
  },
  {
   "cell_type": "code",
   "execution_count": 11,
   "id": "f8b9e108",
   "metadata": {},
   "outputs": [
    {
     "name": "stdout",
     "output_type": "stream",
     "text": [
      "Ivan\n",
      "None\n",
      "<class 'NoneType'>\n"
     ]
    }
   ],
   "source": [
    "result = print_name() \n",
    "print(result) # вернет None\n",
    "print(type(result))"
   ]
  },
  {
   "cell_type": "markdown",
   "id": "507769f1",
   "metadata": {},
   "source": [
    "### Дефолтные параметры"
   ]
  },
  {
   "cell_type": "code",
   "execution_count": 13,
   "id": "0ed7f210",
   "metadata": {},
   "outputs": [
    {
     "name": "stdout",
     "output_type": "stream",
     "text": [
      "Hello Kostja\n",
      "<class 'str'>\n"
     ]
    }
   ],
   "source": [
    "def name_greeting(name): \n",
    "    return 'Hello ' + name\n",
    "\n",
    "result = name_greeting('Kostja')\n",
    "print(result)\n",
    "print(type(result))"
   ]
  },
  {
   "cell_type": "markdown",
   "id": "dbc0e459",
   "metadata": {},
   "source": [
    "### Палиндром кратко"
   ]
  },
  {
   "cell_type": "code",
   "execution_count": 14,
   "id": "06d3d0b4",
   "metadata": {},
   "outputs": [],
   "source": [
    "def is_palindrome(text):\n",
    "    return text == text[::-1]"
   ]
  },
  {
   "cell_type": "code",
   "execution_count": 15,
   "id": "40de3eee",
   "metadata": {},
   "outputs": [
    {
     "data": {
      "text/plain": [
       "True"
      ]
     },
     "execution_count": 15,
     "metadata": {},
     "output_type": "execute_result"
    }
   ],
   "source": [
    "is_palindrome('aabaa')"
   ]
  },
  {
   "cell_type": "code",
   "execution_count": 16,
   "id": "0bbab2fa",
   "metadata": {},
   "outputs": [
    {
     "data": {
      "text/plain": [
       "False"
      ]
     },
     "execution_count": 16,
     "metadata": {},
     "output_type": "execute_result"
    }
   ],
   "source": [
    "is_palindrome('aabca')"
   ]
  },
  {
   "cell_type": "code",
   "execution_count": 22,
   "id": "3fc51011",
   "metadata": {},
   "outputs": [],
   "source": [
    "def calc_texes(p1, p2, p3):\n",
    "    return sum((p1, p2, p3)) * 0.13"
   ]
  },
  {
   "cell_type": "code",
   "execution_count": 24,
   "id": "c7537d68",
   "metadata": {},
   "outputs": [
    {
     "data": {
      "text/plain": [
       "7.800000000000001"
      ]
     },
     "execution_count": 24,
     "metadata": {},
     "output_type": "execute_result"
    }
   ],
   "source": [
    "calc_texes(10,20,30)"
   ]
  },
  {
   "cell_type": "code",
   "execution_count": 27,
   "id": "06901d4d",
   "metadata": {},
   "outputs": [],
   "source": [
    "def calc_texes4(p1, p2, p3, p4):\n",
    "    return sum((p1, p2, p3, p4)) * 0.13"
   ]
  },
  {
   "cell_type": "code",
   "execution_count": 28,
   "id": "c45f8625",
   "metadata": {},
   "outputs": [
    {
     "data": {
      "text/plain": [
       "9.1"
      ]
     },
     "execution_count": 28,
     "metadata": {},
     "output_type": "execute_result"
    }
   ],
   "source": [
    "calc_texes4(10,20,30, 10)"
   ]
  },
  {
   "cell_type": "markdown",
   "id": "b5be04b7",
   "metadata": {},
   "source": [
    "### Параметры переменной длины"
   ]
  },
  {
   "cell_type": "code",
   "execution_count": 30,
   "id": "d8983f59",
   "metadata": {},
   "outputs": [],
   "source": [
    "def calc_taxes(*args):\n",
    "    return sum(args)"
   ]
  },
  {
   "cell_type": "code",
   "execution_count": 31,
   "id": "659a1437",
   "metadata": {},
   "outputs": [
    {
     "data": {
      "text/plain": [
       "30"
      ]
     },
     "execution_count": 31,
     "metadata": {},
     "output_type": "execute_result"
    }
   ],
   "source": [
    "calc_taxes(10,20)"
   ]
  },
  {
   "cell_type": "code",
   "execution_count": 33,
   "id": "49190cc5",
   "metadata": {},
   "outputs": [
    {
     "name": "stdout",
     "output_type": "stream",
     "text": [
      "Player Carlsen has rating 2021\n",
      "Player Giri has rating 999\n"
     ]
    }
   ],
   "source": [
    "def save_players(**kwargs): #для просовываяни ключей со значениемий\n",
    "    for k, v in kwargs.items():\n",
    "        print(f'Player {k} has rating {v}')\n",
    "        \n",
    "save_players(Carlsen=2021, Giri=999)"
   ]
  },
  {
   "cell_type": "code",
   "execution_count": 34,
   "id": "f6dbe9ff",
   "metadata": {},
   "outputs": [],
   "source": [
    "def func_important(a, b, c, d, *args, **kwargs):\n",
    "    return 'hi'"
   ]
  },
  {
   "cell_type": "markdown",
   "id": "e2c586ca",
   "metadata": {},
   "source": [
    "# Лямбды "
   ]
  },
  {
   "cell_type": "code",
   "execution_count": 35,
   "id": "1d5ab516",
   "metadata": {},
   "outputs": [],
   "source": [
    "def square(*args):\n",
    "    return [x*x for x in args]"
   ]
  },
  {
   "cell_type": "code",
   "execution_count": 36,
   "id": "f564d413",
   "metadata": {},
   "outputs": [],
   "source": [
    "result = square(1,2,3,4,5)\n",
    "result"
   ]
  },
  {
   "cell_type": "code",
   "execution_count": 37,
   "id": "0e74256f",
   "metadata": {},
   "outputs": [],
   "source": [
    "def triple(*args):\n",
    "    return [x*3 for x in args]"
   ]
  },
  {
   "cell_type": "code",
   "execution_count": 38,
   "id": "5e42d3d1",
   "metadata": {},
   "outputs": [
    {
     "data": {
      "text/plain": [
       "[3, 6, 9, 12, 15]"
      ]
     },
     "execution_count": 38,
     "metadata": {},
     "output_type": "execute_result"
    }
   ],
   "source": [
    "result = triple(1,2,3,4,5)\n",
    "result"
   ]
  },
  {
   "cell_type": "code",
   "execution_count": 41,
   "id": "d53a28aa",
   "metadata": {},
   "outputs": [],
   "source": [
    "def square(number):\n",
    "    return number*number\n",
    "\n",
    "numbers = [1,2,3,4,5]"
   ]
  },
  {
   "cell_type": "markdown",
   "id": "1e41fc01",
   "metadata": {},
   "source": [
    "### map"
   ]
  },
  {
   "cell_type": "code",
   "execution_count": 48,
   "id": "8b02281b",
   "metadata": {},
   "outputs": [
    {
     "name": "stdout",
     "output_type": "stream",
     "text": [
      "1\n",
      "4\n",
      "9\n",
      "16\n",
      "25\n"
     ]
    }
   ],
   "source": [
    "#ЛЕНИВОЕ\n",
    "result = map(square, numbers) #передаем ф square как аргумент поэтому () не нужны \n",
    "\n",
    "# result только тут вычислится\n",
    "for i in result: \n",
    "    print(i)"
   ]
  },
  {
   "cell_type": "code",
   "execution_count": 46,
   "id": "a65ec275",
   "metadata": {},
   "outputs": [
    {
     "data": {
      "text/plain": [
       "map"
      ]
     },
     "execution_count": 46,
     "metadata": {},
     "output_type": "execute_result"
    }
   ],
   "source": [
    "type(result)"
   ]
  },
  {
   "cell_type": "code",
   "execution_count": 50,
   "id": "b67eeaa7",
   "metadata": {},
   "outputs": [
    {
     "data": {
      "text/plain": [
       "[1, 4, 9, 16, 25]"
      ]
     },
     "execution_count": 50,
     "metadata": {},
     "output_type": "execute_result"
    }
   ],
   "source": [
    "list(map(square, numbers)) #map to list"
   ]
  },
  {
   "cell_type": "markdown",
   "id": "89ef339e",
   "metadata": {},
   "source": [
    "### filter"
   ]
  },
  {
   "cell_type": "code",
   "execution_count": 57,
   "id": "edeaef40",
   "metadata": {},
   "outputs": [],
   "source": [
    "#ЛЕНИВОЕ\n",
    "def is_adult(age):\n",
    "    return age>=18"
   ]
  },
  {
   "cell_type": "code",
   "execution_count": 54,
   "id": "837abeb8",
   "metadata": {},
   "outputs": [],
   "source": [
    "ages = [12,22]"
   ]
  },
  {
   "cell_type": "code",
   "execution_count": 55,
   "id": "78ab98f4",
   "metadata": {},
   "outputs": [
    {
     "data": {
      "text/plain": [
       "[22]"
      ]
     },
     "execution_count": 55,
     "metadata": {},
     "output_type": "execute_result"
    }
   ],
   "source": [
    "list(filter(is_adult, ages))"
   ]
  },
  {
   "cell_type": "markdown",
   "id": "0669786a",
   "metadata": {},
   "source": [
    "### лямбда выражения"
   ]
  },
  {
   "cell_type": "code",
   "execution_count": 60,
   "id": "9b2c51b5",
   "metadata": {},
   "outputs": [],
   "source": [
    "is_adult = lambda age: age>=18 #ТОЛЬКО ОДНОСТРОЧНЫЕ"
   ]
  },
  {
   "cell_type": "code",
   "execution_count": 61,
   "id": "01e69f11",
   "metadata": {},
   "outputs": [
    {
     "data": {
      "text/plain": [
       "[22]"
      ]
     },
     "execution_count": 61,
     "metadata": {},
     "output_type": "execute_result"
    }
   ],
   "source": [
    "list(filter(is_adult, ages))"
   ]
  },
  {
   "cell_type": "code",
   "execution_count": 63,
   "id": "0b5ae404",
   "metadata": {},
   "outputs": [
    {
     "data": {
      "text/plain": [
       "[22]"
      ]
     },
     "execution_count": 63,
     "metadata": {},
     "output_type": "execute_result"
    }
   ],
   "source": [
    "list(filter(lambda age: age>=18, ages))"
   ]
  },
  {
   "cell_type": "code",
   "execution_count": 67,
   "id": "b476884b",
   "metadata": {},
   "outputs": [],
   "source": [
    "multiplier = lambda x, y: x * y"
   ]
  },
  {
   "cell_type": "code",
   "execution_count": 68,
   "id": "b8a616c8",
   "metadata": {},
   "outputs": [
    {
     "data": {
      "text/plain": [
       "6"
      ]
     },
     "execution_count": 68,
     "metadata": {},
     "output_type": "execute_result"
    }
   ],
   "source": [
    "multiplier(2, 3)"
   ]
  },
  {
   "cell_type": "markdown",
   "id": "9b250282",
   "metadata": {},
   "source": [
    "# Вложенные функции"
   ]
  },
  {
   "cell_type": "code",
   "execution_count": null,
   "id": "807044d4",
   "metadata": {},
   "outputs": [],
   "source": []
  },
  {
   "cell_type": "markdown",
   "id": "08c59eef",
   "metadata": {},
   "source": [
    "## LEGB Области видимости"
   ]
  },
  {
   "cell_type": "markdown",
   "id": "69921d30",
   "metadata": {},
   "source": [
    "Скопы LEGB\n",
    "L - Local\n",
    "E - Elclosing local\n",
    "G - Global\n",
    "B - Build in встроенные( list ) не обявляй их сам"
   ]
  },
  {
   "cell_type": "code",
   "execution_count": 73,
   "id": "3a08cfca",
   "metadata": {},
   "outputs": [],
   "source": [
    "greeting = 'Hi from Global scope'\n",
    "\n",
    "def greet():\n",
    "    greeting = 'Hi from Encloaded scope'\n",
    "    \n",
    "    def nested():\n",
    "        greeting = 'Hi from Local scope'\n",
    "        print(greeting)\n",
    "    nested()"
   ]
  },
  {
   "cell_type": "code",
   "execution_count": 74,
   "id": "7307a469",
   "metadata": {},
   "outputs": [
    {
     "name": "stdout",
     "output_type": "stream",
     "text": [
      "Hi from Global scope\n",
      "Hi from Global scope\n"
     ]
    }
   ],
   "source": [
    "greet()\n",
    "print(greeting)"
   ]
  },
  {
   "cell_type": "markdown",
   "id": "1e6c75b8",
   "metadata": {},
   "source": [
    "### Глобал скоуп не перезаписывается"
   ]
  },
  {
   "cell_type": "code",
   "execution_count": 78,
   "id": "c794832e",
   "metadata": {},
   "outputs": [],
   "source": [
    "greeting = 'Hi from Global scope'\n",
    "\n",
    "def greet(greeting):\n",
    "    global greeting #явно меняем значение глобал переменной\n",
    "    print(f'Greet from {greeting}')\n",
    "          \n",
    "    greeting = 'Hi from Encloaded scope'\n",
    "       \n",
    "    print(f'Greet from {greeting}')\n",
    "    \n",
    "    def nested():\n",
    "        greeting = 'Hi from Local scope'\n",
    "        print(greeting)\n",
    "    nested()"
   ]
  },
  {
   "cell_type": "code",
   "execution_count": 80,
   "id": "2f4b182c",
   "metadata": {},
   "outputs": [
    {
     "name": "stdout",
     "output_type": "stream",
     "text": [
      "Greet from test\n",
      "Greet from Hi from Encloaded scope\n",
      "Hi from Local scope\n",
      "Hi from Global scope\n"
     ]
    }
   ],
   "source": [
    "greet('test')\n",
    "print(greeting)"
   ]
  },
  {
   "cell_type": "markdown",
   "id": "f7bdb5d5",
   "metadata": {},
   "source": [
    "# Декоратор"
   ]
  },
  {
   "cell_type": "code",
   "execution_count": 81,
   "id": "087dd5fa",
   "metadata": {},
   "outputs": [
    {
     "ename": "SyntaxError",
     "evalue": "invalid syntax (Temp/ipykernel_8212/3915177279.py, line 1)",
     "output_type": "error",
     "traceback": [
      "\u001b[1;36m  File \u001b[1;32m\"C:\\Users\\KOBUDU~1\\AppData\\Local\\Temp/ipykernel_8212/3915177279.py\"\u001b[1;36m, line \u001b[1;32m1\u001b[0m\n\u001b[1;33m    Функции в питоне == объекты\u001b[0m\n\u001b[1;37m            ^\u001b[0m\n\u001b[1;31mSyntaxError\u001b[0m\u001b[1;31m:\u001b[0m invalid syntax\n"
     ]
    }
   ],
   "source": [
    "Функции в питоне == объекты"
   ]
  },
  {
   "cell_type": "code",
   "execution_count": 83,
   "id": "bae38010",
   "metadata": {},
   "outputs": [
    {
     "name": "stdout",
     "output_type": "stream",
     "text": [
      "Helo world!\n"
     ]
    }
   ],
   "source": [
    "def hello_world():\n",
    "    print('Helo world!')\n",
    "hello_world() "
   ]
  },
  {
   "cell_type": "code",
   "execution_count": 84,
   "id": "eada4f41",
   "metadata": {},
   "outputs": [],
   "source": [
    "hello2 = hello_world #нет скобок!"
   ]
  },
  {
   "cell_type": "code",
   "execution_count": 85,
   "id": "09d5eed7",
   "metadata": {},
   "outputs": [
    {
     "name": "stdout",
     "output_type": "stream",
     "text": [
      "Helo world!\n"
     ]
    }
   ],
   "source": [
    "hello2()"
   ]
  },
  {
   "cell_type": "markdown",
   "id": "8068940e",
   "metadata": {},
   "source": [
    "# HOF"
   ]
  },
  {
   "cell_type": "code",
   "execution_count": 89,
   "id": "cede50ee",
   "metadata": {},
   "outputs": [],
   "source": [
    "def hello_world():\n",
    "    def internal():\n",
    "        print('Helo world!')\n",
    "    return internal\n",
    "\n",
    "hello3 = hello_world() "
   ]
  },
  {
   "cell_type": "code",
   "execution_count": 90,
   "id": "796cdf30",
   "metadata": {},
   "outputs": [
    {
     "name": "stdout",
     "output_type": "stream",
     "text": [
      "Helo world!\n"
     ]
    }
   ],
   "source": [
    "hello3()"
   ]
  },
  {
   "cell_type": "code",
   "execution_count": 91,
   "id": "1b2110de",
   "metadata": {},
   "outputs": [
    {
     "name": "stdout",
     "output_type": "stream",
     "text": [
      "Helo world!\n"
     ]
    }
   ],
   "source": [
    "def say_smth(func):\n",
    "    func()\n",
    "    \n",
    "def hello_world2():\n",
    "    print('Helo world!')\n",
    "    \n",
    "say_smth(hello_world2)"
   ]
  },
  {
   "cell_type": "markdown",
   "id": "a99a3d43",
   "metadata": {},
   "source": [
    "### Декоратор"
   ]
  },
  {
   "cell_type": "code",
   "execution_count": 93,
   "id": "9179aaa9",
   "metadata": {},
   "outputs": [],
   "source": [
    "def log_decorator(func):\n",
    "    def wrap():\n",
    "        print(f'Calling func {func}')\n",
    "        func()\n",
    "        print(f'Func {func} finished its work')\n",
    "    return wrap"
   ]
  },
  {
   "cell_type": "code",
   "execution_count": 94,
   "id": "3a97041e",
   "metadata": {},
   "outputs": [],
   "source": [
    "def hello():\n",
    "    print('Hello world!')"
   ]
  },
  {
   "cell_type": "code",
   "execution_count": 95,
   "id": "297e42d3",
   "metadata": {},
   "outputs": [
    {
     "name": "stdout",
     "output_type": "stream",
     "text": [
      "Calling func <function hello at 0x0000020D6AEA4C10>\n",
      "Hello world!\n",
      "Func <function hello at 0x0000020D6AEA4C10> finished its work\n"
     ]
    }
   ],
   "source": [
    "#РУКАМИ\n",
    "wrapped_by_logger = log_decorator(hello)\n",
    "wrapped_by_logger()"
   ]
  },
  {
   "cell_type": "code",
   "execution_count": 99,
   "id": "50d27994",
   "metadata": {},
   "outputs": [],
   "source": [
    "#PYSTYLE\n",
    "@log_decorator\n",
    "def hello():\n",
    "    print('hello world!')"
   ]
  },
  {
   "cell_type": "code",
   "execution_count": 97,
   "id": "ed6c811a",
   "metadata": {},
   "outputs": [
    {
     "name": "stdout",
     "output_type": "stream",
     "text": [
      "Calling func <function hello at 0x0000020D6AEA4790>\n",
      "hello world!\n",
      "Func <function hello at 0x0000020D6AEA4790> finished its work\n"
     ]
    }
   ],
   "source": [
    "hello()"
   ]
  },
  {
   "cell_type": "code",
   "execution_count": 101,
   "id": "1da23bb5",
   "metadata": {},
   "outputs": [],
   "source": [
    "from timeit import default_timer as timer\n",
    "import math\n",
    "import time"
   ]
  },
  {
   "cell_type": "code",
   "execution_count": 113,
   "id": "b015e513",
   "metadata": {},
   "outputs": [],
   "source": [
    "def measure_time(func):\n",
    "    def inner(*args, **kwargs):\n",
    "        start = timer()\n",
    "        \n",
    "        func(*args, **kwargs)\n",
    "        \n",
    "        end = timer()\n",
    "        \n",
    "        print(f'Function {func.__name__} took {end-start} for execution.')\n",
    "    return inner"
   ]
  },
  {
   "cell_type": "code",
   "execution_count": 114,
   "id": "0dae35a8",
   "metadata": {},
   "outputs": [],
   "source": [
    "@measure_time\n",
    "def factorial(num):\n",
    "    time.sleep(3)\n",
    "    print(math.factorial(num))"
   ]
  },
  {
   "cell_type": "code",
   "execution_count": 115,
   "id": "6e040dfd",
   "metadata": {},
   "outputs": [
    {
     "name": "stdout",
     "output_type": "stream",
     "text": [
      "120\n",
      "Function factorial took 2.999110599999767 for execution.\n"
     ]
    }
   ],
   "source": [
    "factorial(5)"
   ]
  },
  {
   "cell_type": "markdown",
   "id": "40728858",
   "metadata": {},
   "source": [
    "# Декоратор @wraps"
   ]
  },
  {
   "cell_type": "code",
   "execution_count": 116,
   "id": "aa083b23",
   "metadata": {},
   "outputs": [],
   "source": [
    "from functools import wraps"
   ]
  },
  {
   "cell_type": "code",
   "execution_count": 117,
   "id": "eb165b50",
   "metadata": {},
   "outputs": [],
   "source": [
    "def log_decorator(func):\n",
    "    @wraps(func) #копирует все метаданные об оборачиваемой функции во внешнюю (без wraps проблемы с интраспекцией)\n",
    "    def wrap(*args, **kwargs):\n",
    "        print(f'Calling func {func}')\n",
    "        func(*args, **kwargs)\n",
    "        print(f'Func {func} finished its work')\n",
    "    return wrap"
   ]
  },
  {
   "cell_type": "code",
   "execution_count": 118,
   "id": "bd4838f7",
   "metadata": {},
   "outputs": [],
   "source": [
    "@log_decorator\n",
    "def hello():\n",
    "    print('hello world!')"
   ]
  },
  {
   "cell_type": "code",
   "execution_count": 120,
   "id": "a8cb2ec2",
   "metadata": {},
   "outputs": [
    {
     "name": "stdout",
     "output_type": "stream",
     "text": [
      "Help on function hello in module __main__:\n",
      "\n",
      "hello()\n",
      "\n"
     ]
    }
   ],
   "source": [
    "help(hello)  #выведет метаданные об оборачиваемой функции"
   ]
  },
  {
   "cell_type": "code",
   "execution_count": null,
   "id": "dafefe4b",
   "metadata": {},
   "outputs": [],
   "source": []
  }
 ],
 "metadata": {
  "kernelspec": {
   "display_name": "Python 3 (ipykernel)",
   "language": "python",
   "name": "python3"
  },
  "language_info": {
   "codemirror_mode": {
    "name": "ipython",
    "version": 3
   },
   "file_extension": ".py",
   "mimetype": "text/x-python",
   "name": "python",
   "nbconvert_exporter": "python",
   "pygments_lexer": "ipython3",
   "version": "3.9.7"
  }
 },
 "nbformat": 4,
 "nbformat_minor": 5
}
