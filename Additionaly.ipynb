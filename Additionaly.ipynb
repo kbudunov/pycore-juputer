{
 "cells": [
  {
   "cell_type": "markdown",
   "id": "324734f4",
   "metadata": {},
   "source": [
    "\n",
    "# Отладка"
   ]
  },
  {
   "cell_type": "code",
   "execution_count": null,
   "id": "13357e5b",
   "metadata": {},
   "outputs": [],
   "source": [
    "import pdb #модуль для проведения отладки"
   ]
  },
  {
   "cell_type": "code",
   "execution_count": 8,
   "id": "ede74a1d",
   "metadata": {},
   "outputs": [
    {
     "name": "stdout",
     "output_type": "stream",
     "text": [
      "--Return--\n",
      "None\n",
      "> \u001b[1;32mc:\\users\\kobudu~1\\appdata\\local\\temp\\ipykernel_10076\\3450503462.py\u001b[0m(4)\u001b[0;36m<module>\u001b[1;34m()\u001b[0m\n",
      "\n",
      "--KeyboardInterrupt--\n",
      "\n",
      "KeyboardInterrupt: Interrupted by user\n",
      "--Return--\n",
      "None\n",
      "> \u001b[1;32mc:\\users\\kobudu~1\\appdata\\local\\temp\\ipykernel_10076\\3450503462.py\u001b[0m(9)\u001b[0;36m<module>\u001b[1;34m()\u001b[0m\n",
      "\n",
      "--KeyboardInterrupt--\n",
      "\n",
      "KeyboardInterrupt: Interrupted by user\n",
      "finish\n",
      "ipdb> q\n"
     ]
    }
   ],
   "source": [
    "x = 1\n",
    "y = 2\n",
    "\n",
    "pdb.set_trace() #точка остановки\n",
    "\n",
    "z = 3\n",
    "x +=1\n",
    "\n",
    "pdb.set_trace() #точка остановки\n",
    "\n",
    "print('finish')\n",
    "\n",
    "# можно вводить команды:\n",
    "# variable_name\n",
    "# c - continue (от одной точки остановки до другой выполнит)\n",
    "# n - next (выполнит всего лишь одну инструкцию), если есть подвызовы - то попадет во внутрь вызываемой функции\n",
    "# s - step (попадет на некс инструкцию но не попадет во внуть вызываемой функции)\n",
    "# q - quit выйти из отладчика\n",
    "# прочие\n",
    "\n",
    "#в пайчарме все как обычно"
   ]
  },
  {
   "cell_type": "markdown",
   "id": "3d2d78a5",
   "metadata": {},
   "source": [
    "# Стэк"
   ]
  },
  {
   "cell_type": "code",
   "execution_count": 34,
   "id": "ab9da11b",
   "metadata": {},
   "outputs": [],
   "source": [
    "class MyStack:\n",
    "    \n",
    "    def __init__(self):\n",
    "        self.array = []\n",
    "\n",
    "    def push(self, item):\n",
    "        return self.array.append(item)\n",
    "    \n",
    "    def pop(self):\n",
    "        return self.array.pop()\n",
    "        \n",
    "    def peek(self):\n",
    "        return self.__current()\n",
    "    \n",
    "    def __current(self):\n",
    "        return self.array[self.count()-1]\n",
    "    \n",
    "    def count(self):\n",
    "        return len(self.array)\n",
    "    \n",
    "    def __iter__(self):\n",
    "        self.index = self.count()-1\n",
    "        return self\n",
    "    \n",
    "    def __next__(self):\n",
    "        if self.index < 0:\n",
    "            raise StopIteration()\n",
    "        result = self.array[self.index]\n",
    "        self.index-=1\n",
    "        return result "
   ]
  },
  {
   "cell_type": "code",
   "execution_count": 35,
   "id": "adbf2556",
   "metadata": {},
   "outputs": [],
   "source": [
    "stack = MyStack()"
   ]
  },
  {
   "cell_type": "code",
   "execution_count": 36,
   "id": "dd203234",
   "metadata": {},
   "outputs": [],
   "source": [
    "stack.push(1)\n",
    "stack.push(2)\n",
    "stack.push(3)"
   ]
  },
  {
   "cell_type": "code",
   "execution_count": 37,
   "id": "aea072aa",
   "metadata": {},
   "outputs": [
    {
     "data": {
      "text/plain": [
       "3"
      ]
     },
     "execution_count": 37,
     "metadata": {},
     "output_type": "execute_result"
    }
   ],
   "source": [
    "stack.pop()"
   ]
  },
  {
   "cell_type": "code",
   "execution_count": 38,
   "id": "94d40511",
   "metadata": {},
   "outputs": [
    {
     "data": {
      "text/plain": [
       "2"
      ]
     },
     "execution_count": 38,
     "metadata": {},
     "output_type": "execute_result"
    }
   ],
   "source": [
    "stack.peek()"
   ]
  },
  {
   "cell_type": "code",
   "execution_count": 39,
   "id": "24057a18",
   "metadata": {},
   "outputs": [
    {
     "data": {
      "text/plain": [
       "2"
      ]
     },
     "execution_count": 39,
     "metadata": {},
     "output_type": "execute_result"
    }
   ],
   "source": [
    "stack.count()"
   ]
  },
  {
   "cell_type": "code",
   "execution_count": 40,
   "id": "14375ee0",
   "metadata": {},
   "outputs": [],
   "source": [
    "stack.push(4)\n",
    "stack.push(5)\n",
    "stack.push(6)"
   ]
  },
  {
   "cell_type": "code",
   "execution_count": 41,
   "id": "f4cb4670",
   "metadata": {},
   "outputs": [
    {
     "name": "stdout",
     "output_type": "stream",
     "text": [
      "6\n",
      "5\n",
      "4\n",
      "2\n",
      "1\n"
     ]
    }
   ],
   "source": [
    "for i in stack:\n",
    "    print(i)"
   ]
  },
  {
   "cell_type": "markdown",
   "id": "f91e6fa7",
   "metadata": {},
   "source": [
    "# Date and Time"
   ]
  },
  {
   "cell_type": "code",
   "execution_count": 3,
   "id": "75e19813",
   "metadata": {},
   "outputs": [],
   "source": [
    "from datetime import datetime\n",
    "from datetime import date\n",
    "from datetime import time\n",
    "from datetime import timedelta"
   ]
  },
  {
   "cell_type": "code",
   "execution_count": 44,
   "id": "1cb55389",
   "metadata": {},
   "outputs": [
    {
     "name": "stdout",
     "output_type": "stream",
     "text": [
      "2019-03-12\n",
      "2019\n",
      "3\n",
      "12\n"
     ]
    }
   ],
   "source": [
    "d1 = date(2019,3,12)\n",
    "print(d1)\n",
    "print(d1.year)\n",
    "print(d1.month)\n",
    "print(d1.day)"
   ]
  },
  {
   "cell_type": "code",
   "execution_count": 46,
   "id": "505c1a9d",
   "metadata": {},
   "outputs": [
    {
     "name": "stdout",
     "output_type": "stream",
     "text": [
      "23:10:59\n",
      "23\n",
      "10\n",
      "59\n"
     ]
    }
   ],
   "source": [
    "t1 = time(23,10,59)\n",
    "print(t1)\n",
    "print(t1.hour)\n",
    "print(t1.minute)\n",
    "print(t1.second)"
   ]
  },
  {
   "cell_type": "code",
   "execution_count": 47,
   "id": "43abb9ee",
   "metadata": {},
   "outputs": [
    {
     "name": "stdout",
     "output_type": "stream",
     "text": [
      "2021-12-24\n"
     ]
    }
   ],
   "source": [
    "print(date.today())"
   ]
  },
  {
   "cell_type": "code",
   "execution_count": 48,
   "id": "3fe7bf9c",
   "metadata": {},
   "outputs": [
    {
     "name": "stdout",
     "output_type": "stream",
     "text": [
      "0001-01-01\n",
      "9999-12-31\n"
     ]
    }
   ],
   "source": [
    "print(date.min)\n",
    "print(date.max)"
   ]
  },
  {
   "cell_type": "code",
   "execution_count": 49,
   "id": "c43eafab",
   "metadata": {},
   "outputs": [],
   "source": [
    "dt = datetime(2021,3,12,15,17)"
   ]
  },
  {
   "cell_type": "code",
   "execution_count": 51,
   "id": "b59ba156",
   "metadata": {},
   "outputs": [
    {
     "name": "stdout",
     "output_type": "stream",
     "text": [
      "2021-03-12 15:17:00\n"
     ]
    }
   ],
   "source": [
    "print(dt)"
   ]
  },
  {
   "cell_type": "code",
   "execution_count": 52,
   "id": "43f3846e",
   "metadata": {},
   "outputs": [
    {
     "name": "stdout",
     "output_type": "stream",
     "text": [
      "2021\n",
      "15\n"
     ]
    }
   ],
   "source": [
    "print(dt.date().year)\n",
    "print(dt.time().hour)"
   ]
  },
  {
   "cell_type": "code",
   "execution_count": 5,
   "id": "df9a7a61",
   "metadata": {},
   "outputs": [
    {
     "name": "stdout",
     "output_type": "stream",
     "text": [
      "2021-12-25 11:07:33.566014\n"
     ]
    },
    {
     "data": {
      "text/plain": [
       "2021"
      ]
     },
     "execution_count": 5,
     "metadata": {},
     "output_type": "execute_result"
    }
   ],
   "source": [
    "now = datetime.now()\n",
    "print(now)\n",
    "now.year"
   ]
  },
  {
   "cell_type": "code",
   "execution_count": 6,
   "id": "4742e415",
   "metadata": {},
   "outputs": [
    {
     "name": "stdout",
     "output_type": "stream",
     "text": [
      "2020-12-25 11:07:33.566014\n"
     ]
    }
   ],
   "source": [
    "new_td = now.replace(year=2020)\n",
    "print(new_td)"
   ]
  },
  {
   "cell_type": "code",
   "execution_count": 8,
   "id": "375e04e6",
   "metadata": {},
   "outputs": [
    {
     "name": "stdout",
     "output_type": "stream",
     "text": [
      "3 days, 21:18:00\n",
      "2 days, 21:18:00\n"
     ]
    }
   ],
   "source": [
    "delta1 = timedelta(days=2, hours=32, minutes=798)\n",
    "print(delta1)\n",
    "delta2 = timedelta(days=1, hours=32, minutes=798)\n",
    "print(delta2)"
   ]
  },
  {
   "cell_type": "code",
   "execution_count": 10,
   "id": "4e99483e",
   "metadata": {},
   "outputs": [
    {
     "name": "stdout",
     "output_type": "stream",
     "text": [
      "1 day, 0:00:00\n"
     ]
    }
   ],
   "source": [
    "print(delta1 - delta2)"
   ]
  },
  {
   "cell_type": "code",
   "execution_count": 14,
   "id": "368cf9d7",
   "metadata": {},
   "outputs": [
    {
     "name": "stdout",
     "output_type": "stream",
     "text": [
      "<class 'datetime.timedelta'>\n",
      "12188 days, 0:00:00\n"
     ]
    }
   ],
   "source": [
    "my_birthday = date(1988,8,12)\n",
    "\n",
    "delta = date.today() - my_birthday\n",
    "print(type(delta))\n",
    "print(delta)"
   ]
  },
  {
   "cell_type": "markdown",
   "id": "01f976a3",
   "metadata": {},
   "source": [
    "# Как конструируются объекты в питоне"
   ]
  },
  {
   "cell_type": "code",
   "execution_count": 16,
   "id": "19798f85",
   "metadata": {},
   "outputs": [],
   "source": [
    "class Character:\n",
    "    def __init__(self):     #ктор, он инициализирует объет, ВАЖНО он не отвечает за алоцирование обекта в памяти (для этого есть __new__)\n",
    "        self.race = 'Elf'"
   ]
  },
  {
   "cell_type": "code",
   "execution_count": 17,
   "id": "e90c598e",
   "metadata": {},
   "outputs": [
    {
     "data": {
      "text/plain": [
       "'Elf'"
      ]
     },
     "execution_count": 17,
     "metadata": {},
     "output_type": "execute_result"
    }
   ],
   "source": [
    "c = Character()\n",
    "c.race"
   ]
  },
  {
   "cell_type": "code",
   "execution_count": 22,
   "id": "4e7134ad",
   "metadata": {},
   "outputs": [],
   "source": [
    "class Character: #все классы наследуются от Обджект\n",
    "    #в начале отрабатывает new а потом инит\n",
    "    \n",
    "    #этот метод генерится автоматом\n",
    "    def __new__(cls): #cls содержит в себе информацию о классе \n",
    "        obj = super().__new__(cls)\n",
    "        return obj\n",
    "    \n",
    "    def __init__(self):    \n",
    "        self.race = 'Elf'"
   ]
  },
  {
   "cell_type": "code",
   "execution_count": 21,
   "id": "37f70e54",
   "metadata": {},
   "outputs": [
    {
     "data": {
      "text/plain": [
       "'Elf'"
      ]
     },
     "execution_count": 21,
     "metadata": {},
     "output_type": "execute_result"
    }
   ],
   "source": [
    "c = Character()\n",
    "c.race"
   ]
  },
  {
   "cell_type": "markdown",
   "id": "86b18ffa",
   "metadata": {},
   "source": [
    "# Синглтон"
   ]
  },
  {
   "cell_type": "code",
   "execution_count": 29,
   "id": "703a77b8",
   "metadata": {},
   "outputs": [],
   "source": [
    "class Character: #все классы наследуются от Обджект\n",
    "    \n",
    "    _instance = None\n",
    "    \n",
    "    def __new__(cls): \n",
    "        if not cls._instance: #все обращения через cls т.к. только в ней есть инфа об инстансе\n",
    "            cls._instance = super().__new__(cls)\n",
    "        return cls._instance\n",
    "    \n",
    "    def __init__(self):    \n",
    "        self.race = 'Elf'"
   ]
  },
  {
   "cell_type": "code",
   "execution_count": 30,
   "id": "0377c45a",
   "metadata": {},
   "outputs": [
    {
     "data": {
      "text/plain": [
       "'Elf'"
      ]
     },
     "execution_count": 30,
     "metadata": {},
     "output_type": "execute_result"
    }
   ],
   "source": [
    "c = Character()\n",
    "c.race"
   ]
  },
  {
   "cell_type": "code",
   "execution_count": 31,
   "id": "c1a602f3",
   "metadata": {},
   "outputs": [],
   "source": [
    "d = Character()\n",
    "d.race = 'Ork'"
   ]
  },
  {
   "cell_type": "code",
   "execution_count": 32,
   "id": "0b8e7fbe",
   "metadata": {},
   "outputs": [
    {
     "name": "stdout",
     "output_type": "stream",
     "text": [
      "Ork\n",
      "Ork\n"
     ]
    }
   ],
   "source": [
    "print(d.race)\n",
    "print(c.race)"
   ]
  },
  {
   "cell_type": "markdown",
   "id": "7aace372",
   "metadata": {},
   "source": [
    "# Pikle (Сериализация)"
   ]
  },
  {
   "cell_type": "code",
   "execution_count": 63,
   "id": "2cf8a151",
   "metadata": {},
   "outputs": [],
   "source": [
    "class Character():\n",
    "    def __init__(self, race, armor, damage = 10):   \n",
    "        self.race = race\n",
    "        self.damage = damage\n",
    "        self.armor = armor #добавлено после сериализации - в десериализованом объекте его не будет\n",
    "        self.health = 100\n",
    "        \n",
    "    def hit(self, damage):\n",
    "        self.health -= damage\n",
    "          \n",
    "    def is_ded(self, damage):\n",
    "        return self.health == 0\n",
    "    \n",
    "    #def __getstate__(self): #тут перечисляются поля которые нужно серизовывать (по умолчанию все поля, метод автоматом работает)\n",
    "    \n",
    "    def __setstate__(self, state): #тут перечислены поля для восстановления\n",
    "        self.race = state.get('race', 'Elf') #имя поля и дефолтное значение\n",
    "        self.damage = state.get('damage', 10)\n",
    "        self.armor = state.get('armor', 20) \n",
    "        self.health = state.get('health', 100)        "
   ]
  },
  {
   "cell_type": "code",
   "execution_count": 58,
   "id": "c2286475",
   "metadata": {},
   "outputs": [
    {
     "ename": "TypeError",
     "evalue": "__init__() missing 1 required positional argument: 'armor'",
     "output_type": "error",
     "traceback": [
      "\u001b[1;31m---------------------------------------------------------------------------\u001b[0m",
      "\u001b[1;31mTypeError\u001b[0m                                 Traceback (most recent call last)",
      "\u001b[1;32mC:\\Users\\KOBUDU~1\\AppData\\Local\\Temp/ipykernel_10076/1227365250.py\u001b[0m in \u001b[0;36m<module>\u001b[1;34m\u001b[0m\n\u001b[1;32m----> 1\u001b[1;33m \u001b[0md\u001b[0m \u001b[1;33m=\u001b[0m \u001b[0mCharacter\u001b[0m\u001b[1;33m(\u001b[0m\u001b[1;34m'Elf'\u001b[0m\u001b[1;33m)\u001b[0m\u001b[1;33m\u001b[0m\u001b[1;33m\u001b[0m\u001b[0m\n\u001b[0m\u001b[0;32m      2\u001b[0m \u001b[0md\u001b[0m\u001b[1;33m.\u001b[0m\u001b[0mhit\u001b[0m\u001b[1;33m(\u001b[0m\u001b[1;36m10\u001b[0m\u001b[1;33m)\u001b[0m\u001b[1;33m\u001b[0m\u001b[1;33m\u001b[0m\u001b[0m\n\u001b[0;32m      3\u001b[0m \u001b[0md\u001b[0m\u001b[1;33m.\u001b[0m\u001b[0mhealth\u001b[0m\u001b[1;33m\u001b[0m\u001b[1;33m\u001b[0m\u001b[0m\n",
      "\u001b[1;31mTypeError\u001b[0m: __init__() missing 1 required positional argument: 'armor'"
     ]
    }
   ],
   "source": [
    "d = Character('Elf')\n",
    "d.hit(10)\n",
    "d.health"
   ]
  },
  {
   "cell_type": "code",
   "execution_count": 45,
   "id": "c9197902",
   "metadata": {},
   "outputs": [],
   "source": [
    "import pickle\n",
    "\n",
    "with open(r'charackter_pickle', 'w+b') as f:\n",
    "    pickle.dump(d, f)"
   ]
  },
  {
   "cell_type": "code",
   "execution_count": 46,
   "id": "c1b6709f",
   "metadata": {},
   "outputs": [],
   "source": [
    "d = None"
   ]
  },
  {
   "cell_type": "code",
   "execution_count": 61,
   "id": "6a97f8da",
   "metadata": {},
   "outputs": [
    {
     "data": {
      "text/plain": [
       "90"
      ]
     },
     "execution_count": 61,
     "metadata": {},
     "output_type": "execute_result"
    }
   ],
   "source": [
    "with open(r'charackter_pickle', 'rb') as f:\n",
    "    d = pickle.load(f)\n",
    "\n",
    "d.health"
   ]
  },
  {
   "cell_type": "code",
   "execution_count": 62,
   "id": "44086353",
   "metadata": {},
   "outputs": [
    {
     "name": "stdout",
     "output_type": "stream",
     "text": [
      "{'race': 'Elf', 'damage': 10, 'armor': 20, 'health': 90}\n"
     ]
    }
   ],
   "source": [
    "print(d.__dict__)"
   ]
  },
  {
   "cell_type": "markdown",
   "id": "da2c5725",
   "metadata": {},
   "source": [
    "# Встроеные дандр методы"
   ]
  },
  {
   "cell_type": "markdown",
   "id": "033639d8",
   "metadata": {},
   "source": [
    "### repr vs str, eval"
   ]
  },
  {
   "cell_type": "code",
   "execution_count": 69,
   "id": "7042a4cd",
   "metadata": {},
   "outputs": [],
   "source": [
    "lst = [1,2,3]"
   ]
  },
  {
   "cell_type": "code",
   "execution_count": 68,
   "id": "1376cc25",
   "metadata": {},
   "outputs": [
    {
     "data": {
      "text/plain": [
       "'[1, 2, 3]'"
      ]
     },
     "execution_count": 68,
     "metadata": {},
     "output_type": "execute_result"
    }
   ],
   "source": [
    "repr(lst) #invokes __repr__ возврашает оъект в строковом виде, потом его можно восстановить(зачастую) (UNAPPLY scala)"
   ]
  },
  {
   "cell_type": "code",
   "execution_count": 70,
   "id": "180dd63d",
   "metadata": {},
   "outputs": [
    {
     "name": "stdout",
     "output_type": "stream",
     "text": [
      "[1, 2, 3]\n"
     ]
    }
   ],
   "source": [
    "print(lst) #invokes __str__"
   ]
  },
  {
   "cell_type": "markdown",
   "id": "edf2f308",
   "metadata": {},
   "source": [
    "#### eval (APPLY)"
   ]
  },
  {
   "cell_type": "code",
   "execution_count": 91,
   "id": "5122a0b1",
   "metadata": {},
   "outputs": [
    {
     "data": {
      "text/plain": [
       "True"
      ]
     },
     "execution_count": 91,
     "metadata": {},
     "output_type": "execute_result"
    }
   ],
   "source": [
    "eval(repr(lst)) == lst #eval(repr(lst)) восстанавливает обект из строкового описания (APPLY scala), может исполнить питон код обернутый в строку"
   ]
  },
  {
   "cell_type": "markdown",
   "id": "63901058",
   "metadata": {},
   "source": [
    "#### Если в классе\n",
    "1. Определен __repr__ и НЕ определе __str__, если вызовут __str__ тогда этот вызов переадресуется в __repr__\n",
    "2. Определен __str__ и НЕ определе __repr__, если вызовут __repr__ тогда вызовется дефолтная реализаци __repr__"
   ]
  },
  {
   "cell_type": "code",
   "execution_count": 84,
   "id": "96974377",
   "metadata": {},
   "outputs": [],
   "source": [
    "class Character():\n",
    "    def __init__(self, race, damage = 10):   \n",
    "        self.race = race\n",
    "        self.damage = damage\n",
    "        \n",
    "    def __repr__(self):\n",
    "        return f\"Character('{self.race}', {self.damage})\" #если неопределен, дефолтный напишет адрес в памяти\n",
    "    \n",
    "    def __str__(self):\n",
    "        return f'{self.race} with damage = {self.damage}'\n",
    "    \n",
    "    # в python 2. Требование переопределять __eq__ и __ne__(нот иквал), поведение оператора !=\n",
    "    def __eq__(self, other): #  ==\n",
    "        if isinstance(other, Character):\n",
    "            return self.race == other.race and self.damage == other.damage\n",
    "        return False\n",
    "    \n",
    "    # !=\n",
    "    #def __ne__(self, other): # в python 3+ НЕ обяз переопределять __ne__\n",
    "     #   pass"
   ]
  },
  {
   "cell_type": "code",
   "execution_count": 85,
   "id": "7234bca9",
   "metadata": {},
   "outputs": [
    {
     "data": {
      "text/plain": [
       "Character('Elf', 10)"
      ]
     },
     "execution_count": 85,
     "metadata": {},
     "output_type": "execute_result"
    }
   ],
   "source": [
    "d = Character('Elf')\n",
    "d #в результате увидим вызов __repr__"
   ]
  },
  {
   "cell_type": "code",
   "execution_count": 86,
   "id": "03b4cb40",
   "metadata": {},
   "outputs": [
    {
     "name": "stdout",
     "output_type": "stream",
     "text": [
      "Elf with damage = 10\n"
     ]
    }
   ],
   "source": [
    "print(d) #тогда __str__ под капотом вызовется"
   ]
  },
  {
   "cell_type": "code",
   "execution_count": 87,
   "id": "6076c781",
   "metadata": {},
   "outputs": [
    {
     "data": {
      "text/plain": [
       "__main__.Character"
      ]
     },
     "execution_count": 87,
     "metadata": {},
     "output_type": "execute_result"
    }
   ],
   "source": [
    "c = eval(repr(d))\n",
    "type(c)"
   ]
  },
  {
   "cell_type": "markdown",
   "id": "d45b9a17",
   "metadata": {},
   "source": [
    "### eq"
   ]
  },
  {
   "cell_type": "code",
   "execution_count": 88,
   "id": "f2734ba6",
   "metadata": {},
   "outputs": [
    {
     "data": {
      "text/plain": [
       "True"
      ]
     },
     "execution_count": 88,
     "metadata": {},
     "output_type": "execute_result"
    }
   ],
   "source": [
    "c == d # == по умолчанию сравнивает ссылки, если переопределен __eq__ он будет вызван"
   ]
  },
  {
   "cell_type": "code",
   "execution_count": 90,
   "id": "4037d9ab",
   "metadata": {},
   "outputs": [
    {
     "data": {
      "text/plain": [
       "False"
      ]
     },
     "execution_count": 90,
     "metadata": {},
     "output_type": "execute_result"
    }
   ],
   "source": [
    "d != c"
   ]
  },
  {
   "cell_type": "markdown",
   "id": "590f1189",
   "metadata": {},
   "source": [
    "# Deep copy VS Shallow"
   ]
  },
  {
   "cell_type": "code",
   "execution_count": 104,
   "id": "d2ae41b8",
   "metadata": {},
   "outputs": [],
   "source": [
    "list1 = [1,2,3, [4,5,6]]\n",
    "\n",
    "copied_list = list1.copy()\n",
    "copied_list[3].append(7)"
   ]
  },
  {
   "cell_type": "code",
   "execution_count": 105,
   "id": "61b18922",
   "metadata": {},
   "outputs": [
    {
     "name": "stdout",
     "output_type": "stream",
     "text": [
      "[1, 2, 3, [4, 5, 6, 7]]\n",
      "[1, 2, 3, [4, 5, 6, 7]]\n"
     ]
    }
   ],
   "source": [
    "print(list1)\n",
    "print(copied_list)"
   ]
  },
  {
   "cell_type": "code",
   "execution_count": 3,
   "id": "65c480ae",
   "metadata": {},
   "outputs": [],
   "source": [
    "import copy"
   ]
  },
  {
   "cell_type": "code",
   "execution_count": 107,
   "id": "31f4872f",
   "metadata": {},
   "outputs": [],
   "source": [
    "shallow_copy = copy.copy(list1) #same as list1.copy()\n",
    "shallow_copy[3].append(8)"
   ]
  },
  {
   "cell_type": "code",
   "execution_count": 108,
   "id": "66150f11",
   "metadata": {},
   "outputs": [
    {
     "name": "stdout",
     "output_type": "stream",
     "text": [
      "[1, 2, 3, [4, 5, 6, 7, 8]]\n",
      "[1, 2, 3, [4, 5, 6, 7, 8]]\n"
     ]
    }
   ],
   "source": [
    "print(list1)\n",
    "print(shallow_copy)"
   ]
  },
  {
   "cell_type": "code",
   "execution_count": 111,
   "id": "0e2f3c51",
   "metadata": {},
   "outputs": [],
   "source": [
    "deep_copy = copy.deepcopy(list1)\n",
    "deep_copy[3].append(9)"
   ]
  },
  {
   "cell_type": "code",
   "execution_count": 112,
   "id": "9535358f",
   "metadata": {},
   "outputs": [
    {
     "name": "stdout",
     "output_type": "stream",
     "text": [
      "[1, 2, 3, [4, 5, 6, 7, 8, 9]]\n",
      "[1, 2, 3, [4, 5, 6, 7, 8, 9, 9]]\n"
     ]
    }
   ],
   "source": [
    "print(list1)\n",
    "print(deep_copy)"
   ]
  },
  {
   "cell_type": "markdown",
   "id": "3d1790ca",
   "metadata": {},
   "source": [
    "# Поведение для копирования описанное в классах"
   ]
  },
  {
   "cell_type": "markdown",
   "id": "98a6d433",
   "metadata": {},
   "source": [
    "## Дандр методы __copy__ __deepcopy__"
   ]
  },
  {
   "cell_type": "code",
   "execution_count": 1,
   "id": "ccee053c",
   "metadata": {},
   "outputs": [],
   "source": [
    "class Point():\n",
    "    \n",
    "    def __init__(self, x, y):\n",
    "        self.x = x\n",
    "        self.y = y\n",
    "        \n",
    "    def __repr__(self):\n",
    "        return f'Point({self.x}, {self.y})'"
   ]
  },
  {
   "cell_type": "code",
   "execution_count": 4,
   "id": "3e1cc84f",
   "metadata": {},
   "outputs": [],
   "source": [
    "a = Point(1, 2)\n",
    "b = copy.copy(a)"
   ]
  },
  {
   "cell_type": "code",
   "execution_count": 5,
   "id": "3ec5a6f5",
   "metadata": {},
   "outputs": [],
   "source": [
    "a.x = 3"
   ]
  },
  {
   "cell_type": "code",
   "execution_count": 6,
   "id": "d35f6b5f",
   "metadata": {},
   "outputs": [
    {
     "data": {
      "text/plain": [
       "1"
      ]
     },
     "execution_count": 6,
     "metadata": {},
     "output_type": "execute_result"
    }
   ],
   "source": [
    "b.x #x не изменится потомучто ИНТ это не ссылочный тип"
   ]
  },
  {
   "cell_type": "code",
   "execution_count": 7,
   "id": "8d182004",
   "metadata": {},
   "outputs": [],
   "source": [
    " #пока все гут, проблема возникнет если мы в поинт добавим другой класс(и он будет ССЫЛОЧНЫЙ)"
   ]
  },
  {
   "cell_type": "code",
   "execution_count": 22,
   "id": "4cf6d1e5",
   "metadata": {},
   "outputs": [],
   "source": [
    "class Line():\n",
    "    \n",
    "    def __init__(self, p1, p2):\n",
    "        self.p1 = p1\n",
    "        self.p2 = p2\n",
    "        \n",
    "    #он уже работает по умолчанию НО если тебе нужно кастомно тогда переопределяй\n",
    "    def __copy__(self):\n",
    "        cls = self.__class__\n",
    "        result = cls.__new__(cls)\n",
    "        result.__dict__.update(self.__dict__)\n",
    "        return result\n",
    "    \n",
    "    #он уже работает по умолчанию НО если тебе нужно кастомно тогда переопределяй\n",
    "    def __deepcopy__(self, memo): #memo используется для обхода проблемы с бесконечной рекурсией (если в типе Line будет переменная типа Line)\n",
    "        cls = self.__class__\n",
    "        result = cls.__new__(cls)\n",
    "        memo[id(self)] = result #защита от бесконечной рекурсии\n",
    "        \n",
    "        for k, v in self.__dict__.items():\n",
    "            setattr(result, k , copy.deepcopy(v, memo)) #вызываем deepcopy рекурсивно \n",
    "        \n",
    "        return result"
   ]
  },
  {
   "cell_type": "code",
   "execution_count": 18,
   "id": "5be2ac19",
   "metadata": {},
   "outputs": [
    {
     "name": "stdout",
     "output_type": "stream",
     "text": [
      "Point(99, 2)\n",
      "Point(99, 2)\n"
     ]
    }
   ],
   "source": [
    "l1 = Line(a,b)\n",
    "l2 = copy.copy(l1)\n",
    "\n",
    "print(l1.p1)\n",
    "print(l2.p1)"
   ]
  },
  {
   "cell_type": "code",
   "execution_count": 19,
   "id": "7a5e4b59",
   "metadata": {},
   "outputs": [
    {
     "name": "stdout",
     "output_type": "stream",
     "text": [
      "Point(10, 2)\n",
      "Point(10, 2)\n"
     ]
    }
   ],
   "source": [
    "l1.p1.x = 10 #меняет обе! Т.К. тут ссылочный тип\n",
    "\n",
    "print(l1.p1)\n",
    "print(l2.p1)"
   ]
  },
  {
   "cell_type": "code",
   "execution_count": 20,
   "id": "73c0462b",
   "metadata": {},
   "outputs": [
    {
     "name": "stdout",
     "output_type": "stream",
     "text": [
      "Point(10, 2)\n",
      "Point(10, 2)\n"
     ]
    }
   ],
   "source": [
    "l1 = Line(a,b)\n",
    "l2 = copy.deepcopy(l1)\n",
    "\n",
    "print(l1.p1)\n",
    "print(l2.p1)"
   ]
  },
  {
   "cell_type": "code",
   "execution_count": 21,
   "id": "cb278ecf",
   "metadata": {},
   "outputs": [
    {
     "name": "stdout",
     "output_type": "stream",
     "text": [
      "Point(99, 2)\n",
      "Point(10, 2)\n"
     ]
    }
   ],
   "source": [
    "l1.p1.x = 99 #работает как надо!\n",
    "\n",
    "print(l1.p1)\n",
    "print(l2.p1)"
   ]
  },
  {
   "cell_type": "markdown",
   "id": "0e13a068",
   "metadata": {},
   "source": [
    "# Enum"
   ]
  },
  {
   "cell_type": "code",
   "execution_count": 23,
   "id": "54b0aaf4",
   "metadata": {},
   "outputs": [],
   "source": [
    "from enum import Enum"
   ]
  },
  {
   "cell_type": "code",
   "execution_count": 24,
   "id": "2565d736",
   "metadata": {},
   "outputs": [],
   "source": [
    "class TrafficLight(Enum):\n",
    "    RED = 1\n",
    "    YELLOW = 2\n",
    "    GREEN = 3"
   ]
  },
  {
   "cell_type": "code",
   "execution_count": 25,
   "id": "f5615512",
   "metadata": {},
   "outputs": [
    {
     "data": {
      "text/plain": [
       "<TrafficLight.RED: 1>"
      ]
     },
     "execution_count": 25,
     "metadata": {},
     "output_type": "execute_result"
    }
   ],
   "source": [
    "TrafficLight.RED"
   ]
  },
  {
   "cell_type": "code",
   "execution_count": 26,
   "id": "f26caf4f",
   "metadata": {},
   "outputs": [
    {
     "name": "stdout",
     "output_type": "stream",
     "text": [
      "TrafficLight.RED\n"
     ]
    }
   ],
   "source": [
    "print(TrafficLight.RED)"
   ]
  },
  {
   "cell_type": "code",
   "execution_count": 28,
   "id": "0a288397",
   "metadata": {},
   "outputs": [
    {
     "name": "stdout",
     "output_type": "stream",
     "text": [
      "RED\n",
      "1\n"
     ]
    }
   ],
   "source": [
    "print(TrafficLight.RED.name)\n",
    "print(TrafficLight.RED.value)"
   ]
  },
  {
   "cell_type": "code",
   "execution_count": 29,
   "id": "79186cc1",
   "metadata": {},
   "outputs": [
    {
     "name": "stdout",
     "output_type": "stream",
     "text": [
      "TrafficLight.RED\n",
      "TrafficLight.YELLOW\n",
      "TrafficLight.GREEN\n"
     ]
    }
   ],
   "source": [
    "for c in TrafficLight:\n",
    "    print(c)"
   ]
  },
  {
   "cell_type": "code",
   "execution_count": 30,
   "id": "2f36ae00",
   "metadata": {},
   "outputs": [
    {
     "data": {
      "text/plain": [
       "<TrafficLight.YELLOW: 2>"
      ]
     },
     "execution_count": 30,
     "metadata": {},
     "output_type": "execute_result"
    }
   ],
   "source": [
    "TrafficLight(2)"
   ]
  },
  {
   "cell_type": "code",
   "execution_count": 31,
   "id": "b7b272a4",
   "metadata": {},
   "outputs": [
    {
     "data": {
      "text/plain": [
       "<TrafficLight.RED: 1>"
      ]
     },
     "execution_count": 31,
     "metadata": {},
     "output_type": "execute_result"
    }
   ],
   "source": [
    "TrafficLight['RED']"
   ]
  },
  {
   "cell_type": "code",
   "execution_count": 32,
   "id": "a1d31313",
   "metadata": {},
   "outputs": [
    {
     "data": {
      "text/plain": [
       "True"
      ]
     },
     "execution_count": 32,
     "metadata": {},
     "output_type": "execute_result"
    }
   ],
   "source": [
    "TrafficLight.RED == TrafficLight.RED"
   ]
  },
  {
   "cell_type": "markdown",
   "id": "1bf68dbe",
   "metadata": {},
   "source": [
    "### Enum для чисел"
   ]
  },
  {
   "cell_type": "code",
   "execution_count": 33,
   "id": "ecafd2e1",
   "metadata": {},
   "outputs": [],
   "source": [
    "from enum import IntEnum"
   ]
  },
  {
   "cell_type": "code",
   "execution_count": 34,
   "id": "47207d1e",
   "metadata": {},
   "outputs": [],
   "source": [
    "class Priority(IntEnum):\n",
    "    LOW = 1\n",
    "    NORMAL = 2\n",
    "    HIGH = 3"
   ]
  },
  {
   "cell_type": "code",
   "execution_count": 35,
   "id": "b951afb5",
   "metadata": {},
   "outputs": [
    {
     "data": {
      "text/plain": [
       "True"
      ]
     },
     "execution_count": 35,
     "metadata": {},
     "output_type": "execute_result"
    }
   ],
   "source": [
    "Priority.LOW < Priority.NORMAL"
   ]
  },
  {
   "cell_type": "markdown",
   "id": "2bdd6b94",
   "metadata": {},
   "source": [
    "# JSON"
   ]
  },
  {
   "cell_type": "code",
   "execution_count": 3,
   "id": "21c04e74",
   "metadata": {},
   "outputs": [],
   "source": [
    "import json"
   ]
  },
  {
   "cell_type": "code",
   "execution_count": 4,
   "id": "a91db794",
   "metadata": {},
   "outputs": [],
   "source": [
    "class Tournament:\n",
    "    \n",
    "    def __init__(self, name, year):\n",
    "        self.name = name\n",
    "        self.year = year"
   ]
  },
  {
   "cell_type": "code",
   "execution_count": 5,
   "id": "a163ec69",
   "metadata": {},
   "outputs": [],
   "source": [
    "tournaments = {\n",
    "    \"AeroflotOpen\": 2010,\n",
    "    \"Fide\": 2018,\n",
    "    \"Fide2\": 2016\n",
    "}"
   ]
  },
  {
   "cell_type": "markdown",
   "id": "4cd9961f",
   "metadata": {},
   "source": [
    "### Сериализация"
   ]
  },
  {
   "cell_type": "code",
   "execution_count": 6,
   "id": "c2a1d3cf",
   "metadata": {},
   "outputs": [],
   "source": [
    "json_data = json.dumps(tournaments, indent = 2)"
   ]
  },
  {
   "cell_type": "code",
   "execution_count": 7,
   "id": "2f477ebf",
   "metadata": {},
   "outputs": [
    {
     "name": "stdout",
     "output_type": "stream",
     "text": [
      "{\n",
      "  \"AeroflotOpen\": 2010,\n",
      "  \"Fide\": 2018,\n",
      "  \"Fide2\": 2016\n",
      "}\n"
     ]
    }
   ],
   "source": [
    "print(json_data)"
   ]
  },
  {
   "cell_type": "markdown",
   "id": "5b073956",
   "metadata": {},
   "source": [
    "### Десиреализация"
   ]
  },
  {
   "cell_type": "code",
   "execution_count": 8,
   "id": "1d304818",
   "metadata": {},
   "outputs": [
    {
     "name": "stdout",
     "output_type": "stream",
     "text": [
      "<class 'str'>\n"
     ]
    }
   ],
   "source": [
    "print(type(json_data))\n",
    "loaded = json.loads(json_data)"
   ]
  },
  {
   "cell_type": "code",
   "execution_count": 9,
   "id": "36804120",
   "metadata": {},
   "outputs": [
    {
     "name": "stdout",
     "output_type": "stream",
     "text": [
      "<class 'dict'>\n",
      "{'AeroflotOpen': 2010, 'Fide': 2018, 'Fide2': 2016}\n"
     ]
    }
   ],
   "source": [
    "print(type(loaded))\n",
    "print(loaded)"
   ]
  },
  {
   "cell_type": "code",
   "execution_count": 10,
   "id": "61ea1651",
   "metadata": {},
   "outputs": [
    {
     "ename": "TypeError",
     "evalue": "Object of type Tournament is not JSON serializable",
     "output_type": "error",
     "traceback": [
      "\u001b[1;31m---------------------------------------------------------------------------\u001b[0m",
      "\u001b[1;31mTypeError\u001b[0m                                 Traceback (most recent call last)",
      "\u001b[1;32mC:\\Users\\KOBUDU~1\\AppData\\Local\\Temp/ipykernel_7584/1003892677.py\u001b[0m in \u001b[0;36m<module>\u001b[1;34m\u001b[0m\n\u001b[0;32m      1\u001b[0m \u001b[0mt1\u001b[0m \u001b[1;33m=\u001b[0m \u001b[0mTournament\u001b[0m\u001b[1;33m(\u001b[0m\u001b[1;34m'Aeroflot Open'\u001b[0m\u001b[1;33m,\u001b[0m \u001b[1;36m2010\u001b[0m\u001b[1;33m)\u001b[0m\u001b[1;33m\u001b[0m\u001b[1;33m\u001b[0m\u001b[0m\n\u001b[1;32m----> 2\u001b[1;33m \u001b[0mjson_data\u001b[0m \u001b[1;33m=\u001b[0m \u001b[0mjson\u001b[0m\u001b[1;33m.\u001b[0m\u001b[0mdumps\u001b[0m\u001b[1;33m(\u001b[0m\u001b[0mt1\u001b[0m\u001b[1;33m)\u001b[0m \u001b[1;31m#НЕ СРАБОЕТ! только стандартные типы могут быть легко сериализованы в JSON\u001b[0m\u001b[1;33m\u001b[0m\u001b[1;33m\u001b[0m\u001b[0m\n\u001b[0m\u001b[0;32m      3\u001b[0m \u001b[1;31m#кастомные типы нужно дописывать чтоб в JSON молжно было\u001b[0m\u001b[1;33m\u001b[0m\u001b[1;33m\u001b[0m\u001b[0m\n",
      "\u001b[1;32m~\\Anaconda3\\lib\\json\\__init__.py\u001b[0m in \u001b[0;36mdumps\u001b[1;34m(obj, skipkeys, ensure_ascii, check_circular, allow_nan, cls, indent, separators, default, sort_keys, **kw)\u001b[0m\n\u001b[0;32m    229\u001b[0m         \u001b[0mcls\u001b[0m \u001b[1;32mis\u001b[0m \u001b[1;32mNone\u001b[0m \u001b[1;32mand\u001b[0m \u001b[0mindent\u001b[0m \u001b[1;32mis\u001b[0m \u001b[1;32mNone\u001b[0m \u001b[1;32mand\u001b[0m \u001b[0mseparators\u001b[0m \u001b[1;32mis\u001b[0m \u001b[1;32mNone\u001b[0m \u001b[1;32mand\u001b[0m\u001b[1;33m\u001b[0m\u001b[1;33m\u001b[0m\u001b[0m\n\u001b[0;32m    230\u001b[0m         default is None and not sort_keys and not kw):\n\u001b[1;32m--> 231\u001b[1;33m         \u001b[1;32mreturn\u001b[0m \u001b[0m_default_encoder\u001b[0m\u001b[1;33m.\u001b[0m\u001b[0mencode\u001b[0m\u001b[1;33m(\u001b[0m\u001b[0mobj\u001b[0m\u001b[1;33m)\u001b[0m\u001b[1;33m\u001b[0m\u001b[1;33m\u001b[0m\u001b[0m\n\u001b[0m\u001b[0;32m    232\u001b[0m     \u001b[1;32mif\u001b[0m \u001b[0mcls\u001b[0m \u001b[1;32mis\u001b[0m \u001b[1;32mNone\u001b[0m\u001b[1;33m:\u001b[0m\u001b[1;33m\u001b[0m\u001b[1;33m\u001b[0m\u001b[0m\n\u001b[0;32m    233\u001b[0m         \u001b[0mcls\u001b[0m \u001b[1;33m=\u001b[0m \u001b[0mJSONEncoder\u001b[0m\u001b[1;33m\u001b[0m\u001b[1;33m\u001b[0m\u001b[0m\n",
      "\u001b[1;32m~\\Anaconda3\\lib\\json\\encoder.py\u001b[0m in \u001b[0;36mencode\u001b[1;34m(self, o)\u001b[0m\n\u001b[0;32m    197\u001b[0m         \u001b[1;31m# exceptions aren't as detailed.  The list call should be roughly\u001b[0m\u001b[1;33m\u001b[0m\u001b[1;33m\u001b[0m\u001b[0m\n\u001b[0;32m    198\u001b[0m         \u001b[1;31m# equivalent to the PySequence_Fast that ''.join() would do.\u001b[0m\u001b[1;33m\u001b[0m\u001b[1;33m\u001b[0m\u001b[0m\n\u001b[1;32m--> 199\u001b[1;33m         \u001b[0mchunks\u001b[0m \u001b[1;33m=\u001b[0m \u001b[0mself\u001b[0m\u001b[1;33m.\u001b[0m\u001b[0miterencode\u001b[0m\u001b[1;33m(\u001b[0m\u001b[0mo\u001b[0m\u001b[1;33m,\u001b[0m \u001b[0m_one_shot\u001b[0m\u001b[1;33m=\u001b[0m\u001b[1;32mTrue\u001b[0m\u001b[1;33m)\u001b[0m\u001b[1;33m\u001b[0m\u001b[1;33m\u001b[0m\u001b[0m\n\u001b[0m\u001b[0;32m    200\u001b[0m         \u001b[1;32mif\u001b[0m \u001b[1;32mnot\u001b[0m \u001b[0misinstance\u001b[0m\u001b[1;33m(\u001b[0m\u001b[0mchunks\u001b[0m\u001b[1;33m,\u001b[0m \u001b[1;33m(\u001b[0m\u001b[0mlist\u001b[0m\u001b[1;33m,\u001b[0m \u001b[0mtuple\u001b[0m\u001b[1;33m)\u001b[0m\u001b[1;33m)\u001b[0m\u001b[1;33m:\u001b[0m\u001b[1;33m\u001b[0m\u001b[1;33m\u001b[0m\u001b[0m\n\u001b[0;32m    201\u001b[0m             \u001b[0mchunks\u001b[0m \u001b[1;33m=\u001b[0m \u001b[0mlist\u001b[0m\u001b[1;33m(\u001b[0m\u001b[0mchunks\u001b[0m\u001b[1;33m)\u001b[0m\u001b[1;33m\u001b[0m\u001b[1;33m\u001b[0m\u001b[0m\n",
      "\u001b[1;32m~\\Anaconda3\\lib\\json\\encoder.py\u001b[0m in \u001b[0;36miterencode\u001b[1;34m(self, o, _one_shot)\u001b[0m\n\u001b[0;32m    255\u001b[0m                 \u001b[0mself\u001b[0m\u001b[1;33m.\u001b[0m\u001b[0mkey_separator\u001b[0m\u001b[1;33m,\u001b[0m \u001b[0mself\u001b[0m\u001b[1;33m.\u001b[0m\u001b[0mitem_separator\u001b[0m\u001b[1;33m,\u001b[0m \u001b[0mself\u001b[0m\u001b[1;33m.\u001b[0m\u001b[0msort_keys\u001b[0m\u001b[1;33m,\u001b[0m\u001b[1;33m\u001b[0m\u001b[1;33m\u001b[0m\u001b[0m\n\u001b[0;32m    256\u001b[0m                 self.skipkeys, _one_shot)\n\u001b[1;32m--> 257\u001b[1;33m         \u001b[1;32mreturn\u001b[0m \u001b[0m_iterencode\u001b[0m\u001b[1;33m(\u001b[0m\u001b[0mo\u001b[0m\u001b[1;33m,\u001b[0m \u001b[1;36m0\u001b[0m\u001b[1;33m)\u001b[0m\u001b[1;33m\u001b[0m\u001b[1;33m\u001b[0m\u001b[0m\n\u001b[0m\u001b[0;32m    258\u001b[0m \u001b[1;33m\u001b[0m\u001b[0m\n\u001b[0;32m    259\u001b[0m def _make_iterencode(markers, _default, _encoder, _indent, _floatstr,\n",
      "\u001b[1;32m~\\Anaconda3\\lib\\json\\encoder.py\u001b[0m in \u001b[0;36mdefault\u001b[1;34m(self, o)\u001b[0m\n\u001b[0;32m    177\u001b[0m \u001b[1;33m\u001b[0m\u001b[0m\n\u001b[0;32m    178\u001b[0m         \"\"\"\n\u001b[1;32m--> 179\u001b[1;33m         raise TypeError(f'Object of type {o.__class__.__name__} '\n\u001b[0m\u001b[0;32m    180\u001b[0m                         f'is not JSON serializable')\n\u001b[0;32m    181\u001b[0m \u001b[1;33m\u001b[0m\u001b[0m\n",
      "\u001b[1;31mTypeError\u001b[0m: Object of type Tournament is not JSON serializable"
     ]
    }
   ],
   "source": [
    "t1 = Tournament('Aeroflot Open', 2010)\n",
    "json_data = json.dumps(t1) #НЕ СРАБОЕТ! только стандартные типы могут быть легко сериализованы в JSON\n",
    "#кастомные типы нужно дописывать чтоб в JSON молжно было"
   ]
  },
  {
   "cell_type": "markdown",
   "id": "3523d937",
   "metadata": {},
   "source": [
    "### Доработка (дандр метод дикт __dict__) "
   ]
  },
  {
   "cell_type": "markdown",
   "id": "37875932",
   "metadata": {},
   "source": [
    "#### на примере ОДНОУРОВНЕВОГО типа"
   ]
  },
  {
   "cell_type": "code",
   "execution_count": 11,
   "id": "2dcb1ead",
   "metadata": {},
   "outputs": [
    {
     "name": "stdout",
     "output_type": "stream",
     "text": [
      "{\"name\": \"Aeroflot Open\", \"year\": 2010}\n"
     ]
    }
   ],
   "source": [
    "json_data = json.dumps(t1.__dict__) #__dict__ возвращает атребуты и их значения (обычный словарь)\n",
    "print(json_data)"
   ]
  },
  {
   "cell_type": "code",
   "execution_count": 12,
   "id": "5b6d1d5d",
   "metadata": {},
   "outputs": [],
   "source": [
    "t = Tournament(**json.loads(json_data)) #вот этим ** раскрываем дикшинари ии  передаем все аргументы"
   ]
  },
  {
   "cell_type": "code",
   "execution_count": 13,
   "id": "b791d867",
   "metadata": {},
   "outputs": [
    {
     "name": "stdout",
     "output_type": "stream",
     "text": [
      "<class '__main__.Tournament'>\n",
      "Aeroflot Open\n"
     ]
    }
   ],
   "source": [
    "print(type(t))\n",
    "print(t.name)"
   ]
  },
  {
   "cell_type": "markdown",
   "id": "f86a1d4b",
   "metadata": {},
   "source": [
    "#### на примере МНОГОУРОВНЕВОГО типа"
   ]
  },
  {
   "cell_type": "code",
   "execution_count": 22,
   "id": "c504da66",
   "metadata": {},
   "outputs": [],
   "source": [
    "class ChessPlayer:\n",
    "    \n",
    "    def __init__(self, tournaments):\n",
    "        self.tournaments = tournaments"
   ]
  },
  {
   "cell_type": "code",
   "execution_count": 23,
   "id": "12c7e951",
   "metadata": {},
   "outputs": [],
   "source": [
    "t1 = Tournament('Aeroflot Open', 2010)\n",
    "t2 = Tournament('Fifi', 2013)\n",
    "t3 = Tournament('Gogi', 2021)\n",
    "\n",
    "p1 = ChessPlayer([t1, t2, t3])"
   ]
  },
  {
   "cell_type": "code",
   "execution_count": 24,
   "id": "e2cafa6d",
   "metadata": {},
   "outputs": [
    {
     "ename": "TypeError",
     "evalue": "Object of type Tournament is not JSON serializable",
     "output_type": "error",
     "traceback": [
      "\u001b[1;31m---------------------------------------------------------------------------\u001b[0m",
      "\u001b[1;31mTypeError\u001b[0m                                 Traceback (most recent call last)",
      "\u001b[1;32mC:\\Users\\KOBUDU~1\\AppData\\Local\\Temp/ipykernel_15340/12525147.py\u001b[0m in \u001b[0;36m<module>\u001b[1;34m\u001b[0m\n\u001b[1;32m----> 1\u001b[1;33m \u001b[0mjson_data\u001b[0m \u001b[1;33m=\u001b[0m \u001b[0mjson\u001b[0m\u001b[1;33m.\u001b[0m\u001b[0mdumps\u001b[0m\u001b[1;33m(\u001b[0m\u001b[0mp1\u001b[0m\u001b[1;33m.\u001b[0m\u001b[0m__dict__\u001b[0m\u001b[1;33m)\u001b[0m\u001b[1;33m\u001b[0m\u001b[1;33m\u001b[0m\u001b[0m\n\u001b[0m\u001b[0;32m      2\u001b[0m \u001b[0mprint\u001b[0m\u001b[1;33m(\u001b[0m\u001b[0mjson_data\u001b[0m\u001b[1;33m)\u001b[0m\u001b[1;33m\u001b[0m\u001b[1;33m\u001b[0m\u001b[0m\n",
      "\u001b[1;32m~\\Anaconda3\\lib\\json\\__init__.py\u001b[0m in \u001b[0;36mdumps\u001b[1;34m(obj, skipkeys, ensure_ascii, check_circular, allow_nan, cls, indent, separators, default, sort_keys, **kw)\u001b[0m\n\u001b[0;32m    229\u001b[0m         \u001b[0mcls\u001b[0m \u001b[1;32mis\u001b[0m \u001b[1;32mNone\u001b[0m \u001b[1;32mand\u001b[0m \u001b[0mindent\u001b[0m \u001b[1;32mis\u001b[0m \u001b[1;32mNone\u001b[0m \u001b[1;32mand\u001b[0m \u001b[0mseparators\u001b[0m \u001b[1;32mis\u001b[0m \u001b[1;32mNone\u001b[0m \u001b[1;32mand\u001b[0m\u001b[1;33m\u001b[0m\u001b[1;33m\u001b[0m\u001b[0m\n\u001b[0;32m    230\u001b[0m         default is None and not sort_keys and not kw):\n\u001b[1;32m--> 231\u001b[1;33m         \u001b[1;32mreturn\u001b[0m \u001b[0m_default_encoder\u001b[0m\u001b[1;33m.\u001b[0m\u001b[0mencode\u001b[0m\u001b[1;33m(\u001b[0m\u001b[0mobj\u001b[0m\u001b[1;33m)\u001b[0m\u001b[1;33m\u001b[0m\u001b[1;33m\u001b[0m\u001b[0m\n\u001b[0m\u001b[0;32m    232\u001b[0m     \u001b[1;32mif\u001b[0m \u001b[0mcls\u001b[0m \u001b[1;32mis\u001b[0m \u001b[1;32mNone\u001b[0m\u001b[1;33m:\u001b[0m\u001b[1;33m\u001b[0m\u001b[1;33m\u001b[0m\u001b[0m\n\u001b[0;32m    233\u001b[0m         \u001b[0mcls\u001b[0m \u001b[1;33m=\u001b[0m \u001b[0mJSONEncoder\u001b[0m\u001b[1;33m\u001b[0m\u001b[1;33m\u001b[0m\u001b[0m\n",
      "\u001b[1;32m~\\Anaconda3\\lib\\json\\encoder.py\u001b[0m in \u001b[0;36mencode\u001b[1;34m(self, o)\u001b[0m\n\u001b[0;32m    197\u001b[0m         \u001b[1;31m# exceptions aren't as detailed.  The list call should be roughly\u001b[0m\u001b[1;33m\u001b[0m\u001b[1;33m\u001b[0m\u001b[0m\n\u001b[0;32m    198\u001b[0m         \u001b[1;31m# equivalent to the PySequence_Fast that ''.join() would do.\u001b[0m\u001b[1;33m\u001b[0m\u001b[1;33m\u001b[0m\u001b[0m\n\u001b[1;32m--> 199\u001b[1;33m         \u001b[0mchunks\u001b[0m \u001b[1;33m=\u001b[0m \u001b[0mself\u001b[0m\u001b[1;33m.\u001b[0m\u001b[0miterencode\u001b[0m\u001b[1;33m(\u001b[0m\u001b[0mo\u001b[0m\u001b[1;33m,\u001b[0m \u001b[0m_one_shot\u001b[0m\u001b[1;33m=\u001b[0m\u001b[1;32mTrue\u001b[0m\u001b[1;33m)\u001b[0m\u001b[1;33m\u001b[0m\u001b[1;33m\u001b[0m\u001b[0m\n\u001b[0m\u001b[0;32m    200\u001b[0m         \u001b[1;32mif\u001b[0m \u001b[1;32mnot\u001b[0m \u001b[0misinstance\u001b[0m\u001b[1;33m(\u001b[0m\u001b[0mchunks\u001b[0m\u001b[1;33m,\u001b[0m \u001b[1;33m(\u001b[0m\u001b[0mlist\u001b[0m\u001b[1;33m,\u001b[0m \u001b[0mtuple\u001b[0m\u001b[1;33m)\u001b[0m\u001b[1;33m)\u001b[0m\u001b[1;33m:\u001b[0m\u001b[1;33m\u001b[0m\u001b[1;33m\u001b[0m\u001b[0m\n\u001b[0;32m    201\u001b[0m             \u001b[0mchunks\u001b[0m \u001b[1;33m=\u001b[0m \u001b[0mlist\u001b[0m\u001b[1;33m(\u001b[0m\u001b[0mchunks\u001b[0m\u001b[1;33m)\u001b[0m\u001b[1;33m\u001b[0m\u001b[1;33m\u001b[0m\u001b[0m\n",
      "\u001b[1;32m~\\Anaconda3\\lib\\json\\encoder.py\u001b[0m in \u001b[0;36miterencode\u001b[1;34m(self, o, _one_shot)\u001b[0m\n\u001b[0;32m    255\u001b[0m                 \u001b[0mself\u001b[0m\u001b[1;33m.\u001b[0m\u001b[0mkey_separator\u001b[0m\u001b[1;33m,\u001b[0m \u001b[0mself\u001b[0m\u001b[1;33m.\u001b[0m\u001b[0mitem_separator\u001b[0m\u001b[1;33m,\u001b[0m \u001b[0mself\u001b[0m\u001b[1;33m.\u001b[0m\u001b[0msort_keys\u001b[0m\u001b[1;33m,\u001b[0m\u001b[1;33m\u001b[0m\u001b[1;33m\u001b[0m\u001b[0m\n\u001b[0;32m    256\u001b[0m                 self.skipkeys, _one_shot)\n\u001b[1;32m--> 257\u001b[1;33m         \u001b[1;32mreturn\u001b[0m \u001b[0m_iterencode\u001b[0m\u001b[1;33m(\u001b[0m\u001b[0mo\u001b[0m\u001b[1;33m,\u001b[0m \u001b[1;36m0\u001b[0m\u001b[1;33m)\u001b[0m\u001b[1;33m\u001b[0m\u001b[1;33m\u001b[0m\u001b[0m\n\u001b[0m\u001b[0;32m    258\u001b[0m \u001b[1;33m\u001b[0m\u001b[0m\n\u001b[0;32m    259\u001b[0m def _make_iterencode(markers, _default, _encoder, _indent, _floatstr,\n",
      "\u001b[1;32m~\\Anaconda3\\lib\\json\\encoder.py\u001b[0m in \u001b[0;36mdefault\u001b[1;34m(self, o)\u001b[0m\n\u001b[0;32m    177\u001b[0m \u001b[1;33m\u001b[0m\u001b[0m\n\u001b[0;32m    178\u001b[0m         \"\"\"\n\u001b[1;32m--> 179\u001b[1;33m         raise TypeError(f'Object of type {o.__class__.__name__} '\n\u001b[0m\u001b[0;32m    180\u001b[0m                         f'is not JSON serializable')\n\u001b[0;32m    181\u001b[0m \u001b[1;33m\u001b[0m\u001b[0m\n",
      "\u001b[1;31mTypeError\u001b[0m: Object of type Tournament is not JSON serializable"
     ]
    }
   ],
   "source": [
    "json_data = json.dumps(p1.__dict__)  #так НЕ сработает (многоуровневые объекты так нельзя)\n",
    "print(json_data)"
   ]
  },
  {
   "cell_type": "code",
   "execution_count": 26,
   "id": "a172bdb1",
   "metadata": {},
   "outputs": [],
   "source": [
    "# __dict__ нужно брать на всех влоденных объектах рекурсивно, для сериализации МНОГОУРОВНЕГО объекта "
   ]
  },
  {
   "cell_type": "markdown",
   "id": "c7ec097b",
   "metadata": {},
   "source": [
    "#### делай так"
   ]
  },
  {
   "cell_type": "code",
   "execution_count": 29,
   "id": "bbd14e29",
   "metadata": {},
   "outputs": [
    {
     "name": "stdout",
     "output_type": "stream",
     "text": [
      "{\"tournaments\": [{\"name\": \"Aeroflot Open\", \"year\": 2010}, {\"name\": \"Fifi\", \"year\": 2013}, {\"name\": \"Gogi\", \"year\": 2021}]}\n"
     ]
    }
   ],
   "source": [
    "json_data = json.dumps(p1, default = lambda obj: obj.__dict__) #default будет применять функцию сериализации если ко всем уровням\n",
    "print(json_data)"
   ]
  },
  {
   "cell_type": "markdown",
   "id": "3f05f142",
   "metadata": {},
   "source": [
    "#### Десериализация сложного объекта (проблема)"
   ]
  },
  {
   "cell_type": "code",
   "execution_count": 31,
   "id": "20613d92",
   "metadata": {},
   "outputs": [
    {
     "name": "stdout",
     "output_type": "stream",
     "text": [
      "<__main__.ChessPlayer object at 0x000001C2B39833A0>\n"
     ]
    }
   ],
   "source": [
    "decoded_player = ChessPlayer(**json.loads(json_data)) \n",
    "print(decoded_player)"
   ]
  },
  {
   "cell_type": "code",
   "execution_count": 33,
   "id": "90b3f468",
   "metadata": {},
   "outputs": [
    {
     "name": "stdout",
     "output_type": "stream",
     "text": [
      "<class 'dict'>\n",
      "{'name': 'Aeroflot Open', 'year': 2010}\n"
     ]
    }
   ],
   "source": [
    "player_tournament = decoded_player.tournaments[0] # в player_tournament лежит дикт а не ТИП Tournament\n",
    "print(type(player_tournament))\n",
    "\n",
    "print(player_tournament) "
   ]
  },
  {
   "cell_type": "code",
   "execution_count": 37,
   "id": "3ce6596d",
   "metadata": {},
   "outputs": [],
   "source": [
    "class Tournament:\n",
    "    \n",
    "    def __init__(self, name, year):\n",
    "        self.name = name\n",
    "        self.year = year\n",
    "        \n",
    "    @classmethod\n",
    "    def from_json(cls, json_data):\n",
    "        return cls(**json_data)\n",
    "        \n",
    "class ChessPlayer:\n",
    "    \n",
    "    def __init__(self, tournaments):\n",
    "        self.tournaments = tournaments\n",
    "      \n",
    "    @classmethod\n",
    "    def from_json(cls, json_data):\n",
    "        tournaments = list(map(Tournament.from_json, json_data[\"tournaments\"])) #это функция Tournament.from_json\n",
    "        return cls(tournaments)"
   ]
  },
  {
   "cell_type": "code",
   "execution_count": 38,
   "id": "dbf08214",
   "metadata": {},
   "outputs": [],
   "source": [
    "t1 = Tournament('Aeroflot Open', 2010)\n",
    "t2 = Tournament('Fifi', 2013)\n",
    "t3 = Tournament('Gogi', 2021)\n",
    "\n",
    "p1 = ChessPlayer([t1, t2, t3])"
   ]
  },
  {
   "cell_type": "code",
   "execution_count": 41,
   "id": "2d4b1010",
   "metadata": {},
   "outputs": [
    {
     "name": "stdout",
     "output_type": "stream",
     "text": [
      "<class 'str'>\n",
      "{\n",
      "    \"tournaments\": [\n",
      "        {\n",
      "            \"name\": \"Aeroflot Open\",\n",
      "            \"year\": 2010\n",
      "        },\n",
      "        {\n",
      "            \"name\": \"Fifi\",\n",
      "            \"year\": 2013\n",
      "        },\n",
      "        {\n",
      "            \"name\": \"Gogi\",\n",
      "            \"year\": 2021\n",
      "        }\n",
      "    ]\n",
      "}\n",
      "<__main__.ChessPlayer object at 0x000001C2B3983DF0>\n",
      "[<__main__.Tournament object at 0x000001C2B3983760>, <__main__.Tournament object at 0x000001C2B386CD90>, <__main__.Tournament object at 0x000001C2B386CE50>]\n"
     ]
    }
   ],
   "source": [
    "json_data = json.dumps(p1, default = lambda obj: obj.__dict__, indent = 4, sort_keys = True)\n",
    "print(type(json_data))\n",
    "print(json_data)\n",
    "\n",
    "decoded_player = ChessPlayer.from_json(json.loads(json_data))\n",
    "print(decoded_player)\n",
    "print(decoded_player.tournaments)"
   ]
  },
  {
   "cell_type": "markdown",
   "id": "526eef7e",
   "metadata": {},
   "source": [
    "# dump & load\n",
    "методы которые сериализуют в и кладут файл, а не в строку (как dumps, loads)"
   ]
  },
  {
   "cell_type": "code",
   "execution_count": 42,
   "id": "b46bc533",
   "metadata": {},
   "outputs": [
    {
     "name": "stdout",
     "output_type": "stream",
     "text": [
      "{'tournaments': [{'name': 'Aeroflot Open', 'year': 2010}, {'name': 'Fifi', 'year': 2013}, {'name': 'Gogi', 'year': 2021}]}\n"
     ]
    }
   ],
   "source": [
    "with open('player.json', 'w') as file:\n",
    "    json.dump(p1, file, default=lambda obj: obj.__dict__)\n",
    "    \n",
    "with open('player.json', 'r') as read_file:\n",
    "    data = json.load(read_file)\n",
    "    \n",
    "print(data)"
   ]
  },
  {
   "cell_type": "code",
   "execution_count": 43,
   "id": "49ef4df7",
   "metadata": {},
   "outputs": [
    {
     "name": "stdout",
     "output_type": "stream",
     "text": [
      "<__main__.ChessPlayer object at 0x000001C2B39833D0>\n",
      "[<__main__.Tournament object at 0x000001C2B39837C0>, <__main__.Tournament object at 0x000001C2B38874F0>, <__main__.Tournament object at 0x000001C2B3887F40>]\n"
     ]
    }
   ],
   "source": [
    "decoded_player = ChessPlayer.from_json(data)\n",
    "print(decoded_player)\n",
    "print(decoded_player.tournaments)"
   ]
  },
  {
   "cell_type": "markdown",
   "id": "da331e42",
   "metadata": {},
   "source": [
    "## Упражнения на тренировку с JSON \n",
    "https://jsonplaceholder.typicode.com/"
   ]
  },
  {
   "cell_type": "code",
   "execution_count": 45,
   "id": "44d386e5",
   "metadata": {},
   "outputs": [
    {
     "data": {
      "text/plain": [
       "[{'userId': 1, 'id': 1, 'title': 'delectus aut autem', 'completed': False},\n",
       " {'userId': 1,\n",
       "  'id': 2,\n",
       "  'title': 'quis ut nam facilis et officia qui',\n",
       "  'completed': False},\n",
       " {'userId': 1, 'id': 3, 'title': 'fugiat veniam minus', 'completed': False},\n",
       " {'userId': 1, 'id': 4, 'title': 'et porro tempora', 'completed': True},\n",
       " {'userId': 1,\n",
       "  'id': 5,\n",
       "  'title': 'laboriosam mollitia et enim quasi adipisci quia provident illum',\n",
       "  'completed': False},\n",
       " {'userId': 1,\n",
       "  'id': 6,\n",
       "  'title': 'qui ullam ratione quibusdam voluptatem quia omnis',\n",
       "  'completed': False},\n",
       " {'userId': 1,\n",
       "  'id': 7,\n",
       "  'title': 'illo expedita consequatur quia in',\n",
       "  'completed': False},\n",
       " {'userId': 1,\n",
       "  'id': 8,\n",
       "  'title': 'quo adipisci enim quam ut ab',\n",
       "  'completed': True},\n",
       " {'userId': 1,\n",
       "  'id': 9,\n",
       "  'title': 'molestiae perspiciatis ipsa',\n",
       "  'completed': False},\n",
       " {'userId': 1,\n",
       "  'id': 10,\n",
       "  'title': 'illo est ratione doloremque quia maiores aut',\n",
       "  'completed': True},\n",
       " {'userId': 1,\n",
       "  'id': 11,\n",
       "  'title': 'vero rerum temporibus dolor',\n",
       "  'completed': True},\n",
       " {'userId': 1,\n",
       "  'id': 12,\n",
       "  'title': 'ipsa repellendus fugit nisi',\n",
       "  'completed': True},\n",
       " {'userId': 1, 'id': 13, 'title': 'et doloremque nulla', 'completed': False},\n",
       " {'userId': 1,\n",
       "  'id': 14,\n",
       "  'title': 'repellendus sunt dolores architecto voluptatum',\n",
       "  'completed': True},\n",
       " {'userId': 1,\n",
       "  'id': 15,\n",
       "  'title': 'ab voluptatum amet voluptas',\n",
       "  'completed': True},\n",
       " {'userId': 1,\n",
       "  'id': 16,\n",
       "  'title': 'accusamus eos facilis sint et aut voluptatem',\n",
       "  'completed': True},\n",
       " {'userId': 1,\n",
       "  'id': 17,\n",
       "  'title': 'quo laboriosam deleniti aut qui',\n",
       "  'completed': True},\n",
       " {'userId': 1,\n",
       "  'id': 18,\n",
       "  'title': 'dolorum est consequatur ea mollitia in culpa',\n",
       "  'completed': False},\n",
       " {'userId': 1,\n",
       "  'id': 19,\n",
       "  'title': 'molestiae ipsa aut voluptatibus pariatur dolor nihil',\n",
       "  'completed': True},\n",
       " {'userId': 1,\n",
       "  'id': 20,\n",
       "  'title': 'ullam nobis libero sapiente ad optio sint',\n",
       "  'completed': True},\n",
       " {'userId': 2,\n",
       "  'id': 21,\n",
       "  'title': 'suscipit repellat esse quibusdam voluptatem incidunt',\n",
       "  'completed': False},\n",
       " {'userId': 2,\n",
       "  'id': 22,\n",
       "  'title': 'distinctio vitae autem nihil ut molestias quo',\n",
       "  'completed': True},\n",
       " {'userId': 2,\n",
       "  'id': 23,\n",
       "  'title': 'et itaque necessitatibus maxime molestiae qui quas velit',\n",
       "  'completed': False},\n",
       " {'userId': 2,\n",
       "  'id': 24,\n",
       "  'title': 'adipisci non ad dicta qui amet quaerat doloribus ea',\n",
       "  'completed': False},\n",
       " {'userId': 2,\n",
       "  'id': 25,\n",
       "  'title': 'voluptas quo tenetur perspiciatis explicabo natus',\n",
       "  'completed': True},\n",
       " {'userId': 2, 'id': 26, 'title': 'aliquam aut quasi', 'completed': True},\n",
       " {'userId': 2,\n",
       "  'id': 27,\n",
       "  'title': 'veritatis pariatur delectus',\n",
       "  'completed': True},\n",
       " {'userId': 2,\n",
       "  'id': 28,\n",
       "  'title': 'nesciunt totam sit blanditiis sit',\n",
       "  'completed': False},\n",
       " {'userId': 2, 'id': 29, 'title': 'laborum aut in quam', 'completed': False},\n",
       " {'userId': 2,\n",
       "  'id': 30,\n",
       "  'title': 'nemo perspiciatis repellat ut dolor libero commodi blanditiis omnis',\n",
       "  'completed': True},\n",
       " {'userId': 2,\n",
       "  'id': 31,\n",
       "  'title': 'repudiandae totam in est sint facere fuga',\n",
       "  'completed': False},\n",
       " {'userId': 2,\n",
       "  'id': 32,\n",
       "  'title': 'earum doloribus ea doloremque quis',\n",
       "  'completed': False},\n",
       " {'userId': 2, 'id': 33, 'title': 'sint sit aut vero', 'completed': False},\n",
       " {'userId': 2,\n",
       "  'id': 34,\n",
       "  'title': 'porro aut necessitatibus eaque distinctio',\n",
       "  'completed': False},\n",
       " {'userId': 2,\n",
       "  'id': 35,\n",
       "  'title': 'repellendus veritatis molestias dicta incidunt',\n",
       "  'completed': True},\n",
       " {'userId': 2,\n",
       "  'id': 36,\n",
       "  'title': 'excepturi deleniti adipisci voluptatem et neque optio illum ad',\n",
       "  'completed': True},\n",
       " {'userId': 2, 'id': 37, 'title': 'sunt cum tempora', 'completed': False},\n",
       " {'userId': 2, 'id': 38, 'title': 'totam quia non', 'completed': False},\n",
       " {'userId': 2,\n",
       "  'id': 39,\n",
       "  'title': 'doloremque quibusdam asperiores libero corrupti illum qui omnis',\n",
       "  'completed': False},\n",
       " {'userId': 2,\n",
       "  'id': 40,\n",
       "  'title': 'totam atque quo nesciunt',\n",
       "  'completed': True},\n",
       " {'userId': 3,\n",
       "  'id': 41,\n",
       "  'title': 'aliquid amet impedit consequatur aspernatur placeat eaque fugiat suscipit',\n",
       "  'completed': False},\n",
       " {'userId': 3,\n",
       "  'id': 42,\n",
       "  'title': 'rerum perferendis error quia ut eveniet',\n",
       "  'completed': False},\n",
       " {'userId': 3,\n",
       "  'id': 43,\n",
       "  'title': 'tempore ut sint quis recusandae',\n",
       "  'completed': True},\n",
       " {'userId': 3,\n",
       "  'id': 44,\n",
       "  'title': 'cum debitis quis accusamus doloremque ipsa natus sapiente omnis',\n",
       "  'completed': True},\n",
       " {'userId': 3,\n",
       "  'id': 45,\n",
       "  'title': 'velit soluta adipisci molestias reiciendis harum',\n",
       "  'completed': False},\n",
       " {'userId': 3,\n",
       "  'id': 46,\n",
       "  'title': 'vel voluptatem repellat nihil placeat corporis',\n",
       "  'completed': False},\n",
       " {'userId': 3,\n",
       "  'id': 47,\n",
       "  'title': 'nam qui rerum fugiat accusamus',\n",
       "  'completed': False},\n",
       " {'userId': 3,\n",
       "  'id': 48,\n",
       "  'title': 'sit reprehenderit omnis quia',\n",
       "  'completed': False},\n",
       " {'userId': 3,\n",
       "  'id': 49,\n",
       "  'title': 'ut necessitatibus aut maiores debitis officia blanditiis velit et',\n",
       "  'completed': False},\n",
       " {'userId': 3,\n",
       "  'id': 50,\n",
       "  'title': 'cupiditate necessitatibus ullam aut quis dolor voluptate',\n",
       "  'completed': True},\n",
       " {'userId': 3,\n",
       "  'id': 51,\n",
       "  'title': 'distinctio exercitationem ab doloribus',\n",
       "  'completed': False},\n",
       " {'userId': 3,\n",
       "  'id': 52,\n",
       "  'title': 'nesciunt dolorum quis recusandae ad pariatur ratione',\n",
       "  'completed': False},\n",
       " {'userId': 3,\n",
       "  'id': 53,\n",
       "  'title': 'qui labore est occaecati recusandae aliquid quam',\n",
       "  'completed': False},\n",
       " {'userId': 3,\n",
       "  'id': 54,\n",
       "  'title': 'quis et est ut voluptate quam dolor',\n",
       "  'completed': True},\n",
       " {'userId': 3,\n",
       "  'id': 55,\n",
       "  'title': 'voluptatum omnis minima qui occaecati provident nulla voluptatem ratione',\n",
       "  'completed': True},\n",
       " {'userId': 3,\n",
       "  'id': 56,\n",
       "  'title': 'deleniti ea temporibus enim',\n",
       "  'completed': True},\n",
       " {'userId': 3,\n",
       "  'id': 57,\n",
       "  'title': 'pariatur et magnam ea doloribus similique voluptatem rerum quia',\n",
       "  'completed': False},\n",
       " {'userId': 3,\n",
       "  'id': 58,\n",
       "  'title': 'est dicta totam qui explicabo doloribus qui dignissimos',\n",
       "  'completed': False},\n",
       " {'userId': 3,\n",
       "  'id': 59,\n",
       "  'title': 'perspiciatis velit id laborum placeat iusto et aliquam odio',\n",
       "  'completed': False},\n",
       " {'userId': 3,\n",
       "  'id': 60,\n",
       "  'title': 'et sequi qui architecto ut adipisci',\n",
       "  'completed': True},\n",
       " {'userId': 4,\n",
       "  'id': 61,\n",
       "  'title': 'odit optio omnis qui sunt',\n",
       "  'completed': True},\n",
       " {'userId': 4,\n",
       "  'id': 62,\n",
       "  'title': 'et placeat et tempore aspernatur sint numquam',\n",
       "  'completed': False},\n",
       " {'userId': 4,\n",
       "  'id': 63,\n",
       "  'title': 'doloremque aut dolores quidem fuga qui nulla',\n",
       "  'completed': True},\n",
       " {'userId': 4,\n",
       "  'id': 64,\n",
       "  'title': 'voluptas consequatur qui ut quia magnam nemo esse',\n",
       "  'completed': False},\n",
       " {'userId': 4,\n",
       "  'id': 65,\n",
       "  'title': 'fugiat pariatur ratione ut asperiores necessitatibus magni',\n",
       "  'completed': False},\n",
       " {'userId': 4,\n",
       "  'id': 66,\n",
       "  'title': 'rerum eum molestias autem voluptatum sit optio',\n",
       "  'completed': False},\n",
       " {'userId': 4,\n",
       "  'id': 67,\n",
       "  'title': 'quia voluptatibus voluptatem quos similique maiores repellat',\n",
       "  'completed': False},\n",
       " {'userId': 4,\n",
       "  'id': 68,\n",
       "  'title': 'aut id perspiciatis voluptatem iusto',\n",
       "  'completed': False},\n",
       " {'userId': 4,\n",
       "  'id': 69,\n",
       "  'title': 'doloribus sint dolorum ab adipisci itaque dignissimos aliquam suscipit',\n",
       "  'completed': False},\n",
       " {'userId': 4,\n",
       "  'id': 70,\n",
       "  'title': 'ut sequi accusantium et mollitia delectus sunt',\n",
       "  'completed': False},\n",
       " {'userId': 4, 'id': 71, 'title': 'aut velit saepe ullam', 'completed': False},\n",
       " {'userId': 4,\n",
       "  'id': 72,\n",
       "  'title': 'praesentium facilis facere quis harum voluptatibus voluptatem eum',\n",
       "  'completed': False},\n",
       " {'userId': 4,\n",
       "  'id': 73,\n",
       "  'title': 'sint amet quia totam corporis qui exercitationem commodi',\n",
       "  'completed': True},\n",
       " {'userId': 4,\n",
       "  'id': 74,\n",
       "  'title': 'expedita tempore nobis eveniet laborum maiores',\n",
       "  'completed': False},\n",
       " {'userId': 4,\n",
       "  'id': 75,\n",
       "  'title': 'occaecati adipisci est possimus totam',\n",
       "  'completed': False},\n",
       " {'userId': 4, 'id': 76, 'title': 'sequi dolorem sed', 'completed': True},\n",
       " {'userId': 4,\n",
       "  'id': 77,\n",
       "  'title': 'maiores aut nesciunt delectus exercitationem vel assumenda eligendi at',\n",
       "  'completed': False},\n",
       " {'userId': 4,\n",
       "  'id': 78,\n",
       "  'title': 'reiciendis est magnam amet nemo iste recusandae impedit quaerat',\n",
       "  'completed': False},\n",
       " {'userId': 4, 'id': 79, 'title': 'eum ipsa maxime ut', 'completed': True},\n",
       " {'userId': 4,\n",
       "  'id': 80,\n",
       "  'title': 'tempore molestias dolores rerum sequi voluptates ipsum consequatur',\n",
       "  'completed': True},\n",
       " {'userId': 5, 'id': 81, 'title': 'suscipit qui totam', 'completed': True},\n",
       " {'userId': 5,\n",
       "  'id': 82,\n",
       "  'title': 'voluptates eum voluptas et dicta',\n",
       "  'completed': False},\n",
       " {'userId': 5,\n",
       "  'id': 83,\n",
       "  'title': 'quidem at rerum quis ex aut sit quam',\n",
       "  'completed': True},\n",
       " {'userId': 5,\n",
       "  'id': 84,\n",
       "  'title': 'sunt veritatis ut voluptate',\n",
       "  'completed': False},\n",
       " {'userId': 5, 'id': 85, 'title': 'et quia ad iste a', 'completed': True},\n",
       " {'userId': 5,\n",
       "  'id': 86,\n",
       "  'title': 'incidunt ut saepe autem',\n",
       "  'completed': True},\n",
       " {'userId': 5,\n",
       "  'id': 87,\n",
       "  'title': 'laudantium quae eligendi consequatur quia et vero autem',\n",
       "  'completed': True},\n",
       " {'userId': 5,\n",
       "  'id': 88,\n",
       "  'title': 'vitae aut excepturi laboriosam sint aliquam et et accusantium',\n",
       "  'completed': False},\n",
       " {'userId': 5, 'id': 89, 'title': 'sequi ut omnis et', 'completed': True},\n",
       " {'userId': 5,\n",
       "  'id': 90,\n",
       "  'title': 'molestiae nisi accusantium tenetur dolorem et',\n",
       "  'completed': True},\n",
       " {'userId': 5,\n",
       "  'id': 91,\n",
       "  'title': 'nulla quis consequatur saepe qui id expedita',\n",
       "  'completed': True},\n",
       " {'userId': 5, 'id': 92, 'title': 'in omnis laboriosam', 'completed': True},\n",
       " {'userId': 5,\n",
       "  'id': 93,\n",
       "  'title': 'odio iure consequatur molestiae quibusdam necessitatibus quia sint',\n",
       "  'completed': True},\n",
       " {'userId': 5,\n",
       "  'id': 94,\n",
       "  'title': 'facilis modi saepe mollitia',\n",
       "  'completed': False},\n",
       " {'userId': 5,\n",
       "  'id': 95,\n",
       "  'title': 'vel nihil et molestiae iusto assumenda nemo quo ut',\n",
       "  'completed': True},\n",
       " {'userId': 5,\n",
       "  'id': 96,\n",
       "  'title': 'nobis suscipit ducimus enim asperiores voluptas',\n",
       "  'completed': False},\n",
       " {'userId': 5,\n",
       "  'id': 97,\n",
       "  'title': 'dolorum laboriosam eos qui iure aliquam',\n",
       "  'completed': False},\n",
       " {'userId': 5,\n",
       "  'id': 98,\n",
       "  'title': 'debitis accusantium ut quo facilis nihil quis sapiente necessitatibus',\n",
       "  'completed': True},\n",
       " {'userId': 5,\n",
       "  'id': 99,\n",
       "  'title': 'neque voluptates ratione',\n",
       "  'completed': False},\n",
       " {'userId': 5,\n",
       "  'id': 100,\n",
       "  'title': 'excepturi a et neque qui expedita vel voluptate',\n",
       "  'completed': False},\n",
       " {'userId': 6,\n",
       "  'id': 101,\n",
       "  'title': 'explicabo enim cumque porro aperiam occaecati minima',\n",
       "  'completed': False},\n",
       " {'userId': 6, 'id': 102, 'title': 'sed ab consequatur', 'completed': False},\n",
       " {'userId': 6,\n",
       "  'id': 103,\n",
       "  'title': 'non sunt delectus illo nulla tenetur enim omnis',\n",
       "  'completed': False},\n",
       " {'userId': 6,\n",
       "  'id': 104,\n",
       "  'title': 'excepturi non laudantium quo',\n",
       "  'completed': False},\n",
       " {'userId': 6,\n",
       "  'id': 105,\n",
       "  'title': 'totam quia dolorem et illum repellat voluptas optio',\n",
       "  'completed': True},\n",
       " {'userId': 6,\n",
       "  'id': 106,\n",
       "  'title': 'ad illo quis voluptatem temporibus',\n",
       "  'completed': True},\n",
       " {'userId': 6,\n",
       "  'id': 107,\n",
       "  'title': 'praesentium facilis omnis laudantium fugit ad iusto nihil nesciunt',\n",
       "  'completed': False},\n",
       " {'userId': 6,\n",
       "  'id': 108,\n",
       "  'title': 'a eos eaque nihil et exercitationem incidunt delectus',\n",
       "  'completed': True},\n",
       " {'userId': 6,\n",
       "  'id': 109,\n",
       "  'title': 'autem temporibus harum quisquam in culpa',\n",
       "  'completed': True},\n",
       " {'userId': 6, 'id': 110, 'title': 'aut aut ea corporis', 'completed': True},\n",
       " {'userId': 6,\n",
       "  'id': 111,\n",
       "  'title': 'magni accusantium labore et id quis provident',\n",
       "  'completed': False},\n",
       " {'userId': 6,\n",
       "  'id': 112,\n",
       "  'title': 'consectetur impedit quisquam qui deserunt non rerum consequuntur eius',\n",
       "  'completed': False},\n",
       " {'userId': 6,\n",
       "  'id': 113,\n",
       "  'title': 'quia atque aliquam sunt impedit voluptatum rerum assumenda nisi',\n",
       "  'completed': False},\n",
       " {'userId': 6,\n",
       "  'id': 114,\n",
       "  'title': 'cupiditate quos possimus corporis quisquam exercitationem beatae',\n",
       "  'completed': False},\n",
       " {'userId': 6, 'id': 115, 'title': 'sed et ea eum', 'completed': False},\n",
       " {'userId': 6,\n",
       "  'id': 116,\n",
       "  'title': 'ipsa dolores vel facilis ut',\n",
       "  'completed': True},\n",
       " {'userId': 6,\n",
       "  'id': 117,\n",
       "  'title': 'sequi quae est et qui qui eveniet asperiores',\n",
       "  'completed': False},\n",
       " {'userId': 6,\n",
       "  'id': 118,\n",
       "  'title': 'quia modi consequatur vero fugiat',\n",
       "  'completed': False},\n",
       " {'userId': 6,\n",
       "  'id': 119,\n",
       "  'title': 'corporis ducimus ea perspiciatis iste',\n",
       "  'completed': False},\n",
       " {'userId': 6,\n",
       "  'id': 120,\n",
       "  'title': 'dolorem laboriosam vel voluptas et aliquam quasi',\n",
       "  'completed': False},\n",
       " {'userId': 7,\n",
       "  'id': 121,\n",
       "  'title': 'inventore aut nihil minima laudantium hic qui omnis',\n",
       "  'completed': True},\n",
       " {'userId': 7,\n",
       "  'id': 122,\n",
       "  'title': 'provident aut nobis culpa',\n",
       "  'completed': True},\n",
       " {'userId': 7,\n",
       "  'id': 123,\n",
       "  'title': 'esse et quis iste est earum aut impedit',\n",
       "  'completed': False},\n",
       " {'userId': 7, 'id': 124, 'title': 'qui consectetur id', 'completed': False},\n",
       " {'userId': 7,\n",
       "  'id': 125,\n",
       "  'title': 'aut quasi autem iste tempore illum possimus',\n",
       "  'completed': False},\n",
       " {'userId': 7,\n",
       "  'id': 126,\n",
       "  'title': 'ut asperiores perspiciatis veniam ipsum rerum saepe',\n",
       "  'completed': True},\n",
       " {'userId': 7,\n",
       "  'id': 127,\n",
       "  'title': 'voluptatem libero consectetur rerum ut',\n",
       "  'completed': True},\n",
       " {'userId': 7,\n",
       "  'id': 128,\n",
       "  'title': 'eius omnis est qui voluptatem autem',\n",
       "  'completed': False},\n",
       " {'userId': 7,\n",
       "  'id': 129,\n",
       "  'title': 'rerum culpa quis harum',\n",
       "  'completed': False},\n",
       " {'userId': 7,\n",
       "  'id': 130,\n",
       "  'title': 'nulla aliquid eveniet harum laborum libero alias ut unde',\n",
       "  'completed': True},\n",
       " {'userId': 7, 'id': 131, 'title': 'qui ea incidunt quis', 'completed': False},\n",
       " {'userId': 7,\n",
       "  'id': 132,\n",
       "  'title': 'qui molestiae voluptatibus velit iure harum quisquam',\n",
       "  'completed': True},\n",
       " {'userId': 7,\n",
       "  'id': 133,\n",
       "  'title': 'et labore eos enim rerum consequatur sunt',\n",
       "  'completed': True},\n",
       " {'userId': 7,\n",
       "  'id': 134,\n",
       "  'title': 'molestiae doloribus et laborum quod ea',\n",
       "  'completed': False},\n",
       " {'userId': 7,\n",
       "  'id': 135,\n",
       "  'title': 'facere ipsa nam eum voluptates reiciendis vero qui',\n",
       "  'completed': False},\n",
       " {'userId': 7,\n",
       "  'id': 136,\n",
       "  'title': 'asperiores illo tempora fuga sed ut quasi adipisci',\n",
       "  'completed': False},\n",
       " {'userId': 7, 'id': 137, 'title': 'qui sit non', 'completed': False},\n",
       " {'userId': 7,\n",
       "  'id': 138,\n",
       "  'title': 'placeat minima consequatur rem qui ut',\n",
       "  'completed': True},\n",
       " {'userId': 7,\n",
       "  'id': 139,\n",
       "  'title': 'consequatur doloribus id possimus voluptas a voluptatem',\n",
       "  'completed': False},\n",
       " {'userId': 7,\n",
       "  'id': 140,\n",
       "  'title': 'aut consectetur in blanditiis deserunt quia sed laboriosam',\n",
       "  'completed': True},\n",
       " {'userId': 8,\n",
       "  'id': 141,\n",
       "  'title': 'explicabo consectetur debitis voluptates quas quae culpa rerum non',\n",
       "  'completed': True},\n",
       " {'userId': 8,\n",
       "  'id': 142,\n",
       "  'title': 'maiores accusantium architecto necessitatibus reiciendis ea aut',\n",
       "  'completed': True},\n",
       " {'userId': 8,\n",
       "  'id': 143,\n",
       "  'title': 'eum non recusandae cupiditate animi',\n",
       "  'completed': False},\n",
       " {'userId': 8,\n",
       "  'id': 144,\n",
       "  'title': 'ut eum exercitationem sint',\n",
       "  'completed': False},\n",
       " {'userId': 8,\n",
       "  'id': 145,\n",
       "  'title': 'beatae qui ullam incidunt voluptatem non nisi aliquam',\n",
       "  'completed': False},\n",
       " {'userId': 8,\n",
       "  'id': 146,\n",
       "  'title': 'molestiae suscipit ratione nihil odio libero impedit vero totam',\n",
       "  'completed': True},\n",
       " {'userId': 8,\n",
       "  'id': 147,\n",
       "  'title': 'eum itaque quod reprehenderit et facilis dolor autem ut',\n",
       "  'completed': True},\n",
       " {'userId': 8,\n",
       "  'id': 148,\n",
       "  'title': 'esse quas et quo quasi exercitationem',\n",
       "  'completed': False},\n",
       " {'userId': 8,\n",
       "  'id': 149,\n",
       "  'title': 'animi voluptas quod perferendis est',\n",
       "  'completed': False},\n",
       " {'userId': 8,\n",
       "  'id': 150,\n",
       "  'title': 'eos amet tempore laudantium fugit a',\n",
       "  'completed': False},\n",
       " {'userId': 8,\n",
       "  'id': 151,\n",
       "  'title': 'accusamus adipisci dicta qui quo ea explicabo sed vero',\n",
       "  'completed': True},\n",
       " {'userId': 8,\n",
       "  'id': 152,\n",
       "  'title': 'odit eligendi recusandae doloremque cumque non',\n",
       "  'completed': False},\n",
       " {'userId': 8,\n",
       "  'id': 153,\n",
       "  'title': 'ea aperiam consequatur qui repellat eos',\n",
       "  'completed': False},\n",
       " {'userId': 8, 'id': 154, 'title': 'rerum non ex sapiente', 'completed': True},\n",
       " {'userId': 8,\n",
       "  'id': 155,\n",
       "  'title': 'voluptatem nobis consequatur et assumenda magnam',\n",
       "  'completed': True},\n",
       " {'userId': 8,\n",
       "  'id': 156,\n",
       "  'title': 'nam quia quia nulla repellat assumenda quibusdam sit nobis',\n",
       "  'completed': True},\n",
       " {'userId': 8,\n",
       "  'id': 157,\n",
       "  'title': 'dolorem veniam quisquam deserunt repellendus',\n",
       "  'completed': True},\n",
       " {'userId': 8,\n",
       "  'id': 158,\n",
       "  'title': 'debitis vitae delectus et harum accusamus aut deleniti a',\n",
       "  'completed': True},\n",
       " {'userId': 8,\n",
       "  'id': 159,\n",
       "  'title': 'debitis adipisci quibusdam aliquam sed dolore ea praesentium nobis',\n",
       "  'completed': True},\n",
       " {'userId': 8,\n",
       "  'id': 160,\n",
       "  'title': 'et praesentium aliquam est',\n",
       "  'completed': False},\n",
       " {'userId': 9,\n",
       "  'id': 161,\n",
       "  'title': 'ex hic consequuntur earum omnis alias ut occaecati culpa',\n",
       "  'completed': True},\n",
       " {'userId': 9,\n",
       "  'id': 162,\n",
       "  'title': 'omnis laboriosam molestias animi sunt dolore',\n",
       "  'completed': True},\n",
       " {'userId': 9,\n",
       "  'id': 163,\n",
       "  'title': 'natus corrupti maxime laudantium et voluptatem laboriosam odit',\n",
       "  'completed': False},\n",
       " {'userId': 9,\n",
       "  'id': 164,\n",
       "  'title': 'reprehenderit quos aut aut consequatur est sed',\n",
       "  'completed': False},\n",
       " {'userId': 9,\n",
       "  'id': 165,\n",
       "  'title': 'fugiat perferendis sed aut quidem',\n",
       "  'completed': False},\n",
       " {'userId': 9,\n",
       "  'id': 166,\n",
       "  'title': 'quos quo possimus suscipit minima ut',\n",
       "  'completed': False},\n",
       " {'userId': 9,\n",
       "  'id': 167,\n",
       "  'title': 'et quis minus quo a asperiores molestiae',\n",
       "  'completed': False},\n",
       " {'userId': 9,\n",
       "  'id': 168,\n",
       "  'title': 'recusandae quia qui sunt libero',\n",
       "  'completed': False},\n",
       " {'userId': 9,\n",
       "  'id': 169,\n",
       "  'title': 'ea odio perferendis officiis',\n",
       "  'completed': True},\n",
       " {'userId': 9,\n",
       "  'id': 170,\n",
       "  'title': 'quisquam aliquam quia doloribus aut',\n",
       "  'completed': False},\n",
       " {'userId': 9,\n",
       "  'id': 171,\n",
       "  'title': 'fugiat aut voluptatibus corrupti deleniti velit iste odio',\n",
       "  'completed': True},\n",
       " {'userId': 9,\n",
       "  'id': 172,\n",
       "  'title': 'et provident amet rerum consectetur et voluptatum',\n",
       "  'completed': False},\n",
       " {'userId': 9,\n",
       "  'id': 173,\n",
       "  'title': 'harum ad aperiam quis',\n",
       "  'completed': False},\n",
       " {'userId': 9, 'id': 174, 'title': 'similique aut quo', 'completed': False},\n",
       " {'userId': 9,\n",
       "  'id': 175,\n",
       "  'title': 'laudantium eius officia perferendis provident perspiciatis asperiores',\n",
       "  'completed': True},\n",
       " {'userId': 9,\n",
       "  'id': 176,\n",
       "  'title': 'magni soluta corrupti ut maiores rem quidem',\n",
       "  'completed': False},\n",
       " {'userId': 9,\n",
       "  'id': 177,\n",
       "  'title': 'et placeat temporibus voluptas est tempora quos quibusdam',\n",
       "  'completed': False},\n",
       " {'userId': 9,\n",
       "  'id': 178,\n",
       "  'title': 'nesciunt itaque commodi tempore',\n",
       "  'completed': True},\n",
       " {'userId': 9,\n",
       "  'id': 179,\n",
       "  'title': 'omnis consequuntur cupiditate impedit itaque ipsam quo',\n",
       "  'completed': True},\n",
       " {'userId': 9,\n",
       "  'id': 180,\n",
       "  'title': 'debitis nisi et dolorem repellat et',\n",
       "  'completed': True},\n",
       " {'userId': 10,\n",
       "  'id': 181,\n",
       "  'title': 'ut cupiditate sequi aliquam fuga maiores',\n",
       "  'completed': False},\n",
       " {'userId': 10,\n",
       "  'id': 182,\n",
       "  'title': 'inventore saepe cumque et aut illum enim',\n",
       "  'completed': True},\n",
       " {'userId': 10,\n",
       "  'id': 183,\n",
       "  'title': 'omnis nulla eum aliquam distinctio',\n",
       "  'completed': True},\n",
       " {'userId': 10,\n",
       "  'id': 184,\n",
       "  'title': 'molestias modi perferendis perspiciatis',\n",
       "  'completed': False},\n",
       " {'userId': 10,\n",
       "  'id': 185,\n",
       "  'title': 'voluptates dignissimos sed doloribus animi quaerat aut',\n",
       "  'completed': False},\n",
       " {'userId': 10,\n",
       "  'id': 186,\n",
       "  'title': 'explicabo odio est et',\n",
       "  'completed': False},\n",
       " {'userId': 10,\n",
       "  'id': 187,\n",
       "  'title': 'consequuntur animi possimus',\n",
       "  'completed': False},\n",
       " {'userId': 10, 'id': 188, 'title': 'vel non beatae est', 'completed': True},\n",
       " {'userId': 10,\n",
       "  'id': 189,\n",
       "  'title': 'culpa eius et voluptatem et',\n",
       "  'completed': True},\n",
       " {'userId': 10,\n",
       "  'id': 190,\n",
       "  'title': 'accusamus sint iusto et voluptatem exercitationem',\n",
       "  'completed': True},\n",
       " {'userId': 10,\n",
       "  'id': 191,\n",
       "  'title': 'temporibus atque distinctio omnis eius impedit tempore molestias pariatur',\n",
       "  'completed': True},\n",
       " {'userId': 10,\n",
       "  'id': 192,\n",
       "  'title': 'ut quas possimus exercitationem sint voluptates',\n",
       "  'completed': False},\n",
       " {'userId': 10,\n",
       "  'id': 193,\n",
       "  'title': 'rerum debitis voluptatem qui eveniet tempora distinctio a',\n",
       "  'completed': True},\n",
       " {'userId': 10,\n",
       "  'id': 194,\n",
       "  'title': 'sed ut vero sit molestiae',\n",
       "  'completed': False},\n",
       " {'userId': 10,\n",
       "  'id': 195,\n",
       "  'title': 'rerum ex veniam mollitia voluptatibus pariatur',\n",
       "  'completed': True},\n",
       " {'userId': 10,\n",
       "  'id': 196,\n",
       "  'title': 'consequuntur aut ut fugit similique',\n",
       "  'completed': True},\n",
       " {'userId': 10,\n",
       "  'id': 197,\n",
       "  'title': 'dignissimos quo nobis earum saepe',\n",
       "  'completed': True},\n",
       " {'userId': 10,\n",
       "  'id': 198,\n",
       "  'title': 'quis eius est sint explicabo',\n",
       "  'completed': True},\n",
       " {'userId': 10,\n",
       "  'id': 199,\n",
       "  'title': 'numquam repellendus a magnam',\n",
       "  'completed': True},\n",
       " {'userId': 10,\n",
       "  'id': 200,\n",
       "  'title': 'ipsam aperiam voluptates qui',\n",
       "  'completed': False}]"
      ]
     },
     "execution_count": 45,
     "metadata": {},
     "output_type": "execute_result"
    }
   ],
   "source": [
    "import requests \n",
    "\n",
    "response = requests.get(\"https://jsonplaceholder.typicode.com/todos\") \n",
    "todos = json.loads(response.text)\n",
    "\n",
    "todos"
   ]
  },
  {
   "cell_type": "markdown",
   "id": "d3317358",
   "metadata": {},
   "source": [
    "# Генераторы"
   ]
  },
  {
   "cell_type": "code",
   "execution_count": 46,
   "id": "94daeee7",
   "metadata": {},
   "outputs": [],
   "source": [
    "import random"
   ]
  },
  {
   "cell_type": "code",
   "execution_count": 47,
   "id": "b8086ac1",
   "metadata": {},
   "outputs": [],
   "source": [
    "def randoms(min, max, n):\n",
    "    return [random.randint(min, max) for _ in range(n)] #ПРОБЛЕМА в памяти будут храниться все числа в списке"
   ]
  },
  {
   "cell_type": "code",
   "execution_count": 48,
   "id": "a12b2a14",
   "metadata": {},
   "outputs": [
    {
     "name": "stdout",
     "output_type": "stream",
     "text": [
      "25\n",
      "25\n",
      "27\n",
      "11\n",
      "22\n"
     ]
    }
   ],
   "source": [
    "for r in randoms(10, 30, 5): #ПРОБЛЕМА в памяти будут храниться все числа в списке\n",
    "    print(r)"
   ]
  },
  {
   "cell_type": "code",
   "execution_count": 65,
   "id": "2a0e5873",
   "metadata": {},
   "outputs": [],
   "source": [
    "#гениратор\n",
    "def randoms(min, max, n):\n",
    "    for i in range(n):\n",
    "        yield random.randint(min, max) #за счет yield выдает цифры поодной и не хранит лист в памяти (при каждом запросе выдает цифру)"
   ]
  },
  {
   "cell_type": "code",
   "execution_count": 66,
   "id": "f2f8e3bb",
   "metadata": {},
   "outputs": [
    {
     "name": "stdout",
     "output_type": "stream",
     "text": [
      "26\n",
      "12\n",
      "27\n",
      "16\n",
      "22\n"
     ]
    }
   ],
   "source": [
    "for r in randoms(10, 30, 5): #lazy avaluation ahahahahh)))\n",
    "    print(r)"
   ]
  },
  {
   "cell_type": "code",
   "execution_count": 67,
   "id": "3f667c27",
   "metadata": {},
   "outputs": [
    {
     "data": {
      "text/plain": [
       "<generator object randoms at 0x000001C2B3C4DEB0>"
      ]
     },
     "execution_count": 67,
     "metadata": {},
     "output_type": "execute_result"
    }
   ],
   "source": [
    "rand_sequence = randoms(1, 10, 10) #generator\n",
    "rand_sequence"
   ]
  },
  {
   "cell_type": "code",
   "execution_count": 68,
   "id": "856c385c",
   "metadata": {},
   "outputs": [],
   "source": [
    "#по генератору можно пройти только ОДИН РАЗ"
   ]
  },
  {
   "cell_type": "code",
   "execution_count": 69,
   "id": "3789a901",
   "metadata": {},
   "outputs": [
    {
     "name": "stdout",
     "output_type": "stream",
     "text": [
      "6\n",
      "8\n",
      "3\n",
      "2\n",
      "4\n",
      "7\n",
      "3\n",
      "8\n",
      "1\n",
      "9\n"
     ]
    }
   ],
   "source": [
    "for r in rand_sequence:\n",
    "    print(r)"
   ]
  },
  {
   "cell_type": "code",
   "execution_count": 71,
   "id": "92bf21c5",
   "metadata": {},
   "outputs": [],
   "source": [
    "for r in rand_sequence: #второй раз использовать ОБЪЕТ гениратор НЕЛЬЗЯ, обратно перемотать нельзя\n",
    "    print(r)"
   ]
  },
  {
   "cell_type": "code",
   "execution_count": 72,
   "id": "2baeef3e",
   "metadata": {},
   "outputs": [],
   "source": [
    "seq = list(randoms(1,10,5)) #если нужно несколько раз пройтись по последовательности, клади ее в лист, чтоб каждый раз не вычислять"
   ]
  },
  {
   "cell_type": "code",
   "execution_count": 73,
   "id": "8a225d7a",
   "metadata": {},
   "outputs": [
    {
     "data": {
      "text/plain": [
       "[10, 10, 4, 6, 10]"
      ]
     },
     "execution_count": 73,
     "metadata": {},
     "output_type": "execute_result"
    }
   ],
   "source": [
    "seq"
   ]
  },
  {
   "cell_type": "code",
   "execution_count": 74,
   "id": "d3cff428",
   "metadata": {},
   "outputs": [],
   "source": [
    "#гениратор\n",
    "def randoms(min, max, n):\n",
    "    for i in range(n):\n",
    "        yield random.randint(min, max)"
   ]
  },
  {
   "cell_type": "code",
   "execution_count": 76,
   "id": "3926208f",
   "metadata": {},
   "outputs": [
    {
     "name": "stdout",
     "output_type": "stream",
     "text": [
      "[2, 3, 4, 10, 2]\n"
     ]
    }
   ],
   "source": [
    "import itertools\n",
    "\n",
    "rand_sequence = randoms(1,10,10)\n",
    "five_taken = list(itertools.islice(rand_sequence, 5)) #берет из генератора нужное количество чисел\n",
    "print(five_taken)"
   ]
  },
  {
   "cell_type": "code",
   "execution_count": 77,
   "id": "3ae63ec1",
   "metadata": {},
   "outputs": [],
   "source": [
    "#можно переписать так и оно будет работать корректно\n",
    "\n",
    "#гениратор\n",
    "def randoms(min, max):\n",
    "    while True:\n",
    "        yield random.randint(min, max) #выполняется по одной итерации на запрос, нет бесконечного цикла\n",
    "\n",
    "rand_seq = randoms(1, 10000)"
   ]
  },
  {
   "cell_type": "code",
   "execution_count": 78,
   "id": "cf2d0287",
   "metadata": {},
   "outputs": [
    {
     "data": {
      "text/plain": [
       "[543, 3229, 9969, 2475, 5378]"
      ]
     },
     "execution_count": 78,
     "metadata": {},
     "output_type": "execute_result"
    }
   ],
   "source": [
    "file_taken = list(itertools.islice(rand_seq, 5))\n",
    "file_taken"
   ]
  },
  {
   "cell_type": "markdown",
   "id": "3b66ef17",
   "metadata": {},
   "source": [
    "## СУТЬ! Гениратора\n",
    "через генератор можно вычитывать файл лениво (построчно)"
   ]
  },
  {
   "cell_type": "code",
   "execution_count": 81,
   "id": "e429b8b4",
   "metadata": {},
   "outputs": [],
   "source": [
    "def read_line_by_line(file):\n",
    "    '''Lazy function (generator) to read a file line by line.'''\n",
    "    while True:\n",
    "        line = file.readline()\n",
    "        if not line:\n",
    "            break\n",
    "        yield line"
   ]
  },
  {
   "cell_type": "code",
   "execution_count": 82,
   "id": "4858c2ee",
   "metadata": {},
   "outputs": [
    {
     "name": "stdout",
     "output_type": "stream",
     "text": [
      "eric;1231\n",
      "Tomb;123123\n"
     ]
    }
   ],
   "source": [
    "file = open('sample.txt')\n",
    "\n",
    "for line in read_line_by_line(file):\n",
    "    print(line.rstrip())"
   ]
  },
  {
   "cell_type": "markdown",
   "id": "3ab9108d",
   "metadata": {},
   "source": [
    "### Next"
   ]
  },
  {
   "cell_type": "code",
   "execution_count": 85,
   "id": "0a06f09e",
   "metadata": {},
   "outputs": [
    {
     "name": "stdout",
     "output_type": "stream",
     "text": [
      "1\n",
      "3\n",
      "7\n"
     ]
    }
   ],
   "source": [
    "rand_seq = randoms(1, 10)\n",
    "n = next(rand_seq) #вручную просим выдать следущий элемент\n",
    "print(n)\n",
    "n = next(rand_seq)\n",
    "print(n)\n",
    "n = next(rand_seq)\n",
    "print(n)\n"
   ]
  },
  {
   "cell_type": "markdown",
   "id": "60556514",
   "metadata": {},
   "source": [
    "### for comprehancion и тоже самое через генератор"
   ]
  },
  {
   "cell_type": "code",
   "execution_count": 87,
   "id": "876777f2",
   "metadata": {},
   "outputs": [
    {
     "data": {
      "text/plain": [
       "[1, 4, 9, 16]"
      ]
     },
     "execution_count": 87,
     "metadata": {},
     "output_type": "execute_result"
    }
   ],
   "source": [
    "my_list = [1,2,3,4]\n",
    "\n",
    "squares = [x**2 for x in my_list]\n",
    "squares"
   ]
  },
  {
   "cell_type": "code",
   "execution_count": 91,
   "id": "ee0c4524",
   "metadata": {},
   "outputs": [
    {
     "data": {
      "text/plain": [
       "<generator object <genexpr> at 0x000001C2B4C2FF90>"
      ]
     },
     "execution_count": 91,
     "metadata": {},
     "output_type": "execute_result"
    }
   ],
   "source": [
    "squares = (x**2 for x in my_list) #просто круглые и это уже генератор\n",
    "squares #по нему можно некстами пройтись или циклом, или айслайс"
   ]
  },
  {
   "cell_type": "code",
   "execution_count": 90,
   "id": "7a061fc1",
   "metadata": {},
   "outputs": [
    {
     "name": "stdout",
     "output_type": "stream",
     "text": [
      "1\n",
      "4\n",
      "9\n",
      "16\n"
     ]
    }
   ],
   "source": [
    "for i in squares:\n",
    "    print(i)"
   ]
  },
  {
   "cell_type": "markdown",
   "id": "36f468b8",
   "metadata": {},
   "source": [
    "# Урок 84 ????"
   ]
  },
  {
   "cell_type": "markdown",
   "id": "45597338",
   "metadata": {},
   "source": [
    "# Интроспекция (рефлексия)"
   ]
  },
  {
   "cell_type": "code",
   "execution_count": 92,
   "id": "f4cf1f8e",
   "metadata": {},
   "outputs": [
    {
     "name": "stdout",
     "output_type": "stream",
     "text": [
      "Return whether 'cls' is a derived from another class or is the same class.\n",
      "\n",
      "A tuple, as in ``issubclass(x, (A, B, ...))``, may be given as the target to\n",
      "check against. This is equivalent to ``issubclass(x, A) or issubclass(x, B)\n",
      "or ...`` etc.\n"
     ]
    }
   ],
   "source": [
    "print(issubclass.__doc__) #__doc__ можно вызвать на любом объекте"
   ]
  },
  {
   "cell_type": "code",
   "execution_count": 93,
   "id": "5ff54a59",
   "metadata": {},
   "outputs": [
    {
     "name": "stdout",
     "output_type": "stream",
     "text": [
      "Help on built-in function issubclass in module builtins:\n",
      "\n",
      "issubclass(cls, class_or_tuple, /)\n",
      "    Return whether 'cls' is a derived from another class or is the same class.\n",
      "    \n",
      "    A tuple, as in ``issubclass(x, (A, B, ...))``, may be given as the target to\n",
      "    check against. This is equivalent to ``issubclass(x, A) or issubclass(x, B)\n",
      "    or ...`` etc.\n",
      "\n"
     ]
    }
   ],
   "source": [
    "help(issubclass)"
   ]
  },
  {
   "cell_type": "code",
   "execution_count": 94,
   "id": "f201650e",
   "metadata": {},
   "outputs": [],
   "source": [
    "class Shape:\n",
    "    pass\n",
    "\n",
    "class Circle(Shape):\n",
    "    \n",
    "    def __init__(self, radius):\n",
    "        self.radius = radius\n",
    "        \n",
    "circle = Circle(10)"
   ]
  },
  {
   "cell_type": "code",
   "execution_count": 96,
   "id": "a2cb1503",
   "metadata": {},
   "outputs": [
    {
     "name": "stdout",
     "output_type": "stream",
     "text": [
      "True\n",
      "False\n"
     ]
    }
   ],
   "source": [
    "print(issubclass(Circle, Shape))\n",
    "print(issubclass(Shape, Circle))"
   ]
  },
  {
   "cell_type": "code",
   "execution_count": 98,
   "id": "fbb60bc7",
   "metadata": {},
   "outputs": [
    {
     "name": "stdout",
     "output_type": "stream",
     "text": [
      "True\n",
      "True\n"
     ]
    }
   ],
   "source": [
    "print(isinstance(circle, Circle))\n",
    "print(isinstance(circle, Shape))"
   ]
  },
  {
   "cell_type": "code",
   "execution_count": 99,
   "id": "e18678ed",
   "metadata": {},
   "outputs": [
    {
     "name": "stdout",
     "output_type": "stream",
     "text": [
      "True\n",
      "True\n"
     ]
    }
   ],
   "source": [
    "print(isinstance(12, int))\n",
    "print(isinstance('hi', str))"
   ]
  },
  {
   "cell_type": "code",
   "execution_count": 101,
   "id": "a4086e86",
   "metadata": {},
   "outputs": [
    {
     "name": "stdout",
     "output_type": "stream",
     "text": [
      "False\n",
      "True\n"
     ]
    }
   ],
   "source": [
    "print(callable(circle)) #является ли объект вызываемым\n",
    "print(callable(print))\n",
    "#можно в кастомном классе добавить __call__() тогда объект этого класса будет вызываемым"
   ]
  },
  {
   "cell_type": "code",
   "execution_count": 103,
   "id": "17bdc886",
   "metadata": {},
   "outputs": [
    {
     "name": "stdout",
     "output_type": "stream",
     "text": [
      "10\n",
      "9\n"
     ]
    }
   ],
   "source": [
    "if hasattr(circle, 'radius'): #проверяем есть ли такой атребут у объекта\n",
    "    print(getattr(circle, 'radius')) #достаем значение атребута\n",
    "    setattr(circle, 'radius', 9) #сетим значение атребута нахожу с помощью рефлексии\n",
    "    print(getattr(circle, 'radius'))\n",
    "    "
   ]
  },
  {
   "cell_type": "code",
   "execution_count": 104,
   "id": "05a87cd3",
   "metadata": {},
   "outputs": [
    {
     "data": {
      "text/plain": [
       "['__class__',\n",
       " '__delattr__',\n",
       " '__dict__',\n",
       " '__dir__',\n",
       " '__doc__',\n",
       " '__eq__',\n",
       " '__format__',\n",
       " '__ge__',\n",
       " '__getattribute__',\n",
       " '__gt__',\n",
       " '__hash__',\n",
       " '__init__',\n",
       " '__init_subclass__',\n",
       " '__le__',\n",
       " '__lt__',\n",
       " '__module__',\n",
       " '__ne__',\n",
       " '__new__',\n",
       " '__reduce__',\n",
       " '__reduce_ex__',\n",
       " '__repr__',\n",
       " '__setattr__',\n",
       " '__sizeof__',\n",
       " '__str__',\n",
       " '__subclasshook__',\n",
       " '__weakref__',\n",
       " 'radius']"
      ]
     },
     "execution_count": 104,
     "metadata": {},
     "output_type": "execute_result"
    }
   ],
   "source": [
    "dir(circle) #выведет все атребуты объекта"
   ]
  },
  {
   "cell_type": "code",
   "execution_count": 106,
   "id": "44dd81dc",
   "metadata": {},
   "outputs": [
    {
     "data": {
      "text/plain": [
       "{'radius': 9}"
      ]
     },
     "execution_count": 106,
     "metadata": {},
     "output_type": "execute_result"
    }
   ],
   "source": [
    "circle.__dict__ #в дикшинари перечислены атребуты определенные пользователем"
   ]
  },
  {
   "cell_type": "code",
   "execution_count": 107,
   "id": "4a41a768",
   "metadata": {},
   "outputs": [
    {
     "data": {
      "text/plain": [
       "'Circle'"
      ]
     },
     "execution_count": 107,
     "metadata": {},
     "output_type": "execute_result"
    }
   ],
   "source": [
    "Circle.__name__"
   ]
  },
  {
   "cell_type": "code",
   "execution_count": 108,
   "id": "1fb43de7",
   "metadata": {},
   "outputs": [
    {
     "data": {
      "text/plain": [
       "'__main__'"
      ]
     },
     "execution_count": 108,
     "metadata": {},
     "output_type": "execute_result"
    }
   ],
   "source": [
    "__name__"
   ]
  },
  {
   "cell_type": "code",
   "execution_count": 109,
   "id": "eeba54a8",
   "metadata": {},
   "outputs": [
    {
     "data": {
      "text/plain": [
       "__main__.Circle"
      ]
     },
     "execution_count": 109,
     "metadata": {},
     "output_type": "execute_result"
    }
   ],
   "source": [
    "type(circle)"
   ]
  },
  {
   "cell_type": "code",
   "execution_count": 110,
   "id": "0736dc46",
   "metadata": {},
   "outputs": [
    {
     "name": "stdout",
     "output_type": "stream",
     "text": [
      "1935748381136\n",
      "1935748381136\n"
     ]
    }
   ],
   "source": [
    "circle2 = circle\n",
    "\n",
    "print(id(circle))\n",
    "print(id(circle2))"
   ]
  },
  {
   "cell_type": "code",
   "execution_count": 111,
   "id": "fa560554",
   "metadata": {},
   "outputs": [
    {
     "data": {
      "text/plain": [
       "'<__main__.Circle object at 0x000001C2B39839D0>'"
      ]
     },
     "execution_count": 111,
     "metadata": {},
     "output_type": "execute_result"
    }
   ],
   "source": [
    "repr(circle) #это тот метод который переопределяется рядом с __str__"
   ]
  },
  {
   "cell_type": "markdown",
   "id": "dd13b29e",
   "metadata": {},
   "source": [
    "# Requests (библиотека питона для http)"
   ]
  },
  {
   "cell_type": "code",
   "execution_count": 15,
   "id": "277a91cc",
   "metadata": {},
   "outputs": [],
   "source": [
    "import requests"
   ]
  },
  {
   "cell_type": "code",
   "execution_count": 113,
   "id": "17fc47c2",
   "metadata": {},
   "outputs": [],
   "source": [
    "response = requests.get(\"https://www.engineerspock.com/\")"
   ]
  },
  {
   "cell_type": "code",
   "execution_count": 114,
   "id": "5502c326",
   "metadata": {},
   "outputs": [
    {
     "data": {
      "text/plain": [
       "<Response [200]>"
      ]
     },
     "execution_count": 114,
     "metadata": {},
     "output_type": "execute_result"
    }
   ],
   "source": [
    "response"
   ]
  },
  {
   "cell_type": "code",
   "execution_count": 115,
   "id": "1fd3996d",
   "metadata": {},
   "outputs": [
    {
     "data": {
      "text/plain": [
       "requests.models.Response"
      ]
     },
     "execution_count": 115,
     "metadata": {},
     "output_type": "execute_result"
    }
   ],
   "source": [
    "type(response)"
   ]
  },
  {
   "cell_type": "code",
   "execution_count": 116,
   "id": "3092465f",
   "metadata": {},
   "outputs": [
    {
     "data": {
      "text/plain": [
       "200"
      ]
     },
     "execution_count": 116,
     "metadata": {},
     "output_type": "execute_result"
    }
   ],
   "source": [
    "response.status_code"
   ]
  },
  {
   "cell_type": "code",
   "execution_count": 117,
   "id": "8ac6c81f",
   "metadata": {},
   "outputs": [
    {
     "name": "stdout",
     "output_type": "stream",
     "text": [
      "Works!\n"
     ]
    }
   ],
   "source": [
    "if response: #True если он впринципе отраболтал\n",
    "    print('Works!')"
   ]
  },
  {
   "cell_type": "code",
   "execution_count": 120,
   "id": "c3e4489f",
   "metadata": {},
   "outputs": [
    {
     "name": "stdout",
     "output_type": "stream",
     "text": [
      "Connected Successfuly!\n",
      "Error: 404 Client Error: Not Found for url: https://www.engineerspock.com/indexistend\n"
     ]
    }
   ],
   "source": [
    "from requests import HTTPError\n",
    "\n",
    "for url in [\"https://www.engineerspock.com/\", \"https://www.engineerspock.com/indexistend\"]:\n",
    "    try:\n",
    "        response = requests.get(url)\n",
    "        response.raise_for_status()\n",
    "    except HTTPError as http_err:\n",
    "        print(f'Error: {http_err}')\n",
    "    except Exception as err:\n",
    "        print(f'Unknown error: {err}')\n",
    "    else:\n",
    "        print('Connected Successfuly!')"
   ]
  },
  {
   "cell_type": "code",
   "execution_count": 121,
   "id": "eb930e3f",
   "metadata": {},
   "outputs": [
    {
     "data": {
      "text/plain": [
       "b'<!DOCTYPE html>\\n<html class=\"avada-html-layout-wide avada-html-header-position-top avada-is-100-percent-template\" lang=\"en-US\" prefix=\"og: http://ogp.me/ns# fb: http://ogp.me/ns/fb#\">\\n<head>\\n\\t<meta http-equiv=\"X-UA-Compatible\" content=\"IE=edge\" />\\n\\t<meta http-equiv=\"Content-Type\" content=\"text/html; charset=utf-8\"/>\\n\\t<meta name=\"viewport\" content=\"width=device-width, initial-scale=1\" />\\n\\t<title>EngineerSpock &#8211; EngineerSpock</title>\\n<meta name=\\'robots\\' content=\\'max-image-preview:large\\' />\\n\\n<!-- Google Tag Manager for WordPress by gtm4wp.com -->\\n<script data-cfasync=\"false\" data-pagespeed-no-defer>//<![CDATA[\\n\\tvar gtm4wp_datalayer_name = \"dataLayer\";\\n\\tvar dataLayer = dataLayer || [];\\n//]]>\\n</script>\\n<!-- End Google Tag Manager for WordPress by gtm4wp.com --><link rel=\\'dns-prefetch\\' href=\\'//s.w.org\\' />\\n<link href=\\'https://cdn.shortpixel.ai\\' rel=\\'preconnect\\' />\\n<link rel=\"alternate\" type=\"application/rss+xml\" title=\"EngineerSpock &raquo; Feed\" href=\"https://www.engineerspock.com/feed/\" />\\n<link rel=\"alternate\" type=\"application/rss+xml\" title=\"EngineerSpock &raquo; Comments Feed\" href=\"https://www.engineerspock.com/comments/feed/\" />\\n\\t\\t\\n\\t\\t\\n\\t\\t\\n\\t\\t\\n\\t\\t\\n\\t\\t\\n\\t\\t<meta property=\"og:title\" content=\"Home\"/>\\n\\t\\t<meta property=\"og:type\" content=\"article\"/>\\n\\t\\t<meta property=\"og:url\" content=\"https://www.engineerspock.com/\"/>\\n\\t\\t<meta property=\"og:site_name\" content=\"EngineerSpock\"/>\\n\\t\\t<meta property=\"og:description\" content=\"Welcome to .NET Training\\r\\n\\r\\n \\r\\n\\r\\nChance favors the prepared mind.\\r\\n\\r\\n  Video Courses      \\r\\nWho is EngineerSpock  \\r\\nI&#039;m thankful enough for that I love what I do.\\r\\nI began my career as\"/>\\n\\n\\t\\t\\t\\t\\t\\t\\t\\t\\t<meta property=\"og:image\" content=\"https://www.engineerspock.com/wp-content/uploads/2017/10/forblog-nobackground-logo.png\"/>\\n\\t\\t\\t\\t\\t\\t\\t\\t\\t<!-- This site uses the Google Analytics by ExactMetrics plugin v6.7.0 - Using Analytics tracking - https://www.exactmetrics.com/ -->\\n\\t\\t\\t\\t\\t\\t\\t<script src=\"//www.googletagmanager.com/gtag/js?id=UA-68204544-1\"  type=\"text/javascript\" data-cfasync=\"false\"></script>\\n\\t\\t\\t<script type=\"text/javascript\" data-cfasync=\"false\">\\n\\t\\t\\t\\tvar em_version = \\'6.7.0\\';\\n\\t\\t\\t\\tvar em_track_user = true;\\n\\t\\t\\t\\tvar em_no_track_reason = \\'\\';\\n\\t\\t\\t\\t\\n\\t\\t\\t\\t\\t\\t\\t\\tvar disableStr = \\'ga-disable-UA-68204544-1\\';\\n\\n\\t\\t\\t\\t/* Function to detect opted out users */\\n\\t\\t\\t\\tfunction __gtagTrackerIsOptedOut() {\\n\\t\\t\\t\\t\\treturn document.cookie.indexOf( disableStr + \\'=true\\' ) > - 1;\\n\\t\\t\\t\\t}\\n\\n\\t\\t\\t\\t/* Disable tracking if the opt-out cookie exists. */\\n\\t\\t\\t\\tif ( __gtagTrackerIsOptedOut() ) {\\n\\t\\t\\t\\t\\twindow[disableStr] = true;\\n\\t\\t\\t\\t}\\n\\n\\t\\t\\t\\t/* Opt-out function */\\n\\t\\t\\t\\tfunction __gtagTrackerOptout() {\\n\\t\\t\\t\\t\\tdocument.cookie = disableStr + \\'=true; expires=Thu, 31 Dec 2099 23:59:59 UTC; path=/\\';\\n\\t\\t\\t\\t\\twindow[disableStr] = true;\\n\\t\\t\\t\\t}\\n\\n\\t\\t\\t\\tif ( \\'undefined\\' === typeof gaOptout ) {\\n\\t\\t\\t\\t\\tfunction gaOptout() {\\n\\t\\t\\t\\t\\t\\t__gtagTrackerOptout();\\n\\t\\t\\t\\t\\t}\\n\\t\\t\\t\\t}\\n\\t\\t\\t\\t\\t\\t\\t\\twindow.dataLayer = window.dataLayer || [];\\n\\t\\t\\t\\tif ( em_track_user ) {\\n\\t\\t\\t\\t\\tfunction __gtagTracker() {dataLayer.push( arguments );}\\n\\t\\t\\t\\t\\t__gtagTracker( \\'js\\', new Date() );\\n\\t\\t\\t\\t\\t__gtagTracker( \\'set\\', {\\n\\t\\t\\t\\t\\t\\t\\'developer_id.dNDMyYj\\' : true,\\n\\t\\t\\t\\t\\t\\t                    });\\n\\t\\t\\t\\t\\t__gtagTracker( \\'config\\', \\'UA-68204544-1\\', {\\n\\t\\t\\t\\t\\t\\tforceSSL:true,\\t\\t\\t\\t\\t} );\\n\\t\\t\\t\\t\\t\\t\\t\\t\\t\\twindow.gtag = __gtagTracker;\\t\\t\\t\\t\\t\\t\\t\\t\\t\\t(\\n\\t\\t\\t\\t\\t\\tfunction () {\\n\\t\\t\\t\\t\\t\\t\\t/* https://developers.google.com/analytics/devguides/collection/analyticsjs/ */\\n\\t\\t\\t\\t\\t\\t\\t/* ga and __gaTracker compatibility shim. */\\n\\t\\t\\t\\t\\t\\t\\tvar noopfn = function () {\\n\\t\\t\\t\\t\\t\\t\\t\\treturn null;\\n\\t\\t\\t\\t\\t\\t\\t};\\n\\t\\t\\t\\t\\t\\t\\tvar newtracker = function () {\\n\\t\\t\\t\\t\\t\\t\\t\\treturn new Tracker();\\n\\t\\t\\t\\t\\t\\t\\t};\\n\\t\\t\\t\\t\\t\\t\\tvar Tracker = function () {\\n\\t\\t\\t\\t\\t\\t\\t\\treturn null;\\n\\t\\t\\t\\t\\t\\t\\t};\\n\\t\\t\\t\\t\\t\\t\\tvar p = Tracker.prototype;\\n\\t\\t\\t\\t\\t\\t\\tp.get = noopfn;\\n\\t\\t\\t\\t\\t\\t\\tp.set = noopfn;\\n\\t\\t\\t\\t\\t\\t\\tp.send = function (){\\n\\t\\t\\t\\t\\t\\t\\t\\tvar args = Array.prototype.slice.call(arguments);\\n\\t\\t\\t\\t\\t\\t\\t\\targs.unshift( \\'send\\' );\\n\\t\\t\\t\\t\\t\\t\\t\\t__gaTracker.apply(null, args);\\n\\t\\t\\t\\t\\t\\t\\t};\\n\\t\\t\\t\\t\\t\\t\\tvar __gaTracker = function () {\\n\\t\\t\\t\\t\\t\\t\\t\\tvar len = arguments.length;\\n\\t\\t\\t\\t\\t\\t\\t\\tif ( len === 0 ) {\\n\\t\\t\\t\\t\\t\\t\\t\\t\\treturn;\\n\\t\\t\\t\\t\\t\\t\\t\\t}\\n\\t\\t\\t\\t\\t\\t\\t\\tvar f = arguments[len - 1];\\n\\t\\t\\t\\t\\t\\t\\t\\tif ( typeof f !== \\'object\\' || f === null || typeof f.hitCallback !== \\'function\\' ) {\\n\\t\\t\\t\\t\\t\\t\\t\\t\\tif ( \\'send\\' === arguments[0] ) {\\n\\t\\t\\t\\t\\t\\t\\t\\t\\t\\tvar hitConverted, hitObject = false, action;\\n\\t\\t\\t\\t\\t\\t\\t\\t\\t\\tif ( \\'event\\' === arguments[1] ) {\\n\\t\\t\\t\\t\\t\\t\\t\\t\\t\\t\\tif ( \\'undefined\\' !== typeof arguments[3] ) {\\n\\t\\t\\t\\t\\t\\t\\t\\t\\t\\t\\t\\thitObject = {\\n\\t\\t\\t\\t\\t\\t\\t\\t\\t\\t\\t\\t\\t\\'eventAction\\': arguments[3],\\n\\t\\t\\t\\t\\t\\t\\t\\t\\t\\t\\t\\t\\t\\'eventCategory\\': arguments[2],\\n\\t\\t\\t\\t\\t\\t\\t\\t\\t\\t\\t\\t\\t\\'eventLabel\\': arguments[4],\\n\\t\\t\\t\\t\\t\\t\\t\\t\\t\\t\\t\\t\\t\\'value\\': arguments[5] ? arguments[5] : 1,\\n\\t\\t\\t\\t\\t\\t\\t\\t\\t\\t\\t\\t}\\n\\t\\t\\t\\t\\t\\t\\t\\t\\t\\t\\t}\\n\\t\\t\\t\\t\\t\\t\\t\\t\\t\\t}\\n\\t\\t\\t\\t\\t\\t\\t\\t\\t\\tif ( typeof arguments[2] === \\'object\\' ) {\\n\\t\\t\\t\\t\\t\\t\\t\\t\\t\\t\\thitObject = arguments[2];\\n\\t\\t\\t\\t\\t\\t\\t\\t\\t\\t}\\n\\t\\t\\t\\t\\t\\t\\t\\t\\t\\tif ( typeof arguments[5] === \\'object\\' ) {\\n\\t\\t\\t\\t\\t\\t\\t\\t\\t\\t\\tObject.assign( hitObject, arguments[5] );\\n\\t\\t\\t\\t\\t\\t\\t\\t\\t\\t}\\n\\t\\t\\t\\t\\t\\t\\t\\t\\t\\tif ( \\'undefined\\' !== typeof (\\n\\t\\t\\t\\t\\t\\t\\t\\t\\t\\t\\targuments[1].hitType\\n\\t\\t\\t\\t\\t\\t\\t\\t\\t\\t) ) {\\n\\t\\t\\t\\t\\t\\t\\t\\t\\t\\t\\thitObject = arguments[1];\\n\\t\\t\\t\\t\\t\\t\\t\\t\\t\\t}\\n\\t\\t\\t\\t\\t\\t\\t\\t\\t\\tif ( hitObject ) {\\n\\t\\t\\t\\t\\t\\t\\t\\t\\t\\t\\taction = \\'timing\\' === arguments[1].hitType ? \\'timing_complete\\' : hitObject.eventAction;\\n\\t\\t\\t\\t\\t\\t\\t\\t\\t\\t\\thitConverted = mapArgs( hitObject );\\n\\t\\t\\t\\t\\t\\t\\t\\t\\t\\t\\t__gtagTracker( \\'event\\', action, hitConverted );\\n\\t\\t\\t\\t\\t\\t\\t\\t\\t\\t}\\n\\t\\t\\t\\t\\t\\t\\t\\t\\t}\\n\\t\\t\\t\\t\\t\\t\\t\\t\\treturn;\\n\\t\\t\\t\\t\\t\\t\\t\\t}\\n\\n\\t\\t\\t\\t\\t\\t\\t\\tfunction mapArgs( args ) {\\n\\t\\t\\t\\t\\t\\t\\t\\t\\tvar gaKey, hit = {};\\n\\t\\t\\t\\t\\t\\t\\t\\t\\tvar gaMap = {\\n\\t\\t\\t\\t\\t\\t\\t\\t\\t\\t\\'eventCategory\\': \\'event_category\\',\\n\\t\\t\\t\\t\\t\\t\\t\\t\\t\\t\\'eventAction\\': \\'event_action\\',\\n\\t\\t\\t\\t\\t\\t\\t\\t\\t\\t\\'eventLabel\\': \\'event_label\\',\\n\\t\\t\\t\\t\\t\\t\\t\\t\\t\\t\\'eventValue\\': \\'event_value\\',\\n\\t\\t\\t\\t\\t\\t\\t\\t\\t\\t\\'nonInteraction\\': \\'non_interaction\\',\\n\\t\\t\\t\\t\\t\\t\\t\\t\\t\\t\\'timingCategory\\': \\'event_category\\',\\n\\t\\t\\t\\t\\t\\t\\t\\t\\t\\t\\'timingVar\\': \\'name\\',\\n\\t\\t\\t\\t\\t\\t\\t\\t\\t\\t\\'timingValue\\': \\'value\\',\\n\\t\\t\\t\\t\\t\\t\\t\\t\\t\\t\\'timingLabel\\': \\'event_label\\',\\n\\t\\t\\t\\t\\t\\t\\t\\t\\t};\\n\\t\\t\\t\\t\\t\\t\\t\\t\\tfor ( gaKey in gaMap ) {\\n\\t\\t\\t\\t\\t\\t\\t\\t\\t\\tif ( \\'undefined\\' !== typeof args[gaKey] ) {\\n\\t\\t\\t\\t\\t\\t\\t\\t\\t\\t\\thit[gaMap[gaKey]] = args[gaKey];\\n\\t\\t\\t\\t\\t\\t\\t\\t\\t\\t}\\n\\t\\t\\t\\t\\t\\t\\t\\t\\t}\\n\\t\\t\\t\\t\\t\\t\\t\\t\\treturn hit;\\n\\t\\t\\t\\t\\t\\t\\t\\t}\\n\\n\\t\\t\\t\\t\\t\\t\\t\\ttry {\\n\\t\\t\\t\\t\\t\\t\\t\\t\\tf.hitCallback();\\n\\t\\t\\t\\t\\t\\t\\t\\t} catch ( ex ) {\\n\\t\\t\\t\\t\\t\\t\\t\\t}\\n\\t\\t\\t\\t\\t\\t\\t};\\n\\t\\t\\t\\t\\t\\t\\t__gaTracker.create = newtracker;\\n\\t\\t\\t\\t\\t\\t\\t__gaTracker.getByName = newtracker;\\n\\t\\t\\t\\t\\t\\t\\t__gaTracker.getAll = function () {\\n\\t\\t\\t\\t\\t\\t\\t\\treturn [];\\n\\t\\t\\t\\t\\t\\t\\t};\\n\\t\\t\\t\\t\\t\\t\\t__gaTracker.remove = noopfn;\\n\\t\\t\\t\\t\\t\\t\\t__gaTracker.loaded = true;\\n\\t\\t\\t\\t\\t\\t\\twindow[\\'__gaTracker\\'] = __gaTracker;\\n\\t\\t\\t\\t\\t\\t}\\n\\t\\t\\t\\t\\t)();\\n\\t\\t\\t\\t\\t\\t\\t\\t\\t} else {\\n\\t\\t\\t\\t\\t\\t\\t\\t\\t\\tconsole.log( \"\" );\\n\\t\\t\\t\\t\\t( function () {\\n\\t\\t\\t\\t\\t\\t\\tfunction __gtagTracker() {\\n\\t\\t\\t\\t\\t\\t\\t\\treturn null;\\n\\t\\t\\t\\t\\t\\t\\t}\\n\\t\\t\\t\\t\\t\\t\\twindow[\\'__gtagTracker\\'] = __gtagTracker;\\n\\t\\t\\t\\t\\t\\t\\twindow[\\'gtag\\'] = __gtagTracker;\\n\\t\\t\\t\\t\\t} )();\\n\\t\\t\\t\\t\\t\\t\\t\\t\\t}\\n\\t\\t\\t</script>\\n\\t\\t\\t\\t<!-- / Google Analytics by ExactMetrics -->\\n\\t\\t\\t\\t<script type=\"text/javascript\">\\n\\t\\t\\twindow._wpemojiSettings = {\"baseUrl\":\"https:\\\\/\\\\/s.w.org\\\\/images\\\\/core\\\\/emoji\\\\/13.0.1\\\\/72x72\\\\/\",\"ext\":\".png\",\"svgUrl\":\"https:\\\\/\\\\/s.w.org\\\\/images\\\\/core\\\\/emoji\\\\/13.0.1\\\\/svg\\\\/\",\"svgExt\":\".svg\",\"source\":{\"concatemoji\":\"https:\\\\/\\\\/www.engineerspock.com\\\\/wp-includes\\\\/js\\\\/wp-emoji-release.min.js?ver=5.7.2\"}};\\n\\t\\t\\t!function(e,a,t){var n,r,o,i=a.createElement(\"canvas\"),p=i.getContext&&i.getContext(\"2d\");function s(e,t){var a=String.fromCharCode;p.clearRect(0,0,i.width,i.height),p.fillText(a.apply(this,e),0,0);e=i.toDataURL();return p.clearRect(0,0,i.width,i.height),p.fillText(a.apply(this,t),0,0),e===i.toDataURL()}function c(e){var t=a.createElement(\"script\");t.src=e,t.defer=t.type=\"text/javascript\",a.getElementsByTagName(\"head\")[0].appendChild(t)}for(o=Array(\"flag\",\"emoji\"),t.supports={everything:!0,everythingExceptFlag:!0},r=0;r<o.length;r++)t.supports[o[r]]=function(e){if(!p||!p.fillText)return!1;switch(p.textBaseline=\"top\",p.font=\"600 32px Arial\",e){case\"flag\":return s([127987,65039,8205,9895,65039],[127987,65039,8203,9895,65039])?!1:!s([55356,56826,55356,56819],[55356,56826,8203,55356,56819])&&!s([55356,57332,56128,56423,56128,56418,56128,56421,56128,56430,56128,56423,56128,56447],[55356,57332,8203,56128,56423,8203,56128,56418,8203,56128,56421,8203,56128,56430,8203,56128,56423,8203,56128,56447]);case\"emoji\":return!s([55357,56424,8205,55356,57212],[55357,56424,8203,55356,57212])}return!1}(o[r]),t.supports.everything=t.supports.everything&&t.supports[o[r]],\"flag\"!==o[r]&&(t.supports.everythingExceptFlag=t.supports.everythingExceptFlag&&t.supports[o[r]]);t.supports.everythingExceptFlag=t.supports.everythingExceptFlag&&!t.supports.flag,t.DOMReady=!1,t.readyCallback=function(){t.DOMReady=!0},t.supports.everything||(n=function(){t.readyCallback()},a.addEventListener?(a.addEventListener(\"DOMContentLoaded\",n,!1),e.addEventListener(\"load\",n,!1)):(e.attachEvent(\"onload\",n),a.attachEvent(\"onreadystatechange\",function(){\"complete\"===a.readyState&&t.readyCallback()})),(n=t.source||{}).concatemoji?c(n.concatemoji):n.wpemoji&&n.twemoji&&(c(n.twemoji),c(n.wpemoji)))}(window,document,window._wpemojiSettings);\\n\\t\\t</script>\\n\\t\\t<style type=\"text/css\">\\nimg.wp-smiley,\\nimg.emoji {\\n\\tdisplay: inline !important;\\n\\tborder: none !important;\\n\\tbox-shadow: none !important;\\n\\theight: 1em !important;\\n\\twidth: 1em !important;\\n\\tmargin: 0 .07em !important;\\n\\tvertical-align: -0.1em !important;\\n\\tbackground: none !important;\\n\\tpadding: 0 !important;\\n}\\n</style>\\n\\t<link rel=\\'stylesheet\\' id=\\'aps-animate-css-css\\'  href=\\'https://www.engineerspock.com/wp-content/plugins/accesspress-social-icons/css/animate.css?ver=1.8.2\\' type=\\'text/css\\' media=\\'all\\' />\\n<link rel=\\'stylesheet\\' id=\\'aps-frontend-css-css\\'  href=\\'https://www.engineerspock.com/wp-content/plugins/accesspress-social-icons/css/frontend.css?ver=1.8.2\\' type=\\'text/css\\' media=\\'all\\' />\\n<link rel=\\'stylesheet\\' id=\\'orgseries-default-css-css\\'  href=\\'https://www.engineerspock.com/wp-content/plugins/organize-series/orgSeries.css?ver=5.7.2\\' type=\\'text/css\\' media=\\'all\\' />\\n<link rel=\\'stylesheet\\' id=\\'mc4wp-form-themes-css\\'  href=\\'https://www.engineerspock.com/wp-content/plugins/mailchimp-for-wp/assets/css/form-themes.css?ver=4.8.6\\' type=\\'text/css\\' media=\\'all\\' />\\n<link rel=\\'stylesheet\\' id=\\'ufwp-css\\'  href=\\'https://www.engineerspock.com/wp-content/plugins/wp-udemy/assets/dist/css/main.css?ver=1.3.0\\' type=\\'text/css\\' media=\\'all\\' />\\n<link rel=\\'stylesheet\\' id=\\'ufwp-pro-css\\'  href=\\'https://www.engineerspock.com/wp-content/plugins/wp-udemy-pro/assets/dist/css/main.css?ver=1.2.1\\' type=\\'text/css\\' media=\\'all\\' />\\n<link rel=\\'stylesheet\\' id=\\'sccss_style-css\\'  href=\\'https://www.engineerspock.com/?sccss=1&#038;ver=5.7.2\\' type=\\'text/css\\' media=\\'all\\' />\\n<link rel=\\'stylesheet\\' id=\\'fusion-dynamic-css-css\\'  href=\\'https://www.engineerspock.com/wp-content/uploads/fusion-styles/86d34b92501466170b3ab901980d1f6e.min.css?ver=3.4.1\\' type=\\'text/css\\' media=\\'all\\' />\\n<script type=\\'text/javascript\\' id=\\'exactmetrics-frontend-script-js-extra\\'>\\n/* <![CDATA[ */\\nvar exactmetrics_frontend = {\"js_events_tracking\":\"true\",\"download_extensions\":\"zip,mp3,mpeg,pdf,docx,pptx,xlsx,rar\",\"inbound_paths\":\"[{\\\\\"path\\\\\":\\\\\"\\\\\\\\\\\\/go\\\\\\\\\\\\/\\\\\",\\\\\"label\\\\\":\\\\\"affiliate\\\\\"},{\\\\\"path\\\\\":\\\\\"\\\\\\\\\\\\/recommend\\\\\\\\\\\\/\\\\\",\\\\\"label\\\\\":\\\\\"affiliate\\\\\"}]\",\"home_url\":\"https:\\\\/\\\\/www.engineerspock.com\",\"hash_tracking\":\"false\",\"ua\":\"UA-68204544-1\"};\\n/* ]]> */\\n</script>\\n<script type=\\'text/javascript\\' src=\\'https://www.engineerspock.com/wp-content/plugins/google-analytics-dashboard-for-wp/assets/js/frontend-gtag.min.js?ver=6.7.0\\' id=\\'exactmetrics-frontend-script-js\\'></script>\\n<script type=\\'text/javascript\\' src=\\'https://www.engineerspock.com/wp-includes/js/jquery/jquery.min.js?ver=3.5.1\\' id=\\'jquery-core-js\\'></script>\\n<script type=\\'text/javascript\\' src=\\'https://www.engineerspock.com/wp-includes/js/jquery/jquery-migrate.min.js?ver=3.3.2\\' id=\\'jquery-migrate-js\\'></script>\\n<script type=\\'text/javascript\\' src=\\'https://www.engineerspock.com/wp-content/plugins/accesspress-social-icons/js/frontend.js?ver=1.8.2\\' id=\\'aps-frontend-js-js\\'></script>\\n<script type=\\'text/javascript\\' src=\\'https://www.engineerspock.com/wp-content/plugins/duracelltomi-google-tag-manager/js/gtm4wp-form-move-tracker.js?ver=1.13.1\\' id=\\'gtm4wp-form-move-tracker-js\\'></script>\\n<link rel=\"https://api.w.org/\" href=\"https://www.engineerspock.com/wp-json/\" /><link rel=\"alternate\" type=\"application/json\" href=\"https://www.engineerspock.com/wp-json/wp/v2/pages/2117\" /><link rel=\"EditURI\" type=\"application/rsd+xml\" title=\"RSD\" href=\"https://www.engineerspock.com/xmlrpc.php?rsd\" />\\n<link rel=\"wlwmanifest\" type=\"application/wlwmanifest+xml\" href=\"https://www.engineerspock.com/wp-includes/wlwmanifest.xml\" /> \\n<meta name=\"generator\" content=\"WordPress 5.7.2\" />\\n<link rel=\"canonical\" href=\"https://www.engineerspock.com/\" />\\n<link rel=\\'shortlink\\' href=\\'https://www.engineerspock.com/\\' />\\n<link rel=\"alternate\" type=\"application/json+oembed\" href=\"https://www.engineerspock.com/wp-json/oembed/1.0/embed?url=https%3A%2F%2Fwww.engineerspock.com%2F\" />\\n<link rel=\"alternate\" type=\"text/xml+oembed\" href=\"https://www.engineerspock.com/wp-json/oembed/1.0/embed?url=https%3A%2F%2Fwww.engineerspock.com%2F&#038;format=xml\" />\\n\\n<!-- Google Tag Manager for WordPress by gtm4wp.com -->\\n<script data-cfasync=\"false\" data-pagespeed-no-defer>//<![CDATA[\\n\\tvar dataLayer_content = {\"pagePostType\":\"frontpage\",\"pagePostType2\":\"single-page\",\"pagePostAuthor\":\"EngineerSpock\"};\\n\\tdataLayer.push( dataLayer_content );//]]>\\n</script>\\n<script data-cfasync=\"false\">//<![CDATA[\\n(function(w,d,s,l,i){w[l]=w[l]||[];w[l].push({\\'gtm.start\\':\\nnew Date().getTime(),event:\\'gtm.js\\'});var f=d.getElementsByTagName(s)[0],\\nj=d.createElement(s),dl=l!=\\'dataLayer\\'?\\'&l=\\'+l:\\'\\';j.async=true;j.src=\\n\\'//www.googletagmanager.com/gtm.\\'+\\'js?id=\\'+i+dl;f.parentNode.insertBefore(j,f);\\n})(window,document,\\'script\\',\\'dataLayer\\',\\'GTM-TD3B6LW\\');//]]>\\n</script>\\n<!-- End Google Tag Manager -->\\n<!-- End Google Tag Manager for WordPress by gtm4wp.com --><style type=\"text/css\" id=\"css-fb-visibility\">@media screen and (max-width: 640px){.fusion-no-small-visibility{display:none !important;}body:not(.fusion-builder-ui-wireframe) .sm-text-align-center{text-align:center !important;}body:not(.fusion-builder-ui-wireframe) .sm-text-align-left{text-align:left !important;}body:not(.fusion-builder-ui-wireframe) .sm-text-align-right{text-align:right !important;}body:not(.fusion-builder-ui-wireframe) .sm-mx-auto{margin-left:auto !important;margin-right:auto !important;}body:not(.fusion-builder-ui-wireframe) .sm-ml-auto{margin-left:auto !important;}body:not(.fusion-builder-ui-wireframe) .sm-mr-auto{margin-right:auto !important;}body:not(.fusion-builder-ui-wireframe) .fusion-absolute-position-small{position:absolute;top:auto;width:100%;}}@media screen and (min-width: 641px) and (max-width: 1024px){.fusion-no-medium-visibility{display:none !important;}body:not(.fusion-builder-ui-wireframe) .md-text-align-center{text-align:center !important;}body:not(.fusion-builder-ui-wireframe) .md-text-align-left{text-align:left !important;}body:not(.fusion-builder-ui-wireframe) .md-text-align-right{text-align:right !important;}body:not(.fusion-builder-ui-wireframe) .md-mx-auto{margin-left:auto !important;margin-right:auto !important;}body:not(.fusion-builder-ui-wireframe) .md-ml-auto{margin-left:auto !important;}body:not(.fusion-builder-ui-wireframe) .md-mr-auto{margin-right:auto !important;}body:not(.fusion-builder-ui-wireframe) .fusion-absolute-position-medium{position:absolute;top:auto;width:100%;}}@media screen and (min-width: 1025px){.fusion-no-large-visibility{display:none !important;}body:not(.fusion-builder-ui-wireframe) .lg-text-align-center{text-align:center !important;}body:not(.fusion-builder-ui-wireframe) .lg-text-align-left{text-align:left !important;}body:not(.fusion-builder-ui-wireframe) .lg-text-align-right{text-align:right !important;}body:not(.fusion-builder-ui-wireframe) .lg-mx-auto{margin-left:auto !important;margin-right:auto !important;}body:not(.fusion-builder-ui-wireframe) .lg-ml-auto{margin-left:auto !important;}body:not(.fusion-builder-ui-wireframe) .lg-mr-auto{margin-right:auto !important;}body:not(.fusion-builder-ui-wireframe) .fusion-absolute-position-large{position:absolute;top:auto;width:100%;}}</style>\\n<!-- Jetpack Open Graph Tags -->\\n<meta property=\"og:type\" content=\"website\" />\\n<meta property=\"og:title\" content=\"EngineerSpock\" />\\n<meta property=\"og:description\" content=\"EngineerSpock\" />\\n<meta property=\"og:url\" content=\"https://www.engineerspock.com/\" />\\n<meta property=\"og:site_name\" content=\"EngineerSpock\" />\\n<meta property=\"og:image\" content=\"https://www.engineerspock.com/wp-content/uploads/2016/04/cropped-Symbol.png\" />\\n<meta property=\"og:image:width\" content=\"512\" />\\n<meta property=\"og:image:height\" content=\"512\" />\\n<meta property=\"og:locale\" content=\"en_US\" />\\n<meta name=\"twitter:site\" content=\"@engineerspock\" />\\n<meta name=\"twitter:text:title\" content=\"Home\" />\\n<meta name=\"twitter:image\" content=\"https://www.engineerspock.com/wp-content/uploads/2016/04/cropped-Symbol-270x270.png\" />\\n<meta name=\"twitter:card\" content=\"summary\" />\\n\\n<!-- End Jetpack Open Graph Tags -->\\n<link rel=\"icon\" href=\"https://cdn.shortpixel.ai/client/q_glossy,ret_img,w_32,h_32/https://www.engineerspock.com/wp-content/uploads/2016/04/cropped-Symbol-32x32.png\" sizes=\"32x32\" />\\n<link rel=\"icon\" href=\"https://cdn.shortpixel.ai/client/q_glossy,ret_img,w_192,h_192/https://www.engineerspock.com/wp-content/uploads/2016/04/cropped-Symbol-192x192.png\" sizes=\"192x192\" />\\n<link rel=\"apple-touch-icon\" href=\"https://cdn.shortpixel.ai/client/q_glossy,ret_img,w_180,h_180/https://www.engineerspock.com/wp-content/uploads/2016/04/cropped-Symbol-180x180.png\" />\\n<meta name=\"msapplication-TileImage\" content=\"https://www.engineerspock.com/wp-content/uploads/2016/04/cropped-Symbol-270x270.png\" />\\n\\t\\t<style type=\"text/css\" id=\"wp-custom-css\">\\n\\t\\t\\t.home .current_page_item > a {color: #212121 !important}\\n\\n.twfb {padding-bottom: 30px;}\\n\\n.twt {background: #00abf0;\\n    font-size: 15px;\\n    padding: 8px 22px;\\n    color: #fff;\\n    box-shadow: 1px 1px 3px 0 rgba(0,0,0,.2);\\n    border-radius: 7px;}\\n\\n.fb {background: #3a579a;\\n    font-size: 15px;\\n    padding: 8px 22px;\\n    color: #fff;\\n    box-shadow: 1px 1px 3px 0 rgba(0,0,0,.2);\\n    border-radius: 7px;}\\n\\n.dvfb {display: inline-block}\\n\\n.twt:hover, .fb:hover {color: #fff}\\n\\n@media only screen and (max-width: 800px) {\\n\\t#course-width .fusion-column-wrapper {    padding: 0px 0px 0px 0px !important;}\\n\\t\\n\\t#course-width {    padding-left: 30px;}\\n\\t\\n}\\n\\n@media only screen and (max-width: 600px) {.dvfb {display: block; margin-top: 10px}}\\n\\n\\n\\n\\n\\n\\n\\n\\n\\t\\t</style>\\n\\t\\t\\t\\t<script type=\"text/javascript\">\\n\\t\\t\\tvar doc = document.documentElement;\\n\\t\\t\\tdoc.setAttribute( \\'data-useragent\\', navigator.userAgent );\\n\\t\\t</script>\\n\\t\\t\\n\\t</head>\\n\\n<body class=\"home page-template page-template-100-width page-template-100-width-php page page-id-2117 fusion-image-hovers fusion-pagination-sizing fusion-button_size-large fusion-button_type-flat fusion-button_span-no avada-image-rollover-circle-yes avada-image-rollover-yes avada-image-rollover-direction-left fusion-has-button-gradient fusion-body ltr fusion-sticky-header no-tablet-sticky-header no-mobile-sticky-header no-mobile-slidingbar no-mobile-totop avada-has-rev-slider-styles fusion-disable-outline fusion-sub-menu-fade mobile-logo-pos-left layout-wide-mode avada-has-boxed-modal-shadow-none layout-scroll-offset-full avada-has-zero-margin-offset-top fusion-top-header menu-text-align-center mobile-menu-design-modern fusion-show-pagination-text fusion-header-layout-v1 avada-responsive avada-footer-fx-none avada-menu-highlight-style-bar fusion-search-form-classic fusion-main-menu-search-overlay fusion-avatar-square avada-sticky-shrinkage avada-dropdown-styles avada-blog-layout-medium avada-blog-archive-layout-medium avada-header-shadow-yes avada-menu-icon-position-left avada-has-megamenu-shadow avada-has-mainmenu-dropdown-divider avada-has-pagetitle-bg-full avada-has-main-nav-search-icon avada-has-breadcrumb-mobile-hidden avada-has-titlebar-hide avada-has-pagination-padding avada-flyout-menu-direction-fade avada-ec-views-v1\" >\\n\\t\\n<!-- Google Tag Manager (noscript) -->\\n<noscript><iframe src=\"https://www.googletagmanager.com/ns.html?id=GTM-TD3B6LW\"\\nheight=\"0\" width=\"0\" style=\"display:none;visibility:hidden\"></iframe></noscript>\\n<!-- End Google Tag Manager (noscript) -->\\t<a class=\"skip-link screen-reader-text\" href=\"#content\">Skip to content</a>\\n\\n\\t<div id=\"boxed-wrapper\">\\n\\t\\t<div class=\"fusion-sides-frame\"></div>\\n\\t\\t<div id=\"wrapper\" class=\"fusion-wrapper\">\\n\\t\\t\\t<div id=\"home\" style=\"position:relative;top:-1px;\"></div>\\n\\t\\t\\t\\n\\t\\t\\t\\t\\n\\t\\t\\t<header class=\"fusion-header-wrapper fusion-header-shadow\">\\n\\t\\t\\t\\t<div class=\"fusion-header-v1 fusion-logo-alignment fusion-logo-left fusion-sticky-menu- fusion-sticky-logo- fusion-mobile-logo-  fusion-mobile-menu-design-modern\">\\n\\t\\t\\t\\t\\t<div class=\"fusion-header-sticky-height\"></div>\\n<div class=\"fusion-header\">\\n\\t<div class=\"fusion-row\">\\n\\t\\t\\t\\t\\t<div class=\"fusion-logo\" data-margin-top=\"20px\" data-margin-bottom=\"20px\" data-margin-left=\"0px\" data-margin-right=\"0px\">\\n\\t\\t\\t<a class=\"fusion-logo-link\"  href=\"https://www.engineerspock.com/\" >\\n\\n\\t\\t\\t\\t\\t\\t<!-- standard logo -->\\n\\t\\t\\t<noscript><img src=\"https://cdn.shortpixel.ai/client/q_glossy,ret_img,w_117,h_65/https://www.engineerspock.com/wp-content/uploads/2017/10/forblog-nobackground-logo.png\" srcset=\"https://cdn.shortpixel.ai/client/q_glossy,ret_img/https://www.engineerspock.com/wp-content/uploads/2017/10/forblog-nobackground-logo.png 1x\" width=\"117\" height=\"65\" alt=\"EngineerSpock Logo\" data-retina_logo_url=\"\" class=\"fusion-standard-logo\" /></noscript><img src=\\'https://cdn.shortpixel.ai/client/q_lqip,ret_wait,w_117,h_65/https://www.engineerspock.com/wp-content/uploads/2017/10/forblog-nobackground-logo.png\\' data-src=\"https://cdn.shortpixel.ai/client/q_glossy,ret_img,w_117,h_65/https://www.engineerspock.com/wp-content/uploads/2017/10/forblog-nobackground-logo.png\" data-srcset=\"https://cdn.shortpixel.ai/client/q_glossy,ret_img/https://www.engineerspock.com/wp-content/uploads/2017/10/forblog-nobackground-logo.png 1x\" width=\"117\" height=\"65\" alt=\"EngineerSpock Logo\" data-retina_logo_url=\"\" class=\"lazyload fusion-standard-logo\" />\\n\\n\\t\\t\\t\\n\\t\\t\\t\\t\\t</a>\\n\\t\\t</div>\\t\\t<nav class=\"fusion-main-menu\" aria-label=\"Main Menu\"><div class=\"fusion-overlay-search\">\\t\\t<form role=\"search\" class=\"searchform fusion-search-form  fusion-search-form-classic\" method=\"get\" action=\"https://www.engineerspock.com/\">\\n\\t\\t\\t<div class=\"fusion-search-form-content\">\\n\\n\\t\\t\\t\\t\\n\\t\\t\\t\\t<div class=\"fusion-search-field search-field\">\\n\\t\\t\\t\\t\\t<label><span class=\"screen-reader-text\">Search for:</span>\\n\\t\\t\\t\\t\\t\\t\\t\\t\\t\\t\\t\\t\\t<input type=\"search\" value=\"\" name=\"s\" class=\"s\" placeholder=\"Search...\" required aria-required=\"true\" aria-label=\"Search...\"/>\\n\\t\\t\\t\\t\\t\\t\\t\\t\\t\\t\\t</label>\\n\\t\\t\\t\\t</div>\\n\\t\\t\\t\\t<div class=\"fusion-search-button search-button\">\\n\\t\\t\\t\\t\\t<input type=\"submit\" class=\"fusion-search-submit searchsubmit\" aria-label=\"Search\" value=\"&#xf002;\" />\\n\\t\\t\\t\\t\\t\\t\\t\\t\\t</div>\\n\\n\\t\\t\\t\\t\\n\\t\\t\\t</div>\\n\\n\\n\\t\\t\\t\\n\\t\\t</form>\\n\\t\\t<div class=\"fusion-search-spacer\"></div><a href=\"#\" role=\"button\" aria-label=\"Close Search\" class=\"fusion-close-search\"></a></div><ul id=\"menu-main-menu\" class=\"fusion-menu\"><li  id=\"menu-item-2119\"  class=\"menu-item menu-item-type-post_type menu-item-object-page menu-item-home current-menu-item page_item page-item-2117 current_page_item menu-item-2119\"  data-item-id=\"2119\"><a  href=\"https://www.engineerspock.com/\" class=\"fusion-bar-highlight\"><span class=\"menu-text\">Home</span></a></li><li  id=\"menu-item-2162\"  class=\"menu-item menu-item-type-post_type menu-item-object-page menu-item-2162\"  data-item-id=\"2162\"><a  href=\"https://www.engineerspock.com/blog/\" class=\"fusion-bar-highlight\"><span class=\"menu-text\">Blog</span></a></li><li  id=\"menu-item-2182\"  class=\"menu-item menu-item-type-post_type menu-item-object-page menu-item-2182\"  data-item-id=\"2182\"><a  href=\"https://www.engineerspock.com/courses-overview/\" class=\"fusion-bar-highlight\"><span class=\"menu-text\">Video Courses</span></a></li><li  id=\"menu-item-2458\"  class=\"menu-item menu-item-type-post_type menu-item-object-page menu-item-2458\"  data-item-id=\"2458\"><a  href=\"https://www.engineerspock.com/special-offers/\" class=\"fusion-bar-highlight\"><span class=\"menu-text\">Special Offers</span></a></li><li  id=\"menu-item-2160\"  class=\"menu-item menu-item-type-custom menu-item-object-custom current-menu-item current_page_item menu-item-home menu-item-2160\"  data-item-id=\"2160\"><a href=\"https://www.engineerspock.com/#join\" class=\"fusion-bar-highlight\"><span class=\"menu-text\">Join Us</span></a></li><li  id=\"menu-item-2159\"  class=\"menu-item menu-item-type-custom menu-item-object-custom current-menu-item current_page_item menu-item-home menu-item-2159\"  data-item-id=\"2159\"><a href=\"https://www.engineerspock.com/#about\" class=\"fusion-bar-highlight\"><span class=\"menu-text\">Who&#8217;s EngineerSpock</span></a></li><li class=\"fusion-custom-menu-item fusion-main-menu-search fusion-search-overlay\"><a class=\"fusion-main-menu-icon fusion-bar-highlight\" href=\"#\" aria-label=\"Search\" data-title=\"Search\" title=\"Search\" role=\"button\" aria-expanded=\"false\"></a></li></ul></nav>\\t<div class=\"fusion-mobile-menu-icons\">\\n\\t\\t\\t\\t\\t\\t\\t<a href=\"#\" class=\"fusion-icon awb-icon-bars\" aria-label=\"Toggle mobile menu\" aria-expanded=\"false\"></a>\\n\\t\\t\\n\\t\\t\\n\\t\\t\\n\\t\\t\\t</div>\\n\\n<nav class=\"fusion-mobile-nav-holder fusion-mobile-menu-text-align-left\" aria-label=\"Main Menu Mobile\"></nav>\\n\\n\\t\\t\\t\\t\\t</div>\\n</div>\\n\\t\\t\\t\\t</div>\\n\\t\\t\\t\\t<div class=\"fusion-clearfix\"></div>\\n\\t\\t\\t</header>\\n\\t\\t\\t\\t\\t\\t\\t\\n\\t\\t\\t\\t\\t\\t<div id=\"sliders-container\" class=\"fusion-slider-visibility\">\\n\\t\\t\\t\\t\\t</div>\\n\\t\\t\\t\\t\\n\\t\\t\\t\\t\\n\\t\\t\\t\\n\\t\\t\\t\\n\\t\\t\\t\\t\\t\\t<main id=\"main\" class=\"clearfix width-100\">\\n\\t\\t\\t\\t<div class=\"fusion-row\" style=\"max-width:100%;\">\\n<section id=\"content\" class=\"full-width\">\\n\\t\\t\\t\\t\\t<div id=\"post-2117\" class=\"post-2117 page type-page status-publish hentry\">\\n\\t\\t\\t<span class=\"entry-title rich-snippet-hidden\">Home</span><span class=\"vcard rich-snippet-hidden\"><span class=\"fn\"><a href=\"https://www.engineerspock.com/author/engineerspockoutlook-com/\" title=\"Posts by EngineerSpock\" rel=\"author\">EngineerSpock</a></span></span><span class=\"updated rich-snippet-hidden\">2020-04-23T16:26:41+03:00</span>\\t\\t\\t\\t\\t\\t<div class=\"post-content\">\\n\\t\\t\\t\\t<div class=\"lazyload fusion-fullwidth fullwidth-box fusion-builder-row-1 fusion-parallax-none nonhundred-percent-fullwidth non-hundred-percent-height-scrolling\" data-bg=\"https://cdn.shortpixel.ai/client/q_glossy,ret_img/http://www.engineerspock.com/wp-content/uploads/2018/07/wallls.com_52644-4.jpg\" style=\"background-color: rgba(255,255,255,0);background-image: url(data:image/svg+xml,%3Csvg%20xmlns=%22http://www.w3.org/2000/svg%22%20viewBox=%220%200%20500%20300%22%3E%3C/svg%3E);background-position: left top;background-repeat: no-repeat;padding-top:150px;padding-right:30px;padding-bottom:150px;padding-left:30px;margin-bottom: 0px;margin-top: 0px;border-width: 0px 0px 0px 0px;border-color:#eae9e9;border-style:solid;-webkit-background-size:cover;-moz-background-size:cover;-o-background-size:cover;background-size:cover;\" ><div class=\"fusion-builder-row fusion-row\"><div class=\"fusion-layout-column fusion_builder_column fusion-builder-column-0 fusion_builder_column_1_2 1_2 fusion-one-half fusion-column-first\" style=\"width:48%; margin-right: 4%;margin-top:0px;margin-bottom:20px;\"><div class=\"fusion-column-wrapper fusion-flex-column-wrapper-legacy\" style=\"background-position:left top;background-repeat:no-repeat;-webkit-background-size:cover;-moz-background-size:cover;-o-background-size:cover;background-size:cover;padding: 0px 0px 0px 0px;\"><div class=\"fusion-text fusion-text-1\"><div class=\"fusion-page-title-captions\">\\n<h1 class=\"entry-title\" data-fontsize=\"22\" data-lineheight=\"28\"><span style=\"color: white;\">Welcome to .NET Training</span></h1>\\n</div>\\n<div class=\"fusion-page-title-secondary\"></div>\\n</div><div class=\"fusion-text fusion-text-2\"><div class=\"fusion-page-title-captions\">\\n<h1 class=\"entry-title\" data-fontsize=\"18\" data-lineheight=\"28\"><span style=\"color: white;\">Chance favors the prepared mind.</span></h1>\\n</div>\\n<div class=\"fusion-page-title-secondary\"></div>\\n</div><div class=\"fusion-sep-clear\"></div><div class=\"fusion-separator fusion-full-width-sep\" style=\"margin-left: auto;margin-right: auto;margin-top:6px;width:100%;\"></div><div class=\"fusion-sep-clear\"></div><div class=\"fusion-button-wrapper\"><style type=\"text/css\">.fusion-button.button-1 .fusion-button-text, .fusion-button.button-1 i {color:#ffffff;}.fusion-button.button-1 .fusion-button-icon-divider{border-color:#ffffff;}.fusion-button.button-1:hover .fusion-button-text, .fusion-button.button-1:hover i,.fusion-button.button-1:focus .fusion-button-text, .fusion-button.button-1:focus i,.fusion-button.button-1:active .fusion-button-text, .fusion-button.button-1:active{color:#ffffff;}.fusion-button.button-1:hover .fusion-button-icon-divider, .fusion-button.button-1:hover .fusion-button-icon-divider, .fusion-button.button-1:active .fusion-button-icon-divider{border-color:#ffffff;}.fusion-button.button-1:hover, .fusion-button.button-1:focus, .fusion-button.button-1:active{border-color:#ffffff;border-width:2px;}.fusion-button.button-1 {border-color:#ffffff;border-width:2px;border-radius:0px;}.fusion-button.button-1{background: rgba(144,201,232,0.01);\\n\\t\\t\\t\\t\\t\\t\\tbackground-image: -webkit-gradient( linear, left bottom, left top, from( rgba(90,171,214,0) ), to( rgba(144,201,232,0.01) ) );\\n\\t\\t\\t\\t\\t\\t\\tbackground-image: -webkit-linear-gradient( bottom, rgba(90,171,214,0), rgba(144,201,232,0.01) );\\n\\t\\t\\t\\t\\t\\t\\tbackground-image:   -moz-linear-gradient( bottom, rgba(90,171,214,0), rgba(144,201,232,0.01) );\\n\\t\\t\\t\\t\\t\\t\\tbackground-image:     -o-linear-gradient( bottom, rgba(90,171,214,0), rgba(144,201,232,0.01) );\\n\\t\\t\\t\\t\\t\\t\\tbackground-image: linear-gradient( to top, rgba(90,171,214,0), rgba(144,201,232,0.01) );}.fusion-button.button-1:hover,.button-1:focus,.fusion-button.button-1:active{background: #d6d6d6;\\n\\t\\t\\t\\t\\t\\t\\tbackground-image: -webkit-gradient( linear, left bottom, left top, from( #e8e8e8 ), to( #d6d6d6 ) );\\n\\t\\t\\t\\t\\t\\t\\tbackground-image: -webkit-linear-gradient( bottom, #e8e8e8, #d6d6d6 );\\n\\t\\t\\t\\t\\t\\t\\tbackground-image:   -moz-linear-gradient( bottom, #e8e8e8, #d6d6d6 );\\n\\t\\t\\t\\t\\t\\t\\tbackground-image:     -o-linear-gradient( bottom, #e8e8e8, #d6d6d6 );\\n\\t\\t\\t\\t\\t\\t\\tbackground-image: linear-gradient( to top, #e8e8e8, #d6d6d6 );}</style><a class=\"fusion-button button-flat fusion-button-default-size button-custom button-1 fusion-button-default-span fusion-button-default-type\" target=\"_self\" href=\"https://www.engineerspock.com/courses-overview/\"><span class=\"fusion-button-text\">Video Courses</span></a></div><div class=\"fusion-clearfix\"></div></div></div><div class=\"fusion-layout-column fusion_builder_column fusion-builder-column-1 fusion_builder_column_1_2 1_2 fusion-one-half fusion-column-last\" style=\"width:48%;margin-top:0px;margin-bottom:20px;\"><div class=\"fusion-column-wrapper fusion-flex-column-wrapper-legacy\" style=\"background-position:left top;background-repeat:no-repeat;-webkit-background-size:cover;-moz-background-size:cover;-o-background-size:cover;background-size:cover;padding: 0px 0px 0px 0px;\"><div class=\"fusion-clearfix\"></div></div></div></div></div><div id=\"about\"><div class=\"fusion-fullwidth fullwidth-box fusion-builder-row-2 mass-responsive-section nonhundred-percent-fullwidth non-hundred-percent-height-scrolling\" style=\"background-color: rgba(255,255,255,0);background-position: left top;background-repeat: no-repeat;padding-top:3%;padding-right:30px;padding-bottom:40px;padding-left:30px;margin-bottom: 0px;margin-top: 0px;border-width: 0px 0px 0px 0px;border-color:#eae9e9;border-style:solid;\" id=\"section1\" ><div class=\"fusion-builder-row fusion-row\"><div class=\"fusion-layout-column fusion_builder_column fusion-builder-column-2 fusion_builder_column_1_3 1_3 fusion-one-third fusion-column-first\" style=\"width:33.333333333333%;width:calc(33.333333333333% - ( ( 4% ) * 0.33333333333333 ) );margin-right: 4%;margin-top:42px;margin-bottom:20px;\"><div class=\"fusion-column-wrapper fusion-flex-column-wrapper-legacy\" style=\"background-position:left top;background-repeat:no-repeat;-webkit-background-size:cover;-moz-background-size:cover;-o-background-size:cover;background-size:cover;padding: 0px 0px 0px 0px;\"><span class=\" fusion-imageframe imageframe-none imageframe-1 hover-type-zoomin\"><noscript><img width=\"400\" height=\"268\" alt=\"engineer spock\" title=\"QBaKZLmGItQ\" src=\"https://cdn.shortpixel.ai/client/q_glossy,ret_img,w_400,h_268/http://www.engineerspock.com/wp-content/uploads/2018/01/QBaKZLmGItQ-400x268.jpg\" class=\"img-responsive wp-image-2270\" srcset=\"https://cdn.shortpixel.ai/client/q_glossy,ret_img,w_200/https://www.engineerspock.com/wp-content/uploads/2018/01/QBaKZLmGItQ-200x134.jpg 200w, https://cdn.shortpixel.ai/client/q_glossy,ret_img,w_400/https://www.engineerspock.com/wp-content/uploads/2018/01/QBaKZLmGItQ-400x268.jpg 400w, https://cdn.shortpixel.ai/client/q_glossy,ret_img,w_600/https://www.engineerspock.com/wp-content/uploads/2018/01/QBaKZLmGItQ-600x402.jpg 600w, https://cdn.shortpixel.ai/client/q_glossy,ret_img,w_800/https://www.engineerspock.com/wp-content/uploads/2018/01/QBaKZLmGItQ-800x537.jpg 800w, https://cdn.shortpixel.ai/client/q_glossy,ret_img,w_1200/https://www.engineerspock.com/wp-content/uploads/2018/01/QBaKZLmGItQ-1200x805.jpg 1200w, https://cdn.shortpixel.ai/client/q_glossy,ret_img,w_2560/https://www.engineerspock.com/wp-content/uploads/2018/01/QBaKZLmGItQ.jpg 2560w\" sizes=\"(max-width: 800px) 100vw, 400px\" /></noscript><img width=\"400\" height=\"268\" alt=\"engineer spock\" title=\"QBaKZLmGItQ\" src=\\'https://cdn.shortpixel.ai/client/q_lqip,ret_wait,w_400,h_268/http://www.engineerspock.com/wp-content/uploads/2018/01/QBaKZLmGItQ-400x268.jpg\\' data-src=\"https://cdn.shortpixel.ai/client/q_glossy,ret_img,w_400,h_268/http://www.engineerspock.com/wp-content/uploads/2018/01/QBaKZLmGItQ-400x268.jpg\" class=\"lazyload img-responsive wp-image-2270\" data-srcset=\"https://cdn.shortpixel.ai/client/q_glossy,ret_img,w_200/https://www.engineerspock.com/wp-content/uploads/2018/01/QBaKZLmGItQ-200x134.jpg 200w, https://cdn.shortpixel.ai/client/q_glossy,ret_img,w_400/https://www.engineerspock.com/wp-content/uploads/2018/01/QBaKZLmGItQ-400x268.jpg 400w, https://cdn.shortpixel.ai/client/q_glossy,ret_img,w_600/https://www.engineerspock.com/wp-content/uploads/2018/01/QBaKZLmGItQ-600x402.jpg 600w, https://cdn.shortpixel.ai/client/q_glossy,ret_img,w_800/https://www.engineerspock.com/wp-content/uploads/2018/01/QBaKZLmGItQ-800x537.jpg 800w, https://cdn.shortpixel.ai/client/q_glossy,ret_img,w_1200/https://www.engineerspock.com/wp-content/uploads/2018/01/QBaKZLmGItQ-1200x805.jpg 1200w, https://cdn.shortpixel.ai/client/q_glossy,ret_img,w_2560/https://www.engineerspock.com/wp-content/uploads/2018/01/QBaKZLmGItQ.jpg 2560w\" data-sizes=\"(max-width: 800px) 100vw, 400px\" /></span><div class=\"fusion-clearfix\"></div></div></div><div class=\"fusion-layout-column fusion_builder_column fusion-builder-column-3 fusion_builder_column_2_3 2_3 fusion-two-third fusion-column-last\" style=\"width:66.666666666667%;width:calc(66.666666666667% - ( ( 4% ) * 0.66666666666667 ) );margin-top:42px;margin-bottom:20px;\"><div class=\"fusion-column-wrapper fusion-flex-column-wrapper-legacy\" style=\"background-position:left top;background-repeat:no-repeat;-webkit-background-size:cover;-moz-background-size:cover;-o-background-size:cover;background-size:cover;padding: 0px 0px 0px 0px;\"><div class=\"fusion-text fusion-text-3\"><h2 style=\"text-align: center;\">Who is EngineerSpock</h2>\\n</div><div class=\"fusion-sep-clear\"></div><div class=\"fusion-separator\" style=\"margin-left: auto;margin-right: auto;margin-top:0px;margin-bottom:30px;width:100%;max-width:206px;\"><div class=\"fusion-separator-border sep-single sep-solid\" style=\"border-color:#3e78bd;border-top-width:1px;\"></div></div><div class=\"fusion-sep-clear\"></div><div class=\"fusion-text fusion-text-4\"><p style=\"text-align: left;\">I&#8217;m thankful enough for that I love what I do.</p>\\n<p style=\"text-align: left;\">I began my career as a postgraduate student participating in Microsoft ImagineCup contest.\\xc2\\xa0I have a technical and economical degree from a Russian university.</p>\\n<p style=\"text-align: left;\">I&#8217;ve been working with .NET platform since 2003. <strong>I&#8217;ve been professionally architecting and implementing software for nearly 7 years</strong>, primarily based on the .NET platform. I&#8217;m passionate about building rich and powerful applications using modern technologies. <strong>I&#8217;m a certified specialist</strong> in Windows Applications and Service Communication Applications by Microsoft. <strong>I&#8217;m one of the organizers of the MskDotNet User Group in Moscow.</strong></p>\\n<p style=\"text-align: left;\">&#8220;If it&#8217;s work, we try to do less. If it&#8217;s art, we try to do more.&#8221; &#8211; Seth Godin.</p>\\n<p style=\"text-align: left;\">What I can say is that<strong> software is my art.</strong></p>\\n</div><div class=\"fusion-clearfix\"></div></div></div></div></div></div><div class=\"fusion-fullwidth fullwidth-box fusion-builder-row-3 hundred-percent-fullwidth non-hundred-percent-height-scrolling fusion-equal-height-columns\" style=\"background-color: rgba(255,255,255,0);background-position: right center;background-repeat: no-repeat;padding-top:0px;padding-right:8%;padding-bottom:40px;padding-left:8%;margin-bottom: 0px;margin-top: 0px;border-width: 0px 0px 0px 0px;border-color:#eae9e9;border-style:solid;\" ><div class=\"fusion-builder-row fusion-row\"><div class=\"fusion-layout-column fusion_builder_column fusion-builder-column-4 fusion_builder_column_1_1 1_1 fusion-one-full fusion-column-first fusion-column-last\" style=\"margin-top:0px;margin-bottom:20px;\"><div class=\"fusion-column-wrapper fusion-flex-column-wrapper-legacy\" style=\"background-position:left top;background-repeat:no-repeat;-webkit-background-size:cover;-moz-background-size:cover;-o-background-size:cover;background-size:cover;padding: 0px 0px 0px 0px;\"><div class=\"fusion-content-boxes content-boxes columns row fusion-columns-3 fusion-columns-total-3 fusion-content-boxes-1 content-boxes-icon-on-top content-left\" data-animationOffset=\"top-into-view\" style=\"margin-top:0px;margin-bottom:60px;\"><style type=\"text/css\">.fusion-content-boxes-1 .heading .content-box-heading {color:#333333;}\\n\\t\\t\\t\\t\\t.fusion-content-boxes-1 .fusion-content-box-hover .link-area-link-icon-hover .heading .content-box-heading,\\n\\t\\t\\t\\t\\t.fusion-content-boxes-1 .fusion-content-box-hover .link-area-link-icon-hover .heading .heading-link .content-box-heading,\\n\\t\\t\\t\\t\\t.fusion-content-boxes-1 .fusion-content-box-hover .link-area-box-hover .heading .content-box-heading,\\n\\t\\t\\t\\t\\t.fusion-content-boxes-1 .fusion-content-box-hover .link-area-box-hover .heading .heading-link .content-box-heading,\\n\\t\\t\\t\\t\\t.fusion-content-boxes-1 .fusion-content-box-hover .link-area-link-icon-hover.link-area-box .fusion-read-more,\\n\\t\\t\\t\\t\\t.fusion-content-boxes-1 .fusion-content-box-hover .link-area-link-icon-hover.link-area-box .fusion-read-more::after,\\n\\t\\t\\t\\t\\t.fusion-content-boxes-1 .fusion-content-box-hover .link-area-link-icon-hover.link-area-box .fusion-read-more::before,\\n\\t\\t\\t\\t\\t.fusion-content-boxes-1 .fusion-content-box-hover .fusion-read-more:hover:after,\\n\\t\\t\\t\\t\\t.fusion-content-boxes-1 .fusion-content-box-hover .fusion-read-more:hover:before,\\n\\t\\t\\t\\t\\t.fusion-content-boxes-1 .fusion-content-box-hover .fusion-read-more:hover,\\n\\t\\t\\t\\t\\t.fusion-content-boxes-1 .fusion-content-box-hover .link-area-box-hover.link-area-box .fusion-read-more,\\n\\t\\t\\t\\t\\t.fusion-content-boxes-1 .fusion-content-box-hover .link-area-box-hover.link-area-box .fusion-read-more::after,\\n\\t\\t\\t\\t\\t.fusion-content-boxes-1 .fusion-content-box-hover .link-area-box-hover.link-area-box .fusion-read-more::before,\\n\\t\\t\\t\\t\\t.fusion-content-boxes-1 .fusion-content-box-hover .link-area-link-icon-hover .icon .circle-no,\\n\\t\\t\\t\\t\\t.fusion-content-boxes-1 .heading .heading-link:hover .content-box-heading {\\n\\t\\t\\t\\t\\t\\tcolor: #9e9e9e;\\n\\t\\t\\t\\t\\t}\\n\\t\\t\\t\\t\\t.fusion-content-boxes-1 .fusion-content-box-hover .link-area-box-hover .icon .circle-no {\\n\\t\\t\\t\\t\\t\\tcolor: #9e9e9e !important;\\n\\t\\t\\t\\t\\t}.fusion-content-boxes-1 .fusion-content-box-hover .link-area-box.link-area-box-hover .fusion-content-box-button {background: #d6d6d6;color: #787878;background-image: -webkit-gradient( linear, left bottom, left top, from( #e8e8e8 ), to( #d6d6d6 ) );background-image: linear-gradient( to top, #e8e8e8, #d6d6d6 )}.fusion-content-boxes-1 .fusion-content-box-hover .link-area-box.link-area-box-hover .fusion-content-box-button .fusion-button-text {color: #787878;}\\n\\t\\t\\t\\t\\t.fusion-content-boxes-1 .fusion-content-box-hover .link-area-link-icon-hover .heading .icon > span {\\n\\t\\t\\t\\t\\t\\tbackground-color: #9e9e9e !important;\\n\\t\\t\\t\\t\\t}\\n\\t\\t\\t\\t\\t.fusion-content-boxes-1 .fusion-content-box-hover .link-area-box-hover .heading .icon > span {\\n\\t\\t\\t\\t\\t\\tborder-color: #9e9e9e !important;\\n\\t\\t\\t\\t\\t}\\n\\t\\t\\t\\t\\t\\t.fusion-content-boxes-1 .fusion-content-box-hover .link-area-link-icon-hover.icon-hover-animation-pulsate .fontawesome-icon:after,\\n\\t\\t\\t\\t\\t\\t.fusion-content-boxes-1 .fusion-content-box-hover .link-area-box-hover.icon-hover-animation-pulsate .fontawesome-icon:after,\\n\\t\\t\\t\\t\\t\\t.fusion-content-boxes-1 .fusion-content-box-hover .link-area-link-icon-hover.icon-wrapper-hover-animation-pulsate .icon span:after,\\n\\t\\t\\t\\t\\t\\t.fusion-content-boxes-1 .fusion-content-box-hover .link-area-box-hover.icon-wrapper-hover-animation-pulsate .icon span:after {\\n\\t\\t\\t\\t\\t\\t\\t-webkit-box-shadow:0 0 0 2px rgba(255,255,255,0.1), 0 0 10px 10px #9e9e9e, 0 0 0 10px rgba(255,255,255,0.5);\\n\\t\\t\\t\\t\\t\\t\\t-moz-box-shadow:0 0 0 2px rgba(255,255,255,0.1), 0 0 10px 10px #9e9e9e, 0 0 0 10px rgba(255,255,255,0.5);\\n\\t\\t\\t\\t\\t\\t\\tbox-shadow: 0 0 0 2px rgba(255,255,255,0.1), 0 0 10px 10px #9e9e9e, 0 0 0 10px rgba(255,255,255,0.5);\\n\\t\\t\\t\\t\\t\\t}\\n\\t\\t\\t\\t\\t</style><div class=\"fusion-column content-box-column content-box-column content-box-column-1 col-lg-4 col-md-4 col-sm-4 fusion-content-box-hover content-box-column-first-in-row\"><div class=\"col content-box-wrapper content-wrapper link-area-link-icon icon-hover-animation-pulsate\" style=\"background-color:rgba(255,255,255,0);\" data-animationOffset=\"top-into-view\"><div class=\"heading heading-with-icon icon-left\"><div class=\"icon\"><i style=\"border-color:#333333;border-width:1px;background-color:#4ea4a5;box-sizing:content-box;height:42px;width:42px;line-height:42px;border-radius:50%;color:#ffffff;font-size:21px;\" aria-hidden=\"true\" class=\"fontawesome-icon fa fa-book circle-yes\"></i></div><h2 class=\"content-box-heading\" style=\"font-size:18px;line-height:23px;\">PUBLICATIONS</h2></div><div class=\"fusion-clearfix\"></div><div class=\"content-container\" style=\"color:#747474;\">\\n<p>I\\xe2\\x80\\x99ve been publishing my articles and translations on the famous Russian technical site \\xe2\\x80\\x93 www.habrahabr.ru. So, if you are a Russian speaker you can go there and read my publications. If you want to read my articles in English, then go to my <a href=\"https://www.engineerspock.com/blog\">BLOG.</a></p>\\n</div></div></div><div class=\"fusion-column content-box-column content-box-column content-box-column-2 col-lg-4 col-md-4 col-sm-4 fusion-content-box-hover \"><div class=\"col content-box-wrapper content-wrapper link-area-link-icon icon-hover-animation-pulsate\" style=\"background-color:rgba(255,255,255,0);\" data-animationOffset=\"top-into-view\"><div class=\"heading heading-with-icon icon-left\"><div class=\"icon\"><i style=\"border-color:#333333;border-width:1px;background-color:#4e6da5;box-sizing:content-box;height:42px;width:42px;line-height:42px;border-radius:50%;color:#ffffff;font-size:21px;\" aria-hidden=\"true\" class=\"fontawesome-icon fa fa-video-camera circle-yes\"></i></div><h2 class=\"content-box-heading\" style=\"font-size:18px;line-height:23px;\">AUTHOR of VIDEO COURSES</h2></div><div class=\"fusion-clearfix\"></div><div class=\"content-container\" style=\"color:#747474;\">\\n<p>I published many video courses about programming on the .NET platform. To learn more either check out this page below or visit my <a href=\"https://www.engineerspock.com/courses-overview/\">courses overview page</a>.</p>\\n</div></div></div><div class=\"fusion-column content-box-column content-box-column content-box-column-3 col-lg-4 col-md-4 col-sm-4 fusion-content-box-hover content-box-column-last content-box-column-last-in-row\"><div class=\"col content-box-wrapper content-wrapper link-area-link-icon icon-hover-animation-pulsate\" style=\"background-color:rgba(255,255,255,0);\" data-animationOffset=\"top-into-view\"><div class=\"heading heading-with-icon icon-left\"><div class=\"icon\"><i style=\"border-color:#333333;border-width:1px;background-color:#f6722a;box-sizing:content-box;height:42px;width:42px;line-height:42px;border-radius:50%;color:#ffffff;font-size:21px;\" aria-hidden=\"true\" class=\"fontawesome-icon fa fa-envelope-o circle-yes\"></i></div><h2 class=\"content-box-heading\" style=\"font-size:18px;line-height:23px;\">Contacts</h2></div><div class=\"fusion-clearfix\"></div><div class=\"content-container\" style=\"color:#747474;\">\\n<p>If you want to contact me, you always can do it by e-mail \\xe2\\x80\\x93 engineerspock[at]outlook[dot]com.</p>\\n</div></div></div><style type=\"text/css\">\\n\\t\\t\\t\\t\\t\\t.fusion-content-boxes-1 .fusion-content-box-hover .heading-link:hover .icon i.circle-yes,\\n\\t\\t\\t\\t\\t\\t.fusion-content-boxes-1 .fusion-content-box-hover .link-area-box:hover .heading-link .icon i.circle-yes,\\n\\t\\t\\t\\t\\t\\t.fusion-content-boxes-1 .fusion-content-box-hover .link-area-link-icon-hover .heading .icon i.circle-yes,\\n\\t\\t\\t\\t\\t\\t.fusion-content-boxes-1 .fusion-content-box-hover .link-area-box-hover .heading .icon i.circle-yes {\\n\\t\\t\\t\\t\\t\\t\\tbackground-color: #9e9e9e !important;\\n\\t\\t\\t\\t\\t\\t\\tborder-color: #9e9e9e !important;\\n\\t\\t\\t\\t\\t\\t}</style><div class=\"fusion-clearfix\"></div></div><div class=\"fusion-clearfix\"></div></div></div></div></div><div id=\"join\"><div class=\"fusion-fullwidth fullwidth-box fusion-builder-row-4 nonhundred-percent-fullwidth non-hundred-percent-height-scrolling fusion-equal-height-columns\" style=\"background-color: #3f3f3f;background-position: center bottom;background-repeat: no-repeat;padding-top:100px;padding-right:30px;padding-bottom:90px;padding-left:30px;margin-bottom: 0px;margin-top: 0px;border-width: 0px 0px 0px 0px;border-color:#eae9e9;border-style:solid;\" ><div class=\"fusion-builder-row fusion-row\"><div class=\"fusion-layout-column fusion_builder_column fusion-builder-column-5 fusion_builder_column_3_5 3_5 fusion-three-fifth fusion-column-first\" style=\"width:60%;width:calc(60% - ( ( 50px ) * 0.6 ) );margin-right: 50px;margin-top:0px;margin-bottom:25px;\"><div class=\"fusion-column-wrapper fusion-flex-column-wrapper-legacy\" style=\"background-position:left top;background-repeat:no-repeat;-webkit-background-size:cover;-moz-background-size:cover;-o-background-size:cover;background-size:cover;padding: 0px 0px 0px 0px;\"><div class=\"fusion-column-content-centered\"><div class=\"fusion-column-content\"><div class=\"fusion-text fusion-text-5\"><h1 style=\"font-weight: 300;\"><span style=\"color: #ffffff;\">Join Us</span></h1>\\n</div><div class=\"fusion-sep-clear\"></div><div class=\"fusion-separator fusion-clearfix\" style=\"float:left;margin-top:0px;margin-bottom:30px;width:100%;max-width:206px;\"><div class=\"fusion-separator-border sep-single sep-solid\" style=\"border-color:#3e78bd;border-top-width:1px;\"></div></div><div class=\"fusion-sep-clear\"></div><div class=\"fusion-text fusion-text-6\"><p style=\"color: white;\">Join my mailing list and\\xc2\\xa0<strong>you\\xe2\\x80\\x99ll be eligible for getting up to 90% discount for any of my courses.</strong><br />\\nAfter subscribing, I\\xe2\\x80\\x99ll notify you about new courses from time to time. If you want to get discounts on courses which have been released, then you can request a discount for a particular course,\\xc2\\xa0<strong><span style=\"color: #3e78bd;\"><a href=\"/cdn-cgi/l/email-protection#90f5fef7f9fef5f5e2e3e0fff3fbd0ffe5e4fcfffffbbef3fffd\">just by sending me a short e-mail.</a></span></strong></p>\\n<p>I\\xe2\\x80\\x99ll not SPAM you and you can unsubscribe at any time.</p>\\n</div></div></div><div class=\"fusion-clearfix\"></div></div></div><div class=\"fusion-layout-column fusion_builder_column fusion-builder-column-6 fusion_builder_column_2_5 2_5 fusion-two-fifth fusion-column-last\" style=\"width:40%;width:calc(40% - ( ( 50px ) * 0.4 ) );margin-top:0px;margin-bottom:20px;\"><div class=\"fusion-column-wrapper fusion-flex-column-wrapper-legacy\" style=\"background-position:left top;background-repeat:no-repeat;-webkit-background-size:cover;-moz-background-size:cover;-o-background-size:cover;background-size:cover;padding: 0px 0px 0px 0px;\"><div class=\"fusion-column-content-centered\"><div class=\"fusion-column-content\"><div class=\"fusion-sep-clear\"></div><div class=\"fusion-separator fusion-full-width-sep\" style=\"margin-left: auto;margin-right: auto;margin-top:10px;width:100%;\"></div><div class=\"fusion-sep-clear\"></div><script data-cfasync=\"false\" src=\"/cdn-cgi/scripts/5c5dd728/cloudflare-static/email-decode.min.js\"></script><script>(function() {\\n\\twindow.mc4wp = window.mc4wp || {\\n\\t\\tlisteners: [],\\n\\t\\tforms: {\\n\\t\\t\\ton: function(evt, cb) {\\n\\t\\t\\t\\twindow.mc4wp.listeners.push(\\n\\t\\t\\t\\t\\t{\\n\\t\\t\\t\\t\\t\\tevent   : evt,\\n\\t\\t\\t\\t\\t\\tcallback: cb\\n\\t\\t\\t\\t\\t}\\n\\t\\t\\t\\t);\\n\\t\\t\\t}\\n\\t\\t}\\n\\t}\\n})();\\n</script><!-- Mailchimp for WordPress v4.8.6 - https://wordpress.org/plugins/mailchimp-for-wp/ --><form id=\"mc4wp-form-1\" class=\"mc4wp-form mc4wp-form-1808 mc4wp-form-theme mc4wp-form-theme-dark\" method=\"post\" data-id=\"1808\" data-name=\"Subscribe to my mailing list\" ><div class=\"mc4wp-form-fields\"><p>\\r\\n\\t<label>\\r\\n      <font color=\"White\">\\r\\n      Email address:\\r\\n        </font>\\r\\n  </label><br/>\\r\\n\\t<input type=\"email\" name=\"EMAIL\" placeholder=\"Your email address\" required />\\r\\n</p>\\r\\n<p>\\r\\n    <label>\\r\\n      <font color=\"White\">\\r\\n      First Name:\\r\\n        </font>\\r\\n  </label><br/>\\r\\n    <input type=\"text\" name=\"FNAME\">\\r\\n</p>\\r\\n<p>\\r\\n\\t<input type=\"submit\" value=\"Subscribe\" />\\r\\n</p></div><label style=\"display: none !important;\">Leave this field empty if you\\'re human: <input type=\"text\" name=\"_mc4wp_honeypot\" value=\"\" tabindex=\"-1\" autocomplete=\"off\" /></label><input type=\"hidden\" name=\"_mc4wp_timestamp\" value=\"1625842673\" /><input type=\"hidden\" name=\"_mc4wp_form_id\" value=\"1808\" /><input type=\"hidden\" name=\"_mc4wp_form_element_id\" value=\"mc4wp-form-1\" /><div class=\"mc4wp-response\"></div></form><!-- / Mailchimp for WordPress Plugin --></div></div><div class=\"fusion-clearfix\"></div></div></div></div></div></div>\\n\\t\\t\\t\\t\\t\\t\\t</div>\\n\\t\\t\\t\\t\\t\\t\\t\\t\\t\\t\\t\\t</div>\\n\\t</section>\\n\\t\\t\\t\\t\\t\\t\\n\\t\\t\\t\\t\\t</div>  <!-- fusion-row -->\\n\\t\\t\\t\\t</main>  <!-- #main -->\\n\\t\\t\\t\\t\\n\\t\\t\\t\\t\\n\\t\\t\\t\\t\\t\\t\\t\\t\\n\\t\\t\\t\\t\\t\\n\\t\\t<div class=\"fusion-footer\">\\n\\t\\t\\t\\t\\n\\t\\n\\t<footer id=\"footer\" class=\"fusion-footer-copyright-area\">\\n\\t\\t<div class=\"fusion-row\">\\n\\t\\t\\t<div class=\"fusion-copyright-content\">\\n\\n\\t\\t\\t\\t<div class=\"fusion-copyright-notice\">\\n\\t\\t<div>\\n\\t\\tCopyright 2012 - 2017 Avada | All Rights Reserved | Powered by <a href=\"https://wordpress.org\">WordPress</a> | <a href=\"https://theme-fusion.com\">Theme Fusion</a>\\t</div>\\n</div>\\n\\n\\t\\t\\t</div> <!-- fusion-fusion-copyright-content -->\\n\\t\\t</div> <!-- fusion-row -->\\n\\t</footer> <!-- #footer -->\\n\\t\\t</div> <!-- fusion-footer -->\\n\\n\\t\\t\\n\\t\\t\\t\\t\\t<div class=\"fusion-sliding-bar-wrapper\">\\n\\t\\t\\t\\t\\t\\t\\t\\t\\t\\t\\t</div>\\n\\n\\t\\t\\t\\t\\t\\t\\t\\t\\t\\t\\t\\t</div> <!-- wrapper -->\\n\\t\\t</div> <!-- #boxed-wrapper -->\\n\\t\\t<div class=\"fusion-top-frame\"></div>\\n\\t\\t<div class=\"fusion-bottom-frame\"></div>\\n\\t\\t<div class=\"fusion-boxed-shadow\"></div>\\n\\t\\t<a class=\"fusion-one-page-text-link fusion-page-load-link\" tabindex=\"-1\" href=\"#\" aria-hidden=\"true\"></a>\\n\\n\\t\\t<div class=\"avada-footer-scripts\">\\n\\t\\t\\t\\t\\t\\t\\t<script type=\\'text/javascript\\'><!--\\r\\n\\t\\t\\tvar seriesdropdown = document.getElementById(\"orgseries_dropdown\");\\r\\n\\t\\t\\tif (seriesdropdown) {\\r\\n\\t\\t\\t function onSeriesChange() {\\r\\n\\t\\t\\t\\t\\tif ( seriesdropdown.options[seriesdropdown.selectedIndex].value != ( 0 || -1 ) ) {\\r\\n\\t\\t\\t\\t\\t\\tlocation.href = \"https://www.engineerspock.com/series/\"+seriesdropdown.options[seriesdropdown.selectedIndex].value;\\r\\n\\t\\t\\t\\t\\t}\\r\\n\\t\\t\\t\\t}\\r\\n\\t\\t\\t\\tseriesdropdown.onchange = onSeriesChange;\\r\\n\\t\\t\\t}\\r\\n\\t\\t\\t--></script>\\r\\n\\t\\t\\t<script async>(function(s,u,m,o,j,v){j=u.createElement(m);v=u.getElementsByTagName(m)[0];j.async=1;j.src=o;j.dataset.sumoSiteId=\\'3125000020303000e0c0a5000eb4b400dfd9f50041feae00d4a35d0093627b00\\';j.dataset.sumoPlatform=\\'wordpress\\';v.parentNode.insertBefore(j,v)})(window,document,\\'script\\',\\'//load.sumo.com/\\');</script>    <script type=\"application/javascript\">\\n      var ajaxurl = \"https://www.engineerspock.com/wp-admin/admin-ajax.php\";\\n\\n      function sumo_add_woocommerce_coupon(code) {\\n        jQuery.post(ajaxurl, {\\n          action: \\'sumo_add_woocommerce_coupon\\',\\n          code: code,\\n        });\\n      }\\n\\n      function sumo_remove_woocommerce_coupon(code) {\\n        jQuery.post(ajaxurl, {\\n          action: \\'sumo_remove_woocommerce_coupon\\',\\n          code: code,\\n        });\\n      }\\n\\n      function sumo_get_woocommerce_cart_subtotal(callback) {\\n        jQuery.ajax({\\n          method: \\'POST\\',\\n          url: ajaxurl,\\n          dataType: \\'html\\',\\n          data: {\\n            action: \\'sumo_get_woocommerce_cart_subtotal\\',\\n          },\\n          success: function(subtotal) {\\n            return callback(null, subtotal);\\n          },\\n          error: function(err) {\\n            return callback(err, 0);\\n          }\\n        });\\n      }\\n    </script>\\n    <script>(function() {function maybePrefixUrlField() {\\n\\tif (this.value.trim() !== \\'\\' && this.value.indexOf(\\'http\\') !== 0) {\\n\\t\\tthis.value = \"http://\" + this.value;\\n\\t}\\n}\\n\\nvar urlFields = document.querySelectorAll(\\'.mc4wp-form input[type=\"url\"]\\');\\nif (urlFields) {\\n\\tfor (var j=0; j < urlFields.length; j++) {\\n\\t\\turlFields[j].addEventListener(\\'blur\\', maybePrefixUrlField);\\n\\t}\\n}\\n})();</script><script type=\"text/javascript\">var fusionNavIsCollapsed=function(e){var t;window.innerWidth<=e.getAttribute(\"data-breakpoint\")?(e.classList.add(\"collapse-enabled\"),e.classList.contains(\"expanded\")||(e.setAttribute(\"aria-expanded\",\"false\"),window.dispatchEvent(new Event(\"fusion-mobile-menu-collapsed\",{bubbles:!0,cancelable:!0})))):(null!==e.querySelector(\".menu-item-has-children.expanded .fusion-open-nav-submenu-on-click\")&&e.querySelector(\".menu-item-has-children.expanded .fusion-open-nav-submenu-on-click\").click(),e.classList.remove(\"collapse-enabled\"),e.setAttribute(\"aria-expanded\",\"true\"),null!==e.querySelector(\".fusion-custom-menu\")&&e.querySelector(\".fusion-custom-menu\").removeAttribute(\"style\")),e.classList.add(\"no-wrapper-transition\"),clearTimeout(t),t=setTimeout(()=>{e.classList.remove(\"no-wrapper-transition\")},400),e.classList.remove(\"loading\")},fusionRunNavIsCollapsed=function(){var e,t=document.querySelectorAll(\".fusion-menu-element-wrapper\");for(e=0;e<t.length;e++)fusionNavIsCollapsed(t[e])};function avadaGetScrollBarWidth(){var e,t,n,s=document.createElement(\"p\");return s.style.width=\"100%\",s.style.height=\"200px\",(e=document.createElement(\"div\")).style.position=\"absolute\",e.style.top=\"0px\",e.style.left=\"0px\",e.style.visibility=\"hidden\",e.style.width=\"200px\",e.style.height=\"150px\",e.style.overflow=\"hidden\",e.appendChild(s),document.body.appendChild(e),t=s.offsetWidth,e.style.overflow=\"scroll\",t==(n=s.offsetWidth)&&(n=e.clientWidth),document.body.removeChild(e),t-n}fusionRunNavIsCollapsed(),window.addEventListener(\"fusion-resize-horizontal\",fusionRunNavIsCollapsed);</script><noscript><style>.lazyload{display:none;}</style></noscript><script data-noptimize=\"1\">window.lazySizesConfig=window.lazySizesConfig||{};window.lazySizesConfig.loadMode=1;</script><script async data-noptimize=\"1\" src=\\'https://www.engineerspock.com/wp-content/plugins/autoptimize/classes/external/js/lazysizes.min.js?ao_version=2.8.4\\'></script><script data-noptimize=\"1\">function c_img(a,b){src=\"avif\"==b?\"data:image/avif;base64,AAAAIGZ0eXBhdmlmAAAAAGF2aWZtaWYxbWlhZk1BMUIAAADybWV0YQAAAAAAAAAoaGRscgAAAAAAAAAAcGljdAAAAAAAAAAAAAAAAGxpYmF2aWYAAAAADnBpdG0AAAAAAAEAAAAeaWxvYwAAAABEAAABAAEAAAABAAABGgAAABoAAAAoaWluZgAAAAAAAQAAABppbmZlAgAAAAABAABhdjAxQ29sb3IAAAAAamlwcnAAAABLaXBjbwAAABRpc3BlAAAAAAAAAAEAAAABAAAAEHBpeGkAAAAAAwgICAAAAAxhdjFDgQ0MAAAAABNjb2xybmNseAACAAIAAYAAAAAXaXBtYQAAAAAAAAABAAEEAQKDBAAAACJtZGF0EgAKCBgADsgQEAwgMgwf8AAAWAAAAACvJ+o=\":\"data:image/webp;base64,UklGRhoAAABXRUJQVlA4TA0AAAAvAAAAEAcQERGIiP4HAA==\";var c=new Image;c.onload=function(){var d=0<c.width&&0<c.height;a(d,b)},c.onerror=function(){a(!1,b)},c.src=src}function s_img(a,b){w=window,\"avif\"==b?!1==a?c_img(s_img,\"webp\"):w.ngImg=\"avif\":!1==a?w.ngImg=!1:w.ngImg=\"webp\"}c_img(s_img,\"avif\");document.addEventListener(\"lazybeforeunveil\",function({target:a}){window.ngImg&&[\"data-src\",\"data-srcset\"].forEach(function(b){attr=a.getAttribute(b),null!==attr&&-1==attr.indexOf(\"/client/to_\")&&a.setAttribute(b,attr.replace(/\\\\/client\\\\//,\"/client/to_\"+window.ngImg+\",\"))})});</script><link rel=\\'stylesheet\\' id=\\'wp-block-library-css\\'  href=\\'https://www.engineerspock.com/wp-includes/css/dist/block-library/style.min.css?ver=5.7.2\\' type=\\'text/css\\' media=\\'all\\' />\\n<link rel=\\'stylesheet\\' id=\\'wp-block-library-theme-css\\'  href=\\'https://www.engineerspock.com/wp-includes/css/dist/block-library/theme.min.css?ver=5.7.2\\' type=\\'text/css\\' media=\\'all\\' />\\n<script type=\\'text/javascript\\' src=\\'https://www.engineerspock.com/wp-content/plugins/wp-udemy-pro/assets/dist/js/main.js?ver=1.2.1\\' id=\\'ufwp-pro-js\\'></script>\\n<script type=\\'text/javascript\\' src=\\'https://www.engineerspock.com/wp-includes/js/wp-embed.min.js?ver=5.7.2\\' id=\\'wp-embed-js\\'></script>\\n<script type=\\'text/javascript\\' defer src=\\'https://www.engineerspock.com/wp-content/plugins/mailchimp-for-wp/assets/js/forms.js?ver=4.8.6\\' id=\\'mc4wp-forms-api-js\\'></script>\\n<script type=\\'text/javascript\\' src=\\'https://www.engineerspock.com/wp-content/uploads/fusion-scripts/31a6afa70636a626c9b199cf8a191563.min.js?ver=3.4.1\\' id=\\'fusion-scripts-js\\'></script>\\n\\t\\t\\t\\t<script type=\"text/javascript\">\\n\\t\\t\\t\\tjQuery( document ).ready( function() {\\n\\t\\t\\t\\t\\tvar ajaxurl = \\'https://www.engineerspock.com/wp-admin/admin-ajax.php\\';\\n\\t\\t\\t\\t\\tif ( 0 < jQuery( \\'.fusion-login-nonce\\' ).length ) {\\n\\t\\t\\t\\t\\t\\tjQuery.get( ajaxurl, { \\'action\\': \\'fusion_login_nonce\\' }, function( response ) {\\n\\t\\t\\t\\t\\t\\t\\tjQuery( \\'.fusion-login-nonce\\' ).html( response );\\n\\t\\t\\t\\t\\t\\t});\\n\\t\\t\\t\\t\\t}\\n\\t\\t\\t\\t});\\n\\t\\t\\t\\t\\t\\t\\t\\t</script>\\n\\t\\t\\t\\t\\t\\t</div>\\n\\n\\t\\t\\t<div class=\"to-top-container to-top-right\">\\n\\t\\t<a href=\"#\" id=\"toTop\" class=\"fusion-top-top-link\">\\n\\t\\t\\t<span class=\"screen-reader-text\">Go to Top</span>\\n\\t\\t</a>\\n\\t</div>\\n\\t\\t</body>\\n</html>\\n<!-- Cache Enabler by KeyCDN @ Fri, 09 Jul 2021 14:57:54 GMT (https-index.html) -->'"
      ]
     },
     "execution_count": 121,
     "metadata": {},
     "output_type": "execute_result"
    }
   ],
   "source": [
    "response = requests.get(\"https://www.engineerspock.com/\")\n",
    "response.content"
   ]
  },
  {
   "cell_type": "code",
   "execution_count": 122,
   "id": "c5becf9e",
   "metadata": {},
   "outputs": [],
   "source": [
    "response.encoding = 'utf-8' #если нужно поработать с кодировкой "
   ]
  },
  {
   "cell_type": "code",
   "execution_count": 126,
   "id": "abc2500d",
   "metadata": {},
   "outputs": [
    {
     "data": {
      "text/plain": [
       "'<!DOCTYPE html>\\n<html class=\"avada-html-layout-wide avada-html-header-position-top avada-is-100-percent-template\" lang=\"en-US\" prefix=\"og: http://ogp.me/ns# fb: http://ogp.me/ns/fb#\">\\n<head>\\n\\t<meta http-equiv=\"X-UA-Compatible\" content=\"IE=edge\" />\\n\\t<meta http-equiv=\"Content-Type\" content=\"text/html; charset=utf-8\"/>\\n\\t<meta name=\"viewport\" content=\"width=device-width, initial-scale=1\" />\\n\\t<title>EngineerSpock &#8211; EngineerSpock</title>\\n<meta name=\\'robots\\' content=\\'max-image-preview:large\\' />\\n\\n<!-- Google Tag Manager for WordPress by gtm4wp.com -->\\n<script data-cfasync=\"false\" data-pagespeed-no-defer>//<![CDATA[\\n\\tvar gtm4wp_datalayer_name = \"dataLayer\";\\n\\tvar dataLayer = dataLayer || [];\\n//]]>\\n</script>\\n<!-- End Google Tag Manager for WordPress by gtm4wp.com --><link rel=\\'dns-prefetch\\' href=\\'//s.w.org\\' />\\n<link href=\\'https://cdn.shortpixel.ai\\' rel=\\'preconnect\\' />\\n<link rel=\"alternate\" type=\"application/rss+xml\" title=\"EngineerSpock &raquo; Feed\" href=\"https://www.engineerspock.com/feed/\" />\\n<link rel=\"alternate\" type=\"application/rss+xml\" title=\"EngineerSpock &raquo; Comments Feed\" href=\"https://www.engineerspock.com/comments/feed/\" />\\n\\t\\t\\n\\t\\t\\n\\t\\t\\n\\t\\t\\n\\t\\t\\n\\t\\t\\n\\t\\t<meta property=\"og:title\" content=\"Home\"/>\\n\\t\\t<meta property=\"og:type\" content=\"article\"/>\\n\\t\\t<meta property=\"og:url\" content=\"https://www.engineerspock.com/\"/>\\n\\t\\t<meta property=\"og:site_name\" content=\"EngineerSpock\"/>\\n\\t\\t<meta property=\"og:description\" content=\"Welcome to .NET Training\\r\\n\\r\\n \\r\\n\\r\\nChance favors the prepared mind.\\r\\n\\r\\n  Video Courses      \\r\\nWho is EngineerSpock  \\r\\nI&#039;m thankful enough for that I love what I do.\\r\\nI began my career as\"/>\\n\\n\\t\\t\\t\\t\\t\\t\\t\\t\\t<meta property=\"og:image\" content=\"https://www.engineerspock.com/wp-content/uploads/2017/10/forblog-nobackground-logo.png\"/>\\n\\t\\t\\t\\t\\t\\t\\t\\t\\t<!-- This site uses the Google Analytics by ExactMetrics plugin v6.7.0 - Using Analytics tracking - https://www.exactmetrics.com/ -->\\n\\t\\t\\t\\t\\t\\t\\t<script src=\"//www.googletagmanager.com/gtag/js?id=UA-68204544-1\"  type=\"text/javascript\" data-cfasync=\"false\"></script>\\n\\t\\t\\t<script type=\"text/javascript\" data-cfasync=\"false\">\\n\\t\\t\\t\\tvar em_version = \\'6.7.0\\';\\n\\t\\t\\t\\tvar em_track_user = true;\\n\\t\\t\\t\\tvar em_no_track_reason = \\'\\';\\n\\t\\t\\t\\t\\n\\t\\t\\t\\t\\t\\t\\t\\tvar disableStr = \\'ga-disable-UA-68204544-1\\';\\n\\n\\t\\t\\t\\t/* Function to detect opted out users */\\n\\t\\t\\t\\tfunction __gtagTrackerIsOptedOut() {\\n\\t\\t\\t\\t\\treturn document.cookie.indexOf( disableStr + \\'=true\\' ) > - 1;\\n\\t\\t\\t\\t}\\n\\n\\t\\t\\t\\t/* Disable tracking if the opt-out cookie exists. */\\n\\t\\t\\t\\tif ( __gtagTrackerIsOptedOut() ) {\\n\\t\\t\\t\\t\\twindow[disableStr] = true;\\n\\t\\t\\t\\t}\\n\\n\\t\\t\\t\\t/* Opt-out function */\\n\\t\\t\\t\\tfunction __gtagTrackerOptout() {\\n\\t\\t\\t\\t\\tdocument.cookie = disableStr + \\'=true; expires=Thu, 31 Dec 2099 23:59:59 UTC; path=/\\';\\n\\t\\t\\t\\t\\twindow[disableStr] = true;\\n\\t\\t\\t\\t}\\n\\n\\t\\t\\t\\tif ( \\'undefined\\' === typeof gaOptout ) {\\n\\t\\t\\t\\t\\tfunction gaOptout() {\\n\\t\\t\\t\\t\\t\\t__gtagTrackerOptout();\\n\\t\\t\\t\\t\\t}\\n\\t\\t\\t\\t}\\n\\t\\t\\t\\t\\t\\t\\t\\twindow.dataLayer = window.dataLayer || [];\\n\\t\\t\\t\\tif ( em_track_user ) {\\n\\t\\t\\t\\t\\tfunction __gtagTracker() {dataLayer.push( arguments );}\\n\\t\\t\\t\\t\\t__gtagTracker( \\'js\\', new Date() );\\n\\t\\t\\t\\t\\t__gtagTracker( \\'set\\', {\\n\\t\\t\\t\\t\\t\\t\\'developer_id.dNDMyYj\\' : true,\\n\\t\\t\\t\\t\\t\\t                    });\\n\\t\\t\\t\\t\\t__gtagTracker( \\'config\\', \\'UA-68204544-1\\', {\\n\\t\\t\\t\\t\\t\\tforceSSL:true,\\t\\t\\t\\t\\t} );\\n\\t\\t\\t\\t\\t\\t\\t\\t\\t\\twindow.gtag = __gtagTracker;\\t\\t\\t\\t\\t\\t\\t\\t\\t\\t(\\n\\t\\t\\t\\t\\t\\tfunction () {\\n\\t\\t\\t\\t\\t\\t\\t/* https://developers.google.com/analytics/devguides/collection/analyticsjs/ */\\n\\t\\t\\t\\t\\t\\t\\t/* ga and __gaTracker compatibility shim. */\\n\\t\\t\\t\\t\\t\\t\\tvar noopfn = function () {\\n\\t\\t\\t\\t\\t\\t\\t\\treturn null;\\n\\t\\t\\t\\t\\t\\t\\t};\\n\\t\\t\\t\\t\\t\\t\\tvar newtracker = function () {\\n\\t\\t\\t\\t\\t\\t\\t\\treturn new Tracker();\\n\\t\\t\\t\\t\\t\\t\\t};\\n\\t\\t\\t\\t\\t\\t\\tvar Tracker = function () {\\n\\t\\t\\t\\t\\t\\t\\t\\treturn null;\\n\\t\\t\\t\\t\\t\\t\\t};\\n\\t\\t\\t\\t\\t\\t\\tvar p = Tracker.prototype;\\n\\t\\t\\t\\t\\t\\t\\tp.get = noopfn;\\n\\t\\t\\t\\t\\t\\t\\tp.set = noopfn;\\n\\t\\t\\t\\t\\t\\t\\tp.send = function (){\\n\\t\\t\\t\\t\\t\\t\\t\\tvar args = Array.prototype.slice.call(arguments);\\n\\t\\t\\t\\t\\t\\t\\t\\targs.unshift( \\'send\\' );\\n\\t\\t\\t\\t\\t\\t\\t\\t__gaTracker.apply(null, args);\\n\\t\\t\\t\\t\\t\\t\\t};\\n\\t\\t\\t\\t\\t\\t\\tvar __gaTracker = function () {\\n\\t\\t\\t\\t\\t\\t\\t\\tvar len = arguments.length;\\n\\t\\t\\t\\t\\t\\t\\t\\tif ( len === 0 ) {\\n\\t\\t\\t\\t\\t\\t\\t\\t\\treturn;\\n\\t\\t\\t\\t\\t\\t\\t\\t}\\n\\t\\t\\t\\t\\t\\t\\t\\tvar f = arguments[len - 1];\\n\\t\\t\\t\\t\\t\\t\\t\\tif ( typeof f !== \\'object\\' || f === null || typeof f.hitCallback !== \\'function\\' ) {\\n\\t\\t\\t\\t\\t\\t\\t\\t\\tif ( \\'send\\' === arguments[0] ) {\\n\\t\\t\\t\\t\\t\\t\\t\\t\\t\\tvar hitConverted, hitObject = false, action;\\n\\t\\t\\t\\t\\t\\t\\t\\t\\t\\tif ( \\'event\\' === arguments[1] ) {\\n\\t\\t\\t\\t\\t\\t\\t\\t\\t\\t\\tif ( \\'undefined\\' !== typeof arguments[3] ) {\\n\\t\\t\\t\\t\\t\\t\\t\\t\\t\\t\\t\\thitObject = {\\n\\t\\t\\t\\t\\t\\t\\t\\t\\t\\t\\t\\t\\t\\'eventAction\\': arguments[3],\\n\\t\\t\\t\\t\\t\\t\\t\\t\\t\\t\\t\\t\\t\\'eventCategory\\': arguments[2],\\n\\t\\t\\t\\t\\t\\t\\t\\t\\t\\t\\t\\t\\t\\'eventLabel\\': arguments[4],\\n\\t\\t\\t\\t\\t\\t\\t\\t\\t\\t\\t\\t\\t\\'value\\': arguments[5] ? arguments[5] : 1,\\n\\t\\t\\t\\t\\t\\t\\t\\t\\t\\t\\t\\t}\\n\\t\\t\\t\\t\\t\\t\\t\\t\\t\\t\\t}\\n\\t\\t\\t\\t\\t\\t\\t\\t\\t\\t}\\n\\t\\t\\t\\t\\t\\t\\t\\t\\t\\tif ( typeof arguments[2] === \\'object\\' ) {\\n\\t\\t\\t\\t\\t\\t\\t\\t\\t\\t\\thitObject = arguments[2];\\n\\t\\t\\t\\t\\t\\t\\t\\t\\t\\t}\\n\\t\\t\\t\\t\\t\\t\\t\\t\\t\\tif ( typeof arguments[5] === \\'object\\' ) {\\n\\t\\t\\t\\t\\t\\t\\t\\t\\t\\t\\tObject.assign( hitObject, arguments[5] );\\n\\t\\t\\t\\t\\t\\t\\t\\t\\t\\t}\\n\\t\\t\\t\\t\\t\\t\\t\\t\\t\\tif ( \\'undefined\\' !== typeof (\\n\\t\\t\\t\\t\\t\\t\\t\\t\\t\\t\\targuments[1].hitType\\n\\t\\t\\t\\t\\t\\t\\t\\t\\t\\t) ) {\\n\\t\\t\\t\\t\\t\\t\\t\\t\\t\\t\\thitObject = arguments[1];\\n\\t\\t\\t\\t\\t\\t\\t\\t\\t\\t}\\n\\t\\t\\t\\t\\t\\t\\t\\t\\t\\tif ( hitObject ) {\\n\\t\\t\\t\\t\\t\\t\\t\\t\\t\\t\\taction = \\'timing\\' === arguments[1].hitType ? \\'timing_complete\\' : hitObject.eventAction;\\n\\t\\t\\t\\t\\t\\t\\t\\t\\t\\t\\thitConverted = mapArgs( hitObject );\\n\\t\\t\\t\\t\\t\\t\\t\\t\\t\\t\\t__gtagTracker( \\'event\\', action, hitConverted );\\n\\t\\t\\t\\t\\t\\t\\t\\t\\t\\t}\\n\\t\\t\\t\\t\\t\\t\\t\\t\\t}\\n\\t\\t\\t\\t\\t\\t\\t\\t\\treturn;\\n\\t\\t\\t\\t\\t\\t\\t\\t}\\n\\n\\t\\t\\t\\t\\t\\t\\t\\tfunction mapArgs( args ) {\\n\\t\\t\\t\\t\\t\\t\\t\\t\\tvar gaKey, hit = {};\\n\\t\\t\\t\\t\\t\\t\\t\\t\\tvar gaMap = {\\n\\t\\t\\t\\t\\t\\t\\t\\t\\t\\t\\'eventCategory\\': \\'event_category\\',\\n\\t\\t\\t\\t\\t\\t\\t\\t\\t\\t\\'eventAction\\': \\'event_action\\',\\n\\t\\t\\t\\t\\t\\t\\t\\t\\t\\t\\'eventLabel\\': \\'event_label\\',\\n\\t\\t\\t\\t\\t\\t\\t\\t\\t\\t\\'eventValue\\': \\'event_value\\',\\n\\t\\t\\t\\t\\t\\t\\t\\t\\t\\t\\'nonInteraction\\': \\'non_interaction\\',\\n\\t\\t\\t\\t\\t\\t\\t\\t\\t\\t\\'timingCategory\\': \\'event_category\\',\\n\\t\\t\\t\\t\\t\\t\\t\\t\\t\\t\\'timingVar\\': \\'name\\',\\n\\t\\t\\t\\t\\t\\t\\t\\t\\t\\t\\'timingValue\\': \\'value\\',\\n\\t\\t\\t\\t\\t\\t\\t\\t\\t\\t\\'timingLabel\\': \\'event_label\\',\\n\\t\\t\\t\\t\\t\\t\\t\\t\\t};\\n\\t\\t\\t\\t\\t\\t\\t\\t\\tfor ( gaKey in gaMap ) {\\n\\t\\t\\t\\t\\t\\t\\t\\t\\t\\tif ( \\'undefined\\' !== typeof args[gaKey] ) {\\n\\t\\t\\t\\t\\t\\t\\t\\t\\t\\t\\thit[gaMap[gaKey]] = args[gaKey];\\n\\t\\t\\t\\t\\t\\t\\t\\t\\t\\t}\\n\\t\\t\\t\\t\\t\\t\\t\\t\\t}\\n\\t\\t\\t\\t\\t\\t\\t\\t\\treturn hit;\\n\\t\\t\\t\\t\\t\\t\\t\\t}\\n\\n\\t\\t\\t\\t\\t\\t\\t\\ttry {\\n\\t\\t\\t\\t\\t\\t\\t\\t\\tf.hitCallback();\\n\\t\\t\\t\\t\\t\\t\\t\\t} catch ( ex ) {\\n\\t\\t\\t\\t\\t\\t\\t\\t}\\n\\t\\t\\t\\t\\t\\t\\t};\\n\\t\\t\\t\\t\\t\\t\\t__gaTracker.create = newtracker;\\n\\t\\t\\t\\t\\t\\t\\t__gaTracker.getByName = newtracker;\\n\\t\\t\\t\\t\\t\\t\\t__gaTracker.getAll = function () {\\n\\t\\t\\t\\t\\t\\t\\t\\treturn [];\\n\\t\\t\\t\\t\\t\\t\\t};\\n\\t\\t\\t\\t\\t\\t\\t__gaTracker.remove = noopfn;\\n\\t\\t\\t\\t\\t\\t\\t__gaTracker.loaded = true;\\n\\t\\t\\t\\t\\t\\t\\twindow[\\'__gaTracker\\'] = __gaTracker;\\n\\t\\t\\t\\t\\t\\t}\\n\\t\\t\\t\\t\\t)();\\n\\t\\t\\t\\t\\t\\t\\t\\t\\t} else {\\n\\t\\t\\t\\t\\t\\t\\t\\t\\t\\tconsole.log( \"\" );\\n\\t\\t\\t\\t\\t( function () {\\n\\t\\t\\t\\t\\t\\t\\tfunction __gtagTracker() {\\n\\t\\t\\t\\t\\t\\t\\t\\treturn null;\\n\\t\\t\\t\\t\\t\\t\\t}\\n\\t\\t\\t\\t\\t\\t\\twindow[\\'__gtagTracker\\'] = __gtagTracker;\\n\\t\\t\\t\\t\\t\\t\\twindow[\\'gtag\\'] = __gtagTracker;\\n\\t\\t\\t\\t\\t} )();\\n\\t\\t\\t\\t\\t\\t\\t\\t\\t}\\n\\t\\t\\t</script>\\n\\t\\t\\t\\t<!-- / Google Analytics by ExactMetrics -->\\n\\t\\t\\t\\t<script type=\"text/javascript\">\\n\\t\\t\\twindow._wpemojiSettings = {\"baseUrl\":\"https:\\\\/\\\\/s.w.org\\\\/images\\\\/core\\\\/emoji\\\\/13.0.1\\\\/72x72\\\\/\",\"ext\":\".png\",\"svgUrl\":\"https:\\\\/\\\\/s.w.org\\\\/images\\\\/core\\\\/emoji\\\\/13.0.1\\\\/svg\\\\/\",\"svgExt\":\".svg\",\"source\":{\"concatemoji\":\"https:\\\\/\\\\/www.engineerspock.com\\\\/wp-includes\\\\/js\\\\/wp-emoji-release.min.js?ver=5.7.2\"}};\\n\\t\\t\\t!function(e,a,t){var n,r,o,i=a.createElement(\"canvas\"),p=i.getContext&&i.getContext(\"2d\");function s(e,t){var a=String.fromCharCode;p.clearRect(0,0,i.width,i.height),p.fillText(a.apply(this,e),0,0);e=i.toDataURL();return p.clearRect(0,0,i.width,i.height),p.fillText(a.apply(this,t),0,0),e===i.toDataURL()}function c(e){var t=a.createElement(\"script\");t.src=e,t.defer=t.type=\"text/javascript\",a.getElementsByTagName(\"head\")[0].appendChild(t)}for(o=Array(\"flag\",\"emoji\"),t.supports={everything:!0,everythingExceptFlag:!0},r=0;r<o.length;r++)t.supports[o[r]]=function(e){if(!p||!p.fillText)return!1;switch(p.textBaseline=\"top\",p.font=\"600 32px Arial\",e){case\"flag\":return s([127987,65039,8205,9895,65039],[127987,65039,8203,9895,65039])?!1:!s([55356,56826,55356,56819],[55356,56826,8203,55356,56819])&&!s([55356,57332,56128,56423,56128,56418,56128,56421,56128,56430,56128,56423,56128,56447],[55356,57332,8203,56128,56423,8203,56128,56418,8203,56128,56421,8203,56128,56430,8203,56128,56423,8203,56128,56447]);case\"emoji\":return!s([55357,56424,8205,55356,57212],[55357,56424,8203,55356,57212])}return!1}(o[r]),t.supports.everything=t.supports.everything&&t.supports[o[r]],\"flag\"!==o[r]&&(t.supports.everythingExceptFlag=t.supports.everythingExceptFlag&&t.supports[o[r]]);t.supports.everythingExceptFlag=t.supports.everythingExceptFlag&&!t.supports.flag,t.DOMReady=!1,t.readyCallback=function(){t.DOMReady=!0},t.supports.everything||(n=function(){t.readyCallback()},a.addEventListener?(a.addEventListener(\"DOMContentLoaded\",n,!1),e.addEventListener(\"load\",n,!1)):(e.attachEvent(\"onload\",n),a.attachEvent(\"onreadystatechange\",function(){\"complete\"===a.readyState&&t.readyCallback()})),(n=t.source||{}).concatemoji?c(n.concatemoji):n.wpemoji&&n.twemoji&&(c(n.twemoji),c(n.wpemoji)))}(window,document,window._wpemojiSettings);\\n\\t\\t</script>\\n\\t\\t<style type=\"text/css\">\\nimg.wp-smiley,\\nimg.emoji {\\n\\tdisplay: inline !important;\\n\\tborder: none !important;\\n\\tbox-shadow: none !important;\\n\\theight: 1em !important;\\n\\twidth: 1em !important;\\n\\tmargin: 0 .07em !important;\\n\\tvertical-align: -0.1em !important;\\n\\tbackground: none !important;\\n\\tpadding: 0 !important;\\n}\\n</style>\\n\\t<link rel=\\'stylesheet\\' id=\\'aps-animate-css-css\\'  href=\\'https://www.engineerspock.com/wp-content/plugins/accesspress-social-icons/css/animate.css?ver=1.8.2\\' type=\\'text/css\\' media=\\'all\\' />\\n<link rel=\\'stylesheet\\' id=\\'aps-frontend-css-css\\'  href=\\'https://www.engineerspock.com/wp-content/plugins/accesspress-social-icons/css/frontend.css?ver=1.8.2\\' type=\\'text/css\\' media=\\'all\\' />\\n<link rel=\\'stylesheet\\' id=\\'orgseries-default-css-css\\'  href=\\'https://www.engineerspock.com/wp-content/plugins/organize-series/orgSeries.css?ver=5.7.2\\' type=\\'text/css\\' media=\\'all\\' />\\n<link rel=\\'stylesheet\\' id=\\'mc4wp-form-themes-css\\'  href=\\'https://www.engineerspock.com/wp-content/plugins/mailchimp-for-wp/assets/css/form-themes.css?ver=4.8.6\\' type=\\'text/css\\' media=\\'all\\' />\\n<link rel=\\'stylesheet\\' id=\\'ufwp-css\\'  href=\\'https://www.engineerspock.com/wp-content/plugins/wp-udemy/assets/dist/css/main.css?ver=1.3.0\\' type=\\'text/css\\' media=\\'all\\' />\\n<link rel=\\'stylesheet\\' id=\\'ufwp-pro-css\\'  href=\\'https://www.engineerspock.com/wp-content/plugins/wp-udemy-pro/assets/dist/css/main.css?ver=1.2.1\\' type=\\'text/css\\' media=\\'all\\' />\\n<link rel=\\'stylesheet\\' id=\\'sccss_style-css\\'  href=\\'https://www.engineerspock.com/?sccss=1&#038;ver=5.7.2\\' type=\\'text/css\\' media=\\'all\\' />\\n<link rel=\\'stylesheet\\' id=\\'fusion-dynamic-css-css\\'  href=\\'https://www.engineerspock.com/wp-content/uploads/fusion-styles/86d34b92501466170b3ab901980d1f6e.min.css?ver=3.4.1\\' type=\\'text/css\\' media=\\'all\\' />\\n<script type=\\'text/javascript\\' id=\\'exactmetrics-frontend-script-js-extra\\'>\\n/* <![CDATA[ */\\nvar exactmetrics_frontend = {\"js_events_tracking\":\"true\",\"download_extensions\":\"zip,mp3,mpeg,pdf,docx,pptx,xlsx,rar\",\"inbound_paths\":\"[{\\\\\"path\\\\\":\\\\\"\\\\\\\\\\\\/go\\\\\\\\\\\\/\\\\\",\\\\\"label\\\\\":\\\\\"affiliate\\\\\"},{\\\\\"path\\\\\":\\\\\"\\\\\\\\\\\\/recommend\\\\\\\\\\\\/\\\\\",\\\\\"label\\\\\":\\\\\"affiliate\\\\\"}]\",\"home_url\":\"https:\\\\/\\\\/www.engineerspock.com\",\"hash_tracking\":\"false\",\"ua\":\"UA-68204544-1\"};\\n/* ]]> */\\n</script>\\n<script type=\\'text/javascript\\' src=\\'https://www.engineerspock.com/wp-content/plugins/google-analytics-dashboard-for-wp/assets/js/frontend-gtag.min.js?ver=6.7.0\\' id=\\'exactmetrics-frontend-script-js\\'></script>\\n<script type=\\'text/javascript\\' src=\\'https://www.engineerspock.com/wp-includes/js/jquery/jquery.min.js?ver=3.5.1\\' id=\\'jquery-core-js\\'></script>\\n<script type=\\'text/javascript\\' src=\\'https://www.engineerspock.com/wp-includes/js/jquery/jquery-migrate.min.js?ver=3.3.2\\' id=\\'jquery-migrate-js\\'></script>\\n<script type=\\'text/javascript\\' src=\\'https://www.engineerspock.com/wp-content/plugins/accesspress-social-icons/js/frontend.js?ver=1.8.2\\' id=\\'aps-frontend-js-js\\'></script>\\n<script type=\\'text/javascript\\' src=\\'https://www.engineerspock.com/wp-content/plugins/duracelltomi-google-tag-manager/js/gtm4wp-form-move-tracker.js?ver=1.13.1\\' id=\\'gtm4wp-form-move-tracker-js\\'></script>\\n<link rel=\"https://api.w.org/\" href=\"https://www.engineerspock.com/wp-json/\" /><link rel=\"alternate\" type=\"application/json\" href=\"https://www.engineerspock.com/wp-json/wp/v2/pages/2117\" /><link rel=\"EditURI\" type=\"application/rsd+xml\" title=\"RSD\" href=\"https://www.engineerspock.com/xmlrpc.php?rsd\" />\\n<link rel=\"wlwmanifest\" type=\"application/wlwmanifest+xml\" href=\"https://www.engineerspock.com/wp-includes/wlwmanifest.xml\" /> \\n<meta name=\"generator\" content=\"WordPress 5.7.2\" />\\n<link rel=\"canonical\" href=\"https://www.engineerspock.com/\" />\\n<link rel=\\'shortlink\\' href=\\'https://www.engineerspock.com/\\' />\\n<link rel=\"alternate\" type=\"application/json+oembed\" href=\"https://www.engineerspock.com/wp-json/oembed/1.0/embed?url=https%3A%2F%2Fwww.engineerspock.com%2F\" />\\n<link rel=\"alternate\" type=\"text/xml+oembed\" href=\"https://www.engineerspock.com/wp-json/oembed/1.0/embed?url=https%3A%2F%2Fwww.engineerspock.com%2F&#038;format=xml\" />\\n\\n<!-- Google Tag Manager for WordPress by gtm4wp.com -->\\n<script data-cfasync=\"false\" data-pagespeed-no-defer>//<![CDATA[\\n\\tvar dataLayer_content = {\"pagePostType\":\"frontpage\",\"pagePostType2\":\"single-page\",\"pagePostAuthor\":\"EngineerSpock\"};\\n\\tdataLayer.push( dataLayer_content );//]]>\\n</script>\\n<script data-cfasync=\"false\">//<![CDATA[\\n(function(w,d,s,l,i){w[l]=w[l]||[];w[l].push({\\'gtm.start\\':\\nnew Date().getTime(),event:\\'gtm.js\\'});var f=d.getElementsByTagName(s)[0],\\nj=d.createElement(s),dl=l!=\\'dataLayer\\'?\\'&l=\\'+l:\\'\\';j.async=true;j.src=\\n\\'//www.googletagmanager.com/gtm.\\'+\\'js?id=\\'+i+dl;f.parentNode.insertBefore(j,f);\\n})(window,document,\\'script\\',\\'dataLayer\\',\\'GTM-TD3B6LW\\');//]]>\\n</script>\\n<!-- End Google Tag Manager -->\\n<!-- End Google Tag Manager for WordPress by gtm4wp.com --><style type=\"text/css\" id=\"css-fb-visibility\">@media screen and (max-width: 640px){.fusion-no-small-visibility{display:none !important;}body:not(.fusion-builder-ui-wireframe) .sm-text-align-center{text-align:center !important;}body:not(.fusion-builder-ui-wireframe) .sm-text-align-left{text-align:left !important;}body:not(.fusion-builder-ui-wireframe) .sm-text-align-right{text-align:right !important;}body:not(.fusion-builder-ui-wireframe) .sm-mx-auto{margin-left:auto !important;margin-right:auto !important;}body:not(.fusion-builder-ui-wireframe) .sm-ml-auto{margin-left:auto !important;}body:not(.fusion-builder-ui-wireframe) .sm-mr-auto{margin-right:auto !important;}body:not(.fusion-builder-ui-wireframe) .fusion-absolute-position-small{position:absolute;top:auto;width:100%;}}@media screen and (min-width: 641px) and (max-width: 1024px){.fusion-no-medium-visibility{display:none !important;}body:not(.fusion-builder-ui-wireframe) .md-text-align-center{text-align:center !important;}body:not(.fusion-builder-ui-wireframe) .md-text-align-left{text-align:left !important;}body:not(.fusion-builder-ui-wireframe) .md-text-align-right{text-align:right !important;}body:not(.fusion-builder-ui-wireframe) .md-mx-auto{margin-left:auto !important;margin-right:auto !important;}body:not(.fusion-builder-ui-wireframe) .md-ml-auto{margin-left:auto !important;}body:not(.fusion-builder-ui-wireframe) .md-mr-auto{margin-right:auto !important;}body:not(.fusion-builder-ui-wireframe) .fusion-absolute-position-medium{position:absolute;top:auto;width:100%;}}@media screen and (min-width: 1025px){.fusion-no-large-visibility{display:none !important;}body:not(.fusion-builder-ui-wireframe) .lg-text-align-center{text-align:center !important;}body:not(.fusion-builder-ui-wireframe) .lg-text-align-left{text-align:left !important;}body:not(.fusion-builder-ui-wireframe) .lg-text-align-right{text-align:right !important;}body:not(.fusion-builder-ui-wireframe) .lg-mx-auto{margin-left:auto !important;margin-right:auto !important;}body:not(.fusion-builder-ui-wireframe) .lg-ml-auto{margin-left:auto !important;}body:not(.fusion-builder-ui-wireframe) .lg-mr-auto{margin-right:auto !important;}body:not(.fusion-builder-ui-wireframe) .fusion-absolute-position-large{position:absolute;top:auto;width:100%;}}</style>\\n<!-- Jetpack Open Graph Tags -->\\n<meta property=\"og:type\" content=\"website\" />\\n<meta property=\"og:title\" content=\"EngineerSpock\" />\\n<meta property=\"og:description\" content=\"EngineerSpock\" />\\n<meta property=\"og:url\" content=\"https://www.engineerspock.com/\" />\\n<meta property=\"og:site_name\" content=\"EngineerSpock\" />\\n<meta property=\"og:image\" content=\"https://www.engineerspock.com/wp-content/uploads/2016/04/cropped-Symbol.png\" />\\n<meta property=\"og:image:width\" content=\"512\" />\\n<meta property=\"og:image:height\" content=\"512\" />\\n<meta property=\"og:locale\" content=\"en_US\" />\\n<meta name=\"twitter:site\" content=\"@engineerspock\" />\\n<meta name=\"twitter:text:title\" content=\"Home\" />\\n<meta name=\"twitter:image\" content=\"https://www.engineerspock.com/wp-content/uploads/2016/04/cropped-Symbol-270x270.png\" />\\n<meta name=\"twitter:card\" content=\"summary\" />\\n\\n<!-- End Jetpack Open Graph Tags -->\\n<link rel=\"icon\" href=\"https://cdn.shortpixel.ai/client/q_glossy,ret_img,w_32,h_32/https://www.engineerspock.com/wp-content/uploads/2016/04/cropped-Symbol-32x32.png\" sizes=\"32x32\" />\\n<link rel=\"icon\" href=\"https://cdn.shortpixel.ai/client/q_glossy,ret_img,w_192,h_192/https://www.engineerspock.com/wp-content/uploads/2016/04/cropped-Symbol-192x192.png\" sizes=\"192x192\" />\\n<link rel=\"apple-touch-icon\" href=\"https://cdn.shortpixel.ai/client/q_glossy,ret_img,w_180,h_180/https://www.engineerspock.com/wp-content/uploads/2016/04/cropped-Symbol-180x180.png\" />\\n<meta name=\"msapplication-TileImage\" content=\"https://www.engineerspock.com/wp-content/uploads/2016/04/cropped-Symbol-270x270.png\" />\\n\\t\\t<style type=\"text/css\" id=\"wp-custom-css\">\\n\\t\\t\\t.home .current_page_item > a {color: #212121 !important}\\n\\n.twfb {padding-bottom: 30px;}\\n\\n.twt {background: #00abf0;\\n    font-size: 15px;\\n    padding: 8px 22px;\\n    color: #fff;\\n    box-shadow: 1px 1px 3px 0 rgba(0,0,0,.2);\\n    border-radius: 7px;}\\n\\n.fb {background: #3a579a;\\n    font-size: 15px;\\n    padding: 8px 22px;\\n    color: #fff;\\n    box-shadow: 1px 1px 3px 0 rgba(0,0,0,.2);\\n    border-radius: 7px;}\\n\\n.dvfb {display: inline-block}\\n\\n.twt:hover, .fb:hover {color: #fff}\\n\\n@media only screen and (max-width: 800px) {\\n\\t#course-width .fusion-column-wrapper {    padding: 0px 0px 0px 0px !important;}\\n\\t\\n\\t#course-width {    padding-left: 30px;}\\n\\t\\n}\\n\\n@media only screen and (max-width: 600px) {.dvfb {display: block; margin-top: 10px}}\\n\\n\\n\\n\\n\\n\\n\\n\\n\\t\\t</style>\\n\\t\\t\\t\\t<script type=\"text/javascript\">\\n\\t\\t\\tvar doc = document.documentElement;\\n\\t\\t\\tdoc.setAttribute( \\'data-useragent\\', navigator.userAgent );\\n\\t\\t</script>\\n\\t\\t\\n\\t</head>\\n\\n<body class=\"home page-template page-template-100-width page-template-100-width-php page page-id-2117 fusion-image-hovers fusion-pagination-sizing fusion-button_size-large fusion-button_type-flat fusion-button_span-no avada-image-rollover-circle-yes avada-image-rollover-yes avada-image-rollover-direction-left fusion-has-button-gradient fusion-body ltr fusion-sticky-header no-tablet-sticky-header no-mobile-sticky-header no-mobile-slidingbar no-mobile-totop avada-has-rev-slider-styles fusion-disable-outline fusion-sub-menu-fade mobile-logo-pos-left layout-wide-mode avada-has-boxed-modal-shadow-none layout-scroll-offset-full avada-has-zero-margin-offset-top fusion-top-header menu-text-align-center mobile-menu-design-modern fusion-show-pagination-text fusion-header-layout-v1 avada-responsive avada-footer-fx-none avada-menu-highlight-style-bar fusion-search-form-classic fusion-main-menu-search-overlay fusion-avatar-square avada-sticky-shrinkage avada-dropdown-styles avada-blog-layout-medium avada-blog-archive-layout-medium avada-header-shadow-yes avada-menu-icon-position-left avada-has-megamenu-shadow avada-has-mainmenu-dropdown-divider avada-has-pagetitle-bg-full avada-has-main-nav-search-icon avada-has-breadcrumb-mobile-hidden avada-has-titlebar-hide avada-has-pagination-padding avada-flyout-menu-direction-fade avada-ec-views-v1\" >\\n\\t\\n<!-- Google Tag Manager (noscript) -->\\n<noscript><iframe src=\"https://www.googletagmanager.com/ns.html?id=GTM-TD3B6LW\"\\nheight=\"0\" width=\"0\" style=\"display:none;visibility:hidden\"></iframe></noscript>\\n<!-- End Google Tag Manager (noscript) -->\\t<a class=\"skip-link screen-reader-text\" href=\"#content\">Skip to content</a>\\n\\n\\t<div id=\"boxed-wrapper\">\\n\\t\\t<div class=\"fusion-sides-frame\"></div>\\n\\t\\t<div id=\"wrapper\" class=\"fusion-wrapper\">\\n\\t\\t\\t<div id=\"home\" style=\"position:relative;top:-1px;\"></div>\\n\\t\\t\\t\\n\\t\\t\\t\\t\\n\\t\\t\\t<header class=\"fusion-header-wrapper fusion-header-shadow\">\\n\\t\\t\\t\\t<div class=\"fusion-header-v1 fusion-logo-alignment fusion-logo-left fusion-sticky-menu- fusion-sticky-logo- fusion-mobile-logo-  fusion-mobile-menu-design-modern\">\\n\\t\\t\\t\\t\\t<div class=\"fusion-header-sticky-height\"></div>\\n<div class=\"fusion-header\">\\n\\t<div class=\"fusion-row\">\\n\\t\\t\\t\\t\\t<div class=\"fusion-logo\" data-margin-top=\"20px\" data-margin-bottom=\"20px\" data-margin-left=\"0px\" data-margin-right=\"0px\">\\n\\t\\t\\t<a class=\"fusion-logo-link\"  href=\"https://www.engineerspock.com/\" >\\n\\n\\t\\t\\t\\t\\t\\t<!-- standard logo -->\\n\\t\\t\\t<noscript><img src=\"https://cdn.shortpixel.ai/client/q_glossy,ret_img,w_117,h_65/https://www.engineerspock.com/wp-content/uploads/2017/10/forblog-nobackground-logo.png\" srcset=\"https://cdn.shortpixel.ai/client/q_glossy,ret_img/https://www.engineerspock.com/wp-content/uploads/2017/10/forblog-nobackground-logo.png 1x\" width=\"117\" height=\"65\" alt=\"EngineerSpock Logo\" data-retina_logo_url=\"\" class=\"fusion-standard-logo\" /></noscript><img src=\\'https://cdn.shortpixel.ai/client/q_lqip,ret_wait,w_117,h_65/https://www.engineerspock.com/wp-content/uploads/2017/10/forblog-nobackground-logo.png\\' data-src=\"https://cdn.shortpixel.ai/client/q_glossy,ret_img,w_117,h_65/https://www.engineerspock.com/wp-content/uploads/2017/10/forblog-nobackground-logo.png\" data-srcset=\"https://cdn.shortpixel.ai/client/q_glossy,ret_img/https://www.engineerspock.com/wp-content/uploads/2017/10/forblog-nobackground-logo.png 1x\" width=\"117\" height=\"65\" alt=\"EngineerSpock Logo\" data-retina_logo_url=\"\" class=\"lazyload fusion-standard-logo\" />\\n\\n\\t\\t\\t\\n\\t\\t\\t\\t\\t</a>\\n\\t\\t</div>\\t\\t<nav class=\"fusion-main-menu\" aria-label=\"Main Menu\"><div class=\"fusion-overlay-search\">\\t\\t<form role=\"search\" class=\"searchform fusion-search-form  fusion-search-form-classic\" method=\"get\" action=\"https://www.engineerspock.com/\">\\n\\t\\t\\t<div class=\"fusion-search-form-content\">\\n\\n\\t\\t\\t\\t\\n\\t\\t\\t\\t<div class=\"fusion-search-field search-field\">\\n\\t\\t\\t\\t\\t<label><span class=\"screen-reader-text\">Search for:</span>\\n\\t\\t\\t\\t\\t\\t\\t\\t\\t\\t\\t\\t\\t<input type=\"search\" value=\"\" name=\"s\" class=\"s\" placeholder=\"Search...\" required aria-required=\"true\" aria-label=\"Search...\"/>\\n\\t\\t\\t\\t\\t\\t\\t\\t\\t\\t\\t</label>\\n\\t\\t\\t\\t</div>\\n\\t\\t\\t\\t<div class=\"fusion-search-button search-button\">\\n\\t\\t\\t\\t\\t<input type=\"submit\" class=\"fusion-search-submit searchsubmit\" aria-label=\"Search\" value=\"&#xf002;\" />\\n\\t\\t\\t\\t\\t\\t\\t\\t\\t</div>\\n\\n\\t\\t\\t\\t\\n\\t\\t\\t</div>\\n\\n\\n\\t\\t\\t\\n\\t\\t</form>\\n\\t\\t<div class=\"fusion-search-spacer\"></div><a href=\"#\" role=\"button\" aria-label=\"Close Search\" class=\"fusion-close-search\"></a></div><ul id=\"menu-main-menu\" class=\"fusion-menu\"><li  id=\"menu-item-2119\"  class=\"menu-item menu-item-type-post_type menu-item-object-page menu-item-home current-menu-item page_item page-item-2117 current_page_item menu-item-2119\"  data-item-id=\"2119\"><a  href=\"https://www.engineerspock.com/\" class=\"fusion-bar-highlight\"><span class=\"menu-text\">Home</span></a></li><li  id=\"menu-item-2162\"  class=\"menu-item menu-item-type-post_type menu-item-object-page menu-item-2162\"  data-item-id=\"2162\"><a  href=\"https://www.engineerspock.com/blog/\" class=\"fusion-bar-highlight\"><span class=\"menu-text\">Blog</span></a></li><li  id=\"menu-item-2182\"  class=\"menu-item menu-item-type-post_type menu-item-object-page menu-item-2182\"  data-item-id=\"2182\"><a  href=\"https://www.engineerspock.com/courses-overview/\" class=\"fusion-bar-highlight\"><span class=\"menu-text\">Video Courses</span></a></li><li  id=\"menu-item-2458\"  class=\"menu-item menu-item-type-post_type menu-item-object-page menu-item-2458\"  data-item-id=\"2458\"><a  href=\"https://www.engineerspock.com/special-offers/\" class=\"fusion-bar-highlight\"><span class=\"menu-text\">Special Offers</span></a></li><li  id=\"menu-item-2160\"  class=\"menu-item menu-item-type-custom menu-item-object-custom current-menu-item current_page_item menu-item-home menu-item-2160\"  data-item-id=\"2160\"><a href=\"https://www.engineerspock.com/#join\" class=\"fusion-bar-highlight\"><span class=\"menu-text\">Join Us</span></a></li><li  id=\"menu-item-2159\"  class=\"menu-item menu-item-type-custom menu-item-object-custom current-menu-item current_page_item menu-item-home menu-item-2159\"  data-item-id=\"2159\"><a href=\"https://www.engineerspock.com/#about\" class=\"fusion-bar-highlight\"><span class=\"menu-text\">Who&#8217;s EngineerSpock</span></a></li><li class=\"fusion-custom-menu-item fusion-main-menu-search fusion-search-overlay\"><a class=\"fusion-main-menu-icon fusion-bar-highlight\" href=\"#\" aria-label=\"Search\" data-title=\"Search\" title=\"Search\" role=\"button\" aria-expanded=\"false\"></a></li></ul></nav>\\t<div class=\"fusion-mobile-menu-icons\">\\n\\t\\t\\t\\t\\t\\t\\t<a href=\"#\" class=\"fusion-icon awb-icon-bars\" aria-label=\"Toggle mobile menu\" aria-expanded=\"false\"></a>\\n\\t\\t\\n\\t\\t\\n\\t\\t\\n\\t\\t\\t</div>\\n\\n<nav class=\"fusion-mobile-nav-holder fusion-mobile-menu-text-align-left\" aria-label=\"Main Menu Mobile\"></nav>\\n\\n\\t\\t\\t\\t\\t</div>\\n</div>\\n\\t\\t\\t\\t</div>\\n\\t\\t\\t\\t<div class=\"fusion-clearfix\"></div>\\n\\t\\t\\t</header>\\n\\t\\t\\t\\t\\t\\t\\t\\n\\t\\t\\t\\t\\t\\t<div id=\"sliders-container\" class=\"fusion-slider-visibility\">\\n\\t\\t\\t\\t\\t</div>\\n\\t\\t\\t\\t\\n\\t\\t\\t\\t\\n\\t\\t\\t\\n\\t\\t\\t\\n\\t\\t\\t\\t\\t\\t<main id=\"main\" class=\"clearfix width-100\">\\n\\t\\t\\t\\t<div class=\"fusion-row\" style=\"max-width:100%;\">\\n<section id=\"content\" class=\"full-width\">\\n\\t\\t\\t\\t\\t<div id=\"post-2117\" class=\"post-2117 page type-page status-publish hentry\">\\n\\t\\t\\t<span class=\"entry-title rich-snippet-hidden\">Home</span><span class=\"vcard rich-snippet-hidden\"><span class=\"fn\"><a href=\"https://www.engineerspock.com/author/engineerspockoutlook-com/\" title=\"Posts by EngineerSpock\" rel=\"author\">EngineerSpock</a></span></span><span class=\"updated rich-snippet-hidden\">2020-04-23T16:26:41+03:00</span>\\t\\t\\t\\t\\t\\t<div class=\"post-content\">\\n\\t\\t\\t\\t<div class=\"lazyload fusion-fullwidth fullwidth-box fusion-builder-row-1 fusion-parallax-none nonhundred-percent-fullwidth non-hundred-percent-height-scrolling\" data-bg=\"https://cdn.shortpixel.ai/client/q_glossy,ret_img/http://www.engineerspock.com/wp-content/uploads/2018/07/wallls.com_52644-4.jpg\" style=\"background-color: rgba(255,255,255,0);background-image: url(data:image/svg+xml,%3Csvg%20xmlns=%22http://www.w3.org/2000/svg%22%20viewBox=%220%200%20500%20300%22%3E%3C/svg%3E);background-position: left top;background-repeat: no-repeat;padding-top:150px;padding-right:30px;padding-bottom:150px;padding-left:30px;margin-bottom: 0px;margin-top: 0px;border-width: 0px 0px 0px 0px;border-color:#eae9e9;border-style:solid;-webkit-background-size:cover;-moz-background-size:cover;-o-background-size:cover;background-size:cover;\" ><div class=\"fusion-builder-row fusion-row\"><div class=\"fusion-layout-column fusion_builder_column fusion-builder-column-0 fusion_builder_column_1_2 1_2 fusion-one-half fusion-column-first\" style=\"width:48%; margin-right: 4%;margin-top:0px;margin-bottom:20px;\"><div class=\"fusion-column-wrapper fusion-flex-column-wrapper-legacy\" style=\"background-position:left top;background-repeat:no-repeat;-webkit-background-size:cover;-moz-background-size:cover;-o-background-size:cover;background-size:cover;padding: 0px 0px 0px 0px;\"><div class=\"fusion-text fusion-text-1\"><div class=\"fusion-page-title-captions\">\\n<h1 class=\"entry-title\" data-fontsize=\"22\" data-lineheight=\"28\"><span style=\"color: white;\">Welcome to .NET Training</span></h1>\\n</div>\\n<div class=\"fusion-page-title-secondary\"></div>\\n</div><div class=\"fusion-text fusion-text-2\"><div class=\"fusion-page-title-captions\">\\n<h1 class=\"entry-title\" data-fontsize=\"18\" data-lineheight=\"28\"><span style=\"color: white;\">Chance favors the prepared mind.</span></h1>\\n</div>\\n<div class=\"fusion-page-title-secondary\"></div>\\n</div><div class=\"fusion-sep-clear\"></div><div class=\"fusion-separator fusion-full-width-sep\" style=\"margin-left: auto;margin-right: auto;margin-top:6px;width:100%;\"></div><div class=\"fusion-sep-clear\"></div><div class=\"fusion-button-wrapper\"><style type=\"text/css\">.fusion-button.button-1 .fusion-button-text, .fusion-button.button-1 i {color:#ffffff;}.fusion-button.button-1 .fusion-button-icon-divider{border-color:#ffffff;}.fusion-button.button-1:hover .fusion-button-text, .fusion-button.button-1:hover i,.fusion-button.button-1:focus .fusion-button-text, .fusion-button.button-1:focus i,.fusion-button.button-1:active .fusion-button-text, .fusion-button.button-1:active{color:#ffffff;}.fusion-button.button-1:hover .fusion-button-icon-divider, .fusion-button.button-1:hover .fusion-button-icon-divider, .fusion-button.button-1:active .fusion-button-icon-divider{border-color:#ffffff;}.fusion-button.button-1:hover, .fusion-button.button-1:focus, .fusion-button.button-1:active{border-color:#ffffff;border-width:2px;}.fusion-button.button-1 {border-color:#ffffff;border-width:2px;border-radius:0px;}.fusion-button.button-1{background: rgba(144,201,232,0.01);\\n\\t\\t\\t\\t\\t\\t\\tbackground-image: -webkit-gradient( linear, left bottom, left top, from( rgba(90,171,214,0) ), to( rgba(144,201,232,0.01) ) );\\n\\t\\t\\t\\t\\t\\t\\tbackground-image: -webkit-linear-gradient( bottom, rgba(90,171,214,0), rgba(144,201,232,0.01) );\\n\\t\\t\\t\\t\\t\\t\\tbackground-image:   -moz-linear-gradient( bottom, rgba(90,171,214,0), rgba(144,201,232,0.01) );\\n\\t\\t\\t\\t\\t\\t\\tbackground-image:     -o-linear-gradient( bottom, rgba(90,171,214,0), rgba(144,201,232,0.01) );\\n\\t\\t\\t\\t\\t\\t\\tbackground-image: linear-gradient( to top, rgba(90,171,214,0), rgba(144,201,232,0.01) );}.fusion-button.button-1:hover,.button-1:focus,.fusion-button.button-1:active{background: #d6d6d6;\\n\\t\\t\\t\\t\\t\\t\\tbackground-image: -webkit-gradient( linear, left bottom, left top, from( #e8e8e8 ), to( #d6d6d6 ) );\\n\\t\\t\\t\\t\\t\\t\\tbackground-image: -webkit-linear-gradient( bottom, #e8e8e8, #d6d6d6 );\\n\\t\\t\\t\\t\\t\\t\\tbackground-image:   -moz-linear-gradient( bottom, #e8e8e8, #d6d6d6 );\\n\\t\\t\\t\\t\\t\\t\\tbackground-image:     -o-linear-gradient( bottom, #e8e8e8, #d6d6d6 );\\n\\t\\t\\t\\t\\t\\t\\tbackground-image: linear-gradient( to top, #e8e8e8, #d6d6d6 );}</style><a class=\"fusion-button button-flat fusion-button-default-size button-custom button-1 fusion-button-default-span fusion-button-default-type\" target=\"_self\" href=\"https://www.engineerspock.com/courses-overview/\"><span class=\"fusion-button-text\">Video Courses</span></a></div><div class=\"fusion-clearfix\"></div></div></div><div class=\"fusion-layout-column fusion_builder_column fusion-builder-column-1 fusion_builder_column_1_2 1_2 fusion-one-half fusion-column-last\" style=\"width:48%;margin-top:0px;margin-bottom:20px;\"><div class=\"fusion-column-wrapper fusion-flex-column-wrapper-legacy\" style=\"background-position:left top;background-repeat:no-repeat;-webkit-background-size:cover;-moz-background-size:cover;-o-background-size:cover;background-size:cover;padding: 0px 0px 0px 0px;\"><div class=\"fusion-clearfix\"></div></div></div></div></div><div id=\"about\"><div class=\"fusion-fullwidth fullwidth-box fusion-builder-row-2 mass-responsive-section nonhundred-percent-fullwidth non-hundred-percent-height-scrolling\" style=\"background-color: rgba(255,255,255,0);background-position: left top;background-repeat: no-repeat;padding-top:3%;padding-right:30px;padding-bottom:40px;padding-left:30px;margin-bottom: 0px;margin-top: 0px;border-width: 0px 0px 0px 0px;border-color:#eae9e9;border-style:solid;\" id=\"section1\" ><div class=\"fusion-builder-row fusion-row\"><div class=\"fusion-layout-column fusion_builder_column fusion-builder-column-2 fusion_builder_column_1_3 1_3 fusion-one-third fusion-column-first\" style=\"width:33.333333333333%;width:calc(33.333333333333% - ( ( 4% ) * 0.33333333333333 ) );margin-right: 4%;margin-top:42px;margin-bottom:20px;\"><div class=\"fusion-column-wrapper fusion-flex-column-wrapper-legacy\" style=\"background-position:left top;background-repeat:no-repeat;-webkit-background-size:cover;-moz-background-size:cover;-o-background-size:cover;background-size:cover;padding: 0px 0px 0px 0px;\"><span class=\" fusion-imageframe imageframe-none imageframe-1 hover-type-zoomin\"><noscript><img width=\"400\" height=\"268\" alt=\"engineer spock\" title=\"QBaKZLmGItQ\" src=\"https://cdn.shortpixel.ai/client/q_glossy,ret_img,w_400,h_268/http://www.engineerspock.com/wp-content/uploads/2018/01/QBaKZLmGItQ-400x268.jpg\" class=\"img-responsive wp-image-2270\" srcset=\"https://cdn.shortpixel.ai/client/q_glossy,ret_img,w_200/https://www.engineerspock.com/wp-content/uploads/2018/01/QBaKZLmGItQ-200x134.jpg 200w, https://cdn.shortpixel.ai/client/q_glossy,ret_img,w_400/https://www.engineerspock.com/wp-content/uploads/2018/01/QBaKZLmGItQ-400x268.jpg 400w, https://cdn.shortpixel.ai/client/q_glossy,ret_img,w_600/https://www.engineerspock.com/wp-content/uploads/2018/01/QBaKZLmGItQ-600x402.jpg 600w, https://cdn.shortpixel.ai/client/q_glossy,ret_img,w_800/https://www.engineerspock.com/wp-content/uploads/2018/01/QBaKZLmGItQ-800x537.jpg 800w, https://cdn.shortpixel.ai/client/q_glossy,ret_img,w_1200/https://www.engineerspock.com/wp-content/uploads/2018/01/QBaKZLmGItQ-1200x805.jpg 1200w, https://cdn.shortpixel.ai/client/q_glossy,ret_img,w_2560/https://www.engineerspock.com/wp-content/uploads/2018/01/QBaKZLmGItQ.jpg 2560w\" sizes=\"(max-width: 800px) 100vw, 400px\" /></noscript><img width=\"400\" height=\"268\" alt=\"engineer spock\" title=\"QBaKZLmGItQ\" src=\\'https://cdn.shortpixel.ai/client/q_lqip,ret_wait,w_400,h_268/http://www.engineerspock.com/wp-content/uploads/2018/01/QBaKZLmGItQ-400x268.jpg\\' data-src=\"https://cdn.shortpixel.ai/client/q_glossy,ret_img,w_400,h_268/http://www.engineerspock.com/wp-content/uploads/2018/01/QBaKZLmGItQ-400x268.jpg\" class=\"lazyload img-responsive wp-image-2270\" data-srcset=\"https://cdn.shortpixel.ai/client/q_glossy,ret_img,w_200/https://www.engineerspock.com/wp-content/uploads/2018/01/QBaKZLmGItQ-200x134.jpg 200w, https://cdn.shortpixel.ai/client/q_glossy,ret_img,w_400/https://www.engineerspock.com/wp-content/uploads/2018/01/QBaKZLmGItQ-400x268.jpg 400w, https://cdn.shortpixel.ai/client/q_glossy,ret_img,w_600/https://www.engineerspock.com/wp-content/uploads/2018/01/QBaKZLmGItQ-600x402.jpg 600w, https://cdn.shortpixel.ai/client/q_glossy,ret_img,w_800/https://www.engineerspock.com/wp-content/uploads/2018/01/QBaKZLmGItQ-800x537.jpg 800w, https://cdn.shortpixel.ai/client/q_glossy,ret_img,w_1200/https://www.engineerspock.com/wp-content/uploads/2018/01/QBaKZLmGItQ-1200x805.jpg 1200w, https://cdn.shortpixel.ai/client/q_glossy,ret_img,w_2560/https://www.engineerspock.com/wp-content/uploads/2018/01/QBaKZLmGItQ.jpg 2560w\" data-sizes=\"(max-width: 800px) 100vw, 400px\" /></span><div class=\"fusion-clearfix\"></div></div></div><div class=\"fusion-layout-column fusion_builder_column fusion-builder-column-3 fusion_builder_column_2_3 2_3 fusion-two-third fusion-column-last\" style=\"width:66.666666666667%;width:calc(66.666666666667% - ( ( 4% ) * 0.66666666666667 ) );margin-top:42px;margin-bottom:20px;\"><div class=\"fusion-column-wrapper fusion-flex-column-wrapper-legacy\" style=\"background-position:left top;background-repeat:no-repeat;-webkit-background-size:cover;-moz-background-size:cover;-o-background-size:cover;background-size:cover;padding: 0px 0px 0px 0px;\"><div class=\"fusion-text fusion-text-3\"><h2 style=\"text-align: center;\">Who is EngineerSpock</h2>\\n</div><div class=\"fusion-sep-clear\"></div><div class=\"fusion-separator\" style=\"margin-left: auto;margin-right: auto;margin-top:0px;margin-bottom:30px;width:100%;max-width:206px;\"><div class=\"fusion-separator-border sep-single sep-solid\" style=\"border-color:#3e78bd;border-top-width:1px;\"></div></div><div class=\"fusion-sep-clear\"></div><div class=\"fusion-text fusion-text-4\"><p style=\"text-align: left;\">I&#8217;m thankful enough for that I love what I do.</p>\\n<p style=\"text-align: left;\">I began my career as a postgraduate student participating in Microsoft ImagineCup contest.\\xa0I have a technical and economical degree from a Russian university.</p>\\n<p style=\"text-align: left;\">I&#8217;ve been working with .NET platform since 2003. <strong>I&#8217;ve been professionally architecting and implementing software for nearly 7 years</strong>, primarily based on the .NET platform. I&#8217;m passionate about building rich and powerful applications using modern technologies. <strong>I&#8217;m a certified specialist</strong> in Windows Applications and Service Communication Applications by Microsoft. <strong>I&#8217;m one of the organizers of the MskDotNet User Group in Moscow.</strong></p>\\n<p style=\"text-align: left;\">&#8220;If it&#8217;s work, we try to do less. If it&#8217;s art, we try to do more.&#8221; &#8211; Seth Godin.</p>\\n<p style=\"text-align: left;\">What I can say is that<strong> software is my art.</strong></p>\\n</div><div class=\"fusion-clearfix\"></div></div></div></div></div></div><div class=\"fusion-fullwidth fullwidth-box fusion-builder-row-3 hundred-percent-fullwidth non-hundred-percent-height-scrolling fusion-equal-height-columns\" style=\"background-color: rgba(255,255,255,0);background-position: right center;background-repeat: no-repeat;padding-top:0px;padding-right:8%;padding-bottom:40px;padding-left:8%;margin-bottom: 0px;margin-top: 0px;border-width: 0px 0px 0px 0px;border-color:#eae9e9;border-style:solid;\" ><div class=\"fusion-builder-row fusion-row\"><div class=\"fusion-layout-column fusion_builder_column fusion-builder-column-4 fusion_builder_column_1_1 1_1 fusion-one-full fusion-column-first fusion-column-last\" style=\"margin-top:0px;margin-bottom:20px;\"><div class=\"fusion-column-wrapper fusion-flex-column-wrapper-legacy\" style=\"background-position:left top;background-repeat:no-repeat;-webkit-background-size:cover;-moz-background-size:cover;-o-background-size:cover;background-size:cover;padding: 0px 0px 0px 0px;\"><div class=\"fusion-content-boxes content-boxes columns row fusion-columns-3 fusion-columns-total-3 fusion-content-boxes-1 content-boxes-icon-on-top content-left\" data-animationOffset=\"top-into-view\" style=\"margin-top:0px;margin-bottom:60px;\"><style type=\"text/css\">.fusion-content-boxes-1 .heading .content-box-heading {color:#333333;}\\n\\t\\t\\t\\t\\t.fusion-content-boxes-1 .fusion-content-box-hover .link-area-link-icon-hover .heading .content-box-heading,\\n\\t\\t\\t\\t\\t.fusion-content-boxes-1 .fusion-content-box-hover .link-area-link-icon-hover .heading .heading-link .content-box-heading,\\n\\t\\t\\t\\t\\t.fusion-content-boxes-1 .fusion-content-box-hover .link-area-box-hover .heading .content-box-heading,\\n\\t\\t\\t\\t\\t.fusion-content-boxes-1 .fusion-content-box-hover .link-area-box-hover .heading .heading-link .content-box-heading,\\n\\t\\t\\t\\t\\t.fusion-content-boxes-1 .fusion-content-box-hover .link-area-link-icon-hover.link-area-box .fusion-read-more,\\n\\t\\t\\t\\t\\t.fusion-content-boxes-1 .fusion-content-box-hover .link-area-link-icon-hover.link-area-box .fusion-read-more::after,\\n\\t\\t\\t\\t\\t.fusion-content-boxes-1 .fusion-content-box-hover .link-area-link-icon-hover.link-area-box .fusion-read-more::before,\\n\\t\\t\\t\\t\\t.fusion-content-boxes-1 .fusion-content-box-hover .fusion-read-more:hover:after,\\n\\t\\t\\t\\t\\t.fusion-content-boxes-1 .fusion-content-box-hover .fusion-read-more:hover:before,\\n\\t\\t\\t\\t\\t.fusion-content-boxes-1 .fusion-content-box-hover .fusion-read-more:hover,\\n\\t\\t\\t\\t\\t.fusion-content-boxes-1 .fusion-content-box-hover .link-area-box-hover.link-area-box .fusion-read-more,\\n\\t\\t\\t\\t\\t.fusion-content-boxes-1 .fusion-content-box-hover .link-area-box-hover.link-area-box .fusion-read-more::after,\\n\\t\\t\\t\\t\\t.fusion-content-boxes-1 .fusion-content-box-hover .link-area-box-hover.link-area-box .fusion-read-more::before,\\n\\t\\t\\t\\t\\t.fusion-content-boxes-1 .fusion-content-box-hover .link-area-link-icon-hover .icon .circle-no,\\n\\t\\t\\t\\t\\t.fusion-content-boxes-1 .heading .heading-link:hover .content-box-heading {\\n\\t\\t\\t\\t\\t\\tcolor: #9e9e9e;\\n\\t\\t\\t\\t\\t}\\n\\t\\t\\t\\t\\t.fusion-content-boxes-1 .fusion-content-box-hover .link-area-box-hover .icon .circle-no {\\n\\t\\t\\t\\t\\t\\tcolor: #9e9e9e !important;\\n\\t\\t\\t\\t\\t}.fusion-content-boxes-1 .fusion-content-box-hover .link-area-box.link-area-box-hover .fusion-content-box-button {background: #d6d6d6;color: #787878;background-image: -webkit-gradient( linear, left bottom, left top, from( #e8e8e8 ), to( #d6d6d6 ) );background-image: linear-gradient( to top, #e8e8e8, #d6d6d6 )}.fusion-content-boxes-1 .fusion-content-box-hover .link-area-box.link-area-box-hover .fusion-content-box-button .fusion-button-text {color: #787878;}\\n\\t\\t\\t\\t\\t.fusion-content-boxes-1 .fusion-content-box-hover .link-area-link-icon-hover .heading .icon > span {\\n\\t\\t\\t\\t\\t\\tbackground-color: #9e9e9e !important;\\n\\t\\t\\t\\t\\t}\\n\\t\\t\\t\\t\\t.fusion-content-boxes-1 .fusion-content-box-hover .link-area-box-hover .heading .icon > span {\\n\\t\\t\\t\\t\\t\\tborder-color: #9e9e9e !important;\\n\\t\\t\\t\\t\\t}\\n\\t\\t\\t\\t\\t\\t.fusion-content-boxes-1 .fusion-content-box-hover .link-area-link-icon-hover.icon-hover-animation-pulsate .fontawesome-icon:after,\\n\\t\\t\\t\\t\\t\\t.fusion-content-boxes-1 .fusion-content-box-hover .link-area-box-hover.icon-hover-animation-pulsate .fontawesome-icon:after,\\n\\t\\t\\t\\t\\t\\t.fusion-content-boxes-1 .fusion-content-box-hover .link-area-link-icon-hover.icon-wrapper-hover-animation-pulsate .icon span:after,\\n\\t\\t\\t\\t\\t\\t.fusion-content-boxes-1 .fusion-content-box-hover .link-area-box-hover.icon-wrapper-hover-animation-pulsate .icon span:after {\\n\\t\\t\\t\\t\\t\\t\\t-webkit-box-shadow:0 0 0 2px rgba(255,255,255,0.1), 0 0 10px 10px #9e9e9e, 0 0 0 10px rgba(255,255,255,0.5);\\n\\t\\t\\t\\t\\t\\t\\t-moz-box-shadow:0 0 0 2px rgba(255,255,255,0.1), 0 0 10px 10px #9e9e9e, 0 0 0 10px rgba(255,255,255,0.5);\\n\\t\\t\\t\\t\\t\\t\\tbox-shadow: 0 0 0 2px rgba(255,255,255,0.1), 0 0 10px 10px #9e9e9e, 0 0 0 10px rgba(255,255,255,0.5);\\n\\t\\t\\t\\t\\t\\t}\\n\\t\\t\\t\\t\\t</style><div class=\"fusion-column content-box-column content-box-column content-box-column-1 col-lg-4 col-md-4 col-sm-4 fusion-content-box-hover content-box-column-first-in-row\"><div class=\"col content-box-wrapper content-wrapper link-area-link-icon icon-hover-animation-pulsate\" style=\"background-color:rgba(255,255,255,0);\" data-animationOffset=\"top-into-view\"><div class=\"heading heading-with-icon icon-left\"><div class=\"icon\"><i style=\"border-color:#333333;border-width:1px;background-color:#4ea4a5;box-sizing:content-box;height:42px;width:42px;line-height:42px;border-radius:50%;color:#ffffff;font-size:21px;\" aria-hidden=\"true\" class=\"fontawesome-icon fa fa-book circle-yes\"></i></div><h2 class=\"content-box-heading\" style=\"font-size:18px;line-height:23px;\">PUBLICATIONS</h2></div><div class=\"fusion-clearfix\"></div><div class=\"content-container\" style=\"color:#747474;\">\\n<p>I’ve been publishing my articles and translations on the famous Russian technical site – www.habrahabr.ru. So, if you are a Russian speaker you can go there and read my publications. If you want to read my articles in English, then go to my <a href=\"https://www.engineerspock.com/blog\">BLOG.</a></p>\\n</div></div></div><div class=\"fusion-column content-box-column content-box-column content-box-column-2 col-lg-4 col-md-4 col-sm-4 fusion-content-box-hover \"><div class=\"col content-box-wrapper content-wrapper link-area-link-icon icon-hover-animation-pulsate\" style=\"background-color:rgba(255,255,255,0);\" data-animationOffset=\"top-into-view\"><div class=\"heading heading-with-icon icon-left\"><div class=\"icon\"><i style=\"border-color:#333333;border-width:1px;background-color:#4e6da5;box-sizing:content-box;height:42px;width:42px;line-height:42px;border-radius:50%;color:#ffffff;font-size:21px;\" aria-hidden=\"true\" class=\"fontawesome-icon fa fa-video-camera circle-yes\"></i></div><h2 class=\"content-box-heading\" style=\"font-size:18px;line-height:23px;\">AUTHOR of VIDEO COURSES</h2></div><div class=\"fusion-clearfix\"></div><div class=\"content-container\" style=\"color:#747474;\">\\n<p>I published many video courses about programming on the .NET platform. To learn more either check out this page below or visit my <a href=\"https://www.engineerspock.com/courses-overview/\">courses overview page</a>.</p>\\n</div></div></div><div class=\"fusion-column content-box-column content-box-column content-box-column-3 col-lg-4 col-md-4 col-sm-4 fusion-content-box-hover content-box-column-last content-box-column-last-in-row\"><div class=\"col content-box-wrapper content-wrapper link-area-link-icon icon-hover-animation-pulsate\" style=\"background-color:rgba(255,255,255,0);\" data-animationOffset=\"top-into-view\"><div class=\"heading heading-with-icon icon-left\"><div class=\"icon\"><i style=\"border-color:#333333;border-width:1px;background-color:#f6722a;box-sizing:content-box;height:42px;width:42px;line-height:42px;border-radius:50%;color:#ffffff;font-size:21px;\" aria-hidden=\"true\" class=\"fontawesome-icon fa fa-envelope-o circle-yes\"></i></div><h2 class=\"content-box-heading\" style=\"font-size:18px;line-height:23px;\">Contacts</h2></div><div class=\"fusion-clearfix\"></div><div class=\"content-container\" style=\"color:#747474;\">\\n<p>If you want to contact me, you always can do it by e-mail – engineerspock[at]outlook[dot]com.</p>\\n</div></div></div><style type=\"text/css\">\\n\\t\\t\\t\\t\\t\\t.fusion-content-boxes-1 .fusion-content-box-hover .heading-link:hover .icon i.circle-yes,\\n\\t\\t\\t\\t\\t\\t.fusion-content-boxes-1 .fusion-content-box-hover .link-area-box:hover .heading-link .icon i.circle-yes,\\n\\t\\t\\t\\t\\t\\t.fusion-content-boxes-1 .fusion-content-box-hover .link-area-link-icon-hover .heading .icon i.circle-yes,\\n\\t\\t\\t\\t\\t\\t.fusion-content-boxes-1 .fusion-content-box-hover .link-area-box-hover .heading .icon i.circle-yes {\\n\\t\\t\\t\\t\\t\\t\\tbackground-color: #9e9e9e !important;\\n\\t\\t\\t\\t\\t\\t\\tborder-color: #9e9e9e !important;\\n\\t\\t\\t\\t\\t\\t}</style><div class=\"fusion-clearfix\"></div></div><div class=\"fusion-clearfix\"></div></div></div></div></div><div id=\"join\"><div class=\"fusion-fullwidth fullwidth-box fusion-builder-row-4 nonhundred-percent-fullwidth non-hundred-percent-height-scrolling fusion-equal-height-columns\" style=\"background-color: #3f3f3f;background-position: center bottom;background-repeat: no-repeat;padding-top:100px;padding-right:30px;padding-bottom:90px;padding-left:30px;margin-bottom: 0px;margin-top: 0px;border-width: 0px 0px 0px 0px;border-color:#eae9e9;border-style:solid;\" ><div class=\"fusion-builder-row fusion-row\"><div class=\"fusion-layout-column fusion_builder_column fusion-builder-column-5 fusion_builder_column_3_5 3_5 fusion-three-fifth fusion-column-first\" style=\"width:60%;width:calc(60% - ( ( 50px ) * 0.6 ) );margin-right: 50px;margin-top:0px;margin-bottom:25px;\"><div class=\"fusion-column-wrapper fusion-flex-column-wrapper-legacy\" style=\"background-position:left top;background-repeat:no-repeat;-webkit-background-size:cover;-moz-background-size:cover;-o-background-size:cover;background-size:cover;padding: 0px 0px 0px 0px;\"><div class=\"fusion-column-content-centered\"><div class=\"fusion-column-content\"><div class=\"fusion-text fusion-text-5\"><h1 style=\"font-weight: 300;\"><span style=\"color: #ffffff;\">Join Us</span></h1>\\n</div><div class=\"fusion-sep-clear\"></div><div class=\"fusion-separator fusion-clearfix\" style=\"float:left;margin-top:0px;margin-bottom:30px;width:100%;max-width:206px;\"><div class=\"fusion-separator-border sep-single sep-solid\" style=\"border-color:#3e78bd;border-top-width:1px;\"></div></div><div class=\"fusion-sep-clear\"></div><div class=\"fusion-text fusion-text-6\"><p style=\"color: white;\">Join my mailing list and\\xa0<strong>you’ll be eligible for getting up to 90% discount for any of my courses.</strong><br />\\nAfter subscribing, I’ll notify you about new courses from time to time. If you want to get discounts on courses which have been released, then you can request a discount for a particular course,\\xa0<strong><span style=\"color: #3e78bd;\"><a href=\"/cdn-cgi/l/email-protection#90f5fef7f9fef5f5e2e3e0fff3fbd0ffe5e4fcfffffbbef3fffd\">just by sending me a short e-mail.</a></span></strong></p>\\n<p>I’ll not SPAM you and you can unsubscribe at any time.</p>\\n</div></div></div><div class=\"fusion-clearfix\"></div></div></div><div class=\"fusion-layout-column fusion_builder_column fusion-builder-column-6 fusion_builder_column_2_5 2_5 fusion-two-fifth fusion-column-last\" style=\"width:40%;width:calc(40% - ( ( 50px ) * 0.4 ) );margin-top:0px;margin-bottom:20px;\"><div class=\"fusion-column-wrapper fusion-flex-column-wrapper-legacy\" style=\"background-position:left top;background-repeat:no-repeat;-webkit-background-size:cover;-moz-background-size:cover;-o-background-size:cover;background-size:cover;padding: 0px 0px 0px 0px;\"><div class=\"fusion-column-content-centered\"><div class=\"fusion-column-content\"><div class=\"fusion-sep-clear\"></div><div class=\"fusion-separator fusion-full-width-sep\" style=\"margin-left: auto;margin-right: auto;margin-top:10px;width:100%;\"></div><div class=\"fusion-sep-clear\"></div><script data-cfasync=\"false\" src=\"/cdn-cgi/scripts/5c5dd728/cloudflare-static/email-decode.min.js\"></script><script>(function() {\\n\\twindow.mc4wp = window.mc4wp || {\\n\\t\\tlisteners: [],\\n\\t\\tforms: {\\n\\t\\t\\ton: function(evt, cb) {\\n\\t\\t\\t\\twindow.mc4wp.listeners.push(\\n\\t\\t\\t\\t\\t{\\n\\t\\t\\t\\t\\t\\tevent   : evt,\\n\\t\\t\\t\\t\\t\\tcallback: cb\\n\\t\\t\\t\\t\\t}\\n\\t\\t\\t\\t);\\n\\t\\t\\t}\\n\\t\\t}\\n\\t}\\n})();\\n</script><!-- Mailchimp for WordPress v4.8.6 - https://wordpress.org/plugins/mailchimp-for-wp/ --><form id=\"mc4wp-form-1\" class=\"mc4wp-form mc4wp-form-1808 mc4wp-form-theme mc4wp-form-theme-dark\" method=\"post\" data-id=\"1808\" data-name=\"Subscribe to my mailing list\" ><div class=\"mc4wp-form-fields\"><p>\\r\\n\\t<label>\\r\\n      <font color=\"White\">\\r\\n      Email address:\\r\\n        </font>\\r\\n  </label><br/>\\r\\n\\t<input type=\"email\" name=\"EMAIL\" placeholder=\"Your email address\" required />\\r\\n</p>\\r\\n<p>\\r\\n    <label>\\r\\n      <font color=\"White\">\\r\\n      First Name:\\r\\n        </font>\\r\\n  </label><br/>\\r\\n    <input type=\"text\" name=\"FNAME\">\\r\\n</p>\\r\\n<p>\\r\\n\\t<input type=\"submit\" value=\"Subscribe\" />\\r\\n</p></div><label style=\"display: none !important;\">Leave this field empty if you\\'re human: <input type=\"text\" name=\"_mc4wp_honeypot\" value=\"\" tabindex=\"-1\" autocomplete=\"off\" /></label><input type=\"hidden\" name=\"_mc4wp_timestamp\" value=\"1625842673\" /><input type=\"hidden\" name=\"_mc4wp_form_id\" value=\"1808\" /><input type=\"hidden\" name=\"_mc4wp_form_element_id\" value=\"mc4wp-form-1\" /><div class=\"mc4wp-response\"></div></form><!-- / Mailchimp for WordPress Plugin --></div></div><div class=\"fusion-clearfix\"></div></div></div></div></div></div>\\n\\t\\t\\t\\t\\t\\t\\t</div>\\n\\t\\t\\t\\t\\t\\t\\t\\t\\t\\t\\t\\t</div>\\n\\t</section>\\n\\t\\t\\t\\t\\t\\t\\n\\t\\t\\t\\t\\t</div>  <!-- fusion-row -->\\n\\t\\t\\t\\t</main>  <!-- #main -->\\n\\t\\t\\t\\t\\n\\t\\t\\t\\t\\n\\t\\t\\t\\t\\t\\t\\t\\t\\n\\t\\t\\t\\t\\t\\n\\t\\t<div class=\"fusion-footer\">\\n\\t\\t\\t\\t\\n\\t\\n\\t<footer id=\"footer\" class=\"fusion-footer-copyright-area\">\\n\\t\\t<div class=\"fusion-row\">\\n\\t\\t\\t<div class=\"fusion-copyright-content\">\\n\\n\\t\\t\\t\\t<div class=\"fusion-copyright-notice\">\\n\\t\\t<div>\\n\\t\\tCopyright 2012 - 2017 Avada | All Rights Reserved | Powered by <a href=\"https://wordpress.org\">WordPress</a> | <a href=\"https://theme-fusion.com\">Theme Fusion</a>\\t</div>\\n</div>\\n\\n\\t\\t\\t</div> <!-- fusion-fusion-copyright-content -->\\n\\t\\t</div> <!-- fusion-row -->\\n\\t</footer> <!-- #footer -->\\n\\t\\t</div> <!-- fusion-footer -->\\n\\n\\t\\t\\n\\t\\t\\t\\t\\t<div class=\"fusion-sliding-bar-wrapper\">\\n\\t\\t\\t\\t\\t\\t\\t\\t\\t\\t\\t</div>\\n\\n\\t\\t\\t\\t\\t\\t\\t\\t\\t\\t\\t\\t</div> <!-- wrapper -->\\n\\t\\t</div> <!-- #boxed-wrapper -->\\n\\t\\t<div class=\"fusion-top-frame\"></div>\\n\\t\\t<div class=\"fusion-bottom-frame\"></div>\\n\\t\\t<div class=\"fusion-boxed-shadow\"></div>\\n\\t\\t<a class=\"fusion-one-page-text-link fusion-page-load-link\" tabindex=\"-1\" href=\"#\" aria-hidden=\"true\"></a>\\n\\n\\t\\t<div class=\"avada-footer-scripts\">\\n\\t\\t\\t\\t\\t\\t\\t<script type=\\'text/javascript\\'><!--\\r\\n\\t\\t\\tvar seriesdropdown = document.getElementById(\"orgseries_dropdown\");\\r\\n\\t\\t\\tif (seriesdropdown) {\\r\\n\\t\\t\\t function onSeriesChange() {\\r\\n\\t\\t\\t\\t\\tif ( seriesdropdown.options[seriesdropdown.selectedIndex].value != ( 0 || -1 ) ) {\\r\\n\\t\\t\\t\\t\\t\\tlocation.href = \"https://www.engineerspock.com/series/\"+seriesdropdown.options[seriesdropdown.selectedIndex].value;\\r\\n\\t\\t\\t\\t\\t}\\r\\n\\t\\t\\t\\t}\\r\\n\\t\\t\\t\\tseriesdropdown.onchange = onSeriesChange;\\r\\n\\t\\t\\t}\\r\\n\\t\\t\\t--></script>\\r\\n\\t\\t\\t<script async>(function(s,u,m,o,j,v){j=u.createElement(m);v=u.getElementsByTagName(m)[0];j.async=1;j.src=o;j.dataset.sumoSiteId=\\'3125000020303000e0c0a5000eb4b400dfd9f50041feae00d4a35d0093627b00\\';j.dataset.sumoPlatform=\\'wordpress\\';v.parentNode.insertBefore(j,v)})(window,document,\\'script\\',\\'//load.sumo.com/\\');</script>    <script type=\"application/javascript\">\\n      var ajaxurl = \"https://www.engineerspock.com/wp-admin/admin-ajax.php\";\\n\\n      function sumo_add_woocommerce_coupon(code) {\\n        jQuery.post(ajaxurl, {\\n          action: \\'sumo_add_woocommerce_coupon\\',\\n          code: code,\\n        });\\n      }\\n\\n      function sumo_remove_woocommerce_coupon(code) {\\n        jQuery.post(ajaxurl, {\\n          action: \\'sumo_remove_woocommerce_coupon\\',\\n          code: code,\\n        });\\n      }\\n\\n      function sumo_get_woocommerce_cart_subtotal(callback) {\\n        jQuery.ajax({\\n          method: \\'POST\\',\\n          url: ajaxurl,\\n          dataType: \\'html\\',\\n          data: {\\n            action: \\'sumo_get_woocommerce_cart_subtotal\\',\\n          },\\n          success: function(subtotal) {\\n            return callback(null, subtotal);\\n          },\\n          error: function(err) {\\n            return callback(err, 0);\\n          }\\n        });\\n      }\\n    </script>\\n    <script>(function() {function maybePrefixUrlField() {\\n\\tif (this.value.trim() !== \\'\\' && this.value.indexOf(\\'http\\') !== 0) {\\n\\t\\tthis.value = \"http://\" + this.value;\\n\\t}\\n}\\n\\nvar urlFields = document.querySelectorAll(\\'.mc4wp-form input[type=\"url\"]\\');\\nif (urlFields) {\\n\\tfor (var j=0; j < urlFields.length; j++) {\\n\\t\\turlFields[j].addEventListener(\\'blur\\', maybePrefixUrlField);\\n\\t}\\n}\\n})();</script><script type=\"text/javascript\">var fusionNavIsCollapsed=function(e){var t;window.innerWidth<=e.getAttribute(\"data-breakpoint\")?(e.classList.add(\"collapse-enabled\"),e.classList.contains(\"expanded\")||(e.setAttribute(\"aria-expanded\",\"false\"),window.dispatchEvent(new Event(\"fusion-mobile-menu-collapsed\",{bubbles:!0,cancelable:!0})))):(null!==e.querySelector(\".menu-item-has-children.expanded .fusion-open-nav-submenu-on-click\")&&e.querySelector(\".menu-item-has-children.expanded .fusion-open-nav-submenu-on-click\").click(),e.classList.remove(\"collapse-enabled\"),e.setAttribute(\"aria-expanded\",\"true\"),null!==e.querySelector(\".fusion-custom-menu\")&&e.querySelector(\".fusion-custom-menu\").removeAttribute(\"style\")),e.classList.add(\"no-wrapper-transition\"),clearTimeout(t),t=setTimeout(()=>{e.classList.remove(\"no-wrapper-transition\")},400),e.classList.remove(\"loading\")},fusionRunNavIsCollapsed=function(){var e,t=document.querySelectorAll(\".fusion-menu-element-wrapper\");for(e=0;e<t.length;e++)fusionNavIsCollapsed(t[e])};function avadaGetScrollBarWidth(){var e,t,n,s=document.createElement(\"p\");return s.style.width=\"100%\",s.style.height=\"200px\",(e=document.createElement(\"div\")).style.position=\"absolute\",e.style.top=\"0px\",e.style.left=\"0px\",e.style.visibility=\"hidden\",e.style.width=\"200px\",e.style.height=\"150px\",e.style.overflow=\"hidden\",e.appendChild(s),document.body.appendChild(e),t=s.offsetWidth,e.style.overflow=\"scroll\",t==(n=s.offsetWidth)&&(n=e.clientWidth),document.body.removeChild(e),t-n}fusionRunNavIsCollapsed(),window.addEventListener(\"fusion-resize-horizontal\",fusionRunNavIsCollapsed);</script><noscript><style>.lazyload{display:none;}</style></noscript><script data-noptimize=\"1\">window.lazySizesConfig=window.lazySizesConfig||{};window.lazySizesConfig.loadMode=1;</script><script async data-noptimize=\"1\" src=\\'https://www.engineerspock.com/wp-content/plugins/autoptimize/classes/external/js/lazysizes.min.js?ao_version=2.8.4\\'></script><script data-noptimize=\"1\">function c_img(a,b){src=\"avif\"==b?\"data:image/avif;base64,AAAAIGZ0eXBhdmlmAAAAAGF2aWZtaWYxbWlhZk1BMUIAAADybWV0YQAAAAAAAAAoaGRscgAAAAAAAAAAcGljdAAAAAAAAAAAAAAAAGxpYmF2aWYAAAAADnBpdG0AAAAAAAEAAAAeaWxvYwAAAABEAAABAAEAAAABAAABGgAAABoAAAAoaWluZgAAAAAAAQAAABppbmZlAgAAAAABAABhdjAxQ29sb3IAAAAAamlwcnAAAABLaXBjbwAAABRpc3BlAAAAAAAAAAEAAAABAAAAEHBpeGkAAAAAAwgICAAAAAxhdjFDgQ0MAAAAABNjb2xybmNseAACAAIAAYAAAAAXaXBtYQAAAAAAAAABAAEEAQKDBAAAACJtZGF0EgAKCBgADsgQEAwgMgwf8AAAWAAAAACvJ+o=\":\"data:image/webp;base64,UklGRhoAAABXRUJQVlA4TA0AAAAvAAAAEAcQERGIiP4HAA==\";var c=new Image;c.onload=function(){var d=0<c.width&&0<c.height;a(d,b)},c.onerror=function(){a(!1,b)},c.src=src}function s_img(a,b){w=window,\"avif\"==b?!1==a?c_img(s_img,\"webp\"):w.ngImg=\"avif\":!1==a?w.ngImg=!1:w.ngImg=\"webp\"}c_img(s_img,\"avif\");document.addEventListener(\"lazybeforeunveil\",function({target:a}){window.ngImg&&[\"data-src\",\"data-srcset\"].forEach(function(b){attr=a.getAttribute(b),null!==attr&&-1==attr.indexOf(\"/client/to_\")&&a.setAttribute(b,attr.replace(/\\\\/client\\\\//,\"/client/to_\"+window.ngImg+\",\"))})});</script><link rel=\\'stylesheet\\' id=\\'wp-block-library-css\\'  href=\\'https://www.engineerspock.com/wp-includes/css/dist/block-library/style.min.css?ver=5.7.2\\' type=\\'text/css\\' media=\\'all\\' />\\n<link rel=\\'stylesheet\\' id=\\'wp-block-library-theme-css\\'  href=\\'https://www.engineerspock.com/wp-includes/css/dist/block-library/theme.min.css?ver=5.7.2\\' type=\\'text/css\\' media=\\'all\\' />\\n<script type=\\'text/javascript\\' src=\\'https://www.engineerspock.com/wp-content/plugins/wp-udemy-pro/assets/dist/js/main.js?ver=1.2.1\\' id=\\'ufwp-pro-js\\'></script>\\n<script type=\\'text/javascript\\' src=\\'https://www.engineerspock.com/wp-includes/js/wp-embed.min.js?ver=5.7.2\\' id=\\'wp-embed-js\\'></script>\\n<script type=\\'text/javascript\\' defer src=\\'https://www.engineerspock.com/wp-content/plugins/mailchimp-for-wp/assets/js/forms.js?ver=4.8.6\\' id=\\'mc4wp-forms-api-js\\'></script>\\n<script type=\\'text/javascript\\' src=\\'https://www.engineerspock.com/wp-content/uploads/fusion-scripts/31a6afa70636a626c9b199cf8a191563.min.js?ver=3.4.1\\' id=\\'fusion-scripts-js\\'></script>\\n\\t\\t\\t\\t<script type=\"text/javascript\">\\n\\t\\t\\t\\tjQuery( document ).ready( function() {\\n\\t\\t\\t\\t\\tvar ajaxurl = \\'https://www.engineerspock.com/wp-admin/admin-ajax.php\\';\\n\\t\\t\\t\\t\\tif ( 0 < jQuery( \\'.fusion-login-nonce\\' ).length ) {\\n\\t\\t\\t\\t\\t\\tjQuery.get( ajaxurl, { \\'action\\': \\'fusion_login_nonce\\' }, function( response ) {\\n\\t\\t\\t\\t\\t\\t\\tjQuery( \\'.fusion-login-nonce\\' ).html( response );\\n\\t\\t\\t\\t\\t\\t});\\n\\t\\t\\t\\t\\t}\\n\\t\\t\\t\\t});\\n\\t\\t\\t\\t\\t\\t\\t\\t</script>\\n\\t\\t\\t\\t\\t\\t</div>\\n\\n\\t\\t\\t<div class=\"to-top-container to-top-right\">\\n\\t\\t<a href=\"#\" id=\"toTop\" class=\"fusion-top-top-link\">\\n\\t\\t\\t<span class=\"screen-reader-text\">Go to Top</span>\\n\\t\\t</a>\\n\\t</div>\\n\\t\\t</body>\\n</html>\\n<!-- Cache Enabler by KeyCDN @ Fri, 09 Jul 2021 14:57:54 GMT (https-index.html) -->'"
      ]
     },
     "execution_count": 126,
     "metadata": {},
     "output_type": "execute_result"
    }
   ],
   "source": [
    "response.text #достаем текст 'utf-8'"
   ]
  },
  {
   "cell_type": "code",
   "execution_count": 127,
   "id": "c2bd456c",
   "metadata": {},
   "outputs": [],
   "source": [
    "response = requests.get(\"https://api.github.com/\")"
   ]
  },
  {
   "cell_type": "code",
   "execution_count": 128,
   "id": "644d9ded",
   "metadata": {},
   "outputs": [
    {
     "data": {
      "text/plain": [
       "{'current_user_url': 'https://api.github.com/user',\n",
       " 'current_user_authorizations_html_url': 'https://github.com/settings/connections/applications{/client_id}',\n",
       " 'authorizations_url': 'https://api.github.com/authorizations',\n",
       " 'code_search_url': 'https://api.github.com/search/code?q={query}{&page,per_page,sort,order}',\n",
       " 'commit_search_url': 'https://api.github.com/search/commits?q={query}{&page,per_page,sort,order}',\n",
       " 'emails_url': 'https://api.github.com/user/emails',\n",
       " 'emojis_url': 'https://api.github.com/emojis',\n",
       " 'events_url': 'https://api.github.com/events',\n",
       " 'feeds_url': 'https://api.github.com/feeds',\n",
       " 'followers_url': 'https://api.github.com/user/followers',\n",
       " 'following_url': 'https://api.github.com/user/following{/target}',\n",
       " 'gists_url': 'https://api.github.com/gists{/gist_id}',\n",
       " 'hub_url': 'https://api.github.com/hub',\n",
       " 'issue_search_url': 'https://api.github.com/search/issues?q={query}{&page,per_page,sort,order}',\n",
       " 'issues_url': 'https://api.github.com/issues',\n",
       " 'keys_url': 'https://api.github.com/user/keys',\n",
       " 'label_search_url': 'https://api.github.com/search/labels?q={query}&repository_id={repository_id}{&page,per_page}',\n",
       " 'notifications_url': 'https://api.github.com/notifications',\n",
       " 'organization_url': 'https://api.github.com/orgs/{org}',\n",
       " 'organization_repositories_url': 'https://api.github.com/orgs/{org}/repos{?type,page,per_page,sort}',\n",
       " 'organization_teams_url': 'https://api.github.com/orgs/{org}/teams',\n",
       " 'public_gists_url': 'https://api.github.com/gists/public',\n",
       " 'rate_limit_url': 'https://api.github.com/rate_limit',\n",
       " 'repository_url': 'https://api.github.com/repos/{owner}/{repo}',\n",
       " 'repository_search_url': 'https://api.github.com/search/repositories?q={query}{&page,per_page,sort,order}',\n",
       " 'current_user_repositories_url': 'https://api.github.com/user/repos{?type,page,per_page,sort}',\n",
       " 'starred_url': 'https://api.github.com/user/starred{/owner}{/repo}',\n",
       " 'starred_gists_url': 'https://api.github.com/gists/starred',\n",
       " 'topic_search_url': 'https://api.github.com/search/topics?q={query}{&page,per_page}',\n",
       " 'user_url': 'https://api.github.com/users/{user}',\n",
       " 'user_organizations_url': 'https://api.github.com/user/orgs',\n",
       " 'user_repositories_url': 'https://api.github.com/users/{user}/repos{?type,page,per_page,sort}',\n",
       " 'user_search_url': 'https://api.github.com/search/users?q={query}{&page,per_page,sort,order}'}"
      ]
     },
     "execution_count": 128,
     "metadata": {},
     "output_type": "execute_result"
    }
   ],
   "source": [
    "data = response.json()\n",
    "data"
   ]
  },
  {
   "cell_type": "code",
   "execution_count": 129,
   "id": "3004306e",
   "metadata": {},
   "outputs": [],
   "source": [
    "blog_response = requests.get(\"https://www.engineerspock.com/\")\n",
    "github_response = requests.get(\"https://api.github.com/\")"
   ]
  },
  {
   "cell_type": "code",
   "execution_count": 130,
   "id": "7099ffd9",
   "metadata": {},
   "outputs": [
    {
     "name": "stdout",
     "output_type": "stream",
     "text": [
      "{'Date': 'Wed, 29 Dec 2021 09:12:12 GMT', 'Content-Type': 'text/html; charset=UTF-8', 'Transfer-Encoding': 'chunked', 'Connection': 'keep-alive', 'x-powered-by': 'PHP/7.4.26', 'x-cache-handler': 'cache-enabler-engine', 'cache-control': 'private, must-revalidate', 'expires': 'Fri, 28 Jan 2022 09:12:12 GMT', 'vary': 'Accept-Encoding', 'content-security-policy': 'upgrade-insecure-requests;', 'strict-transport-security': 'max-age=31536000', 'alt-svc': 'h3=\":443\"; ma=86400, h3-29=\":443\"; ma=86400, h3-28=\":443\"; ma=86400, h3-27=\":443\"; ma=86400', 'x-turbo-charged-by': 'LiteSpeed', 'CF-Cache-Status': 'DYNAMIC', 'Expect-CT': 'max-age=604800, report-uri=\"https://report-uri.cloudflare.com/cdn-cgi/beacon/expect-ct\"', 'Report-To': '{\"endpoints\":[{\"url\":\"https:\\\\/\\\\/a.nel.cloudflare.com\\\\/report\\\\/v3?s=qT6ImSLxEzMxF0lwknecE%2Fn82D7zaSbBPh%2BYcHLpbPEh6kSGhncZfKeEvm%2FPsBLuR%2FAqJyyYQoyAfm%2B23xqTuJ8IQljGDv58mSRTT7XVOEVVPoOfH0e11Q39dIQHo2FDpjc7qirz37k%3D\"}],\"group\":\"cf-nel\",\"max_age\":604800}', 'NEL': '{\"success_fraction\":0,\"report_to\":\"cf-nel\",\"max_age\":604800}', 'Server': 'cloudflare', 'CF-RAY': '6c51e7c66e851654-DME', 'Content-Encoding': 'br'}\n",
      "\n",
      "{'Server': 'GitHub.com', 'Date': 'Wed, 29 Dec 2021 09:12:01 GMT', 'Cache-Control': 'public, max-age=60, s-maxage=60', 'Vary': 'Accept, Accept-Encoding, Accept, X-Requested-With', 'ETag': '\"4f825cc84e1c733059d46e76e6df9db557ae5254f9625dfe8e1b09499c449438\"', 'Access-Control-Expose-Headers': 'ETag, Link, Location, Retry-After, X-GitHub-OTP, X-RateLimit-Limit, X-RateLimit-Remaining, X-RateLimit-Used, X-RateLimit-Resource, X-RateLimit-Reset, X-OAuth-Scopes, X-Accepted-OAuth-Scopes, X-Poll-Interval, X-GitHub-Media-Type, X-GitHub-SSO, X-GitHub-Request-Id, Deprecation, Sunset', 'Access-Control-Allow-Origin': '*', 'Strict-Transport-Security': 'max-age=31536000; includeSubdomains; preload', 'X-Frame-Options': 'deny', 'X-Content-Type-Options': 'nosniff', 'X-XSS-Protection': '0', 'Referrer-Policy': 'origin-when-cross-origin, strict-origin-when-cross-origin', 'Content-Security-Policy': \"default-src 'none'\", 'Content-Type': 'application/json; charset=utf-8', 'X-GitHub-Media-Type': 'github.v3; format=json', 'Content-Encoding': 'gzip', 'X-RateLimit-Limit': '60', 'X-RateLimit-Remaining': '58', 'X-RateLimit-Reset': '1640772577', 'X-RateLimit-Resource': 'core', 'X-RateLimit-Used': '2', 'Accept-Ranges': 'bytes', 'Content-Length': '510', 'X-GitHub-Request-Id': '27FA:132C:01C9:0F15:61CC266C'}\n"
     ]
    }
   ],
   "source": [
    "print(blog_response.headers, end='\\n')\n",
    "print('')\n",
    "print(github_response.headers, end='\\n')"
   ]
  },
  {
   "cell_type": "code",
   "execution_count": 23,
   "id": "89b536e5",
   "metadata": {},
   "outputs": [
    {
     "ename": "NameError",
     "evalue": "name 'blog_response' is not defined",
     "output_type": "error",
     "traceback": [
      "\u001b[1;31m---------------------------------------------------------------------------\u001b[0m",
      "\u001b[1;31mNameError\u001b[0m                                 Traceback (most recent call last)",
      "\u001b[1;32mC:\\Users\\KOBUDU~1\\AppData\\Local\\Temp/ipykernel_7584/1658664064.py\u001b[0m in \u001b[0;36m<module>\u001b[1;34m\u001b[0m\n\u001b[1;32m----> 1\u001b[1;33m \u001b[0mblog_response\u001b[0m\u001b[1;33m.\u001b[0m\u001b[0mheaders\u001b[0m\u001b[1;33m[\u001b[0m\u001b[1;34m'content-type'\u001b[0m\u001b[1;33m]\u001b[0m \u001b[1;31m#регистр не учитывается\u001b[0m\u001b[1;33m\u001b[0m\u001b[1;33m\u001b[0m\u001b[0m\n\u001b[0m",
      "\u001b[1;31mNameError\u001b[0m: name 'blog_response' is not defined"
     ]
    }
   ],
   "source": [
    "blog_response.headers['content-type'] #регистр не учитывается"
   ]
  },
  {
   "cell_type": "markdown",
   "id": "28c6a77f",
   "metadata": {},
   "source": [
    "### Get"
   ]
  },
  {
   "cell_type": "code",
   "execution_count": 133,
   "id": "0694aa93",
   "metadata": {},
   "outputs": [
    {
     "data": {
      "text/plain": [
       "'[\\n  {\\n    \"postId\": 1,\\n    \"id\": 1,\\n    \"name\": \"id labore ex et quam laborum\",\\n    \"email\": \"Eliseo@gardner.biz\",\\n    \"body\": \"laudantium enim quasi est quidem magnam voluptate ipsam eos\\\\ntempora quo necessitatibus\\\\ndolor quam autem quasi\\\\nreiciendis et nam sapiente accusantium\"\\n  },\\n  {\\n    \"postId\": 1,\\n    \"id\": 2,\\n    \"name\": \"quo vero reiciendis velit similique earum\",\\n    \"email\": \"Jayne_Kuhic@sydney.com\",\\n    \"body\": \"est natus enim nihil est dolore omnis voluptatem numquam\\\\net omnis occaecati quod ullam at\\\\nvoluptatem error expedita pariatur\\\\nnihil sint nostrum voluptatem reiciendis et\"\\n  },\\n  {\\n    \"postId\": 1,\\n    \"id\": 3,\\n    \"name\": \"odio adipisci rerum aut animi\",\\n    \"email\": \"Nikita@garfield.biz\",\\n    \"body\": \"quia molestiae reprehenderit quasi aspernatur\\\\naut expedita occaecati aliquam eveniet laudantium\\\\nomnis quibusdam delectus saepe quia accusamus maiores nam est\\\\ncum et ducimus et vero voluptates excepturi deleniti ratione\"\\n  },\\n  {\\n    \"postId\": 1,\\n    \"id\": 4,\\n    \"name\": \"alias odio sit\",\\n    \"email\": \"Lew@alysha.tv\",\\n    \"body\": \"non et atque\\\\noccaecati deserunt quas accusantium unde odit nobis qui voluptatem\\\\nquia voluptas consequuntur itaque dolor\\\\net qui rerum deleniti ut occaecati\"\\n  },\\n  {\\n    \"postId\": 1,\\n    \"id\": 5,\\n    \"name\": \"vero eaque aliquid doloribus et culpa\",\\n    \"email\": \"Hayden@althea.biz\",\\n    \"body\": \"harum non quasi et ratione\\\\ntempore iure ex voluptates in ratione\\\\nharum architecto fugit inventore cupiditate\\\\nvoluptates magni quo et\"\\n  }\\n]'"
      ]
     },
     "execution_count": 133,
     "metadata": {},
     "output_type": "execute_result"
    }
   ],
   "source": [
    "placeholder_response = requests.get('https://jsonplaceholder.typicode.com/comments', params=b'postId=1') #можно передавать параметры в гет запрос\n",
    "placeholder_response.text"
   ]
  },
  {
   "cell_type": "markdown",
   "id": "cc3a20bb",
   "metadata": {},
   "source": [
    "### Post"
   ]
  },
  {
   "cell_type": "code",
   "execution_count": 17,
   "id": "ad810246",
   "metadata": {},
   "outputs": [],
   "source": [
    "json_data = json.dumps(t1.__dict__)\n",
    "response = requests.post(\"https://httpbin.org/post\", json=json_data)\n",
    "json_response = response.json()"
   ]
  },
  {
   "cell_type": "code",
   "execution_count": 18,
   "id": "2863ff69",
   "metadata": {},
   "outputs": [
    {
     "name": "stdout",
     "output_type": "stream",
     "text": [
      "\"{\\\"name\\\": \\\"Aeroflot Open\\\", \\\"year\\\": 2010}\"\n"
     ]
    }
   ],
   "source": [
    "print(json_response['data'])"
   ]
  },
  {
   "cell_type": "code",
   "execution_count": 19,
   "id": "4ac3bd17",
   "metadata": {},
   "outputs": [
    {
     "data": {
      "text/plain": [
       "'application/json'"
      ]
     },
     "execution_count": 19,
     "metadata": {},
     "output_type": "execute_result"
    }
   ],
   "source": [
    "json_response['headers']['Content-Type']"
   ]
  },
  {
   "cell_type": "markdown",
   "id": "248be329",
   "metadata": {},
   "source": [
    "### Аутентификация на гитхабе"
   ]
  },
  {
   "cell_type": "code",
   "execution_count": 22,
   "id": "69d5799f",
   "metadata": {},
   "outputs": [
    {
     "name": "stdout",
     "output_type": "stream",
     "text": [
      "········\n"
     ]
    }
   ],
   "source": [
    "from getpass import getpass\n",
    "auth_response = requests.get('https://api.github.com/user', auth=('EngineerSpock', getpass()))"
   ]
  },
  {
   "cell_type": "code",
   "execution_count": 24,
   "id": "6e0141f9",
   "metadata": {},
   "outputs": [
    {
     "data": {
      "text/plain": [
       "{'message': 'Requires authentication',\n",
       " 'documentation_url': 'https://docs.github.com/rest/reference/users#get-the-authenticated-user'}"
      ]
     },
     "execution_count": 24,
     "metadata": {},
     "output_type": "execute_result"
    }
   ],
   "source": [
    "auth_response.json()"
   ]
  },
  {
   "cell_type": "markdown",
   "id": "dd311d81",
   "metadata": {},
   "source": [
    "### Timeout"
   ]
  },
  {
   "cell_type": "code",
   "execution_count": 26,
   "id": "b030a612",
   "metadata": {},
   "outputs": [],
   "source": [
    "from requests.exceptions import Timeout\n",
    "\n",
    "try:\n",
    "    response = requests.get(\"https://www.engineerspock.com\", timeout = 1)\n",
    "except Timeout:\n",
    "    print('The request has timeout')"
   ]
  },
  {
   "cell_type": "code",
   "execution_count": 27,
   "id": "68f6408a",
   "metadata": {},
   "outputs": [
    {
     "data": {
      "text/plain": [
       "<Response [200]>"
      ]
     },
     "execution_count": 27,
     "metadata": {},
     "output_type": "execute_result"
    }
   ],
   "source": [
    "response"
   ]
  },
  {
   "cell_type": "markdown",
   "id": "38b4c484",
   "metadata": {},
   "source": [
    "### Session "
   ]
  },
  {
   "cell_type": "code",
   "execution_count": 29,
   "id": "81aaf419",
   "metadata": {},
   "outputs": [
    {
     "name": "stdout",
     "output_type": "stream",
     "text": [
      "········\n"
     ]
    }
   ],
   "source": [
    "with requests.Session() as session: #конекшн будет всего один а запросов можно хоть сколько (это правильно)\n",
    "    session.auth = (\"EngineerSpock\", getpass())\n",
    "    \n",
    "    response = session.get(\"https://api.github.com/user\")\n",
    "    "
   ]
  },
  {
   "cell_type": "code",
   "execution_count": 30,
   "id": "227baa88",
   "metadata": {},
   "outputs": [
    {
     "name": "stdout",
     "output_type": "stream",
     "text": [
      "{'message': 'Requires authentication', 'documentation_url': 'https://docs.github.com/rest/reference/users#get-the-authenticated-user'}\n"
     ]
    }
   ],
   "source": [
    "print(response.json())"
   ]
  },
  {
   "cell_type": "markdown",
   "id": "b342b2a1",
   "metadata": {},
   "source": [
    "### Adapter"
   ]
  },
  {
   "cell_type": "code",
   "execution_count": 32,
   "id": "032f77b8",
   "metadata": {},
   "outputs": [],
   "source": [
    "from requests.adapters import HTTPAdapter\n",
    "adapter = HTTPAdapter(max_retries=3)"
   ]
  },
  {
   "cell_type": "code",
   "execution_count": 33,
   "id": "a8f6558a",
   "metadata": {},
   "outputs": [
    {
     "name": "stdout",
     "output_type": "stream",
     "text": [
      "········\n",
      "OK\n"
     ]
    }
   ],
   "source": [
    "with requests.Session() as session:\n",
    "    session.mount('https://api.github.com', adapter) #применяем адаптер\n",
    "    session.auth = (\"EngineerSpock\", getpass())\n",
    "    \n",
    "    try:\n",
    "        session.get('https://api.github.com/user')\n",
    "    except ConnectionError as err:\n",
    "        print(f'Failed to connect:{err}')\n",
    "    else:\n",
    "        print('OK')"
   ]
  },
  {
   "cell_type": "code",
   "execution_count": null,
   "id": "d84d1f9a",
   "metadata": {},
   "outputs": [],
   "source": []
  }
 ],
 "metadata": {
  "kernelspec": {
   "display_name": "Python 3 (ipykernel)",
   "language": "python",
   "name": "python3"
  },
  "language_info": {
   "codemirror_mode": {
    "name": "ipython",
    "version": 3
   },
   "file_extension": ".py",
   "mimetype": "text/x-python",
   "name": "python",
   "nbconvert_exporter": "python",
   "pygments_lexer": "ipython3",
   "version": "3.9.7"
  }
 },
 "nbformat": 4,
 "nbformat_minor": 5
}
