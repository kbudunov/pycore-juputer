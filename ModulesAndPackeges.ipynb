{
 "cells": [
  {
   "cell_type": "markdown",
   "id": "9f33cf72",
   "metadata": {},
   "source": [
    "# Ставим ПАКЕТ импопртим МОДУЛЬ"
   ]
  },
  {
   "cell_type": "code",
   "execution_count": null,
   "id": "843ce5c1",
   "metadata": {},
   "outputs": [],
   "source": [
    "#Pypi репозиторий с либами"
   ]
  },
  {
   "cell_type": "code",
   "execution_count": 4,
   "id": "a32a3172",
   "metadata": {},
   "outputs": [],
   "source": [
    "#Pip установщик, менеджер пакетов"
   ]
  },
  {
   "cell_type": "code",
   "execution_count": null,
   "id": "ee5826d6",
   "metadata": {},
   "outputs": [],
   "source": [
    "#pip install progressbar в командной строке пропиши"
   ]
  },
  {
   "cell_type": "code",
   "execution_count": 9,
   "id": "ce3409b8",
   "metadata": {},
   "outputs": [
    {
     "name": "stderr",
     "output_type": "stream",
     "text": [
      "100% |########################################################################|\n"
     ]
    }
   ],
   "source": [
    "from progressbar import ProgressBar #из ПАКЕТА ProgressBar заимпорти МОДУЛЬ ProgressBar\n",
    "import time #из стандартных пайпакетов заимпорти МОДУЛЬ time\n",
    "\n",
    "bar = ProgressBar(maxval=10)\n",
    "bar.start()\n",
    "\n",
    "for i in range(1, 11):\n",
    "    bar.update(i)\n",
    "    time.sleep(1)\n",
    "\n",
    "bar.finish()"
   ]
  },
  {
   "cell_type": "markdown",
   "id": "35130b88",
   "metadata": {},
   "source": [
    "# Модуль вс Пакет"
   ]
  },
  {
   "cell_type": "markdown",
   "id": "d75e7cae",
   "metadata": {},
   "source": [
    "### Модуль это файл с расширением .py\n",
    "в модуле может просто лежать функция без класса"
   ]
  },
  {
   "cell_type": "markdown",
   "id": "4cc7d597",
   "metadata": {},
   "source": [
    "### Пакет это пачка модулей (это не архив как в джаве)"
   ]
  },
  {
   "cell_type": "markdown",
   "id": "417d9b38",
   "metadata": {},
   "source": [
    "# Импорты"
   ]
  },
  {
   "cell_type": "code",
   "execution_count": 10,
   "id": "b1925527",
   "metadata": {},
   "outputs": [
    {
     "ename": "ModuleNotFoundError",
     "evalue": "No module named 'имя_пакета_ИЛИ_модуля'",
     "output_type": "error",
     "traceback": [
      "\u001b[1;31m---------------------------------------------------------------------------\u001b[0m",
      "\u001b[1;31mModuleNotFoundError\u001b[0m                       Traceback (most recent call last)",
      "\u001b[1;32mC:\\Users\\KOBUDU~1\\AppData\\Local\\Temp/ipykernel_11412/652481656.py\u001b[0m in \u001b[0;36m<module>\u001b[1;34m\u001b[0m\n\u001b[1;32m----> 1\u001b[1;33m \u001b[1;32mfrom\u001b[0m \u001b[0mимя_пакета_ИЛИ_модуля\u001b[0m \u001b[1;32mimport\u001b[0m \u001b[0mимя_класса_ИЛИ_функции\u001b[0m \u001b[1;31m#из ПАКЕТА ProgressBar заимпорти МОДУЛЬ ProgressBar\u001b[0m\u001b[1;33m\u001b[0m\u001b[1;33m\u001b[0m\u001b[0m\n\u001b[0m\u001b[0;32m      2\u001b[0m \u001b[1;33m\u001b[0m\u001b[0m\n\u001b[0;32m      3\u001b[0m \u001b[1;31m#Импорт модуля\u001b[0m\u001b[1;33m\u001b[0m\u001b[1;33m\u001b[0m\u001b[0m\n\u001b[0;32m      4\u001b[0m \u001b[1;32mimport\u001b[0m \u001b[0mfizz_buzz\u001b[0m\u001b[1;33m\u001b[0m\u001b[1;33m\u001b[0m\u001b[0m\n\u001b[0;32m      5\u001b[0m \u001b[0mfizz_buzz\u001b[0m\u001b[1;33m.\u001b[0m\u001b[0mget_reply\u001b[0m\u001b[1;33m(\u001b[0m\u001b[0mnumber\u001b[0m\u001b[1;33m)\u001b[0m\u001b[1;33m\u001b[0m\u001b[1;33m\u001b[0m\u001b[0m\n",
      "\u001b[1;31mModuleNotFoundError\u001b[0m: No module named 'имя_пакета_ИЛИ_модуля'"
     ]
    }
   ],
   "source": [
    "from имя_пакета_ИЛИ_модуля import имя_класса_ИЛИ_функции #из ПАКЕТА ProgressBar заимпорти МОДУЛЬ ProgressBar\n",
    "\n",
    "#Импорт модуля\n",
    "import fizz_buzz\n",
    "fizz_buzz.get_reply(number)\n",
    "\n",
    "#Импорт функции\n",
    "from fizz_buzz import get_reply\n",
    "#можно так вызывать\n",
    "get_reply(number)"
   ]
  },
  {
   "cell_type": "markdown",
   "id": "e8f3b90d",
   "metadata": {},
   "source": [
    "# Создание пакета\n",
    "1. Создай главный модуль в папке с именем пакета\n",
    "2. Внитри папки пакета нужно положить модуль, __init__.py, подпакеты(папки с модулями и инитом)\n",
    "3. на уровень выше папки пакета создай скрипт и заимпорти в него пакеты и модули\n",
    "\n",
    "Пример реализован в папке JupyterRoot\n"
   ]
  },
  {
   "cell_type": "code",
   "execution_count": 12,
   "id": "29aa1def",
   "metadata": {},
   "outputs": [
    {
     "name": "stdout",
     "output_type": "stream",
     "text": [
      "Hello from Main\n",
      "Hello subscript\n"
     ]
    }
   ],
   "source": [
    "from MainPackage import main_script as main #АЛИАСЫ\n",
    "#from MainPackage.SubPackage import subscript\n",
    "#from MainPackage.SubPackage.subscript import hello_subscript ЗАИМПОРТИМ МЕТОД из пакета.подпакета.модуля\n",
    "from MainPackage.SubPackage.subscript import * # заимпортит все\n",
    "\n",
    "\n",
    "main.hello_main()\n",
    "hello_subscript()"
   ]
  },
  {
   "cell_type": "markdown",
   "id": "95a4b0e1",
   "metadata": {},
   "source": [
    "# __name__ и __main__"
   ]
  },
  {
   "cell_type": "code",
   "execution_count": 2,
   "id": "5acc87b8",
   "metadata": {},
   "outputs": [
    {
     "name": "stdout",
     "output_type": "stream",
     "text": [
      "call a converting func that you want\n"
     ]
    }
   ],
   "source": [
    "def to_inches(cm):\n",
    "    return cm*0.393701\n",
    "\n",
    "def to_miles(km):\n",
    "    return km*0.621213\n",
    "\n",
    "def to_fahrenheit(celsius):\n",
    "    return (celsius*9/5)+32\n",
    "\n",
    "if __name__ == '__main__':  \n",
    "    print('call a converting func that you want') #отобразится при прямом запуске модуля\n",
    "else:\n",
    "    print('was imported (not executed directly)') #отобразится при импорте этого модуля в другом модуле\n"
   ]
  },
  {
   "cell_type": "code",
   "execution_count": null,
   "id": "8d131577",
   "metadata": {},
   "outputs": [],
   "source": []
  }
 ],
 "metadata": {
  "kernelspec": {
   "display_name": "Python 3 (ipykernel)",
   "language": "python",
   "name": "python3"
  },
  "language_info": {
   "codemirror_mode": {
    "name": "ipython",
    "version": 3
   },
   "file_extension": ".py",
   "mimetype": "text/x-python",
   "name": "python",
   "nbconvert_exporter": "python",
   "pygments_lexer": "ipython3",
   "version": "3.9.7"
  }
 },
 "nbformat": 4,
 "nbformat_minor": 5
}
